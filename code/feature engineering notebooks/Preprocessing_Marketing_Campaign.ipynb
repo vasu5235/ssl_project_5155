{
  "cells": [
    {
      "cell_type": "code",
      "execution_count": null,
      "metadata": {
        "id": "4XzNp5KzUtTu"
      },
      "outputs": [],
      "source": [
        "# Import necessary modules\n",
        "\n",
        "import numpy as np\n",
        "import pandas as pd\n",
        "import matplotlib.pyplot as plt\n",
        "import seaborn as sns\n",
        "import missingno\n",
        "from sklearn.preprocessing import  MinMaxScaler\n",
        "\n",
        "plt.style.use('seaborn')"
      ]
    },
    {
      "cell_type": "markdown",
      "source": [
        "# **Load the Data**"
      ],
      "metadata": {
        "id": "HbLntvg8WWhv"
      }
    },
    {
      "cell_type": "code",
      "execution_count": null,
      "metadata": {
        "colab": {
          "base_uri": "https://localhost:8080/",
          "height": 243
        },
        "id": "LvTSJ2FyUtT0",
        "outputId": "65bf3c6b-fb3d-43fb-8ec6-e5e0e3796463"
      },
      "outputs": [
        {
          "output_type": "stream",
          "name": "stdout",
          "text": [
            "#rows: 2240 #cols: 29\n"
          ]
        },
        {
          "output_type": "execute_result",
          "data": {
            "text/html": [
              "<div>\n",
              "<style scoped>\n",
              "    .dataframe tbody tr th:only-of-type {\n",
              "        vertical-align: middle;\n",
              "    }\n",
              "\n",
              "    .dataframe tbody tr th {\n",
              "        vertical-align: top;\n",
              "    }\n",
              "\n",
              "    .dataframe thead th {\n",
              "        text-align: right;\n",
              "    }\n",
              "</style>\n",
              "<table border=\"1\" class=\"dataframe\">\n",
              "  <thead>\n",
              "    <tr style=\"text-align: right;\">\n",
              "      <th></th>\n",
              "      <th>ID</th>\n",
              "      <th>Year_Birth</th>\n",
              "      <th>Education</th>\n",
              "      <th>Marital_Status</th>\n",
              "      <th>Income</th>\n",
              "      <th>Kidhome</th>\n",
              "      <th>Teenhome</th>\n",
              "      <th>Dt_Customer</th>\n",
              "      <th>Recency</th>\n",
              "      <th>MntWines</th>\n",
              "      <th>MntFruits</th>\n",
              "      <th>MntMeatProducts</th>\n",
              "      <th>MntFishProducts</th>\n",
              "      <th>MntSweetProducts</th>\n",
              "      <th>MntGoldProds</th>\n",
              "      <th>NumDealsPurchases</th>\n",
              "      <th>NumWebPurchases</th>\n",
              "      <th>NumCatalogPurchases</th>\n",
              "      <th>NumStorePurchases</th>\n",
              "      <th>NumWebVisitsMonth</th>\n",
              "      <th>AcceptedCmp3</th>\n",
              "      <th>AcceptedCmp4</th>\n",
              "      <th>AcceptedCmp5</th>\n",
              "      <th>AcceptedCmp1</th>\n",
              "      <th>AcceptedCmp2</th>\n",
              "      <th>Complain</th>\n",
              "      <th>Z_CostContact</th>\n",
              "      <th>Z_Revenue</th>\n",
              "      <th>Response</th>\n",
              "    </tr>\n",
              "  </thead>\n",
              "  <tbody>\n",
              "    <tr>\n",
              "      <th>0</th>\n",
              "      <td>5524</td>\n",
              "      <td>1957</td>\n",
              "      <td>Graduation</td>\n",
              "      <td>Single</td>\n",
              "      <td>58138.0</td>\n",
              "      <td>0</td>\n",
              "      <td>0</td>\n",
              "      <td>04/09/12</td>\n",
              "      <td>58</td>\n",
              "      <td>635</td>\n",
              "      <td>88</td>\n",
              "      <td>546</td>\n",
              "      <td>172</td>\n",
              "      <td>88</td>\n",
              "      <td>88</td>\n",
              "      <td>3</td>\n",
              "      <td>8</td>\n",
              "      <td>10</td>\n",
              "      <td>4</td>\n",
              "      <td>7</td>\n",
              "      <td>0</td>\n",
              "      <td>0</td>\n",
              "      <td>0</td>\n",
              "      <td>0</td>\n",
              "      <td>0</td>\n",
              "      <td>0</td>\n",
              "      <td>3</td>\n",
              "      <td>11</td>\n",
              "      <td>1</td>\n",
              "    </tr>\n",
              "    <tr>\n",
              "      <th>1</th>\n",
              "      <td>2174</td>\n",
              "      <td>1954</td>\n",
              "      <td>Graduation</td>\n",
              "      <td>Single</td>\n",
              "      <td>46344.0</td>\n",
              "      <td>1</td>\n",
              "      <td>1</td>\n",
              "      <td>08/03/14</td>\n",
              "      <td>38</td>\n",
              "      <td>11</td>\n",
              "      <td>1</td>\n",
              "      <td>6</td>\n",
              "      <td>2</td>\n",
              "      <td>1</td>\n",
              "      <td>6</td>\n",
              "      <td>2</td>\n",
              "      <td>1</td>\n",
              "      <td>1</td>\n",
              "      <td>2</td>\n",
              "      <td>5</td>\n",
              "      <td>0</td>\n",
              "      <td>0</td>\n",
              "      <td>0</td>\n",
              "      <td>0</td>\n",
              "      <td>0</td>\n",
              "      <td>0</td>\n",
              "      <td>3</td>\n",
              "      <td>11</td>\n",
              "      <td>0</td>\n",
              "    </tr>\n",
              "    <tr>\n",
              "      <th>2</th>\n",
              "      <td>4141</td>\n",
              "      <td>1965</td>\n",
              "      <td>Graduation</td>\n",
              "      <td>Together</td>\n",
              "      <td>71613.0</td>\n",
              "      <td>0</td>\n",
              "      <td>0</td>\n",
              "      <td>21/08/13</td>\n",
              "      <td>26</td>\n",
              "      <td>426</td>\n",
              "      <td>49</td>\n",
              "      <td>127</td>\n",
              "      <td>111</td>\n",
              "      <td>21</td>\n",
              "      <td>42</td>\n",
              "      <td>1</td>\n",
              "      <td>8</td>\n",
              "      <td>2</td>\n",
              "      <td>10</td>\n",
              "      <td>4</td>\n",
              "      <td>0</td>\n",
              "      <td>0</td>\n",
              "      <td>0</td>\n",
              "      <td>0</td>\n",
              "      <td>0</td>\n",
              "      <td>0</td>\n",
              "      <td>3</td>\n",
              "      <td>11</td>\n",
              "      <td>0</td>\n",
              "    </tr>\n",
              "    <tr>\n",
              "      <th>3</th>\n",
              "      <td>6182</td>\n",
              "      <td>1984</td>\n",
              "      <td>Graduation</td>\n",
              "      <td>Together</td>\n",
              "      <td>26646.0</td>\n",
              "      <td>1</td>\n",
              "      <td>0</td>\n",
              "      <td>10/02/14</td>\n",
              "      <td>26</td>\n",
              "      <td>11</td>\n",
              "      <td>4</td>\n",
              "      <td>20</td>\n",
              "      <td>10</td>\n",
              "      <td>3</td>\n",
              "      <td>5</td>\n",
              "      <td>2</td>\n",
              "      <td>2</td>\n",
              "      <td>0</td>\n",
              "      <td>4</td>\n",
              "      <td>6</td>\n",
              "      <td>0</td>\n",
              "      <td>0</td>\n",
              "      <td>0</td>\n",
              "      <td>0</td>\n",
              "      <td>0</td>\n",
              "      <td>0</td>\n",
              "      <td>3</td>\n",
              "      <td>11</td>\n",
              "      <td>0</td>\n",
              "    </tr>\n",
              "    <tr>\n",
              "      <th>4</th>\n",
              "      <td>5324</td>\n",
              "      <td>1981</td>\n",
              "      <td>PhD</td>\n",
              "      <td>Married</td>\n",
              "      <td>58293.0</td>\n",
              "      <td>1</td>\n",
              "      <td>0</td>\n",
              "      <td>19/01/14</td>\n",
              "      <td>94</td>\n",
              "      <td>173</td>\n",
              "      <td>43</td>\n",
              "      <td>118</td>\n",
              "      <td>46</td>\n",
              "      <td>27</td>\n",
              "      <td>15</td>\n",
              "      <td>5</td>\n",
              "      <td>5</td>\n",
              "      <td>3</td>\n",
              "      <td>6</td>\n",
              "      <td>5</td>\n",
              "      <td>0</td>\n",
              "      <td>0</td>\n",
              "      <td>0</td>\n",
              "      <td>0</td>\n",
              "      <td>0</td>\n",
              "      <td>0</td>\n",
              "      <td>3</td>\n",
              "      <td>11</td>\n",
              "      <td>0</td>\n",
              "    </tr>\n",
              "  </tbody>\n",
              "</table>\n",
              "</div>"
            ],
            "text/plain": [
              "     ID  Year_Birth   Education  ... Z_CostContact  Z_Revenue  Response\n",
              "0  5524        1957  Graduation  ...             3         11         1\n",
              "1  2174        1954  Graduation  ...             3         11         0\n",
              "2  4141        1965  Graduation  ...             3         11         0\n",
              "3  6182        1984  Graduation  ...             3         11         0\n",
              "4  5324        1981         PhD  ...             3         11         0\n",
              "\n",
              "[5 rows x 29 columns]"
            ]
          },
          "metadata": {},
          "execution_count": 67
        }
      ],
      "source": [
        "data_source = \"marketing_campaign.csv\"\n",
        "all_data = pd.read_csv(data_source)\n",
        "print(f\"#rows: {all_data.shape[0]} #cols: {all_data.shape[1]}\")\n",
        "all_data.head()"
      ]
    },
    {
      "cell_type": "code",
      "source": [
        "all_data.info()"
      ],
      "metadata": {
        "colab": {
          "base_uri": "https://localhost:8080/"
        },
        "id": "YddLt54sWdtu",
        "outputId": "a9c24f12-9f5b-4339-9216-0c195342713b"
      },
      "execution_count": null,
      "outputs": [
        {
          "output_type": "stream",
          "name": "stdout",
          "text": [
            "<class 'pandas.core.frame.DataFrame'>\n",
            "RangeIndex: 2240 entries, 0 to 2239\n",
            "Data columns (total 29 columns):\n",
            " #   Column               Non-Null Count  Dtype  \n",
            "---  ------               --------------  -----  \n",
            " 0   ID                   2240 non-null   int64  \n",
            " 1   Year_Birth           2240 non-null   int64  \n",
            " 2   Education            2240 non-null   object \n",
            " 3   Marital_Status       2240 non-null   object \n",
            " 4   Income               2216 non-null   float64\n",
            " 5   Kidhome              2240 non-null   int64  \n",
            " 6   Teenhome             2240 non-null   int64  \n",
            " 7   Dt_Customer          2240 non-null   object \n",
            " 8   Recency              2240 non-null   int64  \n",
            " 9   MntWines             2240 non-null   int64  \n",
            " 10  MntFruits            2240 non-null   int64  \n",
            " 11  MntMeatProducts      2240 non-null   int64  \n",
            " 12  MntFishProducts      2240 non-null   int64  \n",
            " 13  MntSweetProducts     2240 non-null   int64  \n",
            " 14  MntGoldProds         2240 non-null   int64  \n",
            " 15  NumDealsPurchases    2240 non-null   int64  \n",
            " 16  NumWebPurchases      2240 non-null   int64  \n",
            " 17  NumCatalogPurchases  2240 non-null   int64  \n",
            " 18  NumStorePurchases    2240 non-null   int64  \n",
            " 19  NumWebVisitsMonth    2240 non-null   int64  \n",
            " 20  AcceptedCmp3         2240 non-null   int64  \n",
            " 21  AcceptedCmp4         2240 non-null   int64  \n",
            " 22  AcceptedCmp5         2240 non-null   int64  \n",
            " 23  AcceptedCmp1         2240 non-null   int64  \n",
            " 24  AcceptedCmp2         2240 non-null   int64  \n",
            " 25  Complain             2240 non-null   int64  \n",
            " 26  Z_CostContact        2240 non-null   int64  \n",
            " 27  Z_Revenue            2240 non-null   int64  \n",
            " 28  Response             2240 non-null   int64  \n",
            "dtypes: float64(1), int64(25), object(3)\n",
            "memory usage: 507.6+ KB\n"
          ]
        }
      ]
    },
    {
      "cell_type": "code",
      "source": [
        "all_data.describe()"
      ],
      "metadata": {
        "colab": {
          "base_uri": "https://localhost:8080/",
          "height": 320
        },
        "id": "VIR7080fWheR",
        "outputId": "d450899d-f72f-4347-e24b-ac257389f3b4"
      },
      "execution_count": null,
      "outputs": [
        {
          "output_type": "execute_result",
          "data": {
            "text/html": [
              "<div>\n",
              "<style scoped>\n",
              "    .dataframe tbody tr th:only-of-type {\n",
              "        vertical-align: middle;\n",
              "    }\n",
              "\n",
              "    .dataframe tbody tr th {\n",
              "        vertical-align: top;\n",
              "    }\n",
              "\n",
              "    .dataframe thead th {\n",
              "        text-align: right;\n",
              "    }\n",
              "</style>\n",
              "<table border=\"1\" class=\"dataframe\">\n",
              "  <thead>\n",
              "    <tr style=\"text-align: right;\">\n",
              "      <th></th>\n",
              "      <th>ID</th>\n",
              "      <th>Year_Birth</th>\n",
              "      <th>Income</th>\n",
              "      <th>Kidhome</th>\n",
              "      <th>Teenhome</th>\n",
              "      <th>Recency</th>\n",
              "      <th>MntWines</th>\n",
              "      <th>MntFruits</th>\n",
              "      <th>MntMeatProducts</th>\n",
              "      <th>MntFishProducts</th>\n",
              "      <th>MntSweetProducts</th>\n",
              "      <th>MntGoldProds</th>\n",
              "      <th>NumDealsPurchases</th>\n",
              "      <th>NumWebPurchases</th>\n",
              "      <th>NumCatalogPurchases</th>\n",
              "      <th>NumStorePurchases</th>\n",
              "      <th>NumWebVisitsMonth</th>\n",
              "      <th>AcceptedCmp3</th>\n",
              "      <th>AcceptedCmp4</th>\n",
              "      <th>AcceptedCmp5</th>\n",
              "      <th>AcceptedCmp1</th>\n",
              "      <th>AcceptedCmp2</th>\n",
              "      <th>Complain</th>\n",
              "      <th>Z_CostContact</th>\n",
              "      <th>Z_Revenue</th>\n",
              "      <th>Response</th>\n",
              "    </tr>\n",
              "  </thead>\n",
              "  <tbody>\n",
              "    <tr>\n",
              "      <th>count</th>\n",
              "      <td>2240.000000</td>\n",
              "      <td>2240.000000</td>\n",
              "      <td>2216.000000</td>\n",
              "      <td>2240.000000</td>\n",
              "      <td>2240.000000</td>\n",
              "      <td>2240.000000</td>\n",
              "      <td>2240.000000</td>\n",
              "      <td>2240.000000</td>\n",
              "      <td>2240.000000</td>\n",
              "      <td>2240.000000</td>\n",
              "      <td>2240.000000</td>\n",
              "      <td>2240.000000</td>\n",
              "      <td>2240.000000</td>\n",
              "      <td>2240.000000</td>\n",
              "      <td>2240.000000</td>\n",
              "      <td>2240.000000</td>\n",
              "      <td>2240.000000</td>\n",
              "      <td>2240.000000</td>\n",
              "      <td>2240.000000</td>\n",
              "      <td>2240.000000</td>\n",
              "      <td>2240.000000</td>\n",
              "      <td>2240.000000</td>\n",
              "      <td>2240.000000</td>\n",
              "      <td>2240.0</td>\n",
              "      <td>2240.0</td>\n",
              "      <td>2240.000000</td>\n",
              "    </tr>\n",
              "    <tr>\n",
              "      <th>mean</th>\n",
              "      <td>5592.159821</td>\n",
              "      <td>1968.805804</td>\n",
              "      <td>52247.251354</td>\n",
              "      <td>0.444196</td>\n",
              "      <td>0.506250</td>\n",
              "      <td>49.109375</td>\n",
              "      <td>303.935714</td>\n",
              "      <td>26.302232</td>\n",
              "      <td>166.950000</td>\n",
              "      <td>37.525446</td>\n",
              "      <td>27.062946</td>\n",
              "      <td>44.021875</td>\n",
              "      <td>2.325000</td>\n",
              "      <td>4.084821</td>\n",
              "      <td>2.662054</td>\n",
              "      <td>5.790179</td>\n",
              "      <td>5.316518</td>\n",
              "      <td>0.072768</td>\n",
              "      <td>0.074554</td>\n",
              "      <td>0.072768</td>\n",
              "      <td>0.064286</td>\n",
              "      <td>0.013393</td>\n",
              "      <td>0.009375</td>\n",
              "      <td>3.0</td>\n",
              "      <td>11.0</td>\n",
              "      <td>0.149107</td>\n",
              "    </tr>\n",
              "    <tr>\n",
              "      <th>std</th>\n",
              "      <td>3246.662198</td>\n",
              "      <td>11.984069</td>\n",
              "      <td>25173.076661</td>\n",
              "      <td>0.538398</td>\n",
              "      <td>0.544538</td>\n",
              "      <td>28.962453</td>\n",
              "      <td>336.597393</td>\n",
              "      <td>39.773434</td>\n",
              "      <td>225.715373</td>\n",
              "      <td>54.628979</td>\n",
              "      <td>41.280498</td>\n",
              "      <td>52.167439</td>\n",
              "      <td>1.932238</td>\n",
              "      <td>2.778714</td>\n",
              "      <td>2.923101</td>\n",
              "      <td>3.250958</td>\n",
              "      <td>2.426645</td>\n",
              "      <td>0.259813</td>\n",
              "      <td>0.262728</td>\n",
              "      <td>0.259813</td>\n",
              "      <td>0.245316</td>\n",
              "      <td>0.114976</td>\n",
              "      <td>0.096391</td>\n",
              "      <td>0.0</td>\n",
              "      <td>0.0</td>\n",
              "      <td>0.356274</td>\n",
              "    </tr>\n",
              "    <tr>\n",
              "      <th>min</th>\n",
              "      <td>0.000000</td>\n",
              "      <td>1893.000000</td>\n",
              "      <td>1730.000000</td>\n",
              "      <td>0.000000</td>\n",
              "      <td>0.000000</td>\n",
              "      <td>0.000000</td>\n",
              "      <td>0.000000</td>\n",
              "      <td>0.000000</td>\n",
              "      <td>0.000000</td>\n",
              "      <td>0.000000</td>\n",
              "      <td>0.000000</td>\n",
              "      <td>0.000000</td>\n",
              "      <td>0.000000</td>\n",
              "      <td>0.000000</td>\n",
              "      <td>0.000000</td>\n",
              "      <td>0.000000</td>\n",
              "      <td>0.000000</td>\n",
              "      <td>0.000000</td>\n",
              "      <td>0.000000</td>\n",
              "      <td>0.000000</td>\n",
              "      <td>0.000000</td>\n",
              "      <td>0.000000</td>\n",
              "      <td>0.000000</td>\n",
              "      <td>3.0</td>\n",
              "      <td>11.0</td>\n",
              "      <td>0.000000</td>\n",
              "    </tr>\n",
              "    <tr>\n",
              "      <th>25%</th>\n",
              "      <td>2828.250000</td>\n",
              "      <td>1959.000000</td>\n",
              "      <td>35303.000000</td>\n",
              "      <td>0.000000</td>\n",
              "      <td>0.000000</td>\n",
              "      <td>24.000000</td>\n",
              "      <td>23.750000</td>\n",
              "      <td>1.000000</td>\n",
              "      <td>16.000000</td>\n",
              "      <td>3.000000</td>\n",
              "      <td>1.000000</td>\n",
              "      <td>9.000000</td>\n",
              "      <td>1.000000</td>\n",
              "      <td>2.000000</td>\n",
              "      <td>0.000000</td>\n",
              "      <td>3.000000</td>\n",
              "      <td>3.000000</td>\n",
              "      <td>0.000000</td>\n",
              "      <td>0.000000</td>\n",
              "      <td>0.000000</td>\n",
              "      <td>0.000000</td>\n",
              "      <td>0.000000</td>\n",
              "      <td>0.000000</td>\n",
              "      <td>3.0</td>\n",
              "      <td>11.0</td>\n",
              "      <td>0.000000</td>\n",
              "    </tr>\n",
              "    <tr>\n",
              "      <th>50%</th>\n",
              "      <td>5458.500000</td>\n",
              "      <td>1970.000000</td>\n",
              "      <td>51381.500000</td>\n",
              "      <td>0.000000</td>\n",
              "      <td>0.000000</td>\n",
              "      <td>49.000000</td>\n",
              "      <td>173.500000</td>\n",
              "      <td>8.000000</td>\n",
              "      <td>67.000000</td>\n",
              "      <td>12.000000</td>\n",
              "      <td>8.000000</td>\n",
              "      <td>24.000000</td>\n",
              "      <td>2.000000</td>\n",
              "      <td>4.000000</td>\n",
              "      <td>2.000000</td>\n",
              "      <td>5.000000</td>\n",
              "      <td>6.000000</td>\n",
              "      <td>0.000000</td>\n",
              "      <td>0.000000</td>\n",
              "      <td>0.000000</td>\n",
              "      <td>0.000000</td>\n",
              "      <td>0.000000</td>\n",
              "      <td>0.000000</td>\n",
              "      <td>3.0</td>\n",
              "      <td>11.0</td>\n",
              "      <td>0.000000</td>\n",
              "    </tr>\n",
              "    <tr>\n",
              "      <th>75%</th>\n",
              "      <td>8427.750000</td>\n",
              "      <td>1977.000000</td>\n",
              "      <td>68522.000000</td>\n",
              "      <td>1.000000</td>\n",
              "      <td>1.000000</td>\n",
              "      <td>74.000000</td>\n",
              "      <td>504.250000</td>\n",
              "      <td>33.000000</td>\n",
              "      <td>232.000000</td>\n",
              "      <td>50.000000</td>\n",
              "      <td>33.000000</td>\n",
              "      <td>56.000000</td>\n",
              "      <td>3.000000</td>\n",
              "      <td>6.000000</td>\n",
              "      <td>4.000000</td>\n",
              "      <td>8.000000</td>\n",
              "      <td>7.000000</td>\n",
              "      <td>0.000000</td>\n",
              "      <td>0.000000</td>\n",
              "      <td>0.000000</td>\n",
              "      <td>0.000000</td>\n",
              "      <td>0.000000</td>\n",
              "      <td>0.000000</td>\n",
              "      <td>3.0</td>\n",
              "      <td>11.0</td>\n",
              "      <td>0.000000</td>\n",
              "    </tr>\n",
              "    <tr>\n",
              "      <th>max</th>\n",
              "      <td>11191.000000</td>\n",
              "      <td>1996.000000</td>\n",
              "      <td>666666.000000</td>\n",
              "      <td>2.000000</td>\n",
              "      <td>2.000000</td>\n",
              "      <td>99.000000</td>\n",
              "      <td>1493.000000</td>\n",
              "      <td>199.000000</td>\n",
              "      <td>1725.000000</td>\n",
              "      <td>259.000000</td>\n",
              "      <td>263.000000</td>\n",
              "      <td>362.000000</td>\n",
              "      <td>15.000000</td>\n",
              "      <td>27.000000</td>\n",
              "      <td>28.000000</td>\n",
              "      <td>13.000000</td>\n",
              "      <td>20.000000</td>\n",
              "      <td>1.000000</td>\n",
              "      <td>1.000000</td>\n",
              "      <td>1.000000</td>\n",
              "      <td>1.000000</td>\n",
              "      <td>1.000000</td>\n",
              "      <td>1.000000</td>\n",
              "      <td>3.0</td>\n",
              "      <td>11.0</td>\n",
              "      <td>1.000000</td>\n",
              "    </tr>\n",
              "  </tbody>\n",
              "</table>\n",
              "</div>"
            ],
            "text/plain": [
              "                 ID   Year_Birth  ...  Z_Revenue     Response\n",
              "count   2240.000000  2240.000000  ...     2240.0  2240.000000\n",
              "mean    5592.159821  1968.805804  ...       11.0     0.149107\n",
              "std     3246.662198    11.984069  ...        0.0     0.356274\n",
              "min        0.000000  1893.000000  ...       11.0     0.000000\n",
              "25%     2828.250000  1959.000000  ...       11.0     0.000000\n",
              "50%     5458.500000  1970.000000  ...       11.0     0.000000\n",
              "75%     8427.750000  1977.000000  ...       11.0     0.000000\n",
              "max    11191.000000  1996.000000  ...       11.0     1.000000\n",
              "\n",
              "[8 rows x 26 columns]"
            ]
          },
          "metadata": {},
          "execution_count": 69
        }
      ]
    },
    {
      "cell_type": "code",
      "execution_count": null,
      "metadata": {
        "colab": {
          "base_uri": "https://localhost:8080/"
        },
        "id": "sLw7YkkFUtT1",
        "outputId": "7566cfb7-7d59-49f5-ab6f-8b6039accbf6"
      },
      "outputs": [
        {
          "output_type": "execute_result",
          "data": {
            "text/plain": [
              "0    1158\n",
              "1    1030\n",
              "2      52\n",
              "Name: Teenhome, dtype: int64"
            ]
          },
          "metadata": {},
          "execution_count": 70
        }
      ],
      "source": [
        "all_data[\"Teenhome\"].value_counts()"
      ]
    },
    {
      "cell_type": "markdown",
      "source": [
        "# **Data Preprocessing**"
      ],
      "metadata": {
        "id": "MZVbAwhUWkuZ"
      }
    },
    {
      "cell_type": "code",
      "execution_count": null,
      "metadata": {
        "id": "05AnHNgwUtT1"
      },
      "outputs": [],
      "source": [
        "# Homes with 2 teens are also part of a teenhome, hence replacing values 2 to 1 to make our task a binary classification\n",
        "all_data[\"Teenhome\"] = all_data[\"Teenhome\"].replace({2:1})"
      ]
    },
    {
      "cell_type": "code",
      "execution_count": null,
      "metadata": {
        "colab": {
          "base_uri": "https://localhost:8080/"
        },
        "id": "F7T6-dvzUtT2",
        "outputId": "9d68dacc-b37d-44e6-eedc-234ae6e0af53"
      },
      "outputs": [
        {
          "output_type": "execute_result",
          "data": {
            "text/plain": [
              "0    1158\n",
              "1    1082\n",
              "Name: Teenhome, dtype: int64"
            ]
          },
          "metadata": {},
          "execution_count": 72
        }
      ],
      "source": [
        "all_data[\"Teenhome\"].value_counts()"
      ]
    },
    {
      "cell_type": "code",
      "execution_count": null,
      "metadata": {
        "colab": {
          "base_uri": "https://localhost:8080/",
          "height": 375
        },
        "id": "IMBeR0ByUtT2",
        "outputId": "090fc78f-8808-4b3e-9f33-53004b6030ab"
      },
      "outputs": [
        {
          "output_type": "execute_result",
          "data": {
            "text/plain": [
              "<matplotlib.axes._subplots.AxesSubplot at 0x7fe381355910>"
            ]
          },
          "metadata": {},
          "execution_count": 73
        },
        {
          "output_type": "display_data",
          "data": {
            "image/png": "[encoded data removed]",
            "text/plain": [
              "<Figure size 576x396 with 1 Axes>"
            ]
          },
          "metadata": {}
        }
      ],
      "source": [
        "all_data.Teenhome.value_counts().sort_values().plot(kind = 'bar',xlabel='Teenhome - Marketing Campaign')"
      ]
    },
    {
      "cell_type": "code",
      "execution_count": null,
      "metadata": {
        "colab": {
          "base_uri": "https://localhost:8080/"
        },
        "id": "5zacyv6pUtT3",
        "outputId": "6306d5e6-2343-4eeb-9b4d-5c034982f389"
      },
      "outputs": [
        {
          "output_type": "execute_result",
          "data": {
            "text/plain": [
              "Married     864\n",
              "Together    580\n",
              "Single      480\n",
              "Divorced    232\n",
              "Widow        77\n",
              "Alone         3\n",
              "Absurd        2\n",
              "YOLO          2\n",
              "Name: Marital_Status, dtype: int64"
            ]
          },
          "metadata": {},
          "execution_count": 74
        }
      ],
      "source": [
        "all_data[\"Marital_Status\"].value_counts()"
      ]
    },
    {
      "cell_type": "code",
      "execution_count": null,
      "metadata": {
        "colab": {
          "base_uri": "https://localhost:8080/"
        },
        "id": "axVR37-QUtT3",
        "outputId": "813a77ae-b82e-4bf9-a484-70b6d53aef25"
      },
      "outputs": [
        {
          "output_type": "execute_result",
          "data": {
            "text/plain": [
              "1    1753\n",
              "0     487\n",
              "Name: Marital_Status, dtype: int64"
            ]
          },
          "metadata": {},
          "execution_count": 75
        }
      ],
      "source": [
        "# 1 if likely to have kids else 0\n",
        "marital_status_mapping = {'Married': 1, 'Together': 1, 'Single': 0, 'Divorced': 1, 'Widow': 1, 'Alone': 0, \n",
        "                          'Absurd': 0, 'YOLO': 0 }\n",
        "all_data[\"Marital_Status\"] = all_data['Marital_Status'].map(marital_status_mapping)\n",
        "all_data[\"Marital_Status\"].value_counts()"
      ]
    },
    {
      "cell_type": "code",
      "execution_count": null,
      "metadata": {
        "id": "55lji9jNUtT4"
      },
      "outputs": [],
      "source": [
        "# calculating age from year of birth feature and renaming column name to Age\n",
        "all_data[\"Year_Birth\"] = 2021 - all_data['Year_Birth']\n"
      ]
    },
    {
      "cell_type": "code",
      "execution_count": null,
      "metadata": {
        "colab": {
          "base_uri": "https://localhost:8080/",
          "height": 226
        },
        "id": "wMdUh1hoUtT5",
        "outputId": "4cf08a76-ea6d-4c0c-d086-a56ed590f22b"
      },
      "outputs": [
        {
          "output_type": "execute_result",
          "data": {
            "text/html": [
              "<div>\n",
              "<style scoped>\n",
              "    .dataframe tbody tr th:only-of-type {\n",
              "        vertical-align: middle;\n",
              "    }\n",
              "\n",
              "    .dataframe tbody tr th {\n",
              "        vertical-align: top;\n",
              "    }\n",
              "\n",
              "    .dataframe thead th {\n",
              "        text-align: right;\n",
              "    }\n",
              "</style>\n",
              "<table border=\"1\" class=\"dataframe\">\n",
              "  <thead>\n",
              "    <tr style=\"text-align: right;\">\n",
              "      <th></th>\n",
              "      <th>ID</th>\n",
              "      <th>Age</th>\n",
              "      <th>Education</th>\n",
              "      <th>Marital_Status</th>\n",
              "      <th>Income</th>\n",
              "      <th>Kidhome</th>\n",
              "      <th>Teenhome</th>\n",
              "      <th>Dt_Customer</th>\n",
              "      <th>Recency</th>\n",
              "      <th>MntWines</th>\n",
              "      <th>MntFruits</th>\n",
              "      <th>MntMeatProducts</th>\n",
              "      <th>MntFishProducts</th>\n",
              "      <th>MntSweetProducts</th>\n",
              "      <th>MntGoldProds</th>\n",
              "      <th>NumDealsPurchases</th>\n",
              "      <th>NumWebPurchases</th>\n",
              "      <th>NumCatalogPurchases</th>\n",
              "      <th>NumStorePurchases</th>\n",
              "      <th>NumWebVisitsMonth</th>\n",
              "      <th>AcceptedCmp3</th>\n",
              "      <th>AcceptedCmp4</th>\n",
              "      <th>AcceptedCmp5</th>\n",
              "      <th>AcceptedCmp1</th>\n",
              "      <th>AcceptedCmp2</th>\n",
              "      <th>Complain</th>\n",
              "      <th>Z_CostContact</th>\n",
              "      <th>Z_Revenue</th>\n",
              "      <th>Response</th>\n",
              "    </tr>\n",
              "  </thead>\n",
              "  <tbody>\n",
              "    <tr>\n",
              "      <th>0</th>\n",
              "      <td>5524</td>\n",
              "      <td>64</td>\n",
              "      <td>Graduation</td>\n",
              "      <td>0</td>\n",
              "      <td>58138.0</td>\n",
              "      <td>0</td>\n",
              "      <td>0</td>\n",
              "      <td>04/09/12</td>\n",
              "      <td>58</td>\n",
              "      <td>635</td>\n",
              "      <td>88</td>\n",
              "      <td>546</td>\n",
              "      <td>172</td>\n",
              "      <td>88</td>\n",
              "      <td>88</td>\n",
              "      <td>3</td>\n",
              "      <td>8</td>\n",
              "      <td>10</td>\n",
              "      <td>4</td>\n",
              "      <td>7</td>\n",
              "      <td>0</td>\n",
              "      <td>0</td>\n",
              "      <td>0</td>\n",
              "      <td>0</td>\n",
              "      <td>0</td>\n",
              "      <td>0</td>\n",
              "      <td>3</td>\n",
              "      <td>11</td>\n",
              "      <td>1</td>\n",
              "    </tr>\n",
              "    <tr>\n",
              "      <th>1</th>\n",
              "      <td>2174</td>\n",
              "      <td>67</td>\n",
              "      <td>Graduation</td>\n",
              "      <td>0</td>\n",
              "      <td>46344.0</td>\n",
              "      <td>1</td>\n",
              "      <td>1</td>\n",
              "      <td>08/03/14</td>\n",
              "      <td>38</td>\n",
              "      <td>11</td>\n",
              "      <td>1</td>\n",
              "      <td>6</td>\n",
              "      <td>2</td>\n",
              "      <td>1</td>\n",
              "      <td>6</td>\n",
              "      <td>2</td>\n",
              "      <td>1</td>\n",
              "      <td>1</td>\n",
              "      <td>2</td>\n",
              "      <td>5</td>\n",
              "      <td>0</td>\n",
              "      <td>0</td>\n",
              "      <td>0</td>\n",
              "      <td>0</td>\n",
              "      <td>0</td>\n",
              "      <td>0</td>\n",
              "      <td>3</td>\n",
              "      <td>11</td>\n",
              "      <td>0</td>\n",
              "    </tr>\n",
              "    <tr>\n",
              "      <th>2</th>\n",
              "      <td>4141</td>\n",
              "      <td>56</td>\n",
              "      <td>Graduation</td>\n",
              "      <td>1</td>\n",
              "      <td>71613.0</td>\n",
              "      <td>0</td>\n",
              "      <td>0</td>\n",
              "      <td>21/08/13</td>\n",
              "      <td>26</td>\n",
              "      <td>426</td>\n",
              "      <td>49</td>\n",
              "      <td>127</td>\n",
              "      <td>111</td>\n",
              "      <td>21</td>\n",
              "      <td>42</td>\n",
              "      <td>1</td>\n",
              "      <td>8</td>\n",
              "      <td>2</td>\n",
              "      <td>10</td>\n",
              "      <td>4</td>\n",
              "      <td>0</td>\n",
              "      <td>0</td>\n",
              "      <td>0</td>\n",
              "      <td>0</td>\n",
              "      <td>0</td>\n",
              "      <td>0</td>\n",
              "      <td>3</td>\n",
              "      <td>11</td>\n",
              "      <td>0</td>\n",
              "    </tr>\n",
              "    <tr>\n",
              "      <th>3</th>\n",
              "      <td>6182</td>\n",
              "      <td>37</td>\n",
              "      <td>Graduation</td>\n",
              "      <td>1</td>\n",
              "      <td>26646.0</td>\n",
              "      <td>1</td>\n",
              "      <td>0</td>\n",
              "      <td>10/02/14</td>\n",
              "      <td>26</td>\n",
              "      <td>11</td>\n",
              "      <td>4</td>\n",
              "      <td>20</td>\n",
              "      <td>10</td>\n",
              "      <td>3</td>\n",
              "      <td>5</td>\n",
              "      <td>2</td>\n",
              "      <td>2</td>\n",
              "      <td>0</td>\n",
              "      <td>4</td>\n",
              "      <td>6</td>\n",
              "      <td>0</td>\n",
              "      <td>0</td>\n",
              "      <td>0</td>\n",
              "      <td>0</td>\n",
              "      <td>0</td>\n",
              "      <td>0</td>\n",
              "      <td>3</td>\n",
              "      <td>11</td>\n",
              "      <td>0</td>\n",
              "    </tr>\n",
              "    <tr>\n",
              "      <th>4</th>\n",
              "      <td>5324</td>\n",
              "      <td>40</td>\n",
              "      <td>PhD</td>\n",
              "      <td>1</td>\n",
              "      <td>58293.0</td>\n",
              "      <td>1</td>\n",
              "      <td>0</td>\n",
              "      <td>19/01/14</td>\n",
              "      <td>94</td>\n",
              "      <td>173</td>\n",
              "      <td>43</td>\n",
              "      <td>118</td>\n",
              "      <td>46</td>\n",
              "      <td>27</td>\n",
              "      <td>15</td>\n",
              "      <td>5</td>\n",
              "      <td>5</td>\n",
              "      <td>3</td>\n",
              "      <td>6</td>\n",
              "      <td>5</td>\n",
              "      <td>0</td>\n",
              "      <td>0</td>\n",
              "      <td>0</td>\n",
              "      <td>0</td>\n",
              "      <td>0</td>\n",
              "      <td>0</td>\n",
              "      <td>3</td>\n",
              "      <td>11</td>\n",
              "      <td>0</td>\n",
              "    </tr>\n",
              "  </tbody>\n",
              "</table>\n",
              "</div>"
            ],
            "text/plain": [
              "     ID  Age   Education  ...  Z_CostContact  Z_Revenue  Response\n",
              "0  5524   64  Graduation  ...              3         11         1\n",
              "1  2174   67  Graduation  ...              3         11         0\n",
              "2  4141   56  Graduation  ...              3         11         0\n",
              "3  6182   37  Graduation  ...              3         11         0\n",
              "4  5324   40         PhD  ...              3         11         0\n",
              "\n",
              "[5 rows x 29 columns]"
            ]
          },
          "metadata": {},
          "execution_count": 77
        }
      ],
      "source": [
        "all_data = all_data.rename({'Year_Birth': 'Age'},axis=1)\n",
        "all_data.head()\n",
        "#do scaling, remove outliers"
      ]
    },
    {
      "cell_type": "code",
      "execution_count": null,
      "metadata": {
        "id": "1uhT7gsEUtT5"
      },
      "outputs": [],
      "source": [
        "# 1 = undergrad, 2 = grad, 3 = postgrad\n",
        "all_data[\"Education\"] = all_data[\"Education\"].replace({\"Basic\":\"1\",\n",
        "                                               \"2n Cycle\":\"1\", \n",
        "                                               \"Graduation\":\"2\", \n",
        "                                               \"Master\":\"3\", \n",
        "                                               \"PhD\":\"3\"})"
      ]
    },
    {
      "cell_type": "code",
      "execution_count": null,
      "metadata": {
        "colab": {
          "base_uri": "https://localhost:8080/"
        },
        "id": "dojMpLRSUtT6",
        "outputId": "8313cee6-821e-46bf-e0d2-01f419a7123c"
      },
      "outputs": [
        {
          "output_type": "execute_result",
          "data": {
            "text/plain": [
              "2    1127\n",
              "3     856\n",
              "1     257\n",
              "Name: Education, dtype: int64"
            ]
          },
          "metadata": {},
          "execution_count": 79
        }
      ],
      "source": [
        "all_data[\"Education\"].value_counts()"
      ]
    },
    {
      "cell_type": "code",
      "execution_count": null,
      "metadata": {
        "id": "1f4DrKMwUtT6"
      },
      "outputs": [],
      "source": [
        "# converting date to a numeric pandas date format\n",
        "all_data[\"Dt_Customer\"] = pd.to_datetime(all_data[\"Dt_Customer\"])"
      ]
    },
    {
      "cell_type": "code",
      "execution_count": null,
      "metadata": {
        "colab": {
          "base_uri": "https://localhost:8080/",
          "height": 226
        },
        "id": "I5KuT5MyUtT7",
        "outputId": "8967e801-ba5a-408d-8d6c-01353f6bacce"
      },
      "outputs": [
        {
          "output_type": "execute_result",
          "data": {
            "text/html": [
              "<div>\n",
              "<style scoped>\n",
              "    .dataframe tbody tr th:only-of-type {\n",
              "        vertical-align: middle;\n",
              "    }\n",
              "\n",
              "    .dataframe tbody tr th {\n",
              "        vertical-align: top;\n",
              "    }\n",
              "\n",
              "    .dataframe thead th {\n",
              "        text-align: right;\n",
              "    }\n",
              "</style>\n",
              "<table border=\"1\" class=\"dataframe\">\n",
              "  <thead>\n",
              "    <tr style=\"text-align: right;\">\n",
              "      <th></th>\n",
              "      <th>ID</th>\n",
              "      <th>Age</th>\n",
              "      <th>Education</th>\n",
              "      <th>Marital_Status</th>\n",
              "      <th>Income</th>\n",
              "      <th>Kidhome</th>\n",
              "      <th>Teenhome</th>\n",
              "      <th>Dt_Customer</th>\n",
              "      <th>Recency</th>\n",
              "      <th>MntWines</th>\n",
              "      <th>MntFruits</th>\n",
              "      <th>MntMeatProducts</th>\n",
              "      <th>MntFishProducts</th>\n",
              "      <th>MntSweetProducts</th>\n",
              "      <th>MntGoldProds</th>\n",
              "      <th>NumDealsPurchases</th>\n",
              "      <th>NumWebPurchases</th>\n",
              "      <th>NumCatalogPurchases</th>\n",
              "      <th>NumStorePurchases</th>\n",
              "      <th>NumWebVisitsMonth</th>\n",
              "      <th>AcceptedCmp3</th>\n",
              "      <th>AcceptedCmp4</th>\n",
              "      <th>AcceptedCmp5</th>\n",
              "      <th>AcceptedCmp1</th>\n",
              "      <th>AcceptedCmp2</th>\n",
              "      <th>Complain</th>\n",
              "      <th>Z_CostContact</th>\n",
              "      <th>Z_Revenue</th>\n",
              "      <th>Response</th>\n",
              "    </tr>\n",
              "  </thead>\n",
              "  <tbody>\n",
              "    <tr>\n",
              "      <th>0</th>\n",
              "      <td>5524</td>\n",
              "      <td>64</td>\n",
              "      <td>2</td>\n",
              "      <td>0</td>\n",
              "      <td>58138.0</td>\n",
              "      <td>0</td>\n",
              "      <td>0</td>\n",
              "      <td>2012-04-09</td>\n",
              "      <td>58</td>\n",
              "      <td>635</td>\n",
              "      <td>88</td>\n",
              "      <td>546</td>\n",
              "      <td>172</td>\n",
              "      <td>88</td>\n",
              "      <td>88</td>\n",
              "      <td>3</td>\n",
              "      <td>8</td>\n",
              "      <td>10</td>\n",
              "      <td>4</td>\n",
              "      <td>7</td>\n",
              "      <td>0</td>\n",
              "      <td>0</td>\n",
              "      <td>0</td>\n",
              "      <td>0</td>\n",
              "      <td>0</td>\n",
              "      <td>0</td>\n",
              "      <td>3</td>\n",
              "      <td>11</td>\n",
              "      <td>1</td>\n",
              "    </tr>\n",
              "    <tr>\n",
              "      <th>1</th>\n",
              "      <td>2174</td>\n",
              "      <td>67</td>\n",
              "      <td>2</td>\n",
              "      <td>0</td>\n",
              "      <td>46344.0</td>\n",
              "      <td>1</td>\n",
              "      <td>1</td>\n",
              "      <td>2014-08-03</td>\n",
              "      <td>38</td>\n",
              "      <td>11</td>\n",
              "      <td>1</td>\n",
              "      <td>6</td>\n",
              "      <td>2</td>\n",
              "      <td>1</td>\n",
              "      <td>6</td>\n",
              "      <td>2</td>\n",
              "      <td>1</td>\n",
              "      <td>1</td>\n",
              "      <td>2</td>\n",
              "      <td>5</td>\n",
              "      <td>0</td>\n",
              "      <td>0</td>\n",
              "      <td>0</td>\n",
              "      <td>0</td>\n",
              "      <td>0</td>\n",
              "      <td>0</td>\n",
              "      <td>3</td>\n",
              "      <td>11</td>\n",
              "      <td>0</td>\n",
              "    </tr>\n",
              "    <tr>\n",
              "      <th>2</th>\n",
              "      <td>4141</td>\n",
              "      <td>56</td>\n",
              "      <td>2</td>\n",
              "      <td>1</td>\n",
              "      <td>71613.0</td>\n",
              "      <td>0</td>\n",
              "      <td>0</td>\n",
              "      <td>2013-08-21</td>\n",
              "      <td>26</td>\n",
              "      <td>426</td>\n",
              "      <td>49</td>\n",
              "      <td>127</td>\n",
              "      <td>111</td>\n",
              "      <td>21</td>\n",
              "      <td>42</td>\n",
              "      <td>1</td>\n",
              "      <td>8</td>\n",
              "      <td>2</td>\n",
              "      <td>10</td>\n",
              "      <td>4</td>\n",
              "      <td>0</td>\n",
              "      <td>0</td>\n",
              "      <td>0</td>\n",
              "      <td>0</td>\n",
              "      <td>0</td>\n",
              "      <td>0</td>\n",
              "      <td>3</td>\n",
              "      <td>11</td>\n",
              "      <td>0</td>\n",
              "    </tr>\n",
              "    <tr>\n",
              "      <th>3</th>\n",
              "      <td>6182</td>\n",
              "      <td>37</td>\n",
              "      <td>2</td>\n",
              "      <td>1</td>\n",
              "      <td>26646.0</td>\n",
              "      <td>1</td>\n",
              "      <td>0</td>\n",
              "      <td>2014-10-02</td>\n",
              "      <td>26</td>\n",
              "      <td>11</td>\n",
              "      <td>4</td>\n",
              "      <td>20</td>\n",
              "      <td>10</td>\n",
              "      <td>3</td>\n",
              "      <td>5</td>\n",
              "      <td>2</td>\n",
              "      <td>2</td>\n",
              "      <td>0</td>\n",
              "      <td>4</td>\n",
              "      <td>6</td>\n",
              "      <td>0</td>\n",
              "      <td>0</td>\n",
              "      <td>0</td>\n",
              "      <td>0</td>\n",
              "      <td>0</td>\n",
              "      <td>0</td>\n",
              "      <td>3</td>\n",
              "      <td>11</td>\n",
              "      <td>0</td>\n",
              "    </tr>\n",
              "    <tr>\n",
              "      <th>4</th>\n",
              "      <td>5324</td>\n",
              "      <td>40</td>\n",
              "      <td>3</td>\n",
              "      <td>1</td>\n",
              "      <td>58293.0</td>\n",
              "      <td>1</td>\n",
              "      <td>0</td>\n",
              "      <td>2014-01-19</td>\n",
              "      <td>94</td>\n",
              "      <td>173</td>\n",
              "      <td>43</td>\n",
              "      <td>118</td>\n",
              "      <td>46</td>\n",
              "      <td>27</td>\n",
              "      <td>15</td>\n",
              "      <td>5</td>\n",
              "      <td>5</td>\n",
              "      <td>3</td>\n",
              "      <td>6</td>\n",
              "      <td>5</td>\n",
              "      <td>0</td>\n",
              "      <td>0</td>\n",
              "      <td>0</td>\n",
              "      <td>0</td>\n",
              "      <td>0</td>\n",
              "      <td>0</td>\n",
              "      <td>3</td>\n",
              "      <td>11</td>\n",
              "      <td>0</td>\n",
              "    </tr>\n",
              "  </tbody>\n",
              "</table>\n",
              "</div>"
            ],
            "text/plain": [
              "     ID  Age Education  ...  Z_CostContact  Z_Revenue  Response\n",
              "0  5524   64         2  ...              3         11         1\n",
              "1  2174   67         2  ...              3         11         0\n",
              "2  4141   56         2  ...              3         11         0\n",
              "3  6182   37         2  ...              3         11         0\n",
              "4  5324   40         3  ...              3         11         0\n",
              "\n",
              "[5 rows x 29 columns]"
            ]
          },
          "metadata": {},
          "execution_count": 81
        }
      ],
      "source": [
        "all_data.head()"
      ]
    },
    {
      "cell_type": "code",
      "execution_count": null,
      "metadata": {
        "colab": {
          "base_uri": "https://localhost:8080/"
        },
        "id": "tqmyIfY4UtT7",
        "outputId": "f51f2f95-85c3-4735-bad3-c64047ba604e"
      },
      "outputs": [
        {
          "output_type": "execute_result",
          "data": {
            "text/plain": [
              "ID                     2240\n",
              "Age                      59\n",
              "Education                 3\n",
              "Marital_Status            2\n",
              "Income                 1974\n",
              "Kidhome                   3\n",
              "Teenhome                  2\n",
              "Dt_Customer             663\n",
              "Recency                 100\n",
              "MntWines                776\n",
              "MntFruits               158\n",
              "MntMeatProducts         558\n",
              "MntFishProducts         182\n",
              "MntSweetProducts        177\n",
              "MntGoldProds            213\n",
              "NumDealsPurchases        15\n",
              "NumWebPurchases          15\n",
              "NumCatalogPurchases      14\n",
              "NumStorePurchases        14\n",
              "NumWebVisitsMonth        16\n",
              "AcceptedCmp3              2\n",
              "AcceptedCmp4              2\n",
              "AcceptedCmp5              2\n",
              "AcceptedCmp1              2\n",
              "AcceptedCmp2              2\n",
              "Complain                  2\n",
              "Z_CostContact             1\n",
              "Z_Revenue                 1\n",
              "Response                  2\n",
              "dtype: int64"
            ]
          },
          "metadata": {},
          "execution_count": 82
        }
      ],
      "source": [
        "all_data.nunique()"
      ]
    },
    {
      "cell_type": "code",
      "execution_count": null,
      "metadata": {
        "id": "w6QLGzQtUtT7"
      },
      "outputs": [],
      "source": [
        "# Dropping columns Z_Revenue and Z_CostContact because they contain only one unique value. \n",
        "all_data = all_data.drop(['Z_Revenue', 'Z_CostContact'],axis=1)"
      ]
    },
    {
      "cell_type": "code",
      "execution_count": null,
      "metadata": {
        "colab": {
          "base_uri": "https://localhost:8080/"
        },
        "id": "IzLt5lOaUtT7",
        "outputId": "9c37f700-32af-4b53-fbd8-f8bb81fe33b1"
      },
      "outputs": [
        {
          "output_type": "execute_result",
          "data": {
            "text/plain": [
              "ID                     2240\n",
              "Age                      59\n",
              "Education                 3\n",
              "Marital_Status            2\n",
              "Income                 1974\n",
              "Kidhome                   3\n",
              "Teenhome                  2\n",
              "Dt_Customer             663\n",
              "Recency                 100\n",
              "MntWines                776\n",
              "MntFruits               158\n",
              "MntMeatProducts         558\n",
              "MntFishProducts         182\n",
              "MntSweetProducts        177\n",
              "MntGoldProds            213\n",
              "NumDealsPurchases        15\n",
              "NumWebPurchases          15\n",
              "NumCatalogPurchases      14\n",
              "NumStorePurchases        14\n",
              "NumWebVisitsMonth        16\n",
              "AcceptedCmp3              2\n",
              "AcceptedCmp4              2\n",
              "AcceptedCmp5              2\n",
              "AcceptedCmp1              2\n",
              "AcceptedCmp2              2\n",
              "Complain                  2\n",
              "Response                  2\n",
              "dtype: int64"
            ]
          },
          "metadata": {},
          "execution_count": 84
        }
      ],
      "source": [
        "all_data.nunique()"
      ]
    },
    {
      "cell_type": "code",
      "execution_count": null,
      "metadata": {
        "id": "if2Aw6LKUtT8"
      },
      "outputs": [],
      "source": [
        "# Generating a new column SweetPurchase. Intuition: assuming teenhomes might spend more on sweet products \n",
        "all_data['SweetPurchases'] = all_data['MntFruits'] + all_data['MntSweetProducts']"
      ]
    },
    {
      "cell_type": "code",
      "execution_count": null,
      "metadata": {
        "colab": {
          "base_uri": "https://localhost:8080/"
        },
        "id": "OZSbVIAvUtT8",
        "outputId": "a26bc6e4-f431-47e5-ea69-05dc052627e3"
      },
      "outputs": [
        {
          "output_type": "execute_result",
          "data": {
            "text/plain": [
              "0       348\n",
              "1         9\n",
              "2       174\n",
              "3        18\n",
              "4        88\n",
              "       ... \n",
              "2235    407\n",
              "2236      8\n",
              "2237     68\n",
              "2238    171\n",
              "2239     24\n",
              "Length: 2240, dtype: int64"
            ]
          },
          "metadata": {},
          "execution_count": 86
        }
      ],
      "source": [
        "# Combining all household spends. Teenhome likely to spend more than single because of less family size. \n",
        "all_data[\"Spent\"] = all_data[\"MntWines\"]+ all_data[\"MntFruits\"]+ all_data[\"MntMeatProducts\"]\n",
        "+ all_data[\"MntFishProducts\"]+ all_data[\"MntSweetProducts\"]+ all_data[\"MntGoldProds\"]"
      ]
    },
    {
      "cell_type": "code",
      "execution_count": null,
      "metadata": {
        "id": "Zz6TnDqHUtT8"
      },
      "outputs": [],
      "source": [
        "all_data = all_data.drop(['MntFruits','MntSweetProducts'],axis=1)"
      ]
    },
    {
      "cell_type": "code",
      "execution_count": null,
      "metadata": {
        "colab": {
          "base_uri": "https://localhost:8080/"
        },
        "id": "oLIf1vL2UtT9",
        "outputId": "64179e19-b6bb-4473-c1a4-964899455294"
      },
      "outputs": [
        {
          "output_type": "execute_result",
          "data": {
            "text/plain": [
              "0       1\n",
              "1       0\n",
              "2       0\n",
              "3       0\n",
              "4       0\n",
              "       ..\n",
              "2235    0\n",
              "2236    0\n",
              "2237    1\n",
              "2238    0\n",
              "2239    1\n",
              "Length: 2240, dtype: int64"
            ]
          },
          "metadata": {},
          "execution_count": 88
        }
      ],
      "source": [
        "# Combining all accepted discount offers. Again, teenhomes might look more for discounts compared to single people\n",
        "all_data['TotalAcceptedOffers'] = all_data['AcceptedCmp1'] + all_data['AcceptedCmp2'] + all_data['AcceptedCmp3']\n",
        "+ all_data['AcceptedCmp4'] + all_data['AcceptedCmp5'] + all_data['Response']"
      ]
    },
    {
      "cell_type": "code",
      "execution_count": null,
      "metadata": {
        "colab": {
          "base_uri": "https://localhost:8080/",
          "height": 226
        },
        "id": "-SWKocfOUtT9",
        "outputId": "d3d07a6e-0d23-4c15-f09e-d869d7106715"
      },
      "outputs": [
        {
          "output_type": "execute_result",
          "data": {
            "text/html": [
              "<div>\n",
              "<style scoped>\n",
              "    .dataframe tbody tr th:only-of-type {\n",
              "        vertical-align: middle;\n",
              "    }\n",
              "\n",
              "    .dataframe tbody tr th {\n",
              "        vertical-align: top;\n",
              "    }\n",
              "\n",
              "    .dataframe thead th {\n",
              "        text-align: right;\n",
              "    }\n",
              "</style>\n",
              "<table border=\"1\" class=\"dataframe\">\n",
              "  <thead>\n",
              "    <tr style=\"text-align: right;\">\n",
              "      <th></th>\n",
              "      <th>ID</th>\n",
              "      <th>Age</th>\n",
              "      <th>Education</th>\n",
              "      <th>Marital_Status</th>\n",
              "      <th>Income</th>\n",
              "      <th>Kidhome</th>\n",
              "      <th>Teenhome</th>\n",
              "      <th>Dt_Customer</th>\n",
              "      <th>Recency</th>\n",
              "      <th>MntWines</th>\n",
              "      <th>MntMeatProducts</th>\n",
              "      <th>MntFishProducts</th>\n",
              "      <th>MntGoldProds</th>\n",
              "      <th>NumDealsPurchases</th>\n",
              "      <th>NumWebPurchases</th>\n",
              "      <th>NumCatalogPurchases</th>\n",
              "      <th>NumStorePurchases</th>\n",
              "      <th>NumWebVisitsMonth</th>\n",
              "      <th>Complain</th>\n",
              "      <th>Response</th>\n",
              "      <th>SweetPurchases</th>\n",
              "      <th>Spent</th>\n",
              "      <th>TotalAcceptedOffers</th>\n",
              "    </tr>\n",
              "  </thead>\n",
              "  <tbody>\n",
              "    <tr>\n",
              "      <th>0</th>\n",
              "      <td>5524</td>\n",
              "      <td>64</td>\n",
              "      <td>2</td>\n",
              "      <td>0</td>\n",
              "      <td>58138.0</td>\n",
              "      <td>0</td>\n",
              "      <td>0</td>\n",
              "      <td>2012-04-09</td>\n",
              "      <td>58</td>\n",
              "      <td>635</td>\n",
              "      <td>546</td>\n",
              "      <td>172</td>\n",
              "      <td>88</td>\n",
              "      <td>3</td>\n",
              "      <td>8</td>\n",
              "      <td>10</td>\n",
              "      <td>4</td>\n",
              "      <td>7</td>\n",
              "      <td>0</td>\n",
              "      <td>1</td>\n",
              "      <td>176</td>\n",
              "      <td>1269</td>\n",
              "      <td>0</td>\n",
              "    </tr>\n",
              "    <tr>\n",
              "      <th>1</th>\n",
              "      <td>2174</td>\n",
              "      <td>67</td>\n",
              "      <td>2</td>\n",
              "      <td>0</td>\n",
              "      <td>46344.0</td>\n",
              "      <td>1</td>\n",
              "      <td>1</td>\n",
              "      <td>2014-08-03</td>\n",
              "      <td>38</td>\n",
              "      <td>11</td>\n",
              "      <td>6</td>\n",
              "      <td>2</td>\n",
              "      <td>6</td>\n",
              "      <td>2</td>\n",
              "      <td>1</td>\n",
              "      <td>1</td>\n",
              "      <td>2</td>\n",
              "      <td>5</td>\n",
              "      <td>0</td>\n",
              "      <td>0</td>\n",
              "      <td>2</td>\n",
              "      <td>18</td>\n",
              "      <td>0</td>\n",
              "    </tr>\n",
              "    <tr>\n",
              "      <th>2</th>\n",
              "      <td>4141</td>\n",
              "      <td>56</td>\n",
              "      <td>2</td>\n",
              "      <td>1</td>\n",
              "      <td>71613.0</td>\n",
              "      <td>0</td>\n",
              "      <td>0</td>\n",
              "      <td>2013-08-21</td>\n",
              "      <td>26</td>\n",
              "      <td>426</td>\n",
              "      <td>127</td>\n",
              "      <td>111</td>\n",
              "      <td>42</td>\n",
              "      <td>1</td>\n",
              "      <td>8</td>\n",
              "      <td>2</td>\n",
              "      <td>10</td>\n",
              "      <td>4</td>\n",
              "      <td>0</td>\n",
              "      <td>0</td>\n",
              "      <td>70</td>\n",
              "      <td>602</td>\n",
              "      <td>0</td>\n",
              "    </tr>\n",
              "    <tr>\n",
              "      <th>3</th>\n",
              "      <td>6182</td>\n",
              "      <td>37</td>\n",
              "      <td>2</td>\n",
              "      <td>1</td>\n",
              "      <td>26646.0</td>\n",
              "      <td>1</td>\n",
              "      <td>0</td>\n",
              "      <td>2014-10-02</td>\n",
              "      <td>26</td>\n",
              "      <td>11</td>\n",
              "      <td>20</td>\n",
              "      <td>10</td>\n",
              "      <td>5</td>\n",
              "      <td>2</td>\n",
              "      <td>2</td>\n",
              "      <td>0</td>\n",
              "      <td>4</td>\n",
              "      <td>6</td>\n",
              "      <td>0</td>\n",
              "      <td>0</td>\n",
              "      <td>7</td>\n",
              "      <td>35</td>\n",
              "      <td>0</td>\n",
              "    </tr>\n",
              "    <tr>\n",
              "      <th>4</th>\n",
              "      <td>5324</td>\n",
              "      <td>40</td>\n",
              "      <td>3</td>\n",
              "      <td>1</td>\n",
              "      <td>58293.0</td>\n",
              "      <td>1</td>\n",
              "      <td>0</td>\n",
              "      <td>2014-01-19</td>\n",
              "      <td>94</td>\n",
              "      <td>173</td>\n",
              "      <td>118</td>\n",
              "      <td>46</td>\n",
              "      <td>15</td>\n",
              "      <td>5</td>\n",
              "      <td>5</td>\n",
              "      <td>3</td>\n",
              "      <td>6</td>\n",
              "      <td>5</td>\n",
              "      <td>0</td>\n",
              "      <td>0</td>\n",
              "      <td>70</td>\n",
              "      <td>334</td>\n",
              "      <td>0</td>\n",
              "    </tr>\n",
              "  </tbody>\n",
              "</table>\n",
              "</div>"
            ],
            "text/plain": [
              "     ID  Age Education  ...  SweetPurchases  Spent  TotalAcceptedOffers\n",
              "0  5524   64         2  ...             176   1269                    0\n",
              "1  2174   67         2  ...               2     18                    0\n",
              "2  4141   56         2  ...              70    602                    0\n",
              "3  6182   37         2  ...               7     35                    0\n",
              "4  5324   40         3  ...              70    334                    0\n",
              "\n",
              "[5 rows x 23 columns]"
            ]
          },
          "metadata": {},
          "execution_count": 89
        }
      ],
      "source": [
        "all_data = all_data.drop(['AcceptedCmp1','AcceptedCmp2','AcceptedCmp3','AcceptedCmp4','AcceptedCmp5'],axis=1)\n",
        "all_data.head()"
      ]
    },
    {
      "cell_type": "code",
      "execution_count": null,
      "metadata": {
        "colab": {
          "base_uri": "https://localhost:8080/"
        },
        "id": "6fMgVh0yUtT9",
        "outputId": "71390119-0110-4e69-9af3-0f17ca7759d6"
      },
      "outputs": [
        {
          "output_type": "stream",
          "name": "stdout",
          "text": [
            "<class 'pandas.core.frame.DataFrame'>\n",
            "RangeIndex: 2240 entries, 0 to 2239\n",
            "Data columns (total 23 columns):\n",
            " #   Column               Non-Null Count  Dtype         \n",
            "---  ------               --------------  -----         \n",
            " 0   ID                   2240 non-null   int64         \n",
            " 1   Age                  2240 non-null   int64         \n",
            " 2   Education            2240 non-null   object        \n",
            " 3   Marital_Status       2240 non-null   int64         \n",
            " 4   Income               2216 non-null   float64       \n",
            " 5   Kidhome              2240 non-null   int64         \n",
            " 6   Teenhome             2240 non-null   int64         \n",
            " 7   Dt_Customer          2240 non-null   datetime64[ns]\n",
            " 8   Recency              2240 non-null   int64         \n",
            " 9   MntWines             2240 non-null   int64         \n",
            " 10  MntMeatProducts      2240 non-null   int64         \n",
            " 11  MntFishProducts      2240 non-null   int64         \n",
            " 12  MntGoldProds         2240 non-null   int64         \n",
            " 13  NumDealsPurchases    2240 non-null   int64         \n",
            " 14  NumWebPurchases      2240 non-null   int64         \n",
            " 15  NumCatalogPurchases  2240 non-null   int64         \n",
            " 16  NumStorePurchases    2240 non-null   int64         \n",
            " 17  NumWebVisitsMonth    2240 non-null   int64         \n",
            " 18  Complain             2240 non-null   int64         \n",
            " 19  Response             2240 non-null   int64         \n",
            " 20  SweetPurchases       2240 non-null   int64         \n",
            " 21  Spent                2240 non-null   int64         \n",
            " 22  TotalAcceptedOffers  2240 non-null   int64         \n",
            "dtypes: datetime64[ns](1), float64(1), int64(20), object(1)\n",
            "memory usage: 402.6+ KB\n"
          ]
        }
      ],
      "source": [
        "all_data.info()"
      ]
    },
    {
      "cell_type": "code",
      "execution_count": null,
      "metadata": {
        "id": "_0CUbVvqUtT9"
      },
      "outputs": [],
      "source": [
        "# 24 income values missing, replacing with column mean\" \n",
        "all_data['Income'] = all_data['Income'].fillna(all_data['Income'].mean())"
      ]
    },
    {
      "cell_type": "code",
      "execution_count": null,
      "metadata": {
        "colab": {
          "base_uri": "https://localhost:8080/",
          "height": 226
        },
        "id": "JfiQDt70UtT-",
        "outputId": "5d3b4405-a56e-4711-b8c0-5545b9e69326"
      },
      "outputs": [
        {
          "output_type": "execute_result",
          "data": {
            "text/html": [
              "<div>\n",
              "<style scoped>\n",
              "    .dataframe tbody tr th:only-of-type {\n",
              "        vertical-align: middle;\n",
              "    }\n",
              "\n",
              "    .dataframe tbody tr th {\n",
              "        vertical-align: top;\n",
              "    }\n",
              "\n",
              "    .dataframe thead th {\n",
              "        text-align: right;\n",
              "    }\n",
              "</style>\n",
              "<table border=\"1\" class=\"dataframe\">\n",
              "  <thead>\n",
              "    <tr style=\"text-align: right;\">\n",
              "      <th></th>\n",
              "      <th>ID</th>\n",
              "      <th>Age</th>\n",
              "      <th>Education</th>\n",
              "      <th>Marital_Status</th>\n",
              "      <th>Income</th>\n",
              "      <th>Kidhome</th>\n",
              "      <th>Teenhome</th>\n",
              "      <th>Dt_Customer</th>\n",
              "      <th>Recency</th>\n",
              "      <th>MntWines</th>\n",
              "      <th>MntMeatProducts</th>\n",
              "      <th>MntFishProducts</th>\n",
              "      <th>MntGoldProds</th>\n",
              "      <th>NumDealsPurchases</th>\n",
              "      <th>NumWebPurchases</th>\n",
              "      <th>NumCatalogPurchases</th>\n",
              "      <th>NumStorePurchases</th>\n",
              "      <th>NumWebVisitsMonth</th>\n",
              "      <th>Complain</th>\n",
              "      <th>Response</th>\n",
              "      <th>SweetPurchases</th>\n",
              "      <th>Spent</th>\n",
              "      <th>TotalAcceptedOffers</th>\n",
              "    </tr>\n",
              "  </thead>\n",
              "  <tbody>\n",
              "    <tr>\n",
              "      <th>0</th>\n",
              "      <td>5524</td>\n",
              "      <td>64</td>\n",
              "      <td>2</td>\n",
              "      <td>0</td>\n",
              "      <td>58138.0</td>\n",
              "      <td>0</td>\n",
              "      <td>0</td>\n",
              "      <td>2012-04-09</td>\n",
              "      <td>58</td>\n",
              "      <td>635</td>\n",
              "      <td>546</td>\n",
              "      <td>172</td>\n",
              "      <td>88</td>\n",
              "      <td>3</td>\n",
              "      <td>8</td>\n",
              "      <td>10</td>\n",
              "      <td>4</td>\n",
              "      <td>7</td>\n",
              "      <td>0</td>\n",
              "      <td>1</td>\n",
              "      <td>176</td>\n",
              "      <td>1269</td>\n",
              "      <td>0</td>\n",
              "    </tr>\n",
              "    <tr>\n",
              "      <th>1</th>\n",
              "      <td>2174</td>\n",
              "      <td>67</td>\n",
              "      <td>2</td>\n",
              "      <td>0</td>\n",
              "      <td>46344.0</td>\n",
              "      <td>1</td>\n",
              "      <td>1</td>\n",
              "      <td>2014-08-03</td>\n",
              "      <td>38</td>\n",
              "      <td>11</td>\n",
              "      <td>6</td>\n",
              "      <td>2</td>\n",
              "      <td>6</td>\n",
              "      <td>2</td>\n",
              "      <td>1</td>\n",
              "      <td>1</td>\n",
              "      <td>2</td>\n",
              "      <td>5</td>\n",
              "      <td>0</td>\n",
              "      <td>0</td>\n",
              "      <td>2</td>\n",
              "      <td>18</td>\n",
              "      <td>0</td>\n",
              "    </tr>\n",
              "    <tr>\n",
              "      <th>2</th>\n",
              "      <td>4141</td>\n",
              "      <td>56</td>\n",
              "      <td>2</td>\n",
              "      <td>1</td>\n",
              "      <td>71613.0</td>\n",
              "      <td>0</td>\n",
              "      <td>0</td>\n",
              "      <td>2013-08-21</td>\n",
              "      <td>26</td>\n",
              "      <td>426</td>\n",
              "      <td>127</td>\n",
              "      <td>111</td>\n",
              "      <td>42</td>\n",
              "      <td>1</td>\n",
              "      <td>8</td>\n",
              "      <td>2</td>\n",
              "      <td>10</td>\n",
              "      <td>4</td>\n",
              "      <td>0</td>\n",
              "      <td>0</td>\n",
              "      <td>70</td>\n",
              "      <td>602</td>\n",
              "      <td>0</td>\n",
              "    </tr>\n",
              "    <tr>\n",
              "      <th>3</th>\n",
              "      <td>6182</td>\n",
              "      <td>37</td>\n",
              "      <td>2</td>\n",
              "      <td>1</td>\n",
              "      <td>26646.0</td>\n",
              "      <td>1</td>\n",
              "      <td>0</td>\n",
              "      <td>2014-10-02</td>\n",
              "      <td>26</td>\n",
              "      <td>11</td>\n",
              "      <td>20</td>\n",
              "      <td>10</td>\n",
              "      <td>5</td>\n",
              "      <td>2</td>\n",
              "      <td>2</td>\n",
              "      <td>0</td>\n",
              "      <td>4</td>\n",
              "      <td>6</td>\n",
              "      <td>0</td>\n",
              "      <td>0</td>\n",
              "      <td>7</td>\n",
              "      <td>35</td>\n",
              "      <td>0</td>\n",
              "    </tr>\n",
              "    <tr>\n",
              "      <th>4</th>\n",
              "      <td>5324</td>\n",
              "      <td>40</td>\n",
              "      <td>3</td>\n",
              "      <td>1</td>\n",
              "      <td>58293.0</td>\n",
              "      <td>1</td>\n",
              "      <td>0</td>\n",
              "      <td>2014-01-19</td>\n",
              "      <td>94</td>\n",
              "      <td>173</td>\n",
              "      <td>118</td>\n",
              "      <td>46</td>\n",
              "      <td>15</td>\n",
              "      <td>5</td>\n",
              "      <td>5</td>\n",
              "      <td>3</td>\n",
              "      <td>6</td>\n",
              "      <td>5</td>\n",
              "      <td>0</td>\n",
              "      <td>0</td>\n",
              "      <td>70</td>\n",
              "      <td>334</td>\n",
              "      <td>0</td>\n",
              "    </tr>\n",
              "  </tbody>\n",
              "</table>\n",
              "</div>"
            ],
            "text/plain": [
              "     ID  Age Education  ...  SweetPurchases  Spent  TotalAcceptedOffers\n",
              "0  5524   64         2  ...             176   1269                    0\n",
              "1  2174   67         2  ...               2     18                    0\n",
              "2  4141   56         2  ...              70    602                    0\n",
              "3  6182   37         2  ...               7     35                    0\n",
              "4  5324   40         3  ...              70    334                    0\n",
              "\n",
              "[5 rows x 23 columns]"
            ]
          },
          "metadata": {},
          "execution_count": 92
        }
      ],
      "source": [
        "all_data.head()"
      ]
    },
    {
      "cell_type": "code",
      "execution_count": null,
      "metadata": {
        "colab": {
          "base_uri": "https://localhost:8080/",
          "height": 300
        },
        "id": "32ApVTPXUtT-",
        "outputId": "33a4c0bc-a78c-4534-de63-74f907a92872"
      },
      "outputs": [
        {
          "output_type": "execute_result",
          "data": {
            "text/html": [
              "<div>\n",
              "<style scoped>\n",
              "    .dataframe tbody tr th:only-of-type {\n",
              "        vertical-align: middle;\n",
              "    }\n",
              "\n",
              "    .dataframe tbody tr th {\n",
              "        vertical-align: top;\n",
              "    }\n",
              "\n",
              "    .dataframe thead th {\n",
              "        text-align: right;\n",
              "    }\n",
              "</style>\n",
              "<table border=\"1\" class=\"dataframe\">\n",
              "  <thead>\n",
              "    <tr style=\"text-align: right;\">\n",
              "      <th></th>\n",
              "      <th>Age</th>\n",
              "      <th>Income</th>\n",
              "    </tr>\n",
              "  </thead>\n",
              "  <tbody>\n",
              "    <tr>\n",
              "      <th>count</th>\n",
              "      <td>2240.000000</td>\n",
              "      <td>2240.000000</td>\n",
              "    </tr>\n",
              "    <tr>\n",
              "      <th>mean</th>\n",
              "      <td>52.194196</td>\n",
              "      <td>52247.251354</td>\n",
              "    </tr>\n",
              "    <tr>\n",
              "      <th>std</th>\n",
              "      <td>11.984069</td>\n",
              "      <td>25037.797168</td>\n",
              "    </tr>\n",
              "    <tr>\n",
              "      <th>min</th>\n",
              "      <td>25.000000</td>\n",
              "      <td>1730.000000</td>\n",
              "    </tr>\n",
              "    <tr>\n",
              "      <th>25%</th>\n",
              "      <td>44.000000</td>\n",
              "      <td>35538.750000</td>\n",
              "    </tr>\n",
              "    <tr>\n",
              "      <th>50%</th>\n",
              "      <td>51.000000</td>\n",
              "      <td>51741.500000</td>\n",
              "    </tr>\n",
              "    <tr>\n",
              "      <th>75%</th>\n",
              "      <td>62.000000</td>\n",
              "      <td>68289.750000</td>\n",
              "    </tr>\n",
              "    <tr>\n",
              "      <th>max</th>\n",
              "      <td>128.000000</td>\n",
              "      <td>666666.000000</td>\n",
              "    </tr>\n",
              "  </tbody>\n",
              "</table>\n",
              "</div>"
            ],
            "text/plain": [
              "               Age         Income\n",
              "count  2240.000000    2240.000000\n",
              "mean     52.194196   52247.251354\n",
              "std      11.984069   25037.797168\n",
              "min      25.000000    1730.000000\n",
              "25%      44.000000   35538.750000\n",
              "50%      51.000000   51741.500000\n",
              "75%      62.000000   68289.750000\n",
              "max     128.000000  666666.000000"
            ]
          },
          "metadata": {},
          "execution_count": 93
        }
      ],
      "source": [
        "all_data[['Age','Income']].describe()"
      ]
    },
    {
      "cell_type": "markdown",
      "source": [
        "### Outlier Detection"
      ],
      "metadata": {
        "id": "CfL65h3mWsH_"
      }
    },
    {
      "cell_type": "code",
      "execution_count": null,
      "metadata": {
        "colab": {
          "base_uri": "https://localhost:8080/",
          "height": 365
        },
        "id": "R3N9sizaUtT-",
        "outputId": "4e5a984f-e0d9-4bb0-a317-109e972fa638"
      },
      "outputs": [
        {
          "output_type": "execute_result",
          "data": {
            "text/plain": [
              "<matplotlib.collections.PathCollection at 0x7fe3812a0ed0>"
            ]
          },
          "metadata": {},
          "execution_count": 94
        },
        {
          "output_type": "display_data",
          "data": {
            "image/png": "[encoded data removed]",
            "text/plain": [
              "<Figure size 576x396 with 1 Axes>"
            ]
          },
          "metadata": {}
        }
      ],
      "source": [
        "# Scanning for outliers\n",
        "import matplotlib.pyplot as plt\n",
        "plt.scatter(all_data['Age'], all_data['Teenhome'] )"
      ]
    },
    {
      "cell_type": "code",
      "execution_count": null,
      "metadata": {
        "colab": {
          "base_uri": "https://localhost:8080/",
          "height": 365
        },
        "id": "_cK_2O4dUtT-",
        "outputId": "8bf39307-157d-4571-9c1f-92ae9120028f"
      },
      "outputs": [
        {
          "output_type": "execute_result",
          "data": {
            "text/plain": [
              "<matplotlib.collections.PathCollection at 0x7fe376cef550>"
            ]
          },
          "metadata": {},
          "execution_count": 95
        },
        {
          "output_type": "display_data",
          "data": {
            "image/png": "[encoded data removed]",
            "text/plain": [
              "<Figure size 576x396 with 1 Axes>"
            ]
          },
          "metadata": {}
        }
      ],
      "source": [
        "plt.scatter(all_data['Income'], all_data['Teenhome'] )"
      ]
    },
    {
      "cell_type": "code",
      "execution_count": null,
      "metadata": {
        "id": "wY9HQ64pUtT-"
      },
      "outputs": [],
      "source": [
        "all_data = all_data[(all_data[\"Age\"]<90)]\n",
        "all_data = all_data[(all_data[\"Income\"]<600000)]"
      ]
    },
    {
      "cell_type": "markdown",
      "source": [
        "# **Feature Selection**"
      ],
      "metadata": {
        "id": "iGyzbh-mWzPM"
      }
    },
    {
      "cell_type": "markdown",
      "source": [
        "### Correlation Matrix"
      ],
      "metadata": {
        "id": "E31dlj9vW2CP"
      }
    },
    {
      "cell_type": "code",
      "execution_count": null,
      "metadata": {
        "colab": {
          "base_uri": "https://localhost:8080/",
          "height": 937
        },
        "id": "eAQdVZ4FUtT_",
        "outputId": "aec9e14d-ddb6-459a-d24a-1f9039ce4167"
      },
      "outputs": [
        {
          "output_type": "execute_result",
          "data": {
            "text/plain": [
              "<matplotlib.axes._subplots.AxesSubplot at 0x7fe376c25c10>"
            ]
          },
          "metadata": {},
          "execution_count": 97
        },
        {
          "output_type": "display_data",
          "data": {
            "image/png": "[encoded data removed]",
            "text/plain": [
              "<Figure size 1440x1440 with 2 Axes>"
            ]
          },
          "metadata": {}
        }
      ],
      "source": [
        "#correlation matrix\n",
        "import seaborn as sns\n",
        "corrmat= all_data.corr()\n",
        "plt.figure(figsize=(20,20))  \n",
        "sns.heatmap(corrmat,annot=True, center=0)"
      ]
    },
    {
      "cell_type": "code",
      "execution_count": null,
      "metadata": {
        "colab": {
          "base_uri": "https://localhost:8080/"
        },
        "id": "k_EFmBVxUtT_",
        "outputId": "cb9ea97e-8b5c-43b7-ebdd-bd1c12c986f8"
      },
      "outputs": [
        {
          "output_type": "execute_result",
          "data": {
            "text/plain": [
              "NumDealsPurchases      0.394803\n",
              "Age                    0.368572\n",
              "MntMeatProducts        0.275858\n",
              "MntFishProducts        0.210854\n",
              "SweetPurchases         0.195425\n",
              "Response               0.161871\n",
              "NumWebPurchases        0.157856\n",
              "NumWebVisitsMonth      0.142853\n",
              "Spent                  0.134999\n",
              "TotalAcceptedOffers    0.124528\n",
              "NumCatalogPurchases    0.116324\n",
              "Marital_Status         0.101892\n",
              "NumStorePurchases      0.048166\n",
              "Kidhome                0.036687\n",
              "Income                 0.029775\n",
              "MntGoldProds           0.023137\n",
              "Recency                0.003441\n",
              "Complain               0.003146\n",
              "MntWines               0.002497\n",
              "ID                     0.002151\n",
              "Name: Teenhome, dtype: float64"
            ]
          },
          "metadata": {},
          "execution_count": 98
        }
      ],
      "source": [
        "corr_matrix = all_data.corr()\n",
        "correlations = abs(corr_matrix[\"Teenhome\"]).sort_values(ascending=False)[1:]\n",
        "correlations"
      ]
    },
    {
      "cell_type": "code",
      "execution_count": null,
      "metadata": {
        "colab": {
          "base_uri": "https://localhost:8080/"
        },
        "id": "XEXFNFMaUtT_",
        "outputId": "6757a779-ecf0-4640-9191-ee161688bfc5"
      },
      "outputs": [
        {
          "output_type": "execute_result",
          "data": {
            "text/plain": [
              "Index(['NumDealsPurchases', 'Age', 'MntMeatProducts', 'MntFishProducts',\n",
              "       'SweetPurchases', 'Response', 'NumWebPurchases', 'NumWebVisitsMonth',\n",
              "       'Spent', 'TotalAcceptedOffers', 'NumCatalogPurchases', 'Marital_Status',\n",
              "       'NumStorePurchases', 'Kidhome', 'Income', 'MntGoldProds'],\n",
              "      dtype='object')"
            ]
          },
          "metadata": {},
          "execution_count": 99
        }
      ],
      "source": [
        "# Selecting correlation features > 0.01\n",
        "selectedF = correlations[correlations>0.01].index\n",
        "selectedF"
      ]
    },
    {
      "cell_type": "code",
      "execution_count": null,
      "metadata": {
        "colab": {
          "base_uri": "https://localhost:8080/",
          "height": 226
        },
        "id": "1VwBsqdAUtT_",
        "outputId": "b8afbd63-6ccf-493e-86ac-d779dd87662b"
      },
      "outputs": [
        {
          "output_type": "execute_result",
          "data": {
            "text/html": [
              "<div>\n",
              "<style scoped>\n",
              "    .dataframe tbody tr th:only-of-type {\n",
              "        vertical-align: middle;\n",
              "    }\n",
              "\n",
              "    .dataframe tbody tr th {\n",
              "        vertical-align: top;\n",
              "    }\n",
              "\n",
              "    .dataframe thead th {\n",
              "        text-align: right;\n",
              "    }\n",
              "</style>\n",
              "<table border=\"1\" class=\"dataframe\">\n",
              "  <thead>\n",
              "    <tr style=\"text-align: right;\">\n",
              "      <th></th>\n",
              "      <th>NumDealsPurchases</th>\n",
              "      <th>Age</th>\n",
              "      <th>MntMeatProducts</th>\n",
              "      <th>MntFishProducts</th>\n",
              "      <th>SweetPurchases</th>\n",
              "      <th>Response</th>\n",
              "      <th>NumWebPurchases</th>\n",
              "      <th>NumWebVisitsMonth</th>\n",
              "      <th>Spent</th>\n",
              "      <th>TotalAcceptedOffers</th>\n",
              "      <th>NumCatalogPurchases</th>\n",
              "      <th>Marital_Status</th>\n",
              "      <th>NumStorePurchases</th>\n",
              "      <th>Kidhome</th>\n",
              "      <th>Income</th>\n",
              "      <th>MntGoldProds</th>\n",
              "    </tr>\n",
              "  </thead>\n",
              "  <tbody>\n",
              "    <tr>\n",
              "      <th>0</th>\n",
              "      <td>3</td>\n",
              "      <td>64</td>\n",
              "      <td>546</td>\n",
              "      <td>172</td>\n",
              "      <td>176</td>\n",
              "      <td>1</td>\n",
              "      <td>8</td>\n",
              "      <td>7</td>\n",
              "      <td>1269</td>\n",
              "      <td>0</td>\n",
              "      <td>10</td>\n",
              "      <td>0</td>\n",
              "      <td>4</td>\n",
              "      <td>0</td>\n",
              "      <td>58138.0</td>\n",
              "      <td>88</td>\n",
              "    </tr>\n",
              "    <tr>\n",
              "      <th>1</th>\n",
              "      <td>2</td>\n",
              "      <td>67</td>\n",
              "      <td>6</td>\n",
              "      <td>2</td>\n",
              "      <td>2</td>\n",
              "      <td>0</td>\n",
              "      <td>1</td>\n",
              "      <td>5</td>\n",
              "      <td>18</td>\n",
              "      <td>0</td>\n",
              "      <td>1</td>\n",
              "      <td>0</td>\n",
              "      <td>2</td>\n",
              "      <td>1</td>\n",
              "      <td>46344.0</td>\n",
              "      <td>6</td>\n",
              "    </tr>\n",
              "    <tr>\n",
              "      <th>2</th>\n",
              "      <td>1</td>\n",
              "      <td>56</td>\n",
              "      <td>127</td>\n",
              "      <td>111</td>\n",
              "      <td>70</td>\n",
              "      <td>0</td>\n",
              "      <td>8</td>\n",
              "      <td>4</td>\n",
              "      <td>602</td>\n",
              "      <td>0</td>\n",
              "      <td>2</td>\n",
              "      <td>1</td>\n",
              "      <td>10</td>\n",
              "      <td>0</td>\n",
              "      <td>71613.0</td>\n",
              "      <td>42</td>\n",
              "    </tr>\n",
              "    <tr>\n",
              "      <th>3</th>\n",
              "      <td>2</td>\n",
              "      <td>37</td>\n",
              "      <td>20</td>\n",
              "      <td>10</td>\n",
              "      <td>7</td>\n",
              "      <td>0</td>\n",
              "      <td>2</td>\n",
              "      <td>6</td>\n",
              "      <td>35</td>\n",
              "      <td>0</td>\n",
              "      <td>0</td>\n",
              "      <td>1</td>\n",
              "      <td>4</td>\n",
              "      <td>1</td>\n",
              "      <td>26646.0</td>\n",
              "      <td>5</td>\n",
              "    </tr>\n",
              "    <tr>\n",
              "      <th>4</th>\n",
              "      <td>5</td>\n",
              "      <td>40</td>\n",
              "      <td>118</td>\n",
              "      <td>46</td>\n",
              "      <td>70</td>\n",
              "      <td>0</td>\n",
              "      <td>5</td>\n",
              "      <td>5</td>\n",
              "      <td>334</td>\n",
              "      <td>0</td>\n",
              "      <td>3</td>\n",
              "      <td>1</td>\n",
              "      <td>6</td>\n",
              "      <td>1</td>\n",
              "      <td>58293.0</td>\n",
              "      <td>15</td>\n",
              "    </tr>\n",
              "  </tbody>\n",
              "</table>\n",
              "</div>"
            ],
            "text/plain": [
              "   NumDealsPurchases  Age  MntMeatProducts  ...  Kidhome   Income  MntGoldProds\n",
              "0                  3   64              546  ...        0  58138.0            88\n",
              "1                  2   67                6  ...        1  46344.0             6\n",
              "2                  1   56              127  ...        0  71613.0            42\n",
              "3                  2   37               20  ...        1  26646.0             5\n",
              "4                  5   40              118  ...        1  58293.0            15\n",
              "\n",
              "[5 rows x 16 columns]"
            ]
          },
          "metadata": {},
          "execution_count": 100
        }
      ],
      "source": [
        "# selectedF.append('Teenhome')\n",
        "# all_data = pd.DataFrame(all_data[selectedF], columns=selectedF)\n",
        "# all_data.head()\n",
        "y_all = all_data['Teenhome']\n",
        "selected_data = pd.DataFrame(all_data[selectedF], columns=selectedF)\n",
        "selected_data.head()"
      ]
    },
    {
      "cell_type": "code",
      "execution_count": null,
      "metadata": {
        "colab": {
          "base_uri": "https://localhost:8080/"
        },
        "id": "b67rBzpfUtT_",
        "outputId": "51d9a300-b359-4693-e77e-9fe29b04580b"
      },
      "outputs": [
        {
          "output_type": "execute_result",
          "data": {
            "text/plain": [
              "(2236, 16)"
            ]
          },
          "metadata": {},
          "execution_count": 101
        }
      ],
      "source": [
        "selected_data.shape"
      ]
    },
    {
      "cell_type": "markdown",
      "source": [
        "## Normalize Data"
      ],
      "metadata": {
        "id": "fl2mvzlvWQWH"
      }
    },
    {
      "cell_type": "code",
      "execution_count": null,
      "metadata": {
        "colab": {
          "base_uri": "https://localhost:8080/",
          "height": 226
        },
        "id": "_xPvTUR3UtT_",
        "outputId": "ea5484b0-8292-4699-9474-bb292d5dd655"
      },
      "outputs": [
        {
          "output_type": "execute_result",
          "data": {
            "text/html": [
              "<div>\n",
              "<style scoped>\n",
              "    .dataframe tbody tr th:only-of-type {\n",
              "        vertical-align: middle;\n",
              "    }\n",
              "\n",
              "    .dataframe tbody tr th {\n",
              "        vertical-align: top;\n",
              "    }\n",
              "\n",
              "    .dataframe thead th {\n",
              "        text-align: right;\n",
              "    }\n",
              "</style>\n",
              "<table border=\"1\" class=\"dataframe\">\n",
              "  <thead>\n",
              "    <tr style=\"text-align: right;\">\n",
              "      <th></th>\n",
              "      <th>NumDealsPurchases</th>\n",
              "      <th>Age</th>\n",
              "      <th>MntMeatProducts</th>\n",
              "      <th>MntFishProducts</th>\n",
              "      <th>SweetPurchases</th>\n",
              "      <th>Response</th>\n",
              "      <th>NumWebPurchases</th>\n",
              "      <th>NumWebVisitsMonth</th>\n",
              "      <th>Spent</th>\n",
              "      <th>TotalAcceptedOffers</th>\n",
              "      <th>NumCatalogPurchases</th>\n",
              "      <th>Marital_Status</th>\n",
              "      <th>NumStorePurchases</th>\n",
              "      <th>Kidhome</th>\n",
              "      <th>Income</th>\n",
              "      <th>MntGoldProds</th>\n",
              "    </tr>\n",
              "  </thead>\n",
              "  <tbody>\n",
              "    <tr>\n",
              "      <th>0</th>\n",
              "      <td>0.200000</td>\n",
              "      <td>0.696429</td>\n",
              "      <td>0.316522</td>\n",
              "      <td>0.664093</td>\n",
              "      <td>0.465608</td>\n",
              "      <td>1</td>\n",
              "      <td>0.296296</td>\n",
              "      <td>0.35</td>\n",
              "      <td>0.565004</td>\n",
              "      <td>0.0</td>\n",
              "      <td>0.357143</td>\n",
              "      <td>0</td>\n",
              "      <td>0.307692</td>\n",
              "      <td>0.0</td>\n",
              "      <td>0.351086</td>\n",
              "      <td>0.243094</td>\n",
              "    </tr>\n",
              "    <tr>\n",
              "      <th>1</th>\n",
              "      <td>0.133333</td>\n",
              "      <td>0.750000</td>\n",
              "      <td>0.003478</td>\n",
              "      <td>0.007722</td>\n",
              "      <td>0.005291</td>\n",
              "      <td>0</td>\n",
              "      <td>0.037037</td>\n",
              "      <td>0.25</td>\n",
              "      <td>0.008014</td>\n",
              "      <td>0.0</td>\n",
              "      <td>0.035714</td>\n",
              "      <td>0</td>\n",
              "      <td>0.153846</td>\n",
              "      <td>0.5</td>\n",
              "      <td>0.277680</td>\n",
              "      <td>0.016575</td>\n",
              "    </tr>\n",
              "    <tr>\n",
              "      <th>2</th>\n",
              "      <td>0.066667</td>\n",
              "      <td>0.553571</td>\n",
              "      <td>0.073623</td>\n",
              "      <td>0.428571</td>\n",
              "      <td>0.185185</td>\n",
              "      <td>0</td>\n",
              "      <td>0.296296</td>\n",
              "      <td>0.20</td>\n",
              "      <td>0.268032</td>\n",
              "      <td>0.0</td>\n",
              "      <td>0.071429</td>\n",
              "      <td>1</td>\n",
              "      <td>0.769231</td>\n",
              "      <td>0.0</td>\n",
              "      <td>0.434956</td>\n",
              "      <td>0.116022</td>\n",
              "    </tr>\n",
              "    <tr>\n",
              "      <th>3</th>\n",
              "      <td>0.133333</td>\n",
              "      <td>0.214286</td>\n",
              "      <td>0.011594</td>\n",
              "      <td>0.038610</td>\n",
              "      <td>0.018519</td>\n",
              "      <td>0</td>\n",
              "      <td>0.074074</td>\n",
              "      <td>0.30</td>\n",
              "      <td>0.015583</td>\n",
              "      <td>0.0</td>\n",
              "      <td>0.000000</td>\n",
              "      <td>1</td>\n",
              "      <td>0.307692</td>\n",
              "      <td>0.5</td>\n",
              "      <td>0.155079</td>\n",
              "      <td>0.013812</td>\n",
              "    </tr>\n",
              "    <tr>\n",
              "      <th>4</th>\n",
              "      <td>0.333333</td>\n",
              "      <td>0.267857</td>\n",
              "      <td>0.068406</td>\n",
              "      <td>0.177606</td>\n",
              "      <td>0.185185</td>\n",
              "      <td>0</td>\n",
              "      <td>0.185185</td>\n",
              "      <td>0.25</td>\n",
              "      <td>0.148709</td>\n",
              "      <td>0.0</td>\n",
              "      <td>0.107143</td>\n",
              "      <td>1</td>\n",
              "      <td>0.461538</td>\n",
              "      <td>0.5</td>\n",
              "      <td>0.352051</td>\n",
              "      <td>0.041436</td>\n",
              "    </tr>\n",
              "  </tbody>\n",
              "</table>\n",
              "</div>"
            ],
            "text/plain": [
              "   NumDealsPurchases       Age  ...    Income  MntGoldProds\n",
              "0           0.200000  0.696429  ...  0.351086      0.243094\n",
              "1           0.133333  0.750000  ...  0.277680      0.016575\n",
              "2           0.066667  0.553571  ...  0.434956      0.116022\n",
              "3           0.133333  0.214286  ...  0.155079      0.013812\n",
              "4           0.333333  0.267857  ...  0.352051      0.041436\n",
              "\n",
              "[5 rows x 16 columns]"
            ]
          },
          "metadata": {},
          "execution_count": 102
        }
      ],
      "source": [
        "# Standardization \n",
        "from sklearn.preprocessing import MinMaxScaler\n",
        "columns_to_standardize = ['NumDealsPurchases', 'Age', 'MntMeatProducts',\n",
        "                          'MntFishProducts','SweetPurchases','NumWebPurchases',\n",
        "                          'NumWebVisitsMonth','Spent','TotalAcceptedOffers','NumCatalogPurchases',\n",
        "                          'NumStorePurchases','Kidhome','Income','MntGoldProds']\n",
        "\n",
        "selected_data[columns_to_standardize] = MinMaxScaler().fit_transform(selected_data[columns_to_standardize])\n",
        "selected_data.head()"
      ]
    },
    {
      "cell_type": "code",
      "execution_count": null,
      "metadata": {
        "id": "kXBEu9NBUtUA"
      },
      "outputs": [],
      "source": [
        "processed_data = pd.concat([selected_data,y_all],axis=1)\n",
        "processed_data.to_csv('processed_marketing_campaign.csv',index=False,header=True)"
      ]
    }
  ],
  "metadata": {
    "kernelspec": {
      "display_name": "Python 3",
      "language": "python",
      "name": "python3"
    },
    "language_info": {
      "codemirror_mode": {
        "name": "ipython",
        "version": 3
      },
      "file_extension": ".py",
      "mimetype": "text/x-python",
      "name": "python",
      "nbconvert_exporter": "python",
      "pygments_lexer": "ipython3",
      "version": "3.7.4"
    },
    "colab": {
      "name": "Preprocessing_Marketing_Campaign.ipynb",
      "provenance": []
    }
  },
  "nbformat": 4,
  "nbformat_minor": 0
}