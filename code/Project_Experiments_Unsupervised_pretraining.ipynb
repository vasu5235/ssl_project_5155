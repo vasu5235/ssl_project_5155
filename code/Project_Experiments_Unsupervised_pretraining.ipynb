{
  "nbformat": 4,
  "nbformat_minor": 0,
  "metadata": {
    "kernelspec": {
      "display_name": "Python 3",
      "language": "python",
      "name": "python3"
    },
    "language_info": {
      "codemirror_mode": {
        "name": "ipython",
        "version": 3
      },
      "file_extension": ".py",
      "mimetype": "text/x-python",
      "name": "python",
      "nbconvert_exporter": "python",
      "pygments_lexer": "ipython3",
      "version": "3.7.4"
    },
    "colab": {
      "name": "Project Experiments: Unsupervised pretraining",
      "provenance": [],
      "collapsed_sections": []
    }
  },
  "cells": [
    {
      "cell_type": "code",
      "metadata": {
        "id": "_LU_BlVpLSKA"
      },
      "source": [
        "from requirements import *\n",
        "from sklearn.cluster import KMeans\n"
      ],
      "execution_count": 2,
      "outputs": []
    },
    {
      "cell_type": "code",
      "metadata": {
        "colab": {
          "base_uri": "https://localhost:8080/",
          "height": 241
        },
        "id": "KHinI22cLSKC",
        "outputId": "9220eaf8-7018-4681-85b9-e935e8ebae01"
      },
      "source": [
        "data_source = \"./processed_online_shoppers_intension.csv\"\n",
        "all_data = pd.read_csv(data_source)\n",
        "print(f\"#rows: {all_data.shape[0]} #cols: {all_data.shape[1]}\")\n",
        "all_data.head()"
      ],
      "execution_count": 3,
      "outputs": [
        {
          "output_type": "stream",
          "name": "stdout",
          "text": [
            "#rows: 12330 #cols: 21\n"
          ]
        },
        {
          "output_type": "execute_result",
          "data": {
            "text/html": [
              "<div>\n",
              "<style scoped>\n",
              "    .dataframe tbody tr th:only-of-type {\n",
              "        vertical-align: middle;\n",
              "    }\n",
              "\n",
              "    .dataframe tbody tr th {\n",
              "        vertical-align: top;\n",
              "    }\n",
              "\n",
              "    .dataframe thead th {\n",
              "        text-align: right;\n",
              "    }\n",
              "</style>\n",
              "<table border=\"1\" class=\"dataframe\">\n",
              "  <thead>\n",
              "    <tr style=\"text-align: right;\">\n",
              "      <th></th>\n",
              "      <th>Administrative</th>\n",
              "      <th>Administrative_Duration</th>\n",
              "      <th>Informational</th>\n",
              "      <th>Informational_Duration</th>\n",
              "      <th>ProductRelated</th>\n",
              "      <th>ProductRelated_Duration</th>\n",
              "      <th>BounceRates</th>\n",
              "      <th>ExitRates</th>\n",
              "      <th>PageValues</th>\n",
              "      <th>SpecialDay</th>\n",
              "      <th>OperatingSystems</th>\n",
              "      <th>Browser</th>\n",
              "      <th>Region</th>\n",
              "      <th>TrafficType</th>\n",
              "      <th>Weekend</th>\n",
              "      <th>Revenue</th>\n",
              "      <th>Month_sin</th>\n",
              "      <th>Month_cos</th>\n",
              "      <th>New_Visitor</th>\n",
              "      <th>Other</th>\n",
              "      <th>Returning_Visitor</th>\n",
              "    </tr>\n",
              "  </thead>\n",
              "  <tbody>\n",
              "    <tr>\n",
              "      <th>0</th>\n",
              "      <td>0</td>\n",
              "      <td>0.0</td>\n",
              "      <td>0</td>\n",
              "      <td>0.0</td>\n",
              "      <td>1</td>\n",
              "      <td>0.000000</td>\n",
              "      <td>0.20</td>\n",
              "      <td>0.20</td>\n",
              "      <td>0.0</td>\n",
              "      <td>0.0</td>\n",
              "      <td>1</td>\n",
              "      <td>1</td>\n",
              "      <td>1</td>\n",
              "      <td>1</td>\n",
              "      <td>0</td>\n",
              "      <td>0</td>\n",
              "      <td>0.5</td>\n",
              "      <td>0.866025</td>\n",
              "      <td>0.0</td>\n",
              "      <td>0.0</td>\n",
              "      <td>1.0</td>\n",
              "    </tr>\n",
              "    <tr>\n",
              "      <th>1</th>\n",
              "      <td>0</td>\n",
              "      <td>0.0</td>\n",
              "      <td>0</td>\n",
              "      <td>0.0</td>\n",
              "      <td>2</td>\n",
              "      <td>64.000000</td>\n",
              "      <td>0.00</td>\n",
              "      <td>0.10</td>\n",
              "      <td>0.0</td>\n",
              "      <td>0.0</td>\n",
              "      <td>2</td>\n",
              "      <td>2</td>\n",
              "      <td>1</td>\n",
              "      <td>2</td>\n",
              "      <td>0</td>\n",
              "      <td>0</td>\n",
              "      <td>0.5</td>\n",
              "      <td>0.866025</td>\n",
              "      <td>0.0</td>\n",
              "      <td>0.0</td>\n",
              "      <td>1.0</td>\n",
              "    </tr>\n",
              "    <tr>\n",
              "      <th>2</th>\n",
              "      <td>0</td>\n",
              "      <td>0.0</td>\n",
              "      <td>0</td>\n",
              "      <td>0.0</td>\n",
              "      <td>1</td>\n",
              "      <td>0.000000</td>\n",
              "      <td>0.20</td>\n",
              "      <td>0.20</td>\n",
              "      <td>0.0</td>\n",
              "      <td>0.0</td>\n",
              "      <td>4</td>\n",
              "      <td>1</td>\n",
              "      <td>9</td>\n",
              "      <td>3</td>\n",
              "      <td>0</td>\n",
              "      <td>0</td>\n",
              "      <td>0.5</td>\n",
              "      <td>0.866025</td>\n",
              "      <td>0.0</td>\n",
              "      <td>0.0</td>\n",
              "      <td>1.0</td>\n",
              "    </tr>\n",
              "    <tr>\n",
              "      <th>3</th>\n",
              "      <td>0</td>\n",
              "      <td>0.0</td>\n",
              "      <td>0</td>\n",
              "      <td>0.0</td>\n",
              "      <td>2</td>\n",
              "      <td>2.666667</td>\n",
              "      <td>0.05</td>\n",
              "      <td>0.14</td>\n",
              "      <td>0.0</td>\n",
              "      <td>0.0</td>\n",
              "      <td>3</td>\n",
              "      <td>2</td>\n",
              "      <td>2</td>\n",
              "      <td>4</td>\n",
              "      <td>0</td>\n",
              "      <td>0</td>\n",
              "      <td>0.5</td>\n",
              "      <td>0.866025</td>\n",
              "      <td>0.0</td>\n",
              "      <td>0.0</td>\n",
              "      <td>1.0</td>\n",
              "    </tr>\n",
              "    <tr>\n",
              "      <th>4</th>\n",
              "      <td>0</td>\n",
              "      <td>0.0</td>\n",
              "      <td>0</td>\n",
              "      <td>0.0</td>\n",
              "      <td>10</td>\n",
              "      <td>627.500000</td>\n",
              "      <td>0.02</td>\n",
              "      <td>0.05</td>\n",
              "      <td>0.0</td>\n",
              "      <td>0.0</td>\n",
              "      <td>3</td>\n",
              "      <td>3</td>\n",
              "      <td>1</td>\n",
              "      <td>4</td>\n",
              "      <td>1</td>\n",
              "      <td>0</td>\n",
              "      <td>0.5</td>\n",
              "      <td>0.866025</td>\n",
              "      <td>0.0</td>\n",
              "      <td>0.0</td>\n",
              "      <td>1.0</td>\n",
              "    </tr>\n",
              "  </tbody>\n",
              "</table>\n",
              "</div>"
            ],
            "text/plain": [
              "   Administrative  Administrative_Duration  ...  Other  Returning_Visitor\n",
              "0               0                      0.0  ...    0.0                1.0\n",
              "1               0                      0.0  ...    0.0                1.0\n",
              "2               0                      0.0  ...    0.0                1.0\n",
              "3               0                      0.0  ...    0.0                1.0\n",
              "4               0                      0.0  ...    0.0                1.0\n",
              "\n",
              "[5 rows x 21 columns]"
            ]
          },
          "metadata": {},
          "execution_count": 3
        }
      ]
    },
    {
      "cell_type": "code",
      "metadata": {
        "id": "r_1v0HZmLSKD"
      },
      "source": [
        "X_all = all_data.drop('Revenue',axis=1)\n",
        "y_all = all_data['Revenue']"
      ],
      "execution_count": 4,
      "outputs": []
    },
    {
      "cell_type": "code",
      "metadata": {
        "id": "iJmtiP04x85w"
      },
      "source": [
        "# selected_features = [0, 1, 2, 3, 4, 5, 6, 7, 8, 10, 11, 12, 13, 15, 16, 19]\n",
        "# selected_features = ['Administrative', 'Administrative_Duration', 'Informational', 'Informational_Duration', 'ProductRelated', 'ProductRelated_Duration', 'BounceRates', 'ExitRates', 'PageValues', 'SpecialDay', 'OperatingSystems', 'Browser', 'Region', 'TrafficType', 'Weekend', 'Month_sin', 'Month_cos', 'New_Visitor', 'Returning_Visitor']\n",
        "selected_features = ['PageValues', 'ExitRates','Administrative','ProductRelated','ProductRelated_Duration',\n",
        "                     'BounceRates','Month_sin']\n",
        "X = X_all[selected_features]"
      ],
      "execution_count": 5,
      "outputs": []
    },
    {
      "cell_type": "code",
      "metadata": {
        "colab": {
          "base_uri": "https://localhost:8080/"
        },
        "id": "FJlnGuGuQGiK",
        "outputId": "616660c9-9564-46a5-8062-f758ca1f99c1"
      },
      "source": [
        "df = pd.concat([X_all,y_all],axis=1)\n",
        "abs(df.corr()['Revenue'])"
      ],
      "execution_count": 6,
      "outputs": [
        {
          "output_type": "execute_result",
          "data": {
            "text/plain": [
              "Administrative             0.138917\n",
              "Administrative_Duration    0.093587\n",
              "Informational              0.095200\n",
              "Informational_Duration     0.070345\n",
              "ProductRelated             0.158538\n",
              "ProductRelated_Duration    0.152373\n",
              "BounceRates                0.150673\n",
              "ExitRates                  0.207071\n",
              "PageValues                 0.492569\n",
              "SpecialDay                 0.082305\n",
              "OperatingSystems           0.014668\n",
              "Browser                    0.023984\n",
              "Region                     0.011595\n",
              "TrafficType                0.005113\n",
              "Weekend                    0.029295\n",
              "Month_sin                  0.148378\n",
              "Month_cos                  0.039452\n",
              "New_Visitor                0.104136\n",
              "Other                      0.007715\n",
              "Returning_Visitor          0.103843\n",
              "Revenue                    1.000000\n",
              "Name: Revenue, dtype: float64"
            ]
          },
          "metadata": {},
          "execution_count": 6
        }
      ]
    },
    {
      "cell_type": "code",
      "metadata": {
        "colab": {
          "base_uri": "https://localhost:8080/",
          "height": 419
        },
        "id": "ZMsvoeCfRADS",
        "outputId": "a45bee2f-3ee1-4c9e-f842-eb70cf0acb11"
      },
      "source": [
        "X_scaled"
      ],
      "execution_count": 9,
      "outputs": [
        {
          "output_type": "execute_result",
          "data": {
            "text/html": [
              "<div>\n",
              "<style scoped>\n",
              "    .dataframe tbody tr th:only-of-type {\n",
              "        vertical-align: middle;\n",
              "    }\n",
              "\n",
              "    .dataframe tbody tr th {\n",
              "        vertical-align: top;\n",
              "    }\n",
              "\n",
              "    .dataframe thead th {\n",
              "        text-align: right;\n",
              "    }\n",
              "</style>\n",
              "<table border=\"1\" class=\"dataframe\">\n",
              "  <thead>\n",
              "    <tr style=\"text-align: right;\">\n",
              "      <th></th>\n",
              "      <th>PageValues</th>\n",
              "      <th>ExitRates</th>\n",
              "      <th>Administrative</th>\n",
              "      <th>ProductRelated</th>\n",
              "      <th>ProductRelated_Duration</th>\n",
              "      <th>BounceRates</th>\n",
              "      <th>Month_sin</th>\n",
              "    </tr>\n",
              "  </thead>\n",
              "  <tbody>\n",
              "    <tr>\n",
              "      <th>0</th>\n",
              "      <td>-0.317178</td>\n",
              "      <td>3.229316</td>\n",
              "      <td>-0.696993</td>\n",
              "      <td>-0.691003</td>\n",
              "      <td>-0.624348</td>\n",
              "      <td>3.667189</td>\n",
              "      <td>0.611807</td>\n",
              "    </tr>\n",
              "    <tr>\n",
              "      <th>1</th>\n",
              "      <td>-0.317178</td>\n",
              "      <td>1.171473</td>\n",
              "      <td>-0.696993</td>\n",
              "      <td>-0.668518</td>\n",
              "      <td>-0.590903</td>\n",
              "      <td>-0.457683</td>\n",
              "      <td>0.611807</td>\n",
              "    </tr>\n",
              "    <tr>\n",
              "      <th>2</th>\n",
              "      <td>-0.317178</td>\n",
              "      <td>3.229316</td>\n",
              "      <td>-0.696993</td>\n",
              "      <td>-0.691003</td>\n",
              "      <td>-0.624348</td>\n",
              "      <td>3.667189</td>\n",
              "      <td>0.611807</td>\n",
              "    </tr>\n",
              "    <tr>\n",
              "      <th>3</th>\n",
              "      <td>-0.317178</td>\n",
              "      <td>1.994610</td>\n",
              "      <td>-0.696993</td>\n",
              "      <td>-0.668518</td>\n",
              "      <td>-0.622954</td>\n",
              "      <td>0.573535</td>\n",
              "      <td>0.611807</td>\n",
              "    </tr>\n",
              "    <tr>\n",
              "      <th>4</th>\n",
              "      <td>-0.317178</td>\n",
              "      <td>0.142551</td>\n",
              "      <td>-0.696993</td>\n",
              "      <td>-0.488636</td>\n",
              "      <td>-0.296430</td>\n",
              "      <td>-0.045196</td>\n",
              "      <td>0.611807</td>\n",
              "    </tr>\n",
              "    <tr>\n",
              "      <th>...</th>\n",
              "      <td>...</td>\n",
              "      <td>...</td>\n",
              "      <td>...</td>\n",
              "      <td>...</td>\n",
              "      <td>...</td>\n",
              "      <td>...</td>\n",
              "      <td>...</td>\n",
              "    </tr>\n",
              "    <tr>\n",
              "      <th>12325</th>\n",
              "      <td>0.342125</td>\n",
              "      <td>-0.288966</td>\n",
              "      <td>0.206173</td>\n",
              "      <td>0.478227</td>\n",
              "      <td>0.307822</td>\n",
              "      <td>-0.310366</td>\n",
              "      <td>-0.650188</td>\n",
              "    </tr>\n",
              "    <tr>\n",
              "      <th>12326</th>\n",
              "      <td>-0.317178</td>\n",
              "      <td>-0.447364</td>\n",
              "      <td>-0.696993</td>\n",
              "      <td>-0.601062</td>\n",
              "      <td>-0.380957</td>\n",
              "      <td>-0.457683</td>\n",
              "      <td>-1.112111</td>\n",
              "    </tr>\n",
              "    <tr>\n",
              "      <th>12327</th>\n",
              "      <td>-0.317178</td>\n",
              "      <td>0.897093</td>\n",
              "      <td>-0.696993</td>\n",
              "      <td>-0.578577</td>\n",
              "      <td>-0.528063</td>\n",
              "      <td>1.261014</td>\n",
              "      <td>-1.112111</td>\n",
              "    </tr>\n",
              "    <tr>\n",
              "      <th>12328</th>\n",
              "      <td>-0.317178</td>\n",
              "      <td>-0.453140</td>\n",
              "      <td>0.507228</td>\n",
              "      <td>-0.376210</td>\n",
              "      <td>-0.443536</td>\n",
              "      <td>-0.457683</td>\n",
              "      <td>-1.112111</td>\n",
              "    </tr>\n",
              "    <tr>\n",
              "      <th>12329</th>\n",
              "      <td>-0.317178</td>\n",
              "      <td>0.485525</td>\n",
              "      <td>-0.696993</td>\n",
              "      <td>-0.646033</td>\n",
              "      <td>-0.613243</td>\n",
              "      <td>-0.457683</td>\n",
              "      <td>-1.112111</td>\n",
              "    </tr>\n",
              "  </tbody>\n",
              "</table>\n",
              "<p>12330 rows × 7 columns</p>\n",
              "</div>"
            ],
            "text/plain": [
              "       PageValues  ExitRates  ...  BounceRates  Month_sin\n",
              "0       -0.317178   3.229316  ...     3.667189   0.611807\n",
              "1       -0.317178   1.171473  ...    -0.457683   0.611807\n",
              "2       -0.317178   3.229316  ...     3.667189   0.611807\n",
              "3       -0.317178   1.994610  ...     0.573535   0.611807\n",
              "4       -0.317178   0.142551  ...    -0.045196   0.611807\n",
              "...           ...        ...  ...          ...        ...\n",
              "12325    0.342125  -0.288966  ...    -0.310366  -0.650188\n",
              "12326   -0.317178  -0.447364  ...    -0.457683  -1.112111\n",
              "12327   -0.317178   0.897093  ...     1.261014  -1.112111\n",
              "12328   -0.317178  -0.453140  ...    -0.457683  -1.112111\n",
              "12329   -0.317178   0.485525  ...    -0.457683  -1.112111\n",
              "\n",
              "[12330 rows x 7 columns]"
            ]
          },
          "metadata": {},
          "execution_count": 9
        }
      ]
    },
    {
      "cell_type": "code",
      "metadata": {
        "id": "q6j7CZIZO1Ma"
      },
      "source": [
        "from sklearn.preprocessing import MinMaxScaler, StandardScaler\n",
        "\n",
        "X_scaled = StandardScaler().fit_transform(X)\n",
        "X_scaled = pd.DataFrame(X_scaled,columns=X.columns)"
      ],
      "execution_count": 8,
      "outputs": []
    },
    {
      "cell_type": "code",
      "metadata": {
        "colab": {
          "base_uri": "https://localhost:8080/"
        },
        "id": "5R4fasO7Tnv7",
        "outputId": "b831ecd1-175e-4375-d736-4d855948ff9c"
      },
      "source": [
        "%%time\n",
        "# split data into labeled and unlabeled\n",
        "X_lab, X_unlab, y_lab, y_unlab = train_test_split(X_scaled , y_all, test_size=0.5, random_state=1, stratify=y_all)\n",
        "\n",
        "# Split the labelled data into train and test\n",
        "X_train, X_test, y_train, y_test = train_test_split(X_lab, y_lab, test_size=0.20, random_state=1, stratify=y_lab)\n",
        "\n",
        "under_sampler = RandomUnderSampler(random_state=12, sampling_strategy = 0.4)\n",
        "X_train_undersampled, y_train_undersampled = under_sampler.fit_resample(X_train,y_train)\n",
        "\n",
        "over_sampler = SMOTE(sampling_strategy=1.0)\n",
        "X_train_sampled, y_train_sampled = over_sampler.fit_resample(X_train_undersampled, y_train_undersampled)\n",
        "\n",
        "# create the training dataset input\n",
        "X_train_mixed = np.concatenate((X_train_sampled, X_unlab))\n",
        "# create \"no label\" for unlabeled data\n",
        "nolabel = [-1 for _ in range(len(y_unlab))]\n",
        "# recombine training dataset labels\n",
        "y_train_mixed = np.concatenate((y_train_sampled, nolabel))\n",
        "\n",
        "# summarize training set size\n",
        "print('Labeled Train Set:', X_train_sampled.shape, y_train_sampled.shape)\n",
        "print('Unlabeled Train Set:', X_unlab.shape, y_unlab.shape)\n",
        "# summarize test set size\n",
        "print('Test Set:', X_test.shape, y_test.shape)"
      ],
      "execution_count": null,
      "outputs": [
        {
          "output_type": "stream",
          "name": "stdout",
          "text": [
            "Labeled Train Set: (3814, 7) (3814,)\n",
            "Unlabeled Train Set: (6165, 7) (6165,)\n",
            "Test Set: (1233, 7) (1233,)\n",
            "CPU times: user 32.6 ms, sys: 0 ns, total: 32.6 ms\n",
            "Wall time: 32.5 ms\n"
          ]
        }
      ]
    },
    {
      "cell_type": "code",
      "metadata": {
        "colab": {
          "base_uri": "https://localhost:8080/",
          "height": 315
        },
        "id": "qvrAZYp_TvFL",
        "outputId": "533bb70d-18c9-40b2-ea59-fe3792e5aa4b"
      },
      "source": [
        "pd.DataFrame(y_train_mixed).hist()"
      ],
      "execution_count": null,
      "outputs": [
        {
          "output_type": "execute_result",
          "data": {
            "text/plain": [
              "array([[<matplotlib.axes._subplots.AxesSubplot object at 0x7fd9950e9f10>]],\n",
              "      dtype=object)"
            ]
          },
          "metadata": {},
          "execution_count": 59
        },
        {
          "output_type": "display_data",
          "data": {
            "image/png": "[encoded data removed]",
            "text/plain": [
              "<Figure size 432x288 with 1 Axes>"
            ]
          },
          "metadata": {
            "needs_background": "light"
          }
        }
      ]
    },
    {
      "cell_type": "code",
      "metadata": {
        "id": "8cQp77VGLSKD",
        "outputId": "261c7864-be41-4433-a73e-9b5169c32e56"
      },
      "source": [
        "X_train, X_test, y_train, y_test = train_test_split(X_all, y_all, test_size=0.2, random_state=41,stratify=y_all)\n",
        "\n",
        "sampler = RandomUnderSampler(sampling_strategy={0:2500})\n",
        "X_train, y_train = sampler.fit_resample(X_train, y_train)\n",
        "\n",
        "over_sampler = SMOTE(sampling_strategy={1:2500})\n",
        "X_train, y_train = over_sampler.fit_resample(X_train, y_train)\n",
        "\n",
        "y_train.hist()"
      ],
      "execution_count": null,
      "outputs": [
        {
          "data": {
            "text/plain": [
              "<matplotlib.axes._subplots.AxesSubplot at 0x7f91201a7810>"
            ]
          },
          "execution_count": 25,
          "metadata": {},
          "output_type": "execute_result"
        },
        {
          "data": {
            "image/png": "[encoded data removed]",
            "text/plain": [
              "<Figure size 432x288 with 1 Axes>"
            ]
          },
          "metadata": {
            "needs_background": "light"
          },
          "output_type": "display_data"
        }
      ]
    },
    {
      "cell_type": "code",
      "metadata": {
        "id": "i2bAYD2BLSKE",
        "outputId": "c49a0a84-b31c-4516-86d0-9603b2639c65"
      },
      "source": [
        "from sklearn.neural_network import BernoulliRBM\n",
        "from sklearn.pipeline import Pipeline\n",
        "\n",
        "\n",
        "# sampler = RandomUnderSampler(sampling_strategy={0:5000})\n",
        "# X_train, y_train = sampler.fit_resample(X_train, y_train)\n",
        "\n",
        "# over_sampler = SMOTE(sampling_strategy={1:2500})\n",
        "# X_train, y_train = over_sampler.fit_resample(X_train, y_train)\n",
        "\n",
        "\n",
        "dtc = linear_model.LogisticRegression(solver=\"newton-cg\", tol=1)\n",
        "rbm = BernoulliRBM(n_iter=10, n_components=1000, learning_rate=0.04, random_state=0, verbose=True)\n",
        "\n",
        "rbm_features_classifier = Pipeline(steps=[(\"rbm\", rbm), (\"dtc\", dtc)])\n",
        "# rbm.learning_rate = 1\n",
        "# rbm.n_iter = 1\n",
        "# # More components tend to give better prediction performance, but larger\n",
        "# # fitting time\n",
        "# rbm.n_components = 1000\n",
        "logistic.C = 6000\n",
        "\n",
        "\n",
        "\n",
        "rbm_features_classifier.fit(X_train, y_train)\n"
      ],
      "execution_count": null,
      "outputs": [
        {
          "name": "stderr",
          "output_type": "stream",
          "text": [
            "/opt/anaconda3/lib/python3.7/site-packages/sklearn/base.py:446: UserWarning: X does not have valid feature names, but BernoulliRBM was fitted with feature names\n",
            "  \"X does not have valid feature names, but\"\n"
          ]
        },
        {
          "name": "stdout",
          "output_type": "stream",
          "text": [
            "[BernoulliRBM] Iteration 1, pseudo-likelihood = -4973161.43, time = 0.35s\n"
          ]
        },
        {
          "name": "stderr",
          "output_type": "stream",
          "text": [
            "/opt/anaconda3/lib/python3.7/site-packages/sklearn/base.py:446: UserWarning: X does not have valid feature names, but BernoulliRBM was fitted with feature names\n",
            "  \"X does not have valid feature names, but\"\n"
          ]
        },
        {
          "name": "stdout",
          "output_type": "stream",
          "text": [
            "[BernoulliRBM] Iteration 2, pseudo-likelihood = -9947761.99, time = 0.64s\n"
          ]
        },
        {
          "name": "stderr",
          "output_type": "stream",
          "text": [
            "/opt/anaconda3/lib/python3.7/site-packages/sklearn/base.py:446: UserWarning: X does not have valid feature names, but BernoulliRBM was fitted with feature names\n",
            "  \"X does not have valid feature names, but\"\n"
          ]
        },
        {
          "name": "stdout",
          "output_type": "stream",
          "text": [
            "[BernoulliRBM] Iteration 3, pseudo-likelihood = -14922355.97, time = 0.63s\n"
          ]
        },
        {
          "name": "stderr",
          "output_type": "stream",
          "text": [
            "/opt/anaconda3/lib/python3.7/site-packages/sklearn/base.py:446: UserWarning: X does not have valid feature names, but BernoulliRBM was fitted with feature names\n",
            "  \"X does not have valid feature names, but\"\n"
          ]
        },
        {
          "name": "stdout",
          "output_type": "stream",
          "text": [
            "[BernoulliRBM] Iteration 4, pseudo-likelihood = -19896954.20, time = 0.72s\n"
          ]
        },
        {
          "name": "stderr",
          "output_type": "stream",
          "text": [
            "/opt/anaconda3/lib/python3.7/site-packages/sklearn/base.py:446: UserWarning: X does not have valid feature names, but BernoulliRBM was fitted with feature names\n",
            "  \"X does not have valid feature names, but\"\n"
          ]
        },
        {
          "name": "stdout",
          "output_type": "stream",
          "text": [
            "[BernoulliRBM] Iteration 5, pseudo-likelihood = -24871539.99, time = 0.76s\n"
          ]
        },
        {
          "name": "stderr",
          "output_type": "stream",
          "text": [
            "/opt/anaconda3/lib/python3.7/site-packages/sklearn/base.py:446: UserWarning: X does not have valid feature names, but BernoulliRBM was fitted with feature names\n",
            "  \"X does not have valid feature names, but\"\n"
          ]
        },
        {
          "name": "stdout",
          "output_type": "stream",
          "text": [
            "[BernoulliRBM] Iteration 6, pseudo-likelihood = -29846157.80, time = 0.57s\n"
          ]
        },
        {
          "name": "stderr",
          "output_type": "stream",
          "text": [
            "/opt/anaconda3/lib/python3.7/site-packages/sklearn/base.py:446: UserWarning: X does not have valid feature names, but BernoulliRBM was fitted with feature names\n",
            "  \"X does not have valid feature names, but\"\n"
          ]
        },
        {
          "name": "stdout",
          "output_type": "stream",
          "text": [
            "[BernoulliRBM] Iteration 7, pseudo-likelihood = -34820760.26, time = 0.56s\n"
          ]
        },
        {
          "name": "stderr",
          "output_type": "stream",
          "text": [
            "/opt/anaconda3/lib/python3.7/site-packages/sklearn/base.py:446: UserWarning: X does not have valid feature names, but BernoulliRBM was fitted with feature names\n",
            "  \"X does not have valid feature names, but\"\n"
          ]
        },
        {
          "name": "stdout",
          "output_type": "stream",
          "text": [
            "[BernoulliRBM] Iteration 8, pseudo-likelihood = -39795378.77, time = 0.55s\n"
          ]
        },
        {
          "name": "stderr",
          "output_type": "stream",
          "text": [
            "/opt/anaconda3/lib/python3.7/site-packages/sklearn/base.py:446: UserWarning: X does not have valid feature names, but BernoulliRBM was fitted with feature names\n",
            "  \"X does not have valid feature names, but\"\n"
          ]
        },
        {
          "name": "stdout",
          "output_type": "stream",
          "text": [
            "[BernoulliRBM] Iteration 9, pseudo-likelihood = -44769964.79, time = 0.62s\n"
          ]
        },
        {
          "name": "stderr",
          "output_type": "stream",
          "text": [
            "/opt/anaconda3/lib/python3.7/site-packages/sklearn/base.py:446: UserWarning: X does not have valid feature names, but BernoulliRBM was fitted with feature names\n",
            "  \"X does not have valid feature names, but\"\n"
          ]
        },
        {
          "name": "stdout",
          "output_type": "stream",
          "text": [
            "[BernoulliRBM] Iteration 10, pseudo-likelihood = -49744553.84, time = 0.60s\n"
          ]
        },
        {
          "data": {
            "text/plain": [
              "Pipeline(steps=[('rbm',\n",
              "                 BernoulliRBM(learning_rate=0.04, n_components=1000,\n",
              "                              random_state=0, verbose=True)),\n",
              "                ('dtc', LogisticRegression(solver='newton-cg', tol=1))])"
            ]
          },
          "execution_count": 26,
          "metadata": {},
          "output_type": "execute_result"
        }
      ]
    },
    {
      "cell_type": "code",
      "metadata": {
        "id": "2dPzSO_MLSKE",
        "outputId": "7960cf14-8e4c-4066-baba-33e3cde0eeb7"
      },
      "source": [
        "y_pred = rbm_features_classifier.predict(X_test)\n",
        "print(accuracy_score(y_test, y_pred))\n",
        "\n",
        "confusion_matrix(y_test,y_pred)"
      ],
      "execution_count": null,
      "outputs": [
        {
          "name": "stdout",
          "output_type": "stream",
          "text": [
            "0.8450932684509327\n"
          ]
        },
        {
          "data": {
            "text/plain": [
              "array([[2084,    0],\n",
              "       [ 382,    0]])"
            ]
          },
          "execution_count": 27,
          "metadata": {},
          "output_type": "execute_result"
        }
      ]
    },
    {
      "cell_type": "code",
      "metadata": {
        "id": "Ya79mFTbLSKF",
        "outputId": "75558b5b-46d4-4ebe-d4ad-25f70fd1113b"
      },
      "source": [
        "\n",
        "import numpy as np\n",
        "import matplotlib.pyplot as plt\n",
        "\n",
        "from scipy.ndimage import convolve\n",
        "from sklearn import linear_model, datasets, metrics\n",
        "from sklearn.model_selection import train_test_split\n",
        "from sklearn.neural_network import BernoulliRBM\n",
        "from sklearn.pipeline import Pipeline\n",
        "from sklearn.preprocessing import minmax_scale\n",
        "from sklearn.base import clone\n",
        "\n",
        "\n",
        "# #############################################################################\n",
        "# Setting up\n",
        "\n",
        "\n",
        "def nudge_dataset(X, Y):\n",
        "    \"\"\"\n",
        "    This produces a dataset 5 times bigger than the original one,\n",
        "    by moving the 8x8 images in X around by 1px to left, right, down, up\n",
        "    \"\"\"\n",
        "    direction_vectors = [\n",
        "        [[0, 1, 0], [0, 0, 0], [0, 0, 0]],\n",
        "        [[0, 0, 0], [1, 0, 0], [0, 0, 0]],\n",
        "        [[0, 0, 0], [0, 0, 1], [0, 0, 0]],\n",
        "        [[0, 0, 0], [0, 0, 0], [0, 1, 0]],\n",
        "    ]\n",
        "\n",
        "    def shift(x, w):\n",
        "        return convolve(x.reshape((8, 8)), mode=\"constant\", weights=w).ravel()\n",
        "\n",
        "    X = np.concatenate(\n",
        "        [X] + [np.apply_along_axis(shift, 1, X, vector) for vector in direction_vectors]\n",
        "    )\n",
        "    Y = np.concatenate([Y for _ in range(5)], axis=0)\n",
        "    return X, Y\n",
        "\n",
        "\n",
        "# Load Data\n",
        "X, y = datasets.load_digits(return_X_y=True)\n",
        "X = np.asarray(X, \"float32\")\n",
        "X, Y = nudge_dataset(X, y)\n",
        "X = minmax_scale(X, feature_range=(0, 1))  # 0-1 scaling\n",
        "\n",
        "X_train, X_test, Y_train, Y_test = train_test_split(X, Y, test_size=0.2, random_state=0)\n",
        "\n",
        "# Models we will use\n",
        "logistic = linear_model.LogisticRegression(solver=\"newton-cg\", tol=1)\n",
        "rbm = BernoulliRBM(random_state=0, verbose=True)\n",
        "\n",
        "rbm_features_classifier = Pipeline(steps=[(\"rbm\", rbm), (\"logistic\", logistic)])\n",
        "\n",
        "# #############################################################################\n",
        "# Training\n",
        "\n",
        "# Hyper-parameters. These were set by cross-validation,\n",
        "# using a GridSearchCV. Here we are not performing cross-validation to\n",
        "# save time.\n",
        "rbm.learning_rate = 0.06\n",
        "rbm.n_iter = 10\n",
        "# More components tend to give better prediction performance, but larger\n",
        "# fitting time\n",
        "rbm.n_components = 100\n",
        "logistic.C = 6000\n",
        "\n",
        "# Training RBM-Logistic Pipeline\n",
        "rbm_features_classifier.fit(X_train, Y_train)\n",
        "\n",
        "# Training the Logistic regression classifier directly on the pixel\n",
        "raw_pixel_classifier = clone(logistic)\n",
        "raw_pixel_classifier.C = 100.0\n",
        "raw_pixel_classifier.fit(X_train, Y_train)\n",
        "\n",
        "# #############################################################################\n",
        "# Evaluation\n",
        "\n",
        "Y_pred = rbm_features_classifier.predict(X_test)\n",
        "print(\n",
        "    \"Logistic regression using RBM features:\\n%s\\n\"\n",
        "    % (metrics.classification_report(Y_test, Y_pred))\n",
        ")\n",
        "\n",
        "Y_pred = raw_pixel_classifier.predict(X_test)\n",
        "print(\n",
        "    \"Logistic regression using raw pixel features:\\n%s\\n\"\n",
        "    % (metrics.classification_report(Y_test, Y_pred))\n",
        ")\n",
        "\n",
        "# #############################################################################\n",
        "# Plotting\n",
        "\n",
        "plt.figure(figsize=(4.2, 4))\n",
        "for i, comp in enumerate(rbm.components_):\n",
        "    plt.subplot(10, 10, i + 1)\n",
        "    plt.imshow(comp.reshape((8, 8)), cmap=plt.cm.gray_r, interpolation=\"nearest\")\n",
        "    plt.xticks(())\n",
        "    plt.yticks(())\n",
        "plt.suptitle(\"100 components extracted by RBM\", fontsize=16)\n",
        "plt.subplots_adjust(0.08, 0.02, 0.92, 0.85, 0.08, 0.23)\n",
        "\n",
        "plt.show()"
      ],
      "execution_count": null,
      "outputs": [
        {
          "name": "stdout",
          "output_type": "stream",
          "text": [
            "[BernoulliRBM] Iteration 1, pseudo-likelihood = -25.57, time = 0.11s\n",
            "[BernoulliRBM] Iteration 2, pseudo-likelihood = -23.68, time = 0.15s\n",
            "[BernoulliRBM] Iteration 3, pseudo-likelihood = -22.74, time = 0.17s\n",
            "[BernoulliRBM] Iteration 4, pseudo-likelihood = -21.83, time = 0.14s\n",
            "[BernoulliRBM] Iteration 5, pseudo-likelihood = -21.62, time = 0.16s\n",
            "[BernoulliRBM] Iteration 6, pseudo-likelihood = -20.88, time = 0.14s\n",
            "[BernoulliRBM] Iteration 7, pseudo-likelihood = -20.83, time = 0.15s\n",
            "[BernoulliRBM] Iteration 8, pseudo-likelihood = -20.56, time = 0.13s\n",
            "[BernoulliRBM] Iteration 9, pseudo-likelihood = -20.27, time = 0.14s\n",
            "[BernoulliRBM] Iteration 10, pseudo-likelihood = -20.17, time = 0.14s\n",
            "Logistic regression using RBM features:\n",
            "              precision    recall  f1-score   support\n",
            "\n",
            "           0       0.99      0.98      0.99       174\n",
            "           1       0.91      0.95      0.93       184\n",
            "           2       0.94      0.95      0.94       166\n",
            "           3       0.95      0.88      0.91       194\n",
            "           4       0.95      0.94      0.94       186\n",
            "           5       0.95      0.91      0.93       181\n",
            "           6       0.98      0.96      0.97       207\n",
            "           7       0.93      0.99      0.96       154\n",
            "           8       0.90      0.90      0.90       182\n",
            "           9       0.88      0.92      0.90       169\n",
            "\n",
            "    accuracy                           0.94      1797\n",
            "   macro avg       0.94      0.94      0.94      1797\n",
            "weighted avg       0.94      0.94      0.94      1797\n",
            "\n",
            "\n",
            "Logistic regression using raw pixel features:\n",
            "              precision    recall  f1-score   support\n",
            "\n",
            "           0       0.90      0.93      0.91       174\n",
            "           1       0.59      0.56      0.57       184\n",
            "           2       0.75      0.85      0.80       166\n",
            "           3       0.78      0.78      0.78       194\n",
            "           4       0.81      0.84      0.83       186\n",
            "           5       0.76      0.77      0.77       181\n",
            "           6       0.91      0.87      0.89       207\n",
            "           7       0.86      0.88      0.87       154\n",
            "           8       0.67      0.58      0.62       182\n",
            "           9       0.74      0.76      0.75       169\n",
            "\n",
            "    accuracy                           0.78      1797\n",
            "   macro avg       0.78      0.78      0.78      1797\n",
            "weighted avg       0.78      0.78      0.78      1797\n",
            "\n",
            "\n"
          ]
        },
        {
          "data": {
            "image/png": "[encoded data removed]",
            "text/plain": [
              "<Figure size 302.4x288 with 100 Axes>"
            ]
          },
          "metadata": {},
          "output_type": "display_data"
        }
      ]
    },
    {
      "cell_type": "code",
      "metadata": {
        "id": "LR0dsmuSLSKJ"
      },
      "source": [
        "# sm = SMOTE(random_state=12, sampling_strategy = 1.0)\n",
        "# X_train_res, y_train_res = sm.fit_resample(X_train, y_train)"
      ],
      "execution_count": null,
      "outputs": []
    },
    {
      "cell_type": "code",
      "metadata": {
        "colab": {
          "base_uri": "https://localhost:8080/",
          "height": 469
        },
        "id": "J7GMuh4ALSKK",
        "outputId": "efc574c5-798e-4697-db0a-dff6d2f231bb"
      },
      "source": [
        "# unsupervised greedy layer-wise pretraining for blobs classification problem\n",
        "from sklearn.datasets import make_blobs\n",
        "from keras.layers import Dense\n",
        "from keras.models import Sequential\n",
        "from tensorflow.keras.optimizers import SGD\n",
        "from tensorflow.keras.utils import to_categorical\n",
        "from matplotlib import pyplot\n",
        "\n",
        "# prepare the dataset\n",
        "def prepare_data():\n",
        "\t# generate 2d classification dataset\n",
        "\tX, y = make_blobs(n_samples=1000, centers=3, n_features=2, cluster_std=2, random_state=2)\n",
        "\t# one hot encode output variable\n",
        "\ty = to_categorical(y)\n",
        "\t# split into train and test\n",
        "\tn_train = 500\n",
        "\ttrainX, testX = X[:n_train, :], X[n_train:, :]\n",
        "\ttrainy, testy = y[:n_train], y[n_train:]\n",
        "\treturn trainX, testX, trainy, testy\n",
        "\n",
        "# define, fit and evaluate the base autoencoder\n",
        "def base_autoencoder(trainX, testX):\n",
        "\t# define model\n",
        "\tmodel = Sequential()\n",
        "\tmodel.add(Dense(10, input_dim=2, activation='relu', kernel_initializer='he_uniform'))\n",
        "\tmodel.add(Dense(2, activation='linear'))\n",
        "\t# compile model\n",
        "\tmodel.compile(loss='mse', optimizer=SGD(learning_rate=0.01, momentum=0.9))\n",
        "\t# fit model\n",
        "\tmodel.fit(trainX, trainX, epochs=100, verbose=0)\n",
        "\t# evaluate reconstruction loss\n",
        "\ttrain_mse = model.evaluate(trainX, trainX, verbose=0)\n",
        "\ttest_mse = model.evaluate(testX, testX, verbose=0)\n",
        "\tprint('> reconstruction error train=%.3f, test=%.3f' % (train_mse, test_mse))\n",
        "\treturn model\n",
        "\n",
        "# evaluate the autoencoder as a classifier\n",
        "def evaluate_autoencoder_as_classifier(model, trainX, trainy, testX, testy):\n",
        "\t# remember the current output layer\n",
        "\toutput_layer = model.layers[-1]\n",
        "\t# remove the output layer\n",
        "\tmodel.pop()\n",
        "\t# mark all remaining layers as non-trainable\n",
        "\tfor layer in model.layers:\n",
        "\t\tlayer.trainable = False\n",
        "\t# add new output layer\n",
        "\tmodel.add(Dense(3, activation='softmax'))\n",
        "\t# compile model\n",
        "\tmodel.compile(loss='categorical_crossentropy', optimizer=SGD(learning_rate=0.01, momentum=0.9), metrics=['accuracy'])\n",
        "\t# fit model\n",
        "\tmodel.fit(trainX, trainy, epochs=100, verbose=0)\n",
        "\t# evaluate model\n",
        "\t_, train_acc = model.evaluate(trainX, trainy, verbose=0)\n",
        "\t_, test_acc = model.evaluate(testX, testy, verbose=0)\n",
        "\t# put the model back together\n",
        "\tmodel.pop()\n",
        "\tmodel.add(output_layer)\n",
        "\tmodel.compile(loss='mse', optimizer=SGD(learning_rate=0.01, momentum=0.9))\n",
        "\treturn train_acc, test_acc\n",
        "\n",
        "# add one new layer and re-train only the new layer\n",
        "def add_layer_to_autoencoder(model, trainX, testX):\n",
        "\t# remember the current output layer\n",
        "\toutput_layer = model.layers[-1]\n",
        "\t# remove the output layer\n",
        "\tmodel.pop()\n",
        "\t# mark all remaining layers as non-trainable\n",
        "\tfor layer in model.layers:\n",
        "\t\tlayer.trainable = False\n",
        "\t# add a new hidden layer\n",
        "\tmodel.add(Dense(10, activation='relu', kernel_initializer='he_uniform'))\n",
        "\t# re-add the output layer\n",
        "\tmodel.add(output_layer)\n",
        "\t# fit model\n",
        "\tmodel.fit(trainX, trainX, epochs=100, verbose=0)\n",
        "\t# evaluate reconstruction loss\n",
        "\ttrain_mse = model.evaluate(trainX, trainX, verbose=0)\n",
        "\ttest_mse = model.evaluate(testX, testX, verbose=0)\n",
        "\tprint('> reconstruction error train=%.3f, test=%.3f' % (train_mse, test_mse))\n",
        "\n",
        "# prepare data\n",
        "trainX, testX, trainy, testy = prepare_data()\n",
        "# get the base autoencoder\n",
        "model = base_autoencoder(trainX, testX)\n",
        "# evaluate the base model\n",
        "scores = dict()\n",
        "train_acc, test_acc = evaluate_autoencoder_as_classifier(model, trainX, trainy, testX, testy)\n",
        "print('> classifier accuracy layers=%d, train=%.3f, test=%.3f' % (len(model.layers), train_acc, test_acc))\n",
        "scores[len(model.layers)] = (train_acc, test_acc)\n",
        "# add layers and evaluate the updated model\n",
        "n_layers = 5\n",
        "for _ in range(n_layers):\n",
        "\t# add layer\n",
        "\tadd_layer_to_autoencoder(model, trainX, testX)\n",
        "\t# evaluate model\n",
        "\ttrain_acc, test_acc = evaluate_autoencoder_as_classifier(model, trainX, trainy, testX, testy)\n",
        "\tprint('> classifier accuracy layers=%d, train=%.3f, test=%.3f' % (len(model.layers), train_acc, test_acc))\n",
        "\t# store scores for plotting\n",
        "\tscores[len(model.layers)] = (train_acc, test_acc)\n",
        "# plot number of added layers vs accuracy\n",
        "keys = list(scores.keys())\n",
        "pyplot.plot(keys, [scores[k][0] for k in keys], label='train', marker='.')\n",
        "pyplot.plot(keys, [scores[k][1] for k in keys], label='test', marker='.')\n",
        "pyplot.legend()\n",
        "pyplot.show()"
      ],
      "execution_count": null,
      "outputs": [
        {
          "output_type": "stream",
          "name": "stdout",
          "text": [
            "> reconstruction error train=0.000, test=0.000\n",
            "> classifier accuracy layers=2, train=0.834, test=0.830\n",
            "> reconstruction error train=0.001, test=0.009\n",
            "> classifier accuracy layers=3, train=0.830, test=0.836\n",
            "> reconstruction error train=0.012, test=0.029\n",
            "> classifier accuracy layers=4, train=0.810, test=0.812\n",
            "> reconstruction error train=6.864, test=7.594\n",
            "> classifier accuracy layers=5, train=0.538, test=0.504\n",
            "> reconstruction error train=10.409, test=10.680\n",
            "> classifier accuracy layers=6, train=0.342, test=0.326\n",
            "> reconstruction error train=10.409, test=10.655\n",
            "> classifier accuracy layers=7, train=0.342, test=0.326\n"
          ]
        },
        {
          "output_type": "display_data",
          "data": {
            "image/png": "[encoded data removed]",
            "text/plain": [
              "<Figure size 432x288 with 1 Axes>"
            ]
          },
          "metadata": {
            "needs_background": "light"
          }
        }
      ]
    },
    {
      "cell_type": "markdown",
      "source": [
        "# Autoencoder based pretraining"
      ],
      "metadata": {
        "id": "rq8_jVUwq3-K"
      }
    },
    {
      "cell_type": "code",
      "metadata": {
        "colab": {
          "base_uri": "https://localhost:8080/",
          "height": 469
        },
        "id": "c3QV4ZM9LSKM",
        "outputId": "73468dcd-0cee-4fcb-e81b-f4eb7936b7c1"
      },
      "source": [
        "# unsupervised greedy layer-wise pretraining for blobs classification problem\n",
        "from sklearn.datasets import make_blobs\n",
        "from keras.layers import Dense\n",
        "from keras.models import Sequential\n",
        "from tensorflow.keras.optimizers import SGD\n",
        "from tensorflow.keras.utils import to_categorical\n",
        "from matplotlib import pyplot\n",
        "\n",
        "\n",
        "# prepare the dataset\n",
        "def prepare_data(X_, y_):\n",
        "  X_train, X_test, y_train, y_test = train_test_split(X_, to_categorical(y_), test_size=0.1, shuffle=True, stratify=to_categorical(y_))\n",
        "\n",
        "  return X_train, X_test, y_train, y_test\n",
        "\n",
        "# define, fit and evaluate the base autoencoder\n",
        "def base_autoencoder(trainX, testX):\n",
        "\t# define model\n",
        "\tmodel = Sequential()\n",
        "\tmodel.add(Dense(10, input_dim=20, activation='relu', kernel_initializer='he_uniform'))\n",
        "\tmodel.add(Dense(20, activation='linear'))\n",
        "\t# compile model\n",
        "\tmodel.compile(loss='binary_crossentropy', optimizer='adam')\n",
        "\t# fit model\n",
        "\tmodel.fit(trainX, trainX, epochs=100, verbose=0)\n",
        "\t# evaluate reconstruction loss\n",
        "\ttrain_mse = model.evaluate(trainX, trainX, verbose=0)\n",
        "\ttest_mse = model.evaluate(testX, testX, verbose=0)\n",
        "\tprint('> reconstruction error train=%.3f, test=%.3f' % (train_mse, test_mse))\n",
        "\treturn model\n",
        "\n",
        "# evaluate the autoencoder as a classifier\n",
        "def evaluate_autoencoder_as_classifier(model, trainX, trainy, testX, testy):\n",
        "\t# remember the current output layer\n",
        "\toutput_layer = model.layers[-1]\n",
        "\t# remove the output layer\n",
        "\tmodel.pop()\n",
        "\t# mark all remaining layers as non-trainable\n",
        "\tfor layer in model.layers:\n",
        "\t\tlayer.trainable = False\n",
        "\t# add new output layer\n",
        "\tmodel.add(Dense(2, activation='softmax'))\n",
        "\t# compile model\n",
        "\tmodel.compile(loss='categorical_crossentropy', optimizer=SGD(learning_rate=0.01, momentum=0.9), metrics=['accuracy'])\n",
        "\t# fit model\n",
        "\tmodel.fit(trainX, trainy, epochs=100, verbose=0)\n",
        "\t# evaluate model\n",
        "\t_, train_acc = model.evaluate(trainX, trainy, verbose=0)\n",
        "\t_, test_acc = model.evaluate(testX, testy, verbose=0)\n",
        "\t# put the model back together\n",
        "\tmodel.pop()\n",
        "\tmodel.add(output_layer)\n",
        "\tmodel.compile(loss='binary_crossentropy', optimizer='adam')\n",
        "\treturn train_acc, test_acc\n",
        "\n",
        "# add one new layer and re-train only the new layer\n",
        "def add_layer_to_autoencoder(model, trainX, testX):\n",
        "\t# remember the current output layer\n",
        "\toutput_layer = model.layers[-1]\n",
        "\t# remove the output layer\n",
        "\tmodel.pop()\n",
        "\t# mark all remaining layers as non-trainable\n",
        "\tfor layer in model.layers:\n",
        "\t\tlayer.trainable = False\n",
        "\t# add a new hidden layer\n",
        "\tmodel.add(Dense(10, activation='relu', kernel_initializer='he_uniform'))\n",
        "\t# re-add the output layer\n",
        "\tmodel.add(output_layer)\n",
        "\t# fit model\n",
        "\tmodel.fit(trainX, trainX, epochs=100, verbose=0)\n",
        "\t# evaluate reconstruction loss\n",
        "\ttrain_mse = model.evaluate(trainX, trainX, verbose=0)\n",
        "\ttest_mse = model.evaluate(testX, testX, verbose=0)\n",
        "\tprint('> reconstruction error train=%.3f, test=%.3f' % (train_mse, test_mse))\n",
        "\n",
        "# prepare data\n",
        "trainX, testX, trainy, testy = prepare_data(X_all, y_all)\n",
        "# get the base autoencoder\n",
        "\n",
        "model = base_autoencoder(trainX, testX)\n",
        "# evaluate the base model\n",
        "scores = dict()\n",
        "train_acc, test_acc = evaluate_autoencoder_as_classifier(model, trainX, trainy, testX, testy)\n",
        "print('> classifier accuracy layers=%d, train=%.3f, test=%.3f' % (len(model.layers), train_acc, test_acc))\n",
        "scores[len(model.layers)] = (train_acc, test_acc)\n",
        "# add layers and evaluate the updated model\n",
        "n_layers = 5\n",
        "for _ in range(n_layers):\n",
        "\t# add layer\n",
        "\tadd_layer_to_autoencoder(model, trainX, testX)\n",
        "\t# evaluate model\n",
        "\ttrain_acc, test_acc = evaluate_autoencoder_as_classifier(model, trainX, trainy, testX, testy)\n",
        "\tprint('> classifier accuracy layers=%d, train=%.3f, test=%.3f' % (len(model.layers), train_acc, test_acc))\n",
        "\t# store scores for plotting\n",
        "\tscores[len(model.layers)] = (train_acc, test_acc)\n",
        "# plot number of added layers vs accuracy\n",
        "keys = list(scores.keys())\n",
        "pyplot.plot(keys, [scores[k][0] for k in keys], label='train', marker='.')\n",
        "pyplot.plot(keys, [scores[k][1] for k in keys], label='test', marker='.')\n",
        "pyplot.legend()\n",
        "pyplot.show()"
      ],
      "execution_count": 16,
      "outputs": [
        {
          "output_type": "stream",
          "name": "stdout",
          "text": [
            "> reconstruction error train=-1025.874, test=-980.311\n",
            "> classifier accuracy layers=2, train=0.870, test=0.864\n",
            "> reconstruction error train=817.516, test=772.789\n",
            "> classifier accuracy layers=3, train=0.845, test=0.845\n",
            "> reconstruction error train=-1026.468, test=-981.535\n",
            "> classifier accuracy layers=4, train=0.512, test=0.506\n",
            "> reconstruction error train=817.938, test=773.405\n",
            "> classifier accuracy layers=5, train=0.845, test=0.845\n",
            "> reconstruction error train=-974.347, test=-928.286\n",
            "> classifier accuracy layers=6, train=0.848, test=0.849\n",
            "> reconstruction error train=-1026.691, test=-981.780\n",
            "> classifier accuracy layers=7, train=0.618, test=0.616\n"
          ]
        },
        {
          "output_type": "display_data",
          "data": {
            "image/png": "[encoded data removed]",
            "text/plain": [
              "<Figure size 432x288 with 1 Axes>"
            ]
          },
          "metadata": {
            "needs_background": "light"
          }
        }
      ]
    },
    {
      "cell_type": "code",
      "metadata": {
        "id": "rVnHJdMHYPz7"
      },
      "source": [
        "sampler = RandomUnderSampler(sampling_strategy={0:2500})\n",
        "X_all, y_all = sampler.fit_resample(X_all, y_all)\n",
        "\n",
        "over_sampler = SMOTE(sampling_strategy={1:2500})\n",
        "X_all, y_all = over_sampler.fit_resample(X_all, y_all)"
      ],
      "execution_count": null,
      "outputs": []
    },
    {
      "cell_type": "code",
      "metadata": {
        "colab": {
          "base_uri": "https://localhost:8080/"
        },
        "id": "xvmdJ8chLSKM",
        "outputId": "e04428d6-7ce2-44ce-98ad-029cf973f12c"
      },
      "source": [
        "df = pd.concat([X_all,y_all],axis=1)\n",
        "zero_df = df[df.Revenue == 0]\n",
        "one_df = df[df.Revenue == 1]\n",
        "\n",
        "print(f\"{df.Revenue.value_counts()}\")\n",
        "print(f\"zero_df.shape: {zero_df.shape}, one_df.shape: {one_df.shape}\")"
      ],
      "execution_count": null,
      "outputs": [
        {
          "output_type": "stream",
          "name": "stdout",
          "text": [
            "0    10422\n",
            "1     1908\n",
            "Name: Revenue, dtype: int64\n",
            "zero_df.shape: (10422, 21), one_df.shape: (1908, 21)\n"
          ]
        }
      ]
    },
    {
      "cell_type": "code",
      "metadata": {
        "id": "SNmdu0CzU-A5"
      },
      "source": [
        "X_zero_df = zero_df.drop('Revenue',axis=1)\n",
        "y_zero_df = zero_df['Revenue']\n",
        "\n",
        "X_one_df = one_df.drop('Revenue',axis=1)\n",
        "y_one_df = one_df['Revenue']"
      ],
      "execution_count": null,
      "outputs": []
    },
    {
      "cell_type": "code",
      "metadata": {
        "id": "KgKzXIVmLSKN"
      },
      "source": [
        "X_train, X_test, y_train, y_test = train_test_split(X_all, to_categorical(y_all), test_size=0.1, shuffle=True, stratify=to_categorical(y_all))"
      ],
      "execution_count": null,
      "outputs": []
    },
    {
      "cell_type": "code",
      "metadata": {
        "colab": {
          "base_uri": "https://localhost:8080/"
        },
        "id": "BFheg1EuLSKN",
        "outputId": "d7240588-bfc0-4eec-cdf5-be5053fa1ecc"
      },
      "source": [
        "print(f\"Train shape: (X,y): {X_train.shape}, {y_train.shape}\")\n",
        "print(f\"Test shape: (X,y): {X_test.shape}, {y_test.shape}\")"
      ],
      "execution_count": null,
      "outputs": [
        {
          "output_type": "stream",
          "name": "stdout",
          "text": [
            "Train shape: (X,y): (11097, 20), (11097, 2)\n",
            "Test shape: (X,y): (1233, 20), (1233, 2)\n"
          ]
        }
      ]
    },
    {
      "cell_type": "code",
      "metadata": {
        "id": "GqQdUuM3LSKN"
      },
      "source": [
        ""
      ],
      "execution_count": null,
      "outputs": []
    },
    {
      "cell_type": "markdown",
      "metadata": {
        "id": "sfkpum1dllnb"
      },
      "source": [
        "## GFG: Feature extraction using Autoencoders & Training on a classifier"
      ]
    },
    {
      "cell_type": "code",
      "metadata": {
        "id": "vSaDoWn3LSKN"
      },
      "source": [
        "import pandas as pd \n",
        "import numpy as np\n",
        "from sklearn.model_selection import train_test_split \n",
        "from sklearn.linear_model import LogisticRegression\n",
        "from sklearn.svm import SVC\n",
        "from sklearn.metrics import accuracy_score\n",
        "from sklearn.preprocessing import MinMaxScaler \n",
        "from sklearn.manifold import TSNE\n",
        "import matplotlib.pyplot as plt\n",
        "import seaborn as sns\n",
        "from keras.layers import Input, Dense\n",
        "from keras.models import Model, Sequential\n",
        "from keras import regularizers"
      ],
      "execution_count": null,
      "outputs": []
    },
    {
      "cell_type": "code",
      "metadata": {
        "id": "6YG7vTQLLSKN"
      },
      "source": [
        "# Loading the dataset\n",
        "df = pd.read_csv('creditcard.csv')\n",
        "  \n",
        "# Making the Time values appropriate for future work\n",
        "df['Time'] = df['Time'].apply(lambda x : (x / 3600) % 24)\n",
        "  \n",
        "# Separating the normal and fraudulent transactions\n",
        "fraud = df[df['Class']== 1]\n",
        "normal = df[df['Class']== 0].sample(2500)\n",
        "  \n",
        "# Reducing the dataset because of machinery constraints\n",
        "df = normal.append(fraud).reset_index(drop = True)\n",
        "  \n",
        "# Separating the dependent and independent variables\n",
        "y = df['Class']\n",
        "X = df.drop('Class', axis = 1)"
      ],
      "execution_count": null,
      "outputs": []
    },
    {
      "cell_type": "code",
      "metadata": {
        "id": "dGY_iy88cG-H"
      },
      "source": [
        "df = pd.concat([X_all,y_all],axis=1)\n",
        "zero_df = df[df.Revenue == 0]\n",
        "one_df = df[df.Revenue == 1]\n",
        "\n",
        "X_zero_df = zero_df.drop('Revenue',axis=1)\n",
        "y_zero_df = zero_df['Revenue']\n",
        "\n",
        "X_one_df = one_df.drop('Revenue',axis=1)\n",
        "y_one_df = one_df['Revenue']"
      ],
      "execution_count": null,
      "outputs": []
    },
    {
      "cell_type": "code",
      "metadata": {
        "colab": {
          "base_uri": "https://localhost:8080/",
          "height": 224
        },
        "id": "WljV_Io_LSKN",
        "outputId": "4ecb6479-fe3f-481e-95e0-f6e4f7533a3a"
      },
      "source": [
        "df.head()"
      ],
      "execution_count": null,
      "outputs": [
        {
          "output_type": "execute_result",
          "data": {
            "text/html": [
              "<div>\n",
              "<style scoped>\n",
              "    .dataframe tbody tr th:only-of-type {\n",
              "        vertical-align: middle;\n",
              "    }\n",
              "\n",
              "    .dataframe tbody tr th {\n",
              "        vertical-align: top;\n",
              "    }\n",
              "\n",
              "    .dataframe thead th {\n",
              "        text-align: right;\n",
              "    }\n",
              "</style>\n",
              "<table border=\"1\" class=\"dataframe\">\n",
              "  <thead>\n",
              "    <tr style=\"text-align: right;\">\n",
              "      <th></th>\n",
              "      <th>Time</th>\n",
              "      <th>V1</th>\n",
              "      <th>V2</th>\n",
              "      <th>V3</th>\n",
              "      <th>V4</th>\n",
              "      <th>V5</th>\n",
              "      <th>V6</th>\n",
              "      <th>V7</th>\n",
              "      <th>V8</th>\n",
              "      <th>V9</th>\n",
              "      <th>V10</th>\n",
              "      <th>V11</th>\n",
              "      <th>V12</th>\n",
              "      <th>V13</th>\n",
              "      <th>V14</th>\n",
              "      <th>V15</th>\n",
              "      <th>V16</th>\n",
              "      <th>V17</th>\n",
              "      <th>V18</th>\n",
              "      <th>V19</th>\n",
              "      <th>V20</th>\n",
              "      <th>V21</th>\n",
              "      <th>V22</th>\n",
              "      <th>V23</th>\n",
              "      <th>V24</th>\n",
              "      <th>V25</th>\n",
              "      <th>V26</th>\n",
              "      <th>V27</th>\n",
              "      <th>V28</th>\n",
              "      <th>Amount</th>\n",
              "      <th>Class</th>\n",
              "    </tr>\n",
              "  </thead>\n",
              "  <tbody>\n",
              "    <tr>\n",
              "      <th>0</th>\n",
              "      <td>23.426944</td>\n",
              "      <td>-1.412431</td>\n",
              "      <td>-1.206578</td>\n",
              "      <td>-0.110491</td>\n",
              "      <td>-0.190864</td>\n",
              "      <td>1.121667</td>\n",
              "      <td>-1.991780</td>\n",
              "      <td>-0.429353</td>\n",
              "      <td>0.313218</td>\n",
              "      <td>0.014213</td>\n",
              "      <td>-0.851214</td>\n",
              "      <td>-1.067811</td>\n",
              "      <td>0.677430</td>\n",
              "      <td>0.707656</td>\n",
              "      <td>0.274482</td>\n",
              "      <td>-0.413522</td>\n",
              "      <td>0.315734</td>\n",
              "      <td>-0.429073</td>\n",
              "      <td>-0.407665</td>\n",
              "      <td>-0.651859</td>\n",
              "      <td>0.299248</td>\n",
              "      <td>0.243873</td>\n",
              "      <td>-0.025953</td>\n",
              "      <td>0.046423</td>\n",
              "      <td>0.105530</td>\n",
              "      <td>-0.202392</td>\n",
              "      <td>0.428767</td>\n",
              "      <td>-0.194204</td>\n",
              "      <td>-0.436328</td>\n",
              "      <td>30.00</td>\n",
              "      <td>0</td>\n",
              "    </tr>\n",
              "    <tr>\n",
              "      <th>1</th>\n",
              "      <td>20.866111</td>\n",
              "      <td>-1.291937</td>\n",
              "      <td>2.207782</td>\n",
              "      <td>-1.150456</td>\n",
              "      <td>3.157194</td>\n",
              "      <td>2.718568</td>\n",
              "      <td>4.680815</td>\n",
              "      <td>-0.207732</td>\n",
              "      <td>1.332230</td>\n",
              "      <td>-1.670417</td>\n",
              "      <td>2.537265</td>\n",
              "      <td>-0.398782</td>\n",
              "      <td>-0.509306</td>\n",
              "      <td>-0.034861</td>\n",
              "      <td>0.521999</td>\n",
              "      <td>0.775211</td>\n",
              "      <td>-0.428078</td>\n",
              "      <td>0.244806</td>\n",
              "      <td>-0.468337</td>\n",
              "      <td>1.217346</td>\n",
              "      <td>0.302376</td>\n",
              "      <td>-0.168629</td>\n",
              "      <td>-0.490724</td>\n",
              "      <td>0.246711</td>\n",
              "      <td>0.641408</td>\n",
              "      <td>-0.901810</td>\n",
              "      <td>-0.053230</td>\n",
              "      <td>-0.674872</td>\n",
              "      <td>-0.215664</td>\n",
              "      <td>0.75</td>\n",
              "      <td>0</td>\n",
              "    </tr>\n",
              "    <tr>\n",
              "      <th>2</th>\n",
              "      <td>20.243889</td>\n",
              "      <td>1.893703</td>\n",
              "      <td>-1.085271</td>\n",
              "      <td>-1.536425</td>\n",
              "      <td>-0.537900</td>\n",
              "      <td>-0.449044</td>\n",
              "      <td>-0.628553</td>\n",
              "      <td>-0.140314</td>\n",
              "      <td>-0.300801</td>\n",
              "      <td>-0.940011</td>\n",
              "      <td>1.059312</td>\n",
              "      <td>0.465850</td>\n",
              "      <td>0.731269</td>\n",
              "      <td>1.030314</td>\n",
              "      <td>0.316907</td>\n",
              "      <td>-0.207973</td>\n",
              "      <td>-1.107168</td>\n",
              "      <td>-0.687679</td>\n",
              "      <td>1.699193</td>\n",
              "      <td>-0.598530</td>\n",
              "      <td>-0.237757</td>\n",
              "      <td>-0.019323</td>\n",
              "      <td>0.198138</td>\n",
              "      <td>-0.080917</td>\n",
              "      <td>-0.434022</td>\n",
              "      <td>-0.068349</td>\n",
              "      <td>0.787326</td>\n",
              "      <td>-0.089210</td>\n",
              "      <td>-0.051916</td>\n",
              "      <td>154.96</td>\n",
              "      <td>0</td>\n",
              "    </tr>\n",
              "    <tr>\n",
              "      <th>3</th>\n",
              "      <td>19.235278</td>\n",
              "      <td>1.192250</td>\n",
              "      <td>0.100848</td>\n",
              "      <td>-0.031421</td>\n",
              "      <td>0.389255</td>\n",
              "      <td>0.079814</td>\n",
              "      <td>0.089738</td>\n",
              "      <td>-0.179192</td>\n",
              "      <td>0.196251</td>\n",
              "      <td>0.011107</td>\n",
              "      <td>-0.124978</td>\n",
              "      <td>1.017089</td>\n",
              "      <td>0.092346</td>\n",
              "      <td>-1.052719</td>\n",
              "      <td>0.157248</td>\n",
              "      <td>0.839728</td>\n",
              "      <td>0.645836</td>\n",
              "      <td>-0.153389</td>\n",
              "      <td>0.133690</td>\n",
              "      <td>-0.003274</td>\n",
              "      <td>-0.135339</td>\n",
              "      <td>-0.260452</td>\n",
              "      <td>-0.843025</td>\n",
              "      <td>0.065265</td>\n",
              "      <td>-0.743514</td>\n",
              "      <td>0.156290</td>\n",
              "      <td>0.152277</td>\n",
              "      <td>-0.022284</td>\n",
              "      <td>0.009766</td>\n",
              "      <td>14.99</td>\n",
              "      <td>0</td>\n",
              "    </tr>\n",
              "    <tr>\n",
              "      <th>4</th>\n",
              "      <td>21.005833</td>\n",
              "      <td>-2.005869</td>\n",
              "      <td>0.713738</td>\n",
              "      <td>0.498373</td>\n",
              "      <td>0.081422</td>\n",
              "      <td>-0.046166</td>\n",
              "      <td>-0.908075</td>\n",
              "      <td>0.924124</td>\n",
              "      <td>-0.252643</td>\n",
              "      <td>0.447077</td>\n",
              "      <td>0.865249</td>\n",
              "      <td>-0.176447</td>\n",
              "      <td>-0.901155</td>\n",
              "      <td>-1.906699</td>\n",
              "      <td>0.352487</td>\n",
              "      <td>1.105292</td>\n",
              "      <td>-0.478101</td>\n",
              "      <td>0.103360</td>\n",
              "      <td>-0.727786</td>\n",
              "      <td>-0.443202</td>\n",
              "      <td>-0.235509</td>\n",
              "      <td>-0.056398</td>\n",
              "      <td>0.187978</td>\n",
              "      <td>-0.232107</td>\n",
              "      <td>0.402827</td>\n",
              "      <td>-0.496408</td>\n",
              "      <td>0.170558</td>\n",
              "      <td>-0.702661</td>\n",
              "      <td>0.012583</td>\n",
              "      <td>67.60</td>\n",
              "      <td>0</td>\n",
              "    </tr>\n",
              "  </tbody>\n",
              "</table>\n",
              "</div>"
            ],
            "text/plain": [
              "        Time        V1        V2        V3  ...       V27       V28  Amount  Class\n",
              "0  23.426944 -1.412431 -1.206578 -0.110491  ... -0.194204 -0.436328   30.00      0\n",
              "1  20.866111 -1.291937  2.207782 -1.150456  ... -0.674872 -0.215664    0.75      0\n",
              "2  20.243889  1.893703 -1.085271 -1.536425  ... -0.089210 -0.051916  154.96      0\n",
              "3  19.235278  1.192250  0.100848 -0.031421  ... -0.022284  0.009766   14.99      0\n",
              "4  21.005833 -2.005869  0.713738  0.498373  ... -0.702661  0.012583   67.60      0\n",
              "\n",
              "[5 rows x 31 columns]"
            ]
          },
          "metadata": {},
          "execution_count": 63
        }
      ]
    },
    {
      "cell_type": "code",
      "metadata": {
        "colab": {
          "base_uri": "https://localhost:8080/"
        },
        "id": "9iV3CDtuLSKO",
        "outputId": "65d1e06f-1b9e-4b0e-cebe-96b5eb14b740"
      },
      "source": [
        "df['Class'].value_counts()"
      ],
      "execution_count": null,
      "outputs": [
        {
          "output_type": "execute_result",
          "data": {
            "text/plain": [
              "0    2500\n",
              "1     492\n",
              "Name: Class, dtype: int64"
            ]
          },
          "metadata": {},
          "execution_count": 64
        }
      ]
    },
    {
      "cell_type": "code",
      "metadata": {
        "id": "V3PbPdSGnEYZ"
      },
      "source": [
        "# Scaling the data to make it suitable for the auto-encoder\n",
        "X_scaled = MinMaxScaler().fit_transform(X_all)\n",
        "X_zero_scaled = X_scaled[y_all == 0]\n",
        "X_one_scaled = X_scaled[y_all == 1]"
      ],
      "execution_count": null,
      "outputs": []
    },
    {
      "cell_type": "code",
      "metadata": {
        "id": "AN_AeDJrnJFo"
      },
      "source": [
        "# # Scaling the data to make it suitable for the auto-encoder\n",
        "# X_scaled = MinMaxScaler().fit_transform(X)\n",
        "# X_normal_scaled = X_scaled[y == 0]\n",
        "# X_fraud_scaled = X_scaled[y == 1]"
      ],
      "execution_count": null,
      "outputs": []
    },
    {
      "cell_type": "code",
      "metadata": {
        "colab": {
          "base_uri": "https://localhost:8080/",
          "height": 164
        },
        "id": "wU0B7v0lcnuq",
        "outputId": "e344f62f-b7d2-43dd-ea8f-f9d00cebc0e9"
      },
      "source": [
        "X_scaled.head()"
      ],
      "execution_count": null,
      "outputs": [
        {
          "output_type": "error",
          "ename": "AttributeError",
          "evalue": "ignored",
          "traceback": [
            "\u001b[0;31m---------------------------------------------------------------------------\u001b[0m",
            "\u001b[0;31mAttributeError\u001b[0m                            Traceback (most recent call last)",
            "\u001b[0;32m<ipython-input-8-aca90abd1dc3>\u001b[0m in \u001b[0;36m<module>\u001b[0;34m()\u001b[0m\n\u001b[0;32m----> 1\u001b[0;31m \u001b[0mX_scaled\u001b[0m\u001b[0;34m.\u001b[0m\u001b[0mhead\u001b[0m\u001b[0;34m(\u001b[0m\u001b[0;34m)\u001b[0m\u001b[0;34m\u001b[0m\u001b[0;34m\u001b[0m\u001b[0m\n\u001b[0m",
            "\u001b[0;31mAttributeError\u001b[0m: 'numpy.ndarray' object has no attribute 'head'"
          ]
        }
      ]
    },
    {
      "cell_type": "code",
      "metadata": {
        "id": "3yCIrRUpnTKF"
      },
      "source": [
        "# Building the Input Layer\n",
        "input_layer = Input(shape =(X_all.shape[1], ))\n",
        "\n",
        "# Building the Encoder network\n",
        "encoded = Dense(100, activation ='tanh',\n",
        "\t\t\t\tactivity_regularizer = regularizers.l1(10e-5))(input_layer)\n",
        "encoded = Dense(50, activation ='tanh',\n",
        "\t\t\t\tactivity_regularizer = regularizers.l1(10e-5))(encoded)\n",
        "encoded = Dense(25, activation ='tanh',\n",
        "\t\t\t\tactivity_regularizer = regularizers.l1(10e-5))(encoded)\n",
        "encoded = Dense(12, activation ='tanh',\n",
        "\t\t\t\tactivity_regularizer = regularizers.l1(10e-5))(encoded)\n",
        "encoded = Dense(6, activation ='relu')(encoded)\n",
        "\n",
        "# Building the Decoder network\n",
        "decoded = Dense(12, activation ='tanh')(encoded)\n",
        "decoded = Dense(25, activation ='tanh')(decoded)\n",
        "decoded = Dense(50, activation ='tanh')(decoded)\n",
        "decoded = Dense(100, activation ='tanh')(decoded)\n",
        "\n",
        "# Building the Output Layer\n",
        "output_layer = Dense(X_all.shape[1], activation ='relu')(decoded)\n",
        "\n"
      ],
      "execution_count": null,
      "outputs": []
    },
    {
      "cell_type": "code",
      "metadata": {
        "colab": {
          "base_uri": "https://localhost:8080/"
        },
        "id": "QYHSdQp0nVVL",
        "outputId": "f600838a-643b-4e88-c70b-5616d6adfc27"
      },
      "source": [
        "# # Defining the parameters of the Auto-encoder network\n",
        "# autoencoder = Model(input_layer, output_layer)\n",
        "# autoencoder.compile(optimizer =\"adadelta\", loss =\"mse\")\n",
        "  \n",
        "# # Training the Auto-encoder network\n",
        "# autoencoder.fit(X_normal_scaled, X_normal_scaled, \n",
        "#                 batch_size = 16, epochs = 10, \n",
        "#                 shuffle = True, validation_split = 0.20)"
      ],
      "execution_count": null,
      "outputs": [
        {
          "output_type": "stream",
          "name": "stdout",
          "text": [
            "Epoch 1/10\n",
            "125/125 [==============================] - 1s 4ms/step - loss: 0.3192 - val_loss: 0.3146\n",
            "Epoch 2/10\n",
            "125/125 [==============================] - 0s 3ms/step - loss: 0.3076 - val_loss: 0.3015\n",
            "Epoch 3/10\n",
            "125/125 [==============================] - 0s 3ms/step - loss: 0.2941 - val_loss: 0.2882\n",
            "Epoch 4/10\n",
            "125/125 [==============================] - 0s 3ms/step - loss: 0.2814 - val_loss: 0.2758\n",
            "Epoch 5/10\n",
            "125/125 [==============================] - 0s 3ms/step - loss: 0.2683 - val_loss: 0.2619\n",
            "Epoch 6/10\n",
            "125/125 [==============================] - 0s 3ms/step - loss: 0.2546 - val_loss: 0.2487\n",
            "Epoch 7/10\n",
            "125/125 [==============================] - 0s 3ms/step - loss: 0.2419 - val_loss: 0.2366\n",
            "Epoch 8/10\n",
            "125/125 [==============================] - 0s 3ms/step - loss: 0.2304 - val_loss: 0.2256\n",
            "Epoch 9/10\n",
            "125/125 [==============================] - 0s 3ms/step - loss: 0.2196 - val_loss: 0.2144\n",
            "Epoch 10/10\n",
            "125/125 [==============================] - 0s 3ms/step - loss: 0.2080 - val_loss: 0.2032\n"
          ]
        },
        {
          "output_type": "execute_result",
          "data": {
            "text/plain": [
              "<keras.callbacks.History at 0x7faa706ad110>"
            ]
          },
          "metadata": {},
          "execution_count": 70
        }
      ]
    },
    {
      "cell_type": "code",
      "metadata": {
        "colab": {
          "base_uri": "https://localhost:8080/"
        },
        "id": "xItXK2eKdOBl",
        "outputId": "be157fd1-6bfa-419b-9646-9066f3f7ef22"
      },
      "source": [
        "# Defining the parameters of the Auto-encoder network\n",
        "autoencoder = Model(input_layer, output_layer)\n",
        "autoencoder.compile(optimizer =\"adadelta\", loss =\"mse\")\n",
        "  \n",
        "# Training the Auto-encoder network\n",
        "autoencoder.fit(X_zero_scaled, X_zero_scaled, \n",
        "                batch_size = 16, epochs = 10, \n",
        "                shuffle = True, validation_split = 0.20)"
      ],
      "execution_count": null,
      "outputs": [
        {
          "output_type": "stream",
          "name": "stdout",
          "text": [
            "Epoch 1/10\n",
            "522/522 [==============================] - 3s 3ms/step - loss: 0.1257 - val_loss: 0.1146\n",
            "Epoch 2/10\n",
            "522/522 [==============================] - 1s 2ms/step - loss: 0.1129 - val_loss: 0.1015\n",
            "Epoch 3/10\n",
            "522/522 [==============================] - 1s 2ms/step - loss: 0.0983 - val_loss: 0.0886\n",
            "Epoch 4/10\n",
            "522/522 [==============================] - 1s 3ms/step - loss: 0.0850 - val_loss: 0.0789\n",
            "Epoch 5/10\n",
            "522/522 [==============================] - 1s 3ms/step - loss: 0.0748 - val_loss: 0.0731\n",
            "Epoch 6/10\n",
            "522/522 [==============================] - 1s 3ms/step - loss: 0.0681 - val_loss: 0.0702\n",
            "Epoch 7/10\n",
            "522/522 [==============================] - 1s 3ms/step - loss: 0.0639 - val_loss: 0.0692\n",
            "Epoch 8/10\n",
            "522/522 [==============================] - 1s 3ms/step - loss: 0.0615 - val_loss: 0.0691\n",
            "Epoch 9/10\n",
            "522/522 [==============================] - 1s 3ms/step - loss: 0.0600 - val_loss: 0.0693\n",
            "Epoch 10/10\n",
            "522/522 [==============================] - 1s 3ms/step - loss: 0.0590 - val_loss: 0.0696\n"
          ]
        },
        {
          "output_type": "execute_result",
          "data": {
            "text/plain": [
              "<keras.callbacks.History at 0x7f44fb9939d0>"
            ]
          },
          "metadata": {},
          "execution_count": 12
        }
      ]
    },
    {
      "cell_type": "code",
      "metadata": {
        "id": "aaZX9m8HnbJX"
      },
      "source": [
        "hidden_representation = Sequential()\n",
        "hidden_representation.add(autoencoder.layers[0])\n",
        "hidden_representation.add(autoencoder.layers[1])\n",
        "hidden_representation.add(autoencoder.layers[2])\n",
        "hidden_representation.add(autoencoder.layers[3])\n",
        "hidden_representation.add(autoencoder.layers[4])"
      ],
      "execution_count": null,
      "outputs": []
    },
    {
      "cell_type": "code",
      "metadata": {
        "id": "jDjV7grznfe1"
      },
      "source": [
        "# # Separating the points encoded by the Auto-encoder as normal and fraud\n",
        "# normal_hidden_rep = hidden_representation.predict(X_normal_scaled)\n",
        "# fraud_hidden_rep = hidden_representation.predict(X_fraud_scaled)\n",
        "  \n",
        "# # Combining the encoded points into a single table \n",
        "# encoded_X = np.append(normal_hidden_rep, fraud_hidden_rep, axis = 0)\n",
        "# y_normal = np.zeros(normal_hidden_rep.shape[0])\n",
        "# y_fraud = np.ones(fraud_hidden_rep.shape[0])\n",
        "# encoded_y = np.append(y_normal, y_fraud)"
      ],
      "execution_count": null,
      "outputs": []
    },
    {
      "cell_type": "code",
      "metadata": {
        "id": "stSVhzfmdfpu"
      },
      "source": [
        "# Separating the points encoded by the Auto-encoder as normal and fraud\n",
        "normal_hidden_rep = hidden_representation.predict(X_zero_scaled)\n",
        "fraud_hidden_rep = hidden_representation.predict(X_one_scaled)\n",
        "  \n",
        "# Combining the encoded points into a single table \n",
        "encoded_X = np.append(normal_hidden_rep, fraud_hidden_rep, axis = 0)\n",
        "y_normal = np.zeros(normal_hidden_rep.shape[0])\n",
        "y_fraud = np.ones(fraud_hidden_rep.shape[0])\n",
        "encoded_y = np.append(y_normal, y_fraud)"
      ],
      "execution_count": null,
      "outputs": []
    },
    {
      "cell_type": "code",
      "metadata": {
        "id": "7JQ-PMv8nn0W"
      },
      "source": [
        "# Splitting the encoded data for linear classification\n",
        "X_train_encoded, X_test_encoded, y_train_encoded, y_test_encoded = train_test_split(encoded_X, encoded_y, test_size = 0.2,\n",
        "                                                                                    stratify=encoded_y)\n",
        "\n",
        "# Splitting the original data for non-linear classification\n",
        "X_train, X_test, y_train, y_test = train_test_split(X_all, y_all, test_size = 0.2, stratify=y_all)\n",
        "\n"
      ],
      "execution_count": null,
      "outputs": []
    },
    {
      "cell_type": "code",
      "metadata": {
        "colab": {
          "base_uri": "https://localhost:8080/"
        },
        "id": "wysgIlsXeAvu",
        "outputId": "22adeec4-e052-47dc-e5a1-4c66a7093459"
      },
      "source": [
        "lrclf = LogisticRegression()\n",
        "lrclf.fit(X_train_encoded, y_train_encoded)\n",
        "  \n",
        "# Storing the predictions of the linear model\n",
        "y_pred_lrclf = lrclf.predict(X_test_encoded)\n",
        "  \n",
        "# Evaluating the performance of the linear model\n",
        "print('Accuracy : '+str(accuracy_score(y_test_encoded, y_pred_lrclf)))\n",
        "print(f1_score(y_test_encoded, y_pred_lrclf))\n",
        "print(confusion_matrix(y_test_encoded, y_pred_lrclf))"
      ],
      "execution_count": null,
      "outputs": [
        {
          "output_type": "stream",
          "name": "stdout",
          "text": [
            "Accuracy : 0.8442822384428224\n",
            "0.035175879396984924\n",
            "[[2075    9]\n",
            " [ 375    7]]\n"
          ]
        }
      ]
    },
    {
      "cell_type": "code",
      "metadata": {
        "colab": {
          "base_uri": "https://localhost:8080/"
        },
        "id": "dc3Q1aDBel_5",
        "outputId": "6e86813a-4061-41bc-9544-0c37dbe83073"
      },
      "source": [
        "lrclf = LogisticRegression()\n",
        "lrclf.fit(X_train, y_train)\n",
        "  \n",
        "# Storing the predictions of the linear model\n",
        "y_pred_lrclf = lrclf.predict(X_test)\n",
        "  \n",
        "# Evaluating the performance of the linear model\n",
        "print('Accuracy : '+str(accuracy_score(y_test, y_pred_lrclf)))\n",
        "print(f1_score(y_test, y_pred_lrclf))"
      ],
      "execution_count": null,
      "outputs": [
        {
          "output_type": "stream",
          "name": "stdout",
          "text": [
            "Accuracy : 0.8896999188969992\n",
            "0.5160142348754448\n"
          ]
        },
        {
          "output_type": "stream",
          "name": "stderr",
          "text": [
            "/usr/local/lib/python3.7/dist-packages/sklearn/linear_model/_logistic.py:818: ConvergenceWarning: lbfgs failed to converge (status=1):\n",
            "STOP: TOTAL NO. of ITERATIONS REACHED LIMIT.\n",
            "\n",
            "Increase the number of iterations (max_iter) or scale the data as shown in:\n",
            "    https://scikit-learn.org/stable/modules/preprocessing.html\n",
            "Please also refer to the documentation for alternative solver options:\n",
            "    https://scikit-learn.org/stable/modules/linear_model.html#logistic-regression\n",
            "  extra_warning_msg=_LOGISTIC_SOLVER_CONVERGENCE_MSG,\n"
          ]
        }
      ]
    },
    {
      "cell_type": "code",
      "metadata": {
        "colab": {
          "base_uri": "https://localhost:8080/"
        },
        "id": "up4a2XB0nqJh",
        "outputId": "13e48775-0d09-4440-b2c4-62d9ebef1c30"
      },
      "source": [
        "# Building the SVM model\n",
        "svmclf = SVC()\n",
        "svmclf.fit(X_train, y_train)\n",
        "  \n",
        "# Storing the predictions of the non-linear model\n",
        "y_pred_svmclf = svmclf.predict(X_test)\n",
        "  \n",
        "# Evaluating the performance of the non-linear model\n",
        "print('Accuracy : '+str(accuracy_score(y_test, y_pred_svmclf)))\n",
        "print(f1_score(y_test, y_pred_svmclf))"
      ],
      "execution_count": null,
      "outputs": [
        {
          "output_type": "stream",
          "name": "stdout",
          "text": [
            "Accuracy : 0.8483373884833739\n",
            "0.041025641025641026\n"
          ]
        }
      ]
    },
    {
      "cell_type": "code",
      "metadata": {
        "id": "rfGJaGggnt1G",
        "colab": {
          "base_uri": "https://localhost:8080/"
        },
        "outputId": "d8971768-94d5-46fe-f43c-bae20fb880cf"
      },
      "source": [
        "pd.DataFrame(y_train_encoded).value_counts()"
      ],
      "execution_count": null,
      "outputs": [
        {
          "output_type": "execute_result",
          "data": {
            "text/plain": [
              "0.0    8355\n",
              "1.0    1509\n",
              "dtype: int64"
            ]
          },
          "metadata": {},
          "execution_count": 23
        }
      ]
    },
    {
      "cell_type": "code",
      "metadata": {
        "id": "h4gMJhjneW6l"
      },
      "source": [
        ""
      ],
      "execution_count": null,
      "outputs": []
    }
  ]
}