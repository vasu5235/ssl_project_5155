{
  "nbformat": 4,
  "nbformat_minor": 0,
  "metadata": {
    "colab": {
      "name": "ML-Project_2.ipynb",
      "provenance": [],
      "collapsed_sections": []
    },
    "kernelspec": {
      "display_name": "Python 3",
      "name": "python3"
    },
    "language_info": {
      "name": "python"
    }
  },
  "cells": [
    {
      "cell_type": "code",
      "metadata": {
        "id": "aemZQqDQJoF_"
      },
      "source": [
        "# Import necessary modules\n",
        "\n",
        "import numpy as np\n",
        "import pandas as pd\n",
        "import matplotlib.pyplot as plt\n",
        "import seaborn as sns\n",
        "import missingno\n",
        "from sklearn.model_selection import train_test_split\n",
        "from sklearn.utils import resample\n",
        "from sklearn.preprocessing import Normalizer\n",
        "from sklearn.tree import DecisionTreeClassifier\n",
        "from sklearn.ensemble import RandomForestClassifier\n",
        "from sklearn import svm\n",
        "from sklearn.neighbors import KNeighborsClassifier\n",
        "from sklearn.semi_supervised import LabelPropagation, LabelSpreading\n",
        "from sklearn.cluster import KMeans\n",
        "\n",
        "from sklearn.model_selection import KFold\n",
        "from sklearn.metrics import roc_curve, auc, confusion_matrix, mean_squared_error, ConfusionMatrixDisplay\n",
        "from sklearn.metrics import classification_report, accuracy_score, f1_score, log_loss, recall_score, precision_score\n",
        "from sklearn.model_selection import ShuffleSplit, cross_val_score, GridSearchCV\n",
        "from imblearn.over_sampling import SMOTE\n",
        "from imblearn.under_sampling import RandomUnderSampler\n",
        "np.random.seed(5)\n",
        "import time\n",
        "plt.style.use('seaborn')"
      ],
      "execution_count": null,
      "outputs": []
    },
    {
      "cell_type": "markdown",
      "metadata": {
        "id": "8zsmWTtBJqbr"
      },
      "source": [
        "# **Load the Preprocessed Data**\n"
      ]
    },
    {
      "cell_type": "code",
      "metadata": {
        "id": "3Q94WzmlJzB8"
      },
      "source": [
        "df = pd.read_csv('processed_heart.csv')"
      ],
      "execution_count": null,
      "outputs": []
    },
    {
      "cell_type": "code",
      "metadata": {
        "colab": {
          "base_uri": "https://localhost:8080/"
        },
        "id": "uAJqhDlZKLwj",
        "outputId": "630302c5-60d3-47c5-8e2d-4b944fd707c1"
      },
      "source": [
        "# Check the shape of dataset\n",
        "\n",
        "print(df.shape)"
      ],
      "execution_count": null,
      "outputs": [
        {
          "output_type": "stream",
          "name": "stdout",
          "text": [
            "(303, 23)\n"
          ]
        }
      ]
    },
    {
      "cell_type": "code",
      "metadata": {
        "colab": {
          "base_uri": "https://localhost:8080/"
        },
        "id": "Zrh7FiOxntj1",
        "outputId": "9d678a00-6568-4ab2-8324-62081fbbd023"
      },
      "source": [
        "# Information of data\n",
        "\n",
        "df.info()"
      ],
      "execution_count": null,
      "outputs": [
        {
          "output_type": "stream",
          "name": "stdout",
          "text": [
            "<class 'pandas.core.frame.DataFrame'>\n",
            "RangeIndex: 303 entries, 0 to 302\n",
            "Data columns (total 23 columns):\n",
            " #   Column    Non-Null Count  Dtype  \n",
            "---  ------    --------------  -----  \n",
            " 0   age       302 non-null    float64\n",
            " 1   sex       302 non-null    float64\n",
            " 2   trestbps  302 non-null    float64\n",
            " 3   chol      302 non-null    float64\n",
            " 4   fbs       302 non-null    float64\n",
            " 5   restecg   302 non-null    float64\n",
            " 6   thalach   302 non-null    float64\n",
            " 7   exang     302 non-null    float64\n",
            " 8   oldpeak   302 non-null    float64\n",
            " 9   slope     302 non-null    float64\n",
            " 10  target    302 non-null    float64\n",
            " 11  cp_0      302 non-null    float64\n",
            " 12  cp_1      302 non-null    float64\n",
            " 13  cp_2      302 non-null    float64\n",
            " 14  cp_3      302 non-null    float64\n",
            " 15  ca_0      302 non-null    float64\n",
            " 16  ca_1      302 non-null    float64\n",
            " 17  ca_2      302 non-null    float64\n",
            " 18  ca_3      302 non-null    float64\n",
            " 19  ca_4      302 non-null    float64\n",
            " 20  thal_0    302 non-null    float64\n",
            " 21  thal_1    302 non-null    float64\n",
            " 22  thal_2    302 non-null    float64\n",
            "dtypes: float64(23)\n",
            "memory usage: 54.6 KB\n"
          ]
        }
      ]
    },
    {
      "cell_type": "code",
      "metadata": {
        "colab": {
          "base_uri": "https://localhost:8080/",
          "height": 226
        },
        "id": "duWO7UHaKS1V",
        "outputId": "15f6b41a-603c-451d-f126-ddf950c2ea14"
      },
      "source": [
        "# print data\n",
        "\n",
        "df.head()"
      ],
      "execution_count": null,
      "outputs": [
        {
          "output_type": "execute_result",
          "data": {
            "text/html": [
              "<div>\n",
              "<style scoped>\n",
              "    .dataframe tbody tr th:only-of-type {\n",
              "        vertical-align: middle;\n",
              "    }\n",
              "\n",
              "    .dataframe tbody tr th {\n",
              "        vertical-align: top;\n",
              "    }\n",
              "\n",
              "    .dataframe thead th {\n",
              "        text-align: right;\n",
              "    }\n",
              "</style>\n",
              "<table border=\"1\" class=\"dataframe\">\n",
              "  <thead>\n",
              "    <tr style=\"text-align: right;\">\n",
              "      <th></th>\n",
              "      <th>age</th>\n",
              "      <th>sex</th>\n",
              "      <th>trestbps</th>\n",
              "      <th>chol</th>\n",
              "      <th>fbs</th>\n",
              "      <th>restecg</th>\n",
              "      <th>thalach</th>\n",
              "      <th>exang</th>\n",
              "      <th>oldpeak</th>\n",
              "      <th>slope</th>\n",
              "      <th>target</th>\n",
              "      <th>cp_0</th>\n",
              "      <th>cp_1</th>\n",
              "      <th>cp_2</th>\n",
              "      <th>cp_3</th>\n",
              "      <th>ca_0</th>\n",
              "      <th>ca_1</th>\n",
              "      <th>ca_2</th>\n",
              "      <th>ca_3</th>\n",
              "      <th>ca_4</th>\n",
              "      <th>thal_0</th>\n",
              "      <th>thal_1</th>\n",
              "      <th>thal_2</th>\n",
              "    </tr>\n",
              "  </thead>\n",
              "  <tbody>\n",
              "    <tr>\n",
              "      <th>0</th>\n",
              "      <td>0.708333</td>\n",
              "      <td>1.0</td>\n",
              "      <td>0.481132</td>\n",
              "      <td>0.244292</td>\n",
              "      <td>1.0</td>\n",
              "      <td>0.0</td>\n",
              "      <td>0.603053</td>\n",
              "      <td>0.0</td>\n",
              "      <td>0.370968</td>\n",
              "      <td>0.0</td>\n",
              "      <td>1.0</td>\n",
              "      <td>0.0</td>\n",
              "      <td>0.0</td>\n",
              "      <td>0.0</td>\n",
              "      <td>1.0</td>\n",
              "      <td>1.0</td>\n",
              "      <td>0.0</td>\n",
              "      <td>0.0</td>\n",
              "      <td>0.0</td>\n",
              "      <td>0.0</td>\n",
              "      <td>0.0</td>\n",
              "      <td>1.0</td>\n",
              "      <td>0.0</td>\n",
              "    </tr>\n",
              "    <tr>\n",
              "      <th>1</th>\n",
              "      <td>0.166667</td>\n",
              "      <td>1.0</td>\n",
              "      <td>0.339623</td>\n",
              "      <td>0.283105</td>\n",
              "      <td>0.0</td>\n",
              "      <td>1.0</td>\n",
              "      <td>0.885496</td>\n",
              "      <td>0.0</td>\n",
              "      <td>0.564516</td>\n",
              "      <td>0.0</td>\n",
              "      <td>1.0</td>\n",
              "      <td>0.0</td>\n",
              "      <td>0.0</td>\n",
              "      <td>1.0</td>\n",
              "      <td>0.0</td>\n",
              "      <td>1.0</td>\n",
              "      <td>0.0</td>\n",
              "      <td>0.0</td>\n",
              "      <td>0.0</td>\n",
              "      <td>0.0</td>\n",
              "      <td>0.0</td>\n",
              "      <td>0.0</td>\n",
              "      <td>1.0</td>\n",
              "    </tr>\n",
              "    <tr>\n",
              "      <th>2</th>\n",
              "      <td>0.250000</td>\n",
              "      <td>2.0</td>\n",
              "      <td>0.339623</td>\n",
              "      <td>0.178082</td>\n",
              "      <td>0.0</td>\n",
              "      <td>0.0</td>\n",
              "      <td>0.770992</td>\n",
              "      <td>0.0</td>\n",
              "      <td>0.225806</td>\n",
              "      <td>1.0</td>\n",
              "      <td>1.0</td>\n",
              "      <td>0.0</td>\n",
              "      <td>1.0</td>\n",
              "      <td>0.0</td>\n",
              "      <td>0.0</td>\n",
              "      <td>1.0</td>\n",
              "      <td>0.0</td>\n",
              "      <td>0.0</td>\n",
              "      <td>0.0</td>\n",
              "      <td>0.0</td>\n",
              "      <td>0.0</td>\n",
              "      <td>0.0</td>\n",
              "      <td>1.0</td>\n",
              "    </tr>\n",
              "    <tr>\n",
              "      <th>3</th>\n",
              "      <td>0.562500</td>\n",
              "      <td>1.0</td>\n",
              "      <td>0.245283</td>\n",
              "      <td>0.251142</td>\n",
              "      <td>0.0</td>\n",
              "      <td>1.0</td>\n",
              "      <td>0.816794</td>\n",
              "      <td>0.0</td>\n",
              "      <td>0.129032</td>\n",
              "      <td>1.0</td>\n",
              "      <td>1.0</td>\n",
              "      <td>0.0</td>\n",
              "      <td>1.0</td>\n",
              "      <td>0.0</td>\n",
              "      <td>0.0</td>\n",
              "      <td>1.0</td>\n",
              "      <td>0.0</td>\n",
              "      <td>0.0</td>\n",
              "      <td>0.0</td>\n",
              "      <td>0.0</td>\n",
              "      <td>0.0</td>\n",
              "      <td>0.0</td>\n",
              "      <td>1.0</td>\n",
              "    </tr>\n",
              "    <tr>\n",
              "      <th>4</th>\n",
              "      <td>0.583333</td>\n",
              "      <td>2.0</td>\n",
              "      <td>0.245283</td>\n",
              "      <td>0.520548</td>\n",
              "      <td>0.0</td>\n",
              "      <td>1.0</td>\n",
              "      <td>0.702290</td>\n",
              "      <td>1.0</td>\n",
              "      <td>0.096774</td>\n",
              "      <td>1.0</td>\n",
              "      <td>1.0</td>\n",
              "      <td>1.0</td>\n",
              "      <td>0.0</td>\n",
              "      <td>0.0</td>\n",
              "      <td>0.0</td>\n",
              "      <td>1.0</td>\n",
              "      <td>0.0</td>\n",
              "      <td>0.0</td>\n",
              "      <td>0.0</td>\n",
              "      <td>0.0</td>\n",
              "      <td>0.0</td>\n",
              "      <td>0.0</td>\n",
              "      <td>1.0</td>\n",
              "    </tr>\n",
              "  </tbody>\n",
              "</table>\n",
              "</div>"
            ],
            "text/plain": [
              "        age  sex  trestbps      chol  fbs  ...  ca_3  ca_4  thal_0  thal_1  thal_2\n",
              "0  0.708333  1.0  0.481132  0.244292  1.0  ...   0.0   0.0     0.0     1.0     0.0\n",
              "1  0.166667  1.0  0.339623  0.283105  0.0  ...   0.0   0.0     0.0     0.0     1.0\n",
              "2  0.250000  2.0  0.339623  0.178082  0.0  ...   0.0   0.0     0.0     0.0     1.0\n",
              "3  0.562500  1.0  0.245283  0.251142  0.0  ...   0.0   0.0     0.0     0.0     1.0\n",
              "4  0.583333  2.0  0.245283  0.520548  0.0  ...   0.0   0.0     0.0     0.0     1.0\n",
              "\n",
              "[5 rows x 23 columns]"
            ]
          },
          "metadata": {},
          "execution_count": 26
        }
      ]
    },
    {
      "cell_type": "code",
      "metadata": {
        "id": "N9I-rIWR6dv9"
      },
      "source": [
        "# Separate the test dataset into target label and feature variables\n",
        "\n",
        "X = df.drop('target', axis = 1)\n",
        "y = df['target']"
      ],
      "execution_count": null,
      "outputs": []
    },
    {
      "cell_type": "code",
      "metadata": {
        "colab": {
          "base_uri": "https://localhost:8080/",
          "height": 226
        },
        "id": "pTC4yCbj_yMv",
        "outputId": "733b3c98-c004-491a-d890-6fd1a25bd139"
      },
      "source": [
        "X.head()"
      ],
      "execution_count": null,
      "outputs": [
        {
          "output_type": "execute_result",
          "data": {
            "text/html": [
              "<div>\n",
              "<style scoped>\n",
              "    .dataframe tbody tr th:only-of-type {\n",
              "        vertical-align: middle;\n",
              "    }\n",
              "\n",
              "    .dataframe tbody tr th {\n",
              "        vertical-align: top;\n",
              "    }\n",
              "\n",
              "    .dataframe thead th {\n",
              "        text-align: right;\n",
              "    }\n",
              "</style>\n",
              "<table border=\"1\" class=\"dataframe\">\n",
              "  <thead>\n",
              "    <tr style=\"text-align: right;\">\n",
              "      <th></th>\n",
              "      <th>age</th>\n",
              "      <th>sex</th>\n",
              "      <th>trestbps</th>\n",
              "      <th>chol</th>\n",
              "      <th>fbs</th>\n",
              "      <th>restecg</th>\n",
              "      <th>thalach</th>\n",
              "      <th>exang</th>\n",
              "      <th>oldpeak</th>\n",
              "      <th>slope</th>\n",
              "      <th>cp_0</th>\n",
              "      <th>cp_1</th>\n",
              "      <th>cp_2</th>\n",
              "      <th>cp_3</th>\n",
              "      <th>ca_0</th>\n",
              "      <th>ca_1</th>\n",
              "      <th>ca_2</th>\n",
              "      <th>ca_3</th>\n",
              "      <th>ca_4</th>\n",
              "      <th>thal_0</th>\n",
              "      <th>thal_1</th>\n",
              "      <th>thal_2</th>\n",
              "    </tr>\n",
              "  </thead>\n",
              "  <tbody>\n",
              "    <tr>\n",
              "      <th>0</th>\n",
              "      <td>0.708333</td>\n",
              "      <td>1.0</td>\n",
              "      <td>0.481132</td>\n",
              "      <td>0.244292</td>\n",
              "      <td>1.0</td>\n",
              "      <td>0.0</td>\n",
              "      <td>0.603053</td>\n",
              "      <td>0.0</td>\n",
              "      <td>0.370968</td>\n",
              "      <td>0.0</td>\n",
              "      <td>0.0</td>\n",
              "      <td>0.0</td>\n",
              "      <td>0.0</td>\n",
              "      <td>1.0</td>\n",
              "      <td>1.0</td>\n",
              "      <td>0.0</td>\n",
              "      <td>0.0</td>\n",
              "      <td>0.0</td>\n",
              "      <td>0.0</td>\n",
              "      <td>0.0</td>\n",
              "      <td>1.0</td>\n",
              "      <td>0.0</td>\n",
              "    </tr>\n",
              "    <tr>\n",
              "      <th>1</th>\n",
              "      <td>0.166667</td>\n",
              "      <td>1.0</td>\n",
              "      <td>0.339623</td>\n",
              "      <td>0.283105</td>\n",
              "      <td>0.0</td>\n",
              "      <td>1.0</td>\n",
              "      <td>0.885496</td>\n",
              "      <td>0.0</td>\n",
              "      <td>0.564516</td>\n",
              "      <td>0.0</td>\n",
              "      <td>0.0</td>\n",
              "      <td>0.0</td>\n",
              "      <td>1.0</td>\n",
              "      <td>0.0</td>\n",
              "      <td>1.0</td>\n",
              "      <td>0.0</td>\n",
              "      <td>0.0</td>\n",
              "      <td>0.0</td>\n",
              "      <td>0.0</td>\n",
              "      <td>0.0</td>\n",
              "      <td>0.0</td>\n",
              "      <td>1.0</td>\n",
              "    </tr>\n",
              "    <tr>\n",
              "      <th>2</th>\n",
              "      <td>0.250000</td>\n",
              "      <td>2.0</td>\n",
              "      <td>0.339623</td>\n",
              "      <td>0.178082</td>\n",
              "      <td>0.0</td>\n",
              "      <td>0.0</td>\n",
              "      <td>0.770992</td>\n",
              "      <td>0.0</td>\n",
              "      <td>0.225806</td>\n",
              "      <td>1.0</td>\n",
              "      <td>0.0</td>\n",
              "      <td>1.0</td>\n",
              "      <td>0.0</td>\n",
              "      <td>0.0</td>\n",
              "      <td>1.0</td>\n",
              "      <td>0.0</td>\n",
              "      <td>0.0</td>\n",
              "      <td>0.0</td>\n",
              "      <td>0.0</td>\n",
              "      <td>0.0</td>\n",
              "      <td>0.0</td>\n",
              "      <td>1.0</td>\n",
              "    </tr>\n",
              "    <tr>\n",
              "      <th>3</th>\n",
              "      <td>0.562500</td>\n",
              "      <td>1.0</td>\n",
              "      <td>0.245283</td>\n",
              "      <td>0.251142</td>\n",
              "      <td>0.0</td>\n",
              "      <td>1.0</td>\n",
              "      <td>0.816794</td>\n",
              "      <td>0.0</td>\n",
              "      <td>0.129032</td>\n",
              "      <td>1.0</td>\n",
              "      <td>0.0</td>\n",
              "      <td>1.0</td>\n",
              "      <td>0.0</td>\n",
              "      <td>0.0</td>\n",
              "      <td>1.0</td>\n",
              "      <td>0.0</td>\n",
              "      <td>0.0</td>\n",
              "      <td>0.0</td>\n",
              "      <td>0.0</td>\n",
              "      <td>0.0</td>\n",
              "      <td>0.0</td>\n",
              "      <td>1.0</td>\n",
              "    </tr>\n",
              "    <tr>\n",
              "      <th>4</th>\n",
              "      <td>0.583333</td>\n",
              "      <td>2.0</td>\n",
              "      <td>0.245283</td>\n",
              "      <td>0.520548</td>\n",
              "      <td>0.0</td>\n",
              "      <td>1.0</td>\n",
              "      <td>0.702290</td>\n",
              "      <td>1.0</td>\n",
              "      <td>0.096774</td>\n",
              "      <td>1.0</td>\n",
              "      <td>1.0</td>\n",
              "      <td>0.0</td>\n",
              "      <td>0.0</td>\n",
              "      <td>0.0</td>\n",
              "      <td>1.0</td>\n",
              "      <td>0.0</td>\n",
              "      <td>0.0</td>\n",
              "      <td>0.0</td>\n",
              "      <td>0.0</td>\n",
              "      <td>0.0</td>\n",
              "      <td>0.0</td>\n",
              "      <td>1.0</td>\n",
              "    </tr>\n",
              "  </tbody>\n",
              "</table>\n",
              "</div>"
            ],
            "text/plain": [
              "        age  sex  trestbps      chol  fbs  ...  ca_3  ca_4  thal_0  thal_1  thal_2\n",
              "0  0.708333  1.0  0.481132  0.244292  1.0  ...   0.0   0.0     0.0     1.0     0.0\n",
              "1  0.166667  1.0  0.339623  0.283105  0.0  ...   0.0   0.0     0.0     0.0     1.0\n",
              "2  0.250000  2.0  0.339623  0.178082  0.0  ...   0.0   0.0     0.0     0.0     1.0\n",
              "3  0.562500  1.0  0.245283  0.251142  0.0  ...   0.0   0.0     0.0     0.0     1.0\n",
              "4  0.583333  2.0  0.245283  0.520548  0.0  ...   0.0   0.0     0.0     0.0     1.0\n",
              "\n",
              "[5 rows x 22 columns]"
            ]
          },
          "metadata": {},
          "execution_count": 28
        }
      ]
    },
    {
      "cell_type": "markdown",
      "metadata": {
        "id": "05l3jx1U-ksh"
      },
      "source": [
        "# **Machine Learning Models**"
      ]
    },
    {
      "cell_type": "markdown",
      "metadata": {
        "id": "zE5wrHpz_eXF"
      },
      "source": [
        "### Split the data into Train, Test and Unlabelled data"
      ]
    },
    {
      "cell_type": "code",
      "metadata": {
        "id": "hma-14TqAeXP"
      },
      "source": [
        "df = pd.concat([X, y], axis=1)"
      ],
      "execution_count": null,
      "outputs": []
    },
    {
      "cell_type": "code",
      "metadata": {
        "colab": {
          "base_uri": "https://localhost:8080/"
        },
        "id": "SpKB9JBmApa0",
        "outputId": "070ebec1-b0bf-4cff-c5e0-997fc7dfceaa"
      },
      "source": [
        "df.info()"
      ],
      "execution_count": null,
      "outputs": [
        {
          "output_type": "stream",
          "name": "stdout",
          "text": [
            "<class 'pandas.core.frame.DataFrame'>\n",
            "RangeIndex: 303 entries, 0 to 302\n",
            "Data columns (total 23 columns):\n",
            " #   Column    Non-Null Count  Dtype  \n",
            "---  ------    --------------  -----  \n",
            " 0   age       302 non-null    float64\n",
            " 1   sex       302 non-null    float64\n",
            " 2   trestbps  302 non-null    float64\n",
            " 3   chol      302 non-null    float64\n",
            " 4   fbs       302 non-null    float64\n",
            " 5   restecg   302 non-null    float64\n",
            " 6   thalach   302 non-null    float64\n",
            " 7   exang     302 non-null    float64\n",
            " 8   oldpeak   302 non-null    float64\n",
            " 9   slope     302 non-null    float64\n",
            " 10  cp_0      302 non-null    float64\n",
            " 11  cp_1      302 non-null    float64\n",
            " 12  cp_2      302 non-null    float64\n",
            " 13  cp_3      302 non-null    float64\n",
            " 14  ca_0      302 non-null    float64\n",
            " 15  ca_1      302 non-null    float64\n",
            " 16  ca_2      302 non-null    float64\n",
            " 17  ca_3      302 non-null    float64\n",
            " 18  ca_4      302 non-null    float64\n",
            " 19  thal_0    302 non-null    float64\n",
            " 20  thal_1    302 non-null    float64\n",
            " 21  thal_2    302 non-null    float64\n",
            " 22  target    302 non-null    float64\n",
            "dtypes: float64(23)\n",
            "memory usage: 54.6 KB\n"
          ]
        }
      ]
    },
    {
      "cell_type": "code",
      "metadata": {
        "id": "md8hUIIh4gOj"
      },
      "source": [
        "# Assign data to train, test, and unlabeled sets\n",
        "\n",
        "def reset_holdout_splits(X,y, unlabelled_size,holdout_test_size=0.2): \n",
        "\n",
        "  X_holdout, X_unlabelled, y_holdout, y_unlabelled = train_test_split(X, y, \n",
        "                                                                     test_size=unlabelled_size, random_state=1, stratify=y)\n",
        "\n",
        "  X_train, X_test, y_train, y_test = train_test_split(X_holdout, y_holdout, test_size=holdout_test_size,\n",
        "                                                      random_state=1, stratify=y_holdout)\n",
        "\n",
        "  return X_train, y_train, X_test, y_test, X_unlabelled\n"
      ],
      "execution_count": null,
      "outputs": []
    },
    {
      "cell_type": "markdown",
      "metadata": {
        "id": "tW1oiqV3zvax"
      },
      "source": [
        "### Self-Training Function"
      ]
    },
    {
      "cell_type": "code",
      "metadata": {
        "id": "KXj53dFN5L7Z"
      },
      "source": [
        "def selfTraining(clf, X_train, y_train, X_unlabelled, X_test, y_test, confidence_score, auto_balancing=False): \n",
        "    # Initiate iteration counter\n",
        "    iterations = 0\n",
        "\n",
        "    # Containers to hold f1_scores and # of pseudo-labels\n",
        "    test_accuracy = []\n",
        "    train_f1s = []\n",
        "    test_f1s = []\n",
        "    pseudo_labels = []\n",
        "\n",
        "    # Assign value to initiate while loop\n",
        "    high_prob = [1]\n",
        "\n",
        "    # Loop will run until there are no more high-probability pseudo-labels\n",
        "    while len(high_prob) > 0:\n",
        "            \n",
        "        # Fit classifier and make train/test predictions\n",
        "        clf.fit(X_train, y_train)\n",
        "        y_hat_train = clf.predict(X_train)\n",
        "        y_hat_test = clf.predict(X_test)\n",
        "\n",
        "        # Calculate and print iteration # and f1 scores, and store f1 scores\n",
        "        test_acc = accuracy_score(y_test, y_hat_test)\n",
        "        train_f1 = f1_score(y_train, y_hat_train)\n",
        "        test_f1 = f1_score(y_test, y_hat_test)\n",
        "        print(f\"Iteration {iterations}\")\n",
        "        print(f\"Test Accuracy: {test_acc}\")\n",
        "        print(f\"Train f1: {train_f1}\")\n",
        "        print(f\"Test f1: {test_f1}\")\n",
        "        train_f1s.append(train_f1)\n",
        "        test_f1s.append(test_f1)\n",
        "        test_accuracy.append(test_acc)\n",
        "    \n",
        "        # Generate predictions and probabilities for unlabeled data\n",
        "        print(f\"Now predicting labels for unlabeled data...\")\n",
        "\n",
        "        pred_probs = clf.predict_proba(X_unlabelled)\n",
        "        preds = clf.predict(X_unlabelled)\n",
        "        prob_0 = pred_probs[:,0]\n",
        "        prob_1 = pred_probs[:,1]\n",
        "\n",
        "        # Store predictions and probabilities in dataframe\n",
        "        df_pred_prob = pd.DataFrame([])\n",
        "        df_pred_prob['preds'] = preds\n",
        "        df_pred_prob['prob_0'] = prob_0\n",
        "        df_pred_prob['prob_1'] = prob_1\n",
        "        df_pred_prob.index = X_unlabelled.index\n",
        "        \n",
        "        # Separate predictions with > 99% probability\n",
        "        high_prob = pd.concat([df_pred_prob.loc[df_pred_prob['prob_0'] > confidence_score],\n",
        "                            df_pred_prob.loc[df_pred_prob['prob_1'] > confidence_score]],\n",
        "                            axis=0)\n",
        "        \n",
        "        print(f\"{len(high_prob)} high-probability predictions added to training data.\")\n",
        "        \n",
        "        pseudo_labels.append(len(high_prob))\n",
        "\n",
        "        # Add pseudo-labeled data to training data\n",
        "        X_train = pd.concat([X_train, X_unlabelled.loc[high_prob.index]], axis=0)\n",
        "        y_train = pd.concat([y_train, high_prob.preds])      \n",
        "        \n",
        "        if auto_balancing:\n",
        "          merged_df = pd.concat([X_train, y_train], axis=1)\n",
        "          zero_count = len(y_train[y_train == 0])\n",
        "          one_count = len(y_train[y_train == 1])\n",
        "\n",
        "          is_balanced_data = False\n",
        "          if zero_count == one_count:\n",
        "            is_balanced_data = True\n",
        "          \n",
        "          if not(is_balanced_data):\n",
        "            sampler = SMOTE(sampling_strategy=1)\n",
        "            X_train, y_train = sampler.fit_resample(X_train, y_train)\n",
        "\n",
        "        # Drop pseudo-labeled instances from unlabeled data\n",
        "        X_unlabelled = X_unlabelled.drop(index=high_prob.index)\n",
        "        print(f\"{len(X_unlabelled)} unlabeled instances remaining.\\n\")\n",
        "        \n",
        "        # Update iteration counter\n",
        "        iterations += 1\n",
        "\n",
        "    fpr_clf, tpr_clf, thresholds_clf = roc_curve(y_test, y_hat_test)\n",
        "    roc_auc_clf = auc(fpr_clf, tpr_clf)\n",
        "\n",
        "    roc_auc_params = [fpr_clf, tpr_clf, roc_auc_clf]\n",
        "    return test_accuracy, test_f1s, roc_auc_params"
      ],
      "execution_count": null,
      "outputs": []
    },
    {
      "cell_type": "markdown",
      "metadata": {
        "id": "K_2Sd5ANzz4j"
      },
      "source": [
        "### Co-Training Function"
      ]
    },
    {
      "cell_type": "code",
      "metadata": {
        "id": "8WXzYMyo55TZ"
      },
      "source": [
        "def coTraining(clf1, clf2, view1, view2, X_train, y_train, X_unlabelled, X_test, y_test, confidence_score, auto_balancing=False):\n",
        "    # Initiate iteration counter\n",
        "    iterations = 0\n",
        "\n",
        "    # Containers to hold f1_scores and # of pseudo-labels\n",
        "    test_accuracy = {0: [], 1:[]}\n",
        "\n",
        "    train_f1s = {0: [],1: []}\n",
        "\n",
        "    test_f1s = {0: [],1: []}\n",
        "\n",
        "    pseudo_labels = []\n",
        "\n",
        "    # Assign value to initiate while loop\n",
        "    high_prob = [1]\n",
        "\n",
        "    # cotraining classifiers \n",
        "    clfs = [clf1, clf2]\n",
        "    # Loop will run until there are no more high-probability pseudo-labels\n",
        "    while len(high_prob) > 0:\n",
        "        \n",
        "        # Fit classifier and make train/test predictions\n",
        "        for i in [0,1]: \n",
        "\n",
        "            clf = clfs[i]\n",
        "\n",
        "            if i == 0:\n",
        "                X_train = X_train[view1]\n",
        "                X_test = X_test[view1]\n",
        "                X_unlabelled = X_unlabelled[view1]\n",
        "            else: \n",
        "                X_train = X_train[view2]\n",
        "                X_test = X_test[view2]\n",
        "                X_unlabelled = X_unlabelled[view2]\n",
        "            \n",
        "            clf.fit(X_train, y_train)\n",
        "\n",
        "            y_hat_train = clf.predict(X_train)\n",
        "            y_hat_test = clf.predict(X_test)\n",
        "\n",
        "            # Calculate and print iteration # and f1 scores, and store f1 scores\n",
        "            test_acc = accuracy_score(y_test, y_hat_test)\n",
        "            train_f1 = f1_score(y_train, y_hat_train)\n",
        "            test_f1 = f1_score(y_test, y_hat_test)\n",
        "            print(f\"Iteration {iterations}, Classifier: {i}\")\n",
        "            print(f\"Clf: {i}: Test Accuracy: {test_acc}\")\n",
        "            print(f\"Clf: {i}: Train f1: {train_f1}\")\n",
        "            print(f\"Clf: {i}: Test f1: {test_f1}\")\n",
        "            test_accuracy[i].append(test_acc)\n",
        "            train_f1s[i].append(train_f1)\n",
        "            test_f1s[i].append(test_f1)\n",
        "            \n",
        "            # Generate predictions and probabilities for unlabeled data\n",
        "            print(f\"Now predicting labels for unlabeled data...\")\n",
        "\n",
        "            pred_probs = clf.predict_proba(X_unlabelled)\n",
        "            preds = clf.predict(X_unlabelled)\n",
        "            prob_0 = pred_probs[:,0]\n",
        "            prob_1 = pred_probs[:,1]\n",
        "\n",
        "            # Store predictions and probabilities in dataframe\n",
        "            df_pred_prob = pd.DataFrame([])\n",
        "            df_pred_prob['preds'] = preds\n",
        "            df_pred_prob['prob_0'] = prob_0\n",
        "            df_pred_prob['prob_1'] = prob_1\n",
        "            df_pred_prob.index = X_unlabelled.index\n",
        "            \n",
        "            # Separate predictions with > 99% probability\n",
        "            high_prob = pd.concat([df_pred_prob.loc[df_pred_prob['prob_0'] > confidence_score],\n",
        "                                    df_pred_prob.loc[df_pred_prob['prob_1'] > confidence_score]],\n",
        "                                    axis=0)\n",
        "            \n",
        "            print(f\"{len(high_prob)} high-probability predictions added to training data.\")\n",
        "            \n",
        "            pseudo_labels.append(len(high_prob))\n",
        "\n",
        "            # Add pseudo-labeled data to training data\n",
        "            X_train = pd.concat([X_train, X_unlabelled.loc[high_prob.index]], axis=0)\n",
        "            y_train = pd.concat([y_train, high_prob.preds])  \n",
        "\n",
        "            if auto_balancing:\n",
        "              merged_df = pd.concat([X_train, y_train], axis=1)\n",
        "              zero_count = len(y_train[y_train == 0])\n",
        "              one_count = len(y_train[y_train == 1])\n",
        "\n",
        "              is_balanced_data = False\n",
        "              if zero_count == one_count:\n",
        "                is_balanced_data = True\n",
        "                \n",
        "              if not(is_balanced_data):\n",
        "                sampler = SMOTE(sampling_strategy=1)\n",
        "                X_train, y_train = sampler.fit_resample(X_train, y_train)\n",
        "            \n",
        "            # Drop pseudo-labeled instances from unlabeled data\n",
        "            X_unlabelled = X_unlabelled.drop(index=high_prob.index)\n",
        "            print(f\"{len(X_unlabelled)} unlabeled instances remaining.\\n\")\n",
        "            \n",
        "            if (len(high_prob) == 0):\n",
        "              break\n",
        "            # Update iteration counter\n",
        "            iterations += 1\n",
        "\n",
        "    fpr_clf, tpr_clf, thresholds_clf = roc_curve(y_test, y_hat_test)\n",
        "    roc_auc_clf = auc(fpr_clf, tpr_clf)\n",
        "\n",
        "    roc_auc_params = [fpr_clf, tpr_clf, roc_auc_clf]\n",
        "    return test_accuracy, test_f1s, roc_auc_params"
      ],
      "execution_count": null,
      "outputs": []
    },
    {
      "cell_type": "markdown",
      "metadata": {
        "id": "nCnYacmVv1ua"
      },
      "source": [
        "### Boosting function (Assemble)"
      ]
    },
    {
      "cell_type": "code",
      "metadata": {
        "id": "6a9dYdmevzjl"
      },
      "source": [
        "def boosting_assemble(clf, X_train, y_train, X_unlabelled, X_test, y_test, margin, auto_balancing=False): \n",
        "    # Initiate iteration counter\n",
        "    iterations = 0\n",
        "\n",
        "    # Containers to hold f1_scores and # of pseudo-labels\n",
        "    test_accuracy = []\n",
        "    train_f1s = []\n",
        "    test_f1s = []\n",
        "    pseudo_labels = []\n",
        "\n",
        "    # Assign value to initiate while loop\n",
        "    high_prob = [1]\n",
        "\n",
        "    # Loop will run until there are no more high-probability pseudo-labels\n",
        "    while len(high_prob) > 0:\n",
        "            \n",
        "        # Fit classifier and make train/test predictions\n",
        "        clf = clf.fit(X_train,y_train)\n",
        "        \n",
        "        y_hat_train = clf.predict(X_train)\n",
        "        y_hat_test = clf.predict(X_test)\n",
        "\n",
        "        # Calculate and print iteration # and f1 scores, and store f1 scores\n",
        "        test_acc = accuracy_score(y_test, y_hat_test)\n",
        "        train_f1 = f1_score(y_train, y_hat_train)\n",
        "        test_f1 = f1_score(y_test, y_hat_test)\n",
        "        print(f\"Iteration {iterations}\")\n",
        "        print(f\"Test Accuracy: {test_acc}\")\n",
        "        print(f\"Train f1: {train_f1}\")\n",
        "        print(f\"Test f1: {test_f1}\")\n",
        "        test_accuracy.append(test_acc)\n",
        "        train_f1s.append(train_f1)\n",
        "        test_f1s.append(test_f1)\n",
        "    \n",
        "        # Generate predictions and probabilities for unlabeled data\n",
        "        print(f\"Now predicting labels for unlabeled data...\")\n",
        "\n",
        "        pred_probs = clf.predict_proba(X_unlabelled)\n",
        "        preds = clf.predict(X_unlabelled)\n",
        "        prob_0 = pred_probs[:,0]\n",
        "        prob_1 = pred_probs[:,1]\n",
        "\n",
        "        # Store predictions and probabilities in dataframe\n",
        "        df_pred_prob = pd.DataFrame([])\n",
        "        df_pred_prob['preds'] = preds\n",
        "        df_pred_prob['prob_0'] = prob_0\n",
        "        df_pred_prob['prob_1'] = prob_1\n",
        "        df_pred_prob.index = X_unlabelled.index\n",
        "        \n",
        "        # Separate predictions with > 99% probability\n",
        "        high_prob = pd.concat([df_pred_prob.loc[df_pred_prob['prob_0'] > margin],\n",
        "                            df_pred_prob.loc[df_pred_prob['prob_1'] > margin]],\n",
        "                            axis=0)\n",
        "        \n",
        "        print(f\"{len(high_prob)} high-probability predictions added to training data.\")\n",
        "        \n",
        "        pseudo_labels.append(len(high_prob))\n",
        "\n",
        "        # Add pseudo-labeled data to training data\n",
        "        X_train =  pd.concat([X_train, X_unlabelled.loc[high_prob.index]], axis=0)\n",
        "        y_train = pd.concat([y_train, high_prob.preds]) \n",
        "        \n",
        "        if auto_balancing:\n",
        "          merged_df = pd.concat([X_train, y_train], axis=1)\n",
        "          zero_count = len(y_train[y_train == 0])\n",
        "          one_count = len(y_train[y_train == 1])\n",
        "\n",
        "          is_balanced_data = False\n",
        "          if zero_count == one_count:\n",
        "            is_balanced_data = True\n",
        "        \n",
        "          if not(is_balanced_data):\n",
        "            sampler = SMOTE(sampling_strategy=1)\n",
        "            X_train, y_train = sampler.fit_resample(X_train, y_train)\n",
        "\n",
        "        # Drop pseudo-labeled instances from unlabeled data\n",
        "        X_unlabelled = X_unlabelled.drop(index=high_prob.index)\n",
        "        print(f\"{len(X_unlabelled)} unlabeled instances remaining.\\n\")\n",
        "        \n",
        "        # Update iteration counter\n",
        "        iterations += 1\n",
        "\n",
        "    fpr_clf, tpr_clf, thresholds_clf = roc_curve(y_test, y_hat_test)\n",
        "    roc_auc_clf = auc(fpr_clf, tpr_clf)\n",
        "\n",
        "    roc_auc_params = [fpr_clf, tpr_clf, roc_auc_clf]\n",
        "    return test_accuracy, test_f1s, roc_auc_params"
      ],
      "execution_count": null,
      "outputs": []
    },
    {
      "cell_type": "markdown",
      "metadata": {
        "id": "u4Jx3tL3hKXv"
      },
      "source": [
        "### Unsupervised Clustering/Pre-processing function"
      ]
    },
    {
      "cell_type": "code",
      "metadata": {
        "id": "YQI8H78GhKX5"
      },
      "source": [
        "def unsupervised_labelling (clf, X_train, y_train, X_unlabelled, X_test, y_test, confidence_score, auto_balancing=False): \n",
        "    iterations = 0\n",
        "\n",
        "    # Containers to hold f1_scores and # of pseudo-labels\n",
        "    test_accuracy = []\n",
        "    train_f1s = []\n",
        "    test_f1s = []\n",
        "    pseudo_labels = []\n",
        "\n",
        "    # Assign value to initiate while loop\n",
        "    high_prob = [1]\n",
        "\n",
        "    X_combined = pd.concat([X_train, X_test])\n",
        "    y_combined = pd.concat([y_train, y_test])\n",
        "    y_combined.reset_index(drop=True, inplace=True)\n",
        "\n",
        "    kmeans = KMeans(n_clusters=2)\n",
        "    kmeans.fit(X_combined)\n",
        "\n",
        "    X_new_feature = kmeans.labels_\n",
        "    X_new_feature = pd.DataFrame(X_new_feature,columns=['cluster'])\n",
        "    \n",
        "    X_combined.reset_index(drop=True,inplace=True)\n",
        "    X_new_feature.reset_index(drop=True,inplace=True)\n",
        "\n",
        "    X_new = pd.concat([X_combined, X_new_feature],axis=1)\n",
        "    \n",
        "    Unlabelled_new_feature = kmeans.predict(X_unlabelled)\n",
        "    Unlabelled_new_feature = pd.DataFrame(Unlabelled_new_feature, columns=['cluster'])\n",
        "    X_unlabelled.reset_index(drop=True,inplace=True)\n",
        "    Unlabelled_new_feature.reset_index(drop=True,inplace=True)\n",
        "\n",
        "    X_unlabelled = pd.concat([X_unlabelled, Unlabelled_new_feature],axis=1)\n",
        "\n",
        "    print(f\"{X_new.shape} {y_combined.shape}\")\n",
        "    X_train, X_test, y_train, y_test = train_test_split(X_new, y_combined, test_size=0.1, stratify=y_combined)\n",
        "    \n",
        "    # Loop will run until there are no more high-probability pseudo-labels\n",
        "    while len(high_prob) > 0:\n",
        "            \n",
        "        # Fit classifier and make train/test predictions\n",
        "        clf.fit(X_train, y_train)\n",
        "        y_hat_train = clf.predict(X_train)\n",
        "        y_hat_test = clf.predict(X_test)\n",
        "\n",
        "        # Calculate and print iteration # and f1 scores, and store f1 scores\n",
        "        test_acc = accuracy_score(y_test, y_hat_test)\n",
        "        train_f1 = f1_score(y_train, y_hat_train)\n",
        "        test_f1 = f1_score(y_test, y_hat_test)\n",
        "        print(f\"Iteration {iterations}\")\n",
        "        print(f\"Test Accuracy: {test_acc}\")\n",
        "        print(f\"Train f1: {train_f1}\")\n",
        "        print(f\"Test f1: {test_f1}\")\n",
        "        train_f1s.append(train_f1)\n",
        "        test_f1s.append(test_f1)\n",
        "        test_accuracy.append(test_acc)\n",
        "\n",
        "        # Generate predictions and probabilities for unlabeled data\n",
        "        print(f\"Now predicting labels for unlabeled data...\")\n",
        "\n",
        "        pred_probs = clf.predict_proba(X_unlabelled)\n",
        "        preds = clf.predict(X_unlabelled)\n",
        "        prob_0 = pred_probs[:,0]\n",
        "        prob_1 = pred_probs[:,1]\n",
        "\n",
        "        # Store predictions and probabilities in dataframe\n",
        "        df_pred_prob = pd.DataFrame([])\n",
        "        df_pred_prob['preds'] = preds\n",
        "        df_pred_prob['prob_0'] = prob_0\n",
        "        df_pred_prob['prob_1'] = prob_1\n",
        "        df_pred_prob.index = X_unlabelled.index\n",
        "        \n",
        "        # Separate predictions with > 99% probability\n",
        "        high_prob = pd.concat([df_pred_prob.loc[df_pred_prob['prob_0'] > confidence_score],\n",
        "                            df_pred_prob.loc[df_pred_prob['prob_1'] > confidence_score]],\n",
        "                            axis=0)\n",
        "        \n",
        "        print(f\"{len(high_prob)} high-probability predictions added to training data.\")\n",
        "        \n",
        "        pseudo_labels.append(len(high_prob))\n",
        "\n",
        "        # Add pseudo-labeled data to training data\n",
        "        X_train = pd.concat([X_train, X_unlabelled.loc[high_prob.index]], axis=0)\n",
        "        y_train = pd.concat([y_train, high_prob.preds])      \n",
        "        \n",
        "        if auto_balancing:\n",
        "          print(\"doing balancing\")\n",
        "          merged_df = pd.concat([X_train, y_train], axis=1)\n",
        "          zero_count = len(y_train[y_train == 0])\n",
        "          one_count = len(y_train[y_train == 1])\n",
        "\n",
        "          is_balanced_data = False\n",
        "          if zero_count == one_count:\n",
        "            is_balanced_data = True\n",
        "          \n",
        "          if not(is_balanced_data):\n",
        "            print(\"applying smote\")\n",
        "            sampler = SMOTE(sampling_strategy=1)\n",
        "            X_train, y_train = sampler.fit_resample(X_train, y_train)\n",
        "\n",
        "        # Drop pseudo-labeled instances from unlabeled data\n",
        "        X_unlabelled = X_unlabelled.drop(index=high_prob.index)\n",
        "        print(f\"{len(X_unlabelled)} unlabeled instances remaining.\\n\")\n",
        "        \n",
        "        # Update iteration counter\n",
        "        iterations += 1\n",
        "\n",
        "    fpr_clf, tpr_clf, thresholds_clf = roc_curve(y_test, y_hat_test)\n",
        "    roc_auc_clf = auc(fpr_clf, tpr_clf)\n",
        "\n",
        "    roc_auc_params = [fpr_clf, tpr_clf, roc_auc_clf]\n",
        "    return test_accuracy, test_f1s, roc_auc_params"
      ],
      "execution_count": null,
      "outputs": []
    },
    {
      "cell_type": "markdown",
      "metadata": {
        "id": "uvOndApWWmgm"
      },
      "source": [
        "# 1. 100% labelled data - Fully Supervised learning - Imbalanced"
      ]
    },
    {
      "cell_type": "markdown",
      "metadata": {
        "id": "IEo9DAkq-Vh_"
      },
      "source": [
        "### Random Forest - Imbalanced"
      ]
    },
    {
      "cell_type": "code",
      "source": [
        "print(np.any(np.isnan(X)))\n",
        "print(np.all(np.isfinite(X)))\n",
        "print(np.any(np.isnan(y)))\n",
        "print(np.all(np.isfinite(y)))"
      ],
      "metadata": {
        "colab": {
          "base_uri": "https://localhost:8080/"
        },
        "id": "v0OqyOhEHCh0",
        "outputId": "4d0759d0-dbd4-4bf2-8ce1-b343bafeb2be"
      },
      "execution_count": null,
      "outputs": [
        {
          "output_type": "stream",
          "name": "stdout",
          "text": [
            "True\n",
            "False\n",
            "True\n",
            "False\n"
          ]
        }
      ]
    },
    {
      "cell_type": "code",
      "source": [
        "X.fillna(0,inplace=True)\n",
        "y.fillna(0,inplace=True)"
      ],
      "metadata": {
        "id": "-E4NFDEFIBFL"
      },
      "execution_count": null,
      "outputs": []
    },
    {
      "cell_type": "code",
      "source": [
        "print(np.any(np.isnan(X)))\n",
        "print(np.all(np.isfinite(X)))\n",
        "print(np.any(np.isnan(y)))\n",
        "print(np.all(np.isfinite(y)))"
      ],
      "metadata": {
        "colab": {
          "base_uri": "https://localhost:8080/"
        },
        "id": "9OxyGV9iICtx",
        "outputId": "498ef130-f421-4862-a192-66b11d5bb998"
      },
      "execution_count": null,
      "outputs": [
        {
          "output_type": "stream",
          "name": "stdout",
          "text": [
            "False\n",
            "True\n",
            "False\n",
            "True\n"
          ]
        }
      ]
    },
    {
      "cell_type": "code",
      "metadata": {
        "id": "srR3Ga5w6PIU"
      },
      "source": [
        "X_train, X_test, y_train, y_test = train_test_split(X, y, test_size=0.3, random_state=1, stratify=y)"
      ],
      "execution_count": null,
      "outputs": []
    },
    {
      "cell_type": "code",
      "metadata": {
        "colab": {
          "base_uri": "https://localhost:8080/",
          "height": 367
        },
        "id": "3Rdx2M4M6cUX",
        "outputId": "fc7d127e-7f66-4f60-f69e-0011429b9e24"
      },
      "source": [
        "print(y_train.hist())"
      ],
      "execution_count": null,
      "outputs": [
        {
          "output_type": "stream",
          "name": "stdout",
          "text": [
            "AxesSubplot(0.125,0.125;0.775x0.755)\n"
          ]
        },
        {
          "output_type": "display_data",
          "data": {
            "image/png": "[encoded data removed]",
            "text/plain": [
              "<Figure size 576x396 with 1 Axes>"
            ]
          },
          "metadata": {}
        }
      ]
    },
    {
      "cell_type": "code",
      "metadata": {
        "id": "cks5UZCz2NF5",
        "colab": {
          "base_uri": "https://localhost:8080/"
        },
        "outputId": "638af3d1-bb99-47e6-db3b-f672df4a1cfb"
      },
      "source": [
        "# Random Forest Classifier for Binary classification\n",
        "%%time\n",
        "param_grid = {'n_estimators':[22,33,111,251],\n",
        "              'min_samples_split': [2,3,4,5,6],\n",
        "              'min_samples_leaf': [1,2,3,4],\n",
        "              'max_depth': [5, 7, 9],\n",
        "              'n_jobs': [-1]}\n",
        "\n",
        "# Random Forest Classifier\n",
        "rfc = RandomForestClassifier()\n",
        "grid_rfc = GridSearchCV(rfc, param_grid, scoring=\"f1\", cv=5, return_train_score=False)\n",
        "grid_rfc.fit(X_train, y_train)\n",
        "pred_rfc = grid_rfc.predict(X_test)\n",
        "\n",
        "# calculate and display our base accuracy\n",
        "acc_score = accuracy_score(y_test, pred_rfc)\n",
        "rfc_score = f1_score (y_test, pred_rfc)\n",
        "print(\"Accuracy-Score: %s\" % acc_score)\n",
        "print(\"F1-Score: %s\" % rfc_score)\n",
        "\n",
        "# print classification report \n",
        "print(classification_report(y_test, pred_rfc))"
      ],
      "execution_count": null,
      "outputs": [
        {
          "output_type": "stream",
          "name": "stdout",
          "text": [
            "Accuracy-Score: 0.8681318681318682\n",
            "F1-Score: 0.8799999999999999\n",
            "              precision    recall  f1-score   support\n",
            "\n",
            "         0.0       0.88      0.83      0.85        42\n",
            "         1.0       0.86      0.90      0.88        49\n",
            "\n",
            "    accuracy                           0.87        91\n",
            "   macro avg       0.87      0.87      0.87        91\n",
            "weighted avg       0.87      0.87      0.87        91\n",
            "\n",
            "CPU times: user 3min 39s, sys: 10.1 s, total: 3min 49s\n",
            "Wall time: 6min 49s\n"
          ]
        }
      ]
    },
    {
      "cell_type": "code",
      "metadata": {
        "id": "0uB_Q8VO8vq4",
        "colab": {
          "base_uri": "https://localhost:8080/"
        },
        "outputId": "f34433ea-f78b-409f-e350-956126cba01d"
      },
      "source": [
        "print(grid_rfc.best_params_)"
      ],
      "execution_count": null,
      "outputs": [
        {
          "output_type": "stream",
          "name": "stdout",
          "text": [
            "{'max_depth': 9, 'min_samples_leaf': 3, 'min_samples_split': 3, 'n_estimators': 22, 'n_jobs': -1}\n"
          ]
        }
      ]
    },
    {
      "cell_type": "code",
      "metadata": {
        "id": "DnRQ-8df9vYd",
        "colab": {
          "base_uri": "https://localhost:8080/"
        },
        "outputId": "62f610ef-8403-48d9-900e-15d2a1cad5ec"
      },
      "source": [
        "%%time\n",
        "# {'max_depth': 9, 'min_samples_leaf': 3, 'min_samples_split': 3, 'n_estimators': 22, 'n_jobs': -1}\n",
        "rfc = RandomForestClassifier(n_estimators=22, max_depth=9, min_samples_leaf=3, min_samples_split=3, n_jobs=-1)\n",
        "rfc.fit(X_train, y_train)\n",
        "pred_rfc = rfc.predict(X_test)\n",
        "\n",
        "# calculate and display our base accuracy\n",
        "rfc_f1_score = f1_score(y_test, pred_rfc)\n",
        "rfc_acc_score = accuracy_score(y_test, pred_rfc)\n",
        "print(\"F1-Score: %s\" % rfc_f1_score)\n",
        "print(\"Accuracy-Score: %s\" % rfc_acc_score)\n",
        "\n",
        "# print classification report \n",
        "print(classification_report(y_test, pred_rfc))"
      ],
      "execution_count": null,
      "outputs": [
        {
          "output_type": "stream",
          "name": "stdout",
          "text": [
            "F1-Score: 0.9090909090909091\n",
            "Accuracy-Score: 0.9010989010989011\n",
            "              precision    recall  f1-score   support\n",
            "\n",
            "         0.0       0.90      0.88      0.89        42\n",
            "         1.0       0.90      0.92      0.91        49\n",
            "\n",
            "    accuracy                           0.90        91\n",
            "   macro avg       0.90      0.90      0.90        91\n",
            "weighted avg       0.90      0.90      0.90        91\n",
            "\n",
            "CPU times: user 75.4 ms, sys: 8.25 ms, total: 83.6 ms\n",
            "Wall time: 232 ms\n"
          ]
        }
      ]
    },
    {
      "cell_type": "code",
      "source": [
        "fpr_imb, tpr_imb, thresholds_imb = roc_curve(y_test, pred_rfc)\n",
        "roc_auc_imb = auc(fpr_imb, tpr_imb)"
      ],
      "metadata": {
        "id": "_dUoj9J8AIM8"
      },
      "execution_count": null,
      "outputs": []
    },
    {
      "cell_type": "markdown",
      "metadata": {
        "id": "vCg-T67w-MWK"
      },
      "source": [
        "### Random Forest - Balanced"
      ]
    },
    {
      "cell_type": "code",
      "metadata": {
        "id": "DnCKBkVA-Z1n",
        "colab": {
          "base_uri": "https://localhost:8080/"
        },
        "outputId": "1606af43-c705-4fbd-e6ca-68527b3223cb"
      },
      "source": [
        "smt = SMOTE(sampling_strategy=1.0)\n",
        "X_train_sampled, y_train_sampled = smt.fit_resample(X_train, y_train)\n",
        "np.bincount(y_train_sampled)"
      ],
      "execution_count": null,
      "outputs": [
        {
          "output_type": "execute_result",
          "data": {
            "text/plain": [
              "array([115, 115])"
            ]
          },
          "metadata": {},
          "execution_count": 53
        }
      ]
    },
    {
      "cell_type": "code",
      "metadata": {
        "id": "1fR-4spm-ilq"
      },
      "source": [
        "X_train_sampled = pd.DataFrame(X_train_sampled)\n",
        "y_train_sampled = pd.DataFrame(y_train_sampled)"
      ],
      "execution_count": null,
      "outputs": []
    },
    {
      "cell_type": "code",
      "metadata": {
        "colab": {
          "base_uri": "https://localhost:8080/",
          "height": 397
        },
        "id": "ulP1PbwuK92y",
        "outputId": "159b72e0-a578-47e9-b6a4-a2ec8114906c"
      },
      "source": [
        "y_train_sampled.hist()"
      ],
      "execution_count": null,
      "outputs": [
        {
          "output_type": "execute_result",
          "data": {
            "text/plain": [
              "array([[<matplotlib.axes._subplots.AxesSubplot object at 0x7fa81ed6d210>]],\n",
              "      dtype=object)"
            ]
          },
          "metadata": {},
          "execution_count": 55
        },
        {
          "output_type": "display_data",
          "data": {
            "image/png": "[encoded data removed]",
            "text/plain": [
              "<Figure size 576x396 with 1 Axes>"
            ]
          },
          "metadata": {}
        }
      ]
    },
    {
      "cell_type": "code",
      "metadata": {
        "id": "oEsEUrMo-m4d",
        "colab": {
          "base_uri": "https://localhost:8080/"
        },
        "outputId": "954e072b-1445-4bb9-e1c9-79ac11e2d29c"
      },
      "source": [
        "y_train_temp = y_train_sampled.values\n",
        "y_train_sampled = np.ravel(y_train_temp)\n",
        "y_train_sampled.shape"
      ],
      "execution_count": null,
      "outputs": [
        {
          "output_type": "execute_result",
          "data": {
            "text/plain": [
              "(230,)"
            ]
          },
          "metadata": {},
          "execution_count": 56
        }
      ]
    },
    {
      "cell_type": "code",
      "metadata": {
        "id": "-wneK54u-3vy",
        "colab": {
          "base_uri": "https://localhost:8080/"
        },
        "outputId": "db5f3fa4-c1ab-4977-a237-ccdf027f5162"
      },
      "source": [
        "%%time\n",
        "rfc = RandomForestClassifier(n_estimators=22, max_depth=9, min_samples_leaf=3, min_samples_split=3, n_jobs=-1)\n",
        "rfc.fit(X_train_sampled, y_train_sampled)\n",
        "pred_rfc = rfc.predict(X_test)\n",
        "\n",
        "# calculate and display our base accuracy\n",
        "rfc_f1_score = f1_score(y_test, pred_rfc)\n",
        "rfc_acc_score = accuracy_score(y_test, pred_rfc)\n",
        "print(\"F1-Score: %s\" % rfc_f1_score)\n",
        "print(\"Accuracy Score: %s\"%rfc_acc_score)\n",
        "\n",
        "# print classification report \n",
        "print(classification_report(y_test, pred_rfc))"
      ],
      "execution_count": null,
      "outputs": [
        {
          "output_type": "stream",
          "name": "stdout",
          "text": [
            "F1-Score: 0.9072164948453607\n",
            "Accuracy Score: 0.9010989010989011\n",
            "              precision    recall  f1-score   support\n",
            "\n",
            "         0.0       0.88      0.90      0.89        42\n",
            "         1.0       0.92      0.90      0.91        49\n",
            "\n",
            "    accuracy                           0.90        91\n",
            "   macro avg       0.90      0.90      0.90        91\n",
            "weighted avg       0.90      0.90      0.90        91\n",
            "\n",
            "CPU times: user 71 ms, sys: 7.46 ms, total: 78.4 ms\n",
            "Wall time: 230 ms\n"
          ]
        }
      ]
    },
    {
      "cell_type": "code",
      "source": [
        "fpr_bal, tpr_bal, thresholds_bal = roc_curve(y_test, pred_rfc)\n",
        "roc_auc_bal = auc(fpr_bal, tpr_bal)"
      ],
      "metadata": {
        "id": "NReA7pAOAY1p"
      },
      "execution_count": null,
      "outputs": []
    },
    {
      "cell_type": "markdown",
      "metadata": {
        "id": "0L4szAMN1D-C"
      },
      "source": [
        "# 2. 10% unlabelled, 90% labelled data "
      ]
    },
    {
      "cell_type": "markdown",
      "metadata": {
        "id": "EwyUw3mY47Cz"
      },
      "source": [
        "### Self Training - Imbalanced"
      ]
    },
    {
      "cell_type": "code",
      "metadata": {
        "colab": {
          "base_uri": "https://localhost:8080/"
        },
        "id": "O-krvwB24mkj",
        "outputId": "7ee2faac-fb8f-4782-ff67-8612a3962f5e"
      },
      "source": [
        "%%time \n",
        "X_train, y_train, X_test, y_test, X_unlabelled = reset_holdout_splits(X,y,unlabelled_size=0.1, holdout_test_size=0.2)\n",
        "\n",
        "clf = RandomForestClassifier(n_estimators=22, max_depth=9, min_samples_leaf=3, min_samples_split=3, n_jobs=-1)\n",
        "confidence_score = 0.95\n",
        "st_acc_10_imb, st_f1_10_imb, st_10_imb_roc = selfTraining(clf, X_train, y_train, \n",
        "                                                             X_unlabelled, X_test, y_test, confidence_score)"
      ],
      "execution_count": null,
      "outputs": [
        {
          "output_type": "stream",
          "name": "stdout",
          "text": [
            "Iteration 0\n",
            "Test Accuracy: 0.8909090909090909\n",
            "Train f1: 0.9572649572649573\n",
            "Test f1: 0.90625\n",
            "Now predicting labels for unlabeled data...\n",
            "5 high-probability predictions added to training data.\n",
            "26 unlabeled instances remaining.\n",
            "\n",
            "Iteration 1\n",
            "Test Accuracy: 0.8363636363636363\n",
            "Train f1: 0.9586776859504132\n",
            "Test f1: 0.8615384615384616\n",
            "Now predicting labels for unlabeled data...\n",
            "0 high-probability predictions added to training data.\n",
            "26 unlabeled instances remaining.\n",
            "\n",
            "CPU times: user 233 ms, sys: 32.1 ms, total: 265 ms\n",
            "Wall time: 1.11 s\n"
          ]
        }
      ]
    },
    {
      "cell_type": "markdown",
      "metadata": {
        "id": "_A61j_Nbx9Uq"
      },
      "source": [
        "### Self Training - Balanced"
      ]
    },
    {
      "cell_type": "code",
      "metadata": {
        "colab": {
          "base_uri": "https://localhost:8080/"
        },
        "id": "UkDtmDnWyCHy",
        "outputId": "8719e7c9-220b-4333-a9ed-9e767bb552b9"
      },
      "source": [
        "%%time\n",
        "X_train, y_train, X_test, y_test, X_unlabelled = reset_holdout_splits(X,y,unlabelled_size=0.1, holdout_test_size=0.2)\n",
        "\n",
        "clf = RandomForestClassifier(n_estimators=22, max_depth=9, min_samples_leaf=3, min_samples_split=3, n_jobs=-1)\n",
        "confidence_score = 0.95\n",
        "st_acc_10_bal, st_f1_10_bal, st_10_bal_roc = selfTraining(clf, X_train, y_train, X_unlabelled,\n",
        "                                                             X_test, y_test, confidence_score, auto_balancing=True)"
      ],
      "execution_count": null,
      "outputs": [
        {
          "output_type": "stream",
          "name": "stdout",
          "text": [
            "Iteration 0\n",
            "Test Accuracy: 0.9090909090909091\n",
            "Train f1: 0.9658119658119658\n",
            "Test f1: 0.9206349206349207\n",
            "Now predicting labels for unlabeled data...\n",
            "1 high-probability predictions added to training data.\n",
            "30 unlabeled instances remaining.\n",
            "\n",
            "Iteration 1\n",
            "Test Accuracy: 0.8363636363636363\n",
            "Train f1: 0.9495798319327732\n",
            "Test f1: 0.8615384615384616\n",
            "Now predicting labels for unlabeled data...\n",
            "2 high-probability predictions added to training data.\n",
            "28 unlabeled instances remaining.\n",
            "\n",
            "Iteration 2\n",
            "Test Accuracy: 0.8909090909090909\n",
            "Train f1: 0.9620253164556962\n",
            "Test f1: 0.9032258064516129\n",
            "Now predicting labels for unlabeled data...\n",
            "1 high-probability predictions added to training data.\n",
            "27 unlabeled instances remaining.\n",
            "\n",
            "Iteration 3\n",
            "Test Accuracy: 0.8727272727272727\n",
            "Train f1: 0.9583333333333334\n",
            "Test f1: 0.888888888888889\n",
            "Now predicting labels for unlabeled data...\n",
            "0 high-probability predictions added to training data.\n",
            "27 unlabeled instances remaining.\n",
            "\n",
            "CPU times: user 527 ms, sys: 244 ms, total: 771 ms\n",
            "Wall time: 2.25 s\n"
          ]
        }
      ]
    },
    {
      "cell_type": "markdown",
      "metadata": {
        "id": "V2JR8EvY5-Tw"
      },
      "source": [
        "### Co-Training - Imbalanced"
      ]
    },
    {
      "cell_type": "code",
      "metadata": {
        "colab": {
          "base_uri": "https://localhost:8080/"
        },
        "id": "UOwdA2bq4mdb",
        "outputId": "3b3c03f2-69d8-4bce-b0c4-08bc5c6bdc89"
      },
      "source": [
        "%%time\n",
        "X_train, y_train, X_test, y_test, X_unlabelled = reset_holdout_splits(X,y,unlabelled_size=0.1, holdout_test_size=0.2)\n",
        "\n",
        "clf1 = svm.SVC(probability=True, C=10, gamma=1, kernel='rbf')\n",
        "clf2 = RandomForestClassifier(n_estimators=22, max_depth=9, min_samples_leaf=3, min_samples_split=3, n_jobs=-1)\n",
        "\n",
        "view1 = X.columns\n",
        "view2 = X.columns\n",
        "\n",
        "confidence_score = 0.95\n",
        "\n",
        "ct_acc_10_imb, ct_f1_10_imb, ct_10_imb_roc = coTraining(clf1, clf2, view1, view2, X_train,\n",
        "                                                       y_train, X_unlabelled, X_test, y_test, confidence_score)"
      ],
      "execution_count": null,
      "outputs": [
        {
          "output_type": "stream",
          "name": "stdout",
          "text": [
            "Iteration 0, Classifier: 0\n",
            "Clf: 0: Test Accuracy: 0.8545454545454545\n",
            "Clf: 0: Train f1: 1.0\n",
            "Clf: 0: Test f1: 0.870967741935484\n",
            "Now predicting labels for unlabeled data...\n",
            "8 high-probability predictions added to training data.\n",
            "23 unlabeled instances remaining.\n",
            "\n",
            "Iteration 1, Classifier: 1\n",
            "Clf: 1: Test Accuracy: 0.8545454545454545\n",
            "Clf: 1: Train f1: 0.9551020408163264\n",
            "Clf: 1: Test f1: 0.870967741935484\n",
            "Now predicting labels for unlabeled data...\n",
            "0 high-probability predictions added to training data.\n",
            "23 unlabeled instances remaining.\n",
            "\n",
            "CPU times: user 177 ms, sys: 8.2 ms, total: 185 ms\n",
            "Wall time: 601 ms\n"
          ]
        }
      ]
    },
    {
      "cell_type": "markdown",
      "metadata": {
        "id": "iOigVOi_0PHV"
      },
      "source": [
        "### Co-Training - Balanced"
      ]
    },
    {
      "cell_type": "code",
      "metadata": {
        "colab": {
          "base_uri": "https://localhost:8080/"
        },
        "id": "BXzPnLoD0SZB",
        "outputId": "5947b461-61f6-4c0f-e0f4-2e1a5153256d"
      },
      "source": [
        "%%time\n",
        "X_train, y_train, X_test, y_test, X_unlabelled = reset_holdout_splits(X,y,unlabelled_size=0.1, holdout_test_size=0.2)\n",
        "\n",
        "clf1 = svm.SVC(probability=True, C=10, gamma=1, kernel='rbf')\n",
        "clf2 = RandomForestClassifier(n_estimators=22, max_depth=9, min_samples_leaf=3, min_samples_split=3, n_jobs=-1)\n",
        "\n",
        "view1 = X.columns\n",
        "view2 = X.columns\n",
        "\n",
        "confidence_score = 0.95\n",
        "\n",
        "ct_acc_10_bal, ct_f1_10_bal, ct_10_bal_roc = coTraining(clf1, clf2, view1, view2, X_train, y_train, \n",
        "                                                       X_unlabelled, X_test, y_test, confidence_score,\n",
        "                                                       auto_balancing=True)"
      ],
      "execution_count": null,
      "outputs": [
        {
          "output_type": "stream",
          "name": "stdout",
          "text": [
            "Iteration 0, Classifier: 0\n",
            "Clf: 0: Test Accuracy: 0.8545454545454545\n",
            "Clf: 0: Train f1: 1.0\n",
            "Clf: 0: Test f1: 0.870967741935484\n",
            "Now predicting labels for unlabeled data...\n",
            "7 high-probability predictions added to training data.\n",
            "24 unlabeled instances remaining.\n",
            "\n",
            "Iteration 1, Classifier: 1\n",
            "Clf: 1: Test Accuracy: 0.8181818181818182\n",
            "Clf: 1: Train f1: 0.9512195121951219\n",
            "Clf: 1: Test f1: 0.84375\n",
            "Now predicting labels for unlabeled data...\n",
            "1 high-probability predictions added to training data.\n",
            "23 unlabeled instances remaining.\n",
            "\n",
            "Iteration 2, Classifier: 0\n",
            "Clf: 0: Test Accuracy: 0.8545454545454545\n",
            "Clf: 0: Train f1: 0.9959514170040485\n",
            "Clf: 0: Test f1: 0.870967741935484\n",
            "Now predicting labels for unlabeled data...\n",
            "1 high-probability predictions added to training data.\n",
            "22 unlabeled instances remaining.\n",
            "\n",
            "Iteration 3, Classifier: 1\n",
            "Clf: 1: Test Accuracy: 0.9090909090909091\n",
            "Clf: 1: Train f1: 0.9512195121951219\n",
            "Clf: 1: Test f1: 0.9206349206349207\n",
            "Now predicting labels for unlabeled data...\n",
            "1 high-probability predictions added to training data.\n",
            "21 unlabeled instances remaining.\n",
            "\n",
            "Iteration 4, Classifier: 0\n",
            "Clf: 0: Test Accuracy: 0.8545454545454545\n",
            "Clf: 0: Train f1: 0.9960159362549801\n",
            "Clf: 0: Test f1: 0.870967741935484\n",
            "Now predicting labels for unlabeled data...\n",
            "0 high-probability predictions added to training data.\n",
            "21 unlabeled instances remaining.\n",
            "\n",
            "CPU times: user 524 ms, sys: 387 ms, total: 911 ms\n",
            "Wall time: 1.38 s\n"
          ]
        }
      ]
    },
    {
      "cell_type": "markdown",
      "metadata": {
        "id": "Cci5YtJJMplz"
      },
      "source": [
        "### Semi-Supervised Ensemble - Imbalanced"
      ]
    },
    {
      "cell_type": "code",
      "metadata": {
        "colab": {
          "base_uri": "https://localhost:8080/"
        },
        "id": "BTlee3tXMulW",
        "outputId": "4851a1b3-fb39-4210-b142-fe3ba9cc152f"
      },
      "source": [
        "%%time\n",
        "import xgboost as xgb \n",
        "X_train, y_train, X_test, y_test, X_unlabelled = reset_holdout_splits(X,y,unlabelled_size=0.1, holdout_test_size=0.2)\n",
        "\n",
        "clf = xgb.XGBClassifier(verbosity=0)\n",
        "\n",
        "confidence_score = 0.95\n",
        "sse_acc_10_imb, sse_f1_10_imb, sse_10_imb_roc = boosting_assemble(clf, X_train, y_train, X_unlabelled,\n",
        "                                                             X_test, y_test, confidence_score,auto_balancing=False)\n"
      ],
      "execution_count": null,
      "outputs": [
        {
          "output_type": "stream",
          "name": "stdout",
          "text": [
            "Iteration 0\n",
            "Test Accuracy: 0.8545454545454545\n",
            "Train f1: 0.9914529914529915\n",
            "Test f1: 0.8749999999999999\n",
            "Now predicting labels for unlabeled data...\n",
            "17 high-probability predictions added to training data.\n",
            "14 unlabeled instances remaining.\n",
            "\n",
            "Iteration 1\n",
            "Test Accuracy: 0.8545454545454545\n",
            "Train f1: 0.9920634920634921\n",
            "Test f1: 0.8749999999999999\n",
            "Now predicting labels for unlabeled data...\n",
            "0 high-probability predictions added to training data.\n",
            "14 unlabeled instances remaining.\n",
            "\n",
            "CPU times: user 125 ms, sys: 28.6 ms, total: 154 ms\n",
            "Wall time: 258 ms\n"
          ]
        }
      ]
    },
    {
      "cell_type": "markdown",
      "metadata": {
        "id": "qwoEVfF2OLbD"
      },
      "source": [
        "### Semi-Supervised Ensemble - Balanced"
      ]
    },
    {
      "cell_type": "code",
      "metadata": {
        "colab": {
          "base_uri": "https://localhost:8080/"
        },
        "id": "xQu933e6OtlL",
        "outputId": "308be761-53eb-429b-f989-82bee52bef1a"
      },
      "source": [
        "%%time\n",
        "import xgboost as xgb \n",
        "X_train, y_train, X_test, y_test, X_unlabelled = reset_holdout_splits(X,y,unlabelled_size=0.1, holdout_test_size=0.2)\n",
        "\n",
        "clf = xgb.XGBClassifier(verbosity=0)\n",
        "\n",
        "confidence_score = 0.95\n",
        "sse_acc_10_bal, sse_f1_10_bal, sse_10_bal_roc = boosting_assemble(clf, X_train, y_train, X_unlabelled,\n",
        "                                                             X_test, y_test, confidence_score,auto_balancing=True)\n"
      ],
      "execution_count": null,
      "outputs": [
        {
          "output_type": "stream",
          "name": "stdout",
          "text": [
            "Iteration 0\n",
            "Test Accuracy: 0.8545454545454545\n",
            "Train f1: 0.9914529914529915\n",
            "Test f1: 0.8749999999999999\n",
            "Now predicting labels for unlabeled data...\n",
            "17 high-probability predictions added to training data.\n",
            "14 unlabeled instances remaining.\n",
            "\n",
            "Iteration 1\n",
            "Test Accuracy: 0.8545454545454545\n",
            "Train f1: 0.9920634920634921\n",
            "Test f1: 0.8749999999999999\n",
            "Now predicting labels for unlabeled data...\n",
            "0 high-probability predictions added to training data.\n",
            "14 unlabeled instances remaining.\n",
            "\n",
            "CPU times: user 147 ms, sys: 88.3 ms, total: 235 ms\n",
            "Wall time: 155 ms\n"
          ]
        }
      ]
    },
    {
      "cell_type": "markdown",
      "metadata": {
        "id": "LvKfpu_1nW2C"
      },
      "source": [
        "### Unsupervised labelling - Imbalanced"
      ]
    },
    {
      "cell_type": "code",
      "metadata": {
        "colab": {
          "base_uri": "https://localhost:8080/"
        },
        "id": "VAVxHnPunW2D",
        "outputId": "b7ca78b1-6848-46d5-eacc-ff99c65484d3"
      },
      "source": [
        "%%time\n",
        "X_train, y_train, X_test, y_test, X_unlabelled = reset_holdout_splits(X,y,\n",
        "                                                                      unlabelled_size=0.1, holdout_test_size=0.2)\n",
        "\n",
        "\n",
        "clf = RandomForestClassifier(n_estimators=22, max_depth=9, min_samples_leaf=3, min_samples_split=3, n_jobs=-1)\n",
        "confidence_score = 0.95\n",
        "usl_acc_10_imb, usl_f1_10_imb, usl_10_imb_roc = unsupervised_labelling(clf, X_train, y_train, \n",
        "                                                             X_unlabelled, X_test, y_test, confidence_score,auto_balancing=False)"
      ],
      "execution_count": null,
      "outputs": [
        {
          "output_type": "stream",
          "name": "stdout",
          "text": [
            "(272, 23) (272,)\n",
            "Iteration 0\n",
            "Test Accuracy: 0.8214285714285714\n",
            "Train f1: 0.9318181818181818\n",
            "Test f1: 0.8275862068965518\n",
            "Now predicting labels for unlabeled data...\n",
            "3 high-probability predictions added to training data.\n",
            "28 unlabeled instances remaining.\n",
            "\n",
            "Iteration 1\n",
            "Test Accuracy: 0.8214285714285714\n",
            "Train f1: 0.929368029739777\n",
            "Test f1: 0.8275862068965518\n",
            "Now predicting labels for unlabeled data...\n",
            "1 high-probability predictions added to training data.\n",
            "27 unlabeled instances remaining.\n",
            "\n",
            "Iteration 2\n",
            "Test Accuracy: 0.8214285714285714\n",
            "Train f1: 0.929368029739777\n",
            "Test f1: 0.8275862068965518\n",
            "Now predicting labels for unlabeled data...\n",
            "1 high-probability predictions added to training data.\n",
            "26 unlabeled instances remaining.\n",
            "\n",
            "Iteration 3\n",
            "Test Accuracy: 0.8571428571428571\n",
            "Train f1: 0.9372693726937269\n",
            "Test f1: 0.8666666666666667\n",
            "Now predicting labels for unlabeled data...\n",
            "4 high-probability predictions added to training data.\n",
            "22 unlabeled instances remaining.\n",
            "\n",
            "Iteration 4\n",
            "Test Accuracy: 0.8571428571428571\n",
            "Train f1: 0.9381818181818182\n",
            "Test f1: 0.8666666666666667\n",
            "Now predicting labels for unlabeled data...\n",
            "3 high-probability predictions added to training data.\n",
            "19 unlabeled instances remaining.\n",
            "\n",
            "Iteration 5\n",
            "Test Accuracy: 0.8571428571428571\n",
            "Train f1: 0.9458483754512634\n",
            "Test f1: 0.8666666666666667\n",
            "Now predicting labels for unlabeled data...\n",
            "0 high-probability predictions added to training data.\n",
            "19 unlabeled instances remaining.\n",
            "\n",
            "CPU times: user 774 ms, sys: 262 ms, total: 1.04 s\n",
            "Wall time: 3.38 s\n"
          ]
        }
      ]
    },
    {
      "cell_type": "markdown",
      "source": [
        "### Unsupervised labelling - Balanced"
      ],
      "metadata": {
        "id": "Ut3vE9DlwDgX"
      }
    },
    {
      "cell_type": "code",
      "source": [
        "%%time\n",
        "X_train, y_train, X_test, y_test, X_unlabelled = reset_holdout_splits(X,y,\n",
        "                                                                      unlabelled_size=0.1, holdout_test_size=0.2)\n",
        "\n",
        "clf = RandomForestClassifier(n_estimators=22, max_depth=9, min_samples_leaf=3, min_samples_split=3, n_jobs=-1)\n",
        "confidence_score = 0.95\n",
        "usl_acc_10_bal, usl_f1_10_bal, usl_10_bal_roc = unsupervised_labelling(clf, X_train, y_train, \n",
        "                                                             X_unlabelled, X_test, y_test, confidence_score,auto_balancing=True)"
      ],
      "metadata": {
        "colab": {
          "base_uri": "https://localhost:8080/"
        },
        "id": "yH78UMoDwDOZ",
        "outputId": "b9f8c5d4-9593-4754-d103-52701592e670"
      },
      "execution_count": null,
      "outputs": [
        {
          "output_type": "stream",
          "name": "stdout",
          "text": [
            "(272, 23) (272,)\n",
            "Iteration 0\n",
            "Test Accuracy: 0.7142857142857143\n",
            "Train f1: 0.9398496240601504\n",
            "Test f1: 0.7142857142857142\n",
            "Now predicting labels for unlabeled data...\n",
            "5 high-probability predictions added to training data.\n",
            "doing balancing\n",
            "applying smote\n",
            "26 unlabeled instances remaining.\n",
            "\n",
            "Iteration 1\n",
            "Test Accuracy: 0.75\n",
            "Train f1: 0.9481481481481482\n",
            "Test f1: 0.7407407407407408\n",
            "Now predicting labels for unlabeled data...\n",
            "2 high-probability predictions added to training data.\n",
            "doing balancing\n",
            "24 unlabeled instances remaining.\n",
            "\n",
            "Iteration 2\n",
            "Test Accuracy: 0.75\n",
            "Train f1: 0.9416058394160584\n",
            "Test f1: 0.7407407407407408\n",
            "Now predicting labels for unlabeled data...\n",
            "2 high-probability predictions added to training data.\n",
            "doing balancing\n",
            "22 unlabeled instances remaining.\n",
            "\n",
            "Iteration 3\n",
            "Test Accuracy: 0.7142857142857143\n",
            "Train f1: 0.9454545454545454\n",
            "Test f1: 0.7142857142857142\n",
            "Now predicting labels for unlabeled data...\n",
            "1 high-probability predictions added to training data.\n",
            "doing balancing\n",
            "applying smote\n",
            "21 unlabeled instances remaining.\n",
            "\n",
            "Iteration 4\n",
            "Test Accuracy: 0.7142857142857143\n",
            "Train f1: 0.9343065693430658\n",
            "Test f1: 0.7142857142857142\n",
            "Now predicting labels for unlabeled data...\n",
            "1 high-probability predictions added to training data.\n",
            "doing balancing\n",
            "applying smote\n",
            "20 unlabeled instances remaining.\n",
            "\n",
            "Iteration 5\n",
            "Test Accuracy: 0.7142857142857143\n",
            "Train f1: 0.931899641577061\n",
            "Test f1: 0.7142857142857142\n",
            "Now predicting labels for unlabeled data...\n",
            "0 high-probability predictions added to training data.\n",
            "doing balancing\n",
            "20 unlabeled instances remaining.\n",
            "\n",
            "CPU times: user 845 ms, sys: 369 ms, total: 1.21 s\n",
            "Wall time: 3.41 s\n"
          ]
        }
      ]
    },
    {
      "cell_type": "markdown",
      "metadata": {
        "id": "4sFGrIpt6Tyy"
      },
      "source": [
        "### Intrinsic - LabelSpreading - Imbalanced"
      ]
    },
    {
      "cell_type": "code",
      "source": [
        "df = pd.concat([X,y],axis=1)\n",
        "abs(df.corr()['target'])"
      ],
      "metadata": {
        "colab": {
          "base_uri": "https://localhost:8080/"
        },
        "id": "UCPqtyFRT1CA",
        "outputId": "c5ef480c-3ce4-472c-c99c-e9f641042e8b"
      },
      "execution_count": null,
      "outputs": [
        {
          "output_type": "execute_result",
          "data": {
            "text/plain": [
              "age         0.208234\n",
              "sex         0.289417\n",
              "trestbps    0.137245\n",
              "chol        0.072258\n",
              "fbs         0.025264\n",
              "restecg     0.137982\n",
              "thalach     0.423304\n",
              "exang       0.431894\n",
              "oldpeak     0.424510\n",
              "slope       0.348469\n",
              "cp_0        0.509459\n",
              "cp_1        0.248683\n",
              "cp_2        0.315141\n",
              "cp_3        0.088806\n",
              "ca_0        0.473069\n",
              "ca_1        0.228818\n",
              "ca_2        0.271334\n",
              "ca_3        0.208734\n",
              "ca_4        0.048454\n",
              "thal_0      0.006749\n",
              "thal_1      0.104864\n",
              "thal_2      0.527894\n",
              "target      1.000000\n",
              "Name: target, dtype: float64"
            ]
          },
          "metadata": {},
          "execution_count": 80
        }
      ]
    },
    {
      "cell_type": "code",
      "source": [
        "selected_features = ['age','sex','thalach','exang','oldpeak','slope','cp_0','cp_1','cp_2','ca_0','ca_1','thal_2']\n",
        "\n",
        "X_intrinsic = X[selected_features]"
      ],
      "metadata": {
        "id": "t_MwuyS-T9Bb"
      },
      "execution_count": null,
      "outputs": []
    },
    {
      "cell_type": "code",
      "source": [
        "from sklearn.preprocessing import MinMaxScaler, StandardScaler\n",
        "\n",
        "X_scaled_int = StandardScaler().fit_transform(X_intrinsic)\n",
        "X_scaled_int = pd.DataFrame(X_scaled_int,columns=X_intrinsic.columns)"
      ],
      "metadata": {
        "id": "JPOfM9rEUdkv"
      },
      "execution_count": null,
      "outputs": []
    },
    {
      "cell_type": "code",
      "metadata": {
        "colab": {
          "base_uri": "https://localhost:8080/"
        },
        "id": "r0qpe5aU6Tb0",
        "outputId": "8b372e75-cae9-4fa0-c8bd-f7b36de424ed"
      },
      "source": [
        "%%time\n",
        "# split data into labeled and unlabeled\n",
        "X_lab, X_unlab, y_lab, y_unlab = train_test_split(X_scaled_int , y, test_size=0.10, random_state=1, stratify=y)\n",
        "\n",
        "# Split the labelled data into train and test\n",
        "X_train, X_test, y_train, y_test = train_test_split(X_lab, y_lab, test_size=0.20, random_state=1, stratify=y_lab)\n",
        "\n",
        "# create the training dataset input\n",
        "X_train_mixed = np.concatenate((X_train, X_unlab))\n",
        "\n",
        "# create \"no label\" for unlabeled data\n",
        "nolabel = [-1 for _ in range(len(y_unlab))]\n",
        "\n",
        "# recombine training dataset labels\n",
        "y_train_mixed = np.concatenate((y_train, nolabel))\n",
        "\n",
        "# summarize training set size\n",
        "print('Labeled Train Set:', X_train.shape, y_train.shape)\n",
        "print('Unlabeled Train Set:', X_unlab.shape, y_unlab.shape)\n",
        "\n",
        "# summarize test set size\n",
        "print('Test Set:', X_test.shape, y_test.shape)"
      ],
      "execution_count": null,
      "outputs": [
        {
          "output_type": "stream",
          "name": "stdout",
          "text": [
            "Labeled Train Set: (217, 12) (217,)\n",
            "Unlabeled Train Set: (31, 12) (31,)\n",
            "Test Set: (55, 12) (55,)\n",
            "CPU times: user 7.29 ms, sys: 56 µs, total: 7.35 ms\n",
            "Wall time: 8.04 ms\n"
          ]
        }
      ]
    },
    {
      "cell_type": "code",
      "metadata": {
        "colab": {
          "base_uri": "https://localhost:8080/",
          "height": 397
        },
        "id": "nIf1_z_MD0m1",
        "outputId": "23e2a183-d180-40b7-df13-468c98ea9f49"
      },
      "source": [
        "pd.DataFrame(y_train_mixed).hist()"
      ],
      "execution_count": null,
      "outputs": [
        {
          "output_type": "execute_result",
          "data": {
            "text/plain": [
              "array([[<matplotlib.axes._subplots.AxesSubplot object at 0x7fa820649cd0>]],\n",
              "      dtype=object)"
            ]
          },
          "metadata": {},
          "execution_count": 84
        },
        {
          "output_type": "display_data",
          "data": {
            "image/png": "[encoded data removed]",
            "text/plain": [
              "<Figure size 576x396 with 1 Axes>"
            ]
          },
          "metadata": {}
        }
      ]
    },
    {
      "cell_type": "code",
      "metadata": {
        "colab": {
          "base_uri": "https://localhost:8080/"
        },
        "id": "Rl1I6GMzD0m1",
        "outputId": "034057e0-463b-45d3-940b-78b3c82c1ea6"
      },
      "source": [
        "%%time\n",
        "# define model\n",
        "\n",
        "intrinsic_10_model_imb = LabelSpreading(alpha=1e-4, max_iter=1000,n_neighbors=19, tol=0.24, kernel='knn').fit(X_train_mixed, y_train_mixed)\n",
        "print(intrinsic_10_model_imb.classes_)\n",
        "print(intrinsic_10_model_imb.score(X_train_mixed, y_train_mixed))"
      ],
      "execution_count": null,
      "outputs": [
        {
          "output_type": "stream",
          "name": "stdout",
          "text": [
            "[0. 1.]\n",
            "0.7580645161290323\n",
            "CPU times: user 15.4 ms, sys: 0 ns, total: 15.4 ms\n",
            "Wall time: 21.3 ms\n"
          ]
        }
      ]
    },
    {
      "cell_type": "code",
      "metadata": {
        "colab": {
          "base_uri": "https://localhost:8080/"
        },
        "id": "W1esqhStD0m1",
        "outputId": "38b862f4-a4a8-4745-b89c-fd8d8dbd6999"
      },
      "source": [
        "y_pred = intrinsic_10_model_imb.predict(X_test)\n",
        "print(f\"{accuracy_score(y_test, y_pred)}\")\n",
        "print(f\"{f1_score(y_test, y_pred)}\")"
      ],
      "execution_count": null,
      "outputs": [
        {
          "output_type": "stream",
          "name": "stdout",
          "text": [
            "0.8909090909090909\n",
            "0.90625\n"
          ]
        },
        {
          "output_type": "stream",
          "name": "stderr",
          "text": [
            "/usr/local/lib/python3.7/dist-packages/sklearn/base.py:439: UserWarning: X has feature names, but LabelSpreading was fitted without feature names\n",
            "  f\"X has feature names, but {self.__class__.__name__} was fitted without\"\n"
          ]
        }
      ]
    },
    {
      "cell_type": "code",
      "metadata": {
        "id": "91V70sS6zGGo"
      },
      "source": [
        "fpr_int_10_imb, tpr_int_10_imb, thresholds_int_10_imb = roc_curve(y_test, y_pred)\n",
        "auc_int_10_imb = auc(fpr_int_10_imb, tpr_int_10_imb)"
      ],
      "execution_count": null,
      "outputs": []
    },
    {
      "cell_type": "markdown",
      "metadata": {
        "id": "chEdkRyXJbtn"
      },
      "source": [
        "### Intrinsic - LabelSpreading - Balanced"
      ]
    },
    {
      "cell_type": "code",
      "metadata": {
        "colab": {
          "base_uri": "https://localhost:8080/"
        },
        "id": "34uh723oJbtn",
        "outputId": "cc1809fb-4916-4d22-fb63-62493f949866"
      },
      "source": [
        "%%time\n",
        "# split data into labeled and unlabeled\n",
        "X_lab, X_unlab, y_lab, y_unlab = train_test_split(X_scaled_int , y, test_size=0.10, random_state=1, stratify=y)\n",
        "\n",
        "# Split the labelled data into train and test\n",
        "X_train, X_test, y_train, y_test = train_test_split(X_lab, y_lab, test_size=0.20, random_state=1, stratify=y_lab)\n",
        "\n",
        "over_sampler = SMOTE(sampling_strategy=1.0)\n",
        "X_train_sampled, y_train_sampled = over_sampler.fit_resample(X_train, y_train)\n",
        "\n",
        "# create the training dataset input\n",
        "X_train_mixed = np.concatenate((X_train_sampled, X_unlab))\n",
        "\n",
        "# create \"no label\" for unlabeled data\n",
        "nolabel = [-1 for _ in range(len(y_unlab))]\n",
        "\n",
        "# recombine training dataset labels\n",
        "y_train_mixed = np.concatenate((y_train_sampled, nolabel))\n",
        "\n",
        "# summarize training set size\n",
        "print('Labeled Train Set:', X_train_sampled.shape, y_train_sampled.shape)\n",
        "print('Unlabeled Train Set:', X_unlab.shape, y_unlab.shape)\n",
        "\n",
        "# summarize test set size\n",
        "print('Test Set:', X_test.shape, y_test.shape)"
      ],
      "execution_count": null,
      "outputs": [
        {
          "output_type": "stream",
          "name": "stdout",
          "text": [
            "Labeled Train Set: (234, 12) (234,)\n",
            "Unlabeled Train Set: (31, 12) (31,)\n",
            "Test Set: (55, 12) (55,)\n",
            "CPU times: user 15.6 ms, sys: 6 µs, total: 15.6 ms\n",
            "Wall time: 17 ms\n"
          ]
        }
      ]
    },
    {
      "cell_type": "code",
      "metadata": {
        "colab": {
          "base_uri": "https://localhost:8080/",
          "height": 397
        },
        "id": "302y4xy1Jbtn",
        "outputId": "a2f31980-6063-43fb-e7e2-b23347245932"
      },
      "source": [
        "pd.DataFrame(y_train_mixed).hist()"
      ],
      "execution_count": null,
      "outputs": [
        {
          "output_type": "execute_result",
          "data": {
            "text/plain": [
              "array([[<matplotlib.axes._subplots.AxesSubplot object at 0x7fa820077950>]],\n",
              "      dtype=object)"
            ]
          },
          "metadata": {},
          "execution_count": 89
        },
        {
          "output_type": "display_data",
          "data": {
            "image/png": "[encoded data removed]",
            "text/plain": [
              "<Figure size 576x396 with 1 Axes>"
            ]
          },
          "metadata": {}
        }
      ]
    },
    {
      "cell_type": "code",
      "metadata": {
        "colab": {
          "base_uri": "https://localhost:8080/"
        },
        "id": "J0GoYgoJJbtn",
        "outputId": "e97aafdb-2321-4963-e68c-404130ebdb07"
      },
      "source": [
        "# define model\n",
        "%%time\n",
        "intrinsic_10_model_bal = LabelSpreading(alpha=1e-4, max_iter=1000,n_neighbors=19, tol=0.24, kernel='knn').fit(X_train_mixed, y_train_mixed)\n",
        "print(intrinsic_10_model_bal.classes_)\n",
        "print(intrinsic_10_model_bal.score(X_train_mixed, y_train_mixed))"
      ],
      "execution_count": null,
      "outputs": [
        {
          "output_type": "stream",
          "name": "stdout",
          "text": [
            "[0. 1.]\n",
            "0.769811320754717\n",
            "CPU times: user 15.6 ms, sys: 0 ns, total: 15.6 ms\n",
            "Wall time: 15.9 ms\n"
          ]
        }
      ]
    },
    {
      "cell_type": "code",
      "metadata": {
        "colab": {
          "base_uri": "https://localhost:8080/"
        },
        "id": "4-o5FZujJbtn",
        "outputId": "4ef478d6-7963-4eb5-94ef-b45a6c679895"
      },
      "source": [
        "y_pred = intrinsic_10_model_bal.predict(X_test)\n",
        "\n",
        "print(f\"{accuracy_score(y_test, y_pred)}\")\n",
        "print(f\"{f1_score(y_test, y_pred)}\")"
      ],
      "execution_count": null,
      "outputs": [
        {
          "output_type": "stream",
          "name": "stdout",
          "text": [
            "0.8727272727272727\n",
            "0.888888888888889\n"
          ]
        },
        {
          "output_type": "stream",
          "name": "stderr",
          "text": [
            "/usr/local/lib/python3.7/dist-packages/sklearn/base.py:439: UserWarning: X has feature names, but LabelSpreading was fitted without feature names\n",
            "  f\"X has feature names, but {self.__class__.__name__} was fitted without\"\n"
          ]
        }
      ]
    },
    {
      "cell_type": "code",
      "metadata": {
        "id": "-rg12qIDz3V9"
      },
      "source": [
        "fpr_int_10_bal, tpr_int_10_bal, thresholds_int_10_bal = roc_curve(y_test, y_pred)\n",
        "auc_int_10_bal = auc(fpr_int_10_bal, tpr_int_10_bal)"
      ],
      "execution_count": null,
      "outputs": []
    },
    {
      "cell_type": "markdown",
      "metadata": {
        "id": "wCiIS4X-_noI"
      },
      "source": [
        "# 3. 20% unlabelled, 80% labelled data "
      ]
    },
    {
      "cell_type": "markdown",
      "metadata": {
        "id": "ZlWsHk6irDGW"
      },
      "source": [
        "### Self Training - Imbalanced"
      ]
    },
    {
      "cell_type": "code",
      "metadata": {
        "colab": {
          "base_uri": "https://localhost:8080/"
        },
        "id": "gMYkhwsjrDGW",
        "outputId": "3e161be4-344a-4ad9-c8ab-56c8f84493eb"
      },
      "source": [
        "%%time\n",
        "X_train, y_train, X_test, y_test, X_unlabelled = reset_holdout_splits(X,y,unlabelled_size=0.2, holdout_test_size=0.2)\n",
        "\n",
        "clf = RandomForestClassifier(n_estimators=22, max_depth=9, min_samples_leaf=3, min_samples_split=3, n_jobs=-1)\n",
        "confidence_score = 0.95\n",
        "st_acc_20_imb, st_f1_20_imb, st_20_imb_roc = selfTraining(clf, X_train, y_train, \n",
        "                                                             X_unlabelled, X_test, y_test, confidence_score)"
      ],
      "execution_count": null,
      "outputs": [
        {
          "output_type": "stream",
          "name": "stdout",
          "text": [
            "Iteration 0\n",
            "Test Accuracy: 0.9183673469387755\n",
            "Train f1: 0.9519230769230769\n",
            "Test f1: 0.9259259259259259\n",
            "Now predicting labels for unlabeled data...\n",
            "10 high-probability predictions added to training data.\n",
            "51 unlabeled instances remaining.\n",
            "\n",
            "Iteration 1\n",
            "Test Accuracy: 0.9183673469387755\n",
            "Train f1: 0.9506726457399103\n",
            "Test f1: 0.9285714285714286\n",
            "Now predicting labels for unlabeled data...\n",
            "1 high-probability predictions added to training data.\n",
            "50 unlabeled instances remaining.\n",
            "\n",
            "Iteration 2\n",
            "Test Accuracy: 0.8775510204081632\n",
            "Train f1: 0.9688888888888889\n",
            "Test f1: 0.8888888888888888\n",
            "Now predicting labels for unlabeled data...\n",
            "3 high-probability predictions added to training data.\n",
            "47 unlabeled instances remaining.\n",
            "\n",
            "Iteration 3\n",
            "Test Accuracy: 0.8775510204081632\n",
            "Train f1: 0.9557522123893805\n",
            "Test f1: 0.8928571428571429\n",
            "Now predicting labels for unlabeled data...\n",
            "1 high-probability predictions added to training data.\n",
            "46 unlabeled instances remaining.\n",
            "\n",
            "Iteration 4\n",
            "Test Accuracy: 0.9183673469387755\n",
            "Train f1: 0.9565217391304347\n",
            "Test f1: 0.9285714285714286\n",
            "Now predicting labels for unlabeled data...\n",
            "1 high-probability predictions added to training data.\n",
            "45 unlabeled instances remaining.\n",
            "\n",
            "Iteration 5\n",
            "Test Accuracy: 0.8979591836734694\n",
            "Train f1: 0.9661016949152542\n",
            "Test f1: 0.9090909090909091\n",
            "Now predicting labels for unlabeled data...\n",
            "0 high-probability predictions added to training data.\n",
            "45 unlabeled instances remaining.\n",
            "\n",
            "CPU times: user 653 ms, sys: 97 ms, total: 750 ms\n",
            "Wall time: 3.25 s\n"
          ]
        }
      ]
    },
    {
      "cell_type": "markdown",
      "metadata": {
        "id": "v9HH4igsrDGW"
      },
      "source": [
        "### Self Training - Balanced"
      ]
    },
    {
      "cell_type": "code",
      "metadata": {
        "colab": {
          "base_uri": "https://localhost:8080/"
        },
        "id": "s5pgT8yzrDGW",
        "outputId": "ee2f832f-506d-4e27-e387-47fcc0e25da1"
      },
      "source": [
        "%%time\n",
        "X_train, y_train, X_test, y_test, X_unlabelled = reset_holdout_splits(X,y,unlabelled_size=0.1, holdout_test_size=0.2)\n",
        "\n",
        "clf = RandomForestClassifier(n_estimators=22, max_depth=9, min_samples_leaf=3, min_samples_split=3, n_jobs=-1)\n",
        "confidence_score = 0.95\n",
        "st_acc_20_bal, st_f1_20_bal, st_20_bal_roc = selfTraining(clf, X_train, y_train, X_unlabelled,\n",
        "                                                             X_test, y_test, confidence_score, auto_balancing=True)"
      ],
      "execution_count": null,
      "outputs": [
        {
          "output_type": "stream",
          "name": "stdout",
          "text": [
            "Iteration 0\n",
            "Test Accuracy: 0.8545454545454545\n",
            "Train f1: 0.9613733905579399\n",
            "Test f1: 0.8787878787878789\n",
            "Now predicting labels for unlabeled data...\n",
            "3 high-probability predictions added to training data.\n",
            "28 unlabeled instances remaining.\n",
            "\n",
            "Iteration 1\n",
            "Test Accuracy: 0.8727272727272727\n",
            "Train f1: 0.9487179487179487\n",
            "Test f1: 0.888888888888889\n",
            "Now predicting labels for unlabeled data...\n",
            "2 high-probability predictions added to training data.\n",
            "26 unlabeled instances remaining.\n",
            "\n",
            "Iteration 2\n",
            "Test Accuracy: 0.8545454545454545\n",
            "Train f1: 0.95\n",
            "Test f1: 0.8749999999999999\n",
            "Now predicting labels for unlabeled data...\n",
            "0 high-probability predictions added to training data.\n",
            "26 unlabeled instances remaining.\n",
            "\n",
            "CPU times: user 389 ms, sys: 233 ms, total: 622 ms\n",
            "Wall time: 1.68 s\n"
          ]
        }
      ]
    },
    {
      "cell_type": "markdown",
      "metadata": {
        "id": "tlr5Bk0lrDGX"
      },
      "source": [
        "### Co-Training - Imbalanced"
      ]
    },
    {
      "cell_type": "code",
      "metadata": {
        "colab": {
          "base_uri": "https://localhost:8080/"
        },
        "id": "br1kbqBbrDGX",
        "outputId": "d0d78ca8-1141-40ae-ddd4-8d2cba3ac785"
      },
      "source": [
        "%%time\n",
        "X_train, y_train, X_test, y_test, X_unlabelled = reset_holdout_splits(X,y,unlabelled_size=0.2, holdout_test_size=0.2)\n",
        "\n",
        "clf1 = svm.SVC(probability=True, C=10, gamma=1, kernel='rbf')\n",
        "clf2 = RandomForestClassifier(n_estimators=22, max_depth=9, min_samples_leaf=3, min_samples_split=3, n_jobs=-1)\n",
        "\n",
        "view1 = X.columns\n",
        "view2 = X.columns\n",
        "\n",
        "confidence_score = 0.95\n",
        "\n",
        "ct_acc_20_imb, ct_f1_20_imb, ct_20_imb_roc = coTraining(clf1, clf2, view1, view2, X_train,\n",
        "                                                       y_train, X_unlabelled, X_test, y_test, confidence_score)"
      ],
      "execution_count": null,
      "outputs": [
        {
          "output_type": "stream",
          "name": "stdout",
          "text": [
            "Iteration 0, Classifier: 0\n",
            "Clf: 0: Test Accuracy: 0.8571428571428571\n",
            "Clf: 0: Train f1: 1.0\n",
            "Clf: 0: Test f1: 0.8679245283018868\n",
            "Now predicting labels for unlabeled data...\n",
            "20 high-probability predictions added to training data.\n",
            "41 unlabeled instances remaining.\n",
            "\n",
            "Iteration 1, Classifier: 1\n",
            "Clf: 1: Test Accuracy: 0.8367346938775511\n",
            "Clf: 1: Train f1: 0.9583333333333334\n",
            "Clf: 1: Test f1: 0.8571428571428572\n",
            "Now predicting labels for unlabeled data...\n",
            "1 high-probability predictions added to training data.\n",
            "40 unlabeled instances remaining.\n",
            "\n",
            "Iteration 2, Classifier: 0\n",
            "Clf: 0: Test Accuracy: 0.8571428571428571\n",
            "Clf: 0: Train f1: 1.0\n",
            "Clf: 0: Test f1: 0.8679245283018868\n",
            "Now predicting labels for unlabeled data...\n",
            "0 high-probability predictions added to training data.\n",
            "40 unlabeled instances remaining.\n",
            "\n",
            "CPU times: user 211 ms, sys: 15.6 ms, total: 227 ms\n",
            "Wall time: 643 ms\n"
          ]
        }
      ]
    },
    {
      "cell_type": "markdown",
      "metadata": {
        "id": "eGPvIBDurDGX"
      },
      "source": [
        "### Co-Training - Balanced"
      ]
    },
    {
      "cell_type": "code",
      "metadata": {
        "colab": {
          "base_uri": "https://localhost:8080/"
        },
        "id": "XjnWeCwVrDGX",
        "outputId": "559614a2-81b7-4845-9606-22b30cacbfef"
      },
      "source": [
        "%%time\n",
        "X_train, y_train, X_test, y_test, X_unlabelled = reset_holdout_splits(X,y,unlabelled_size=0.2, holdout_test_size=0.2)\n",
        "\n",
        "clf1 = svm.SVC(probability=True, C=10, gamma=1, kernel='rbf')\n",
        "clf2 = RandomForestClassifier(n_estimators=22, max_depth=9, min_samples_leaf=3, min_samples_split=3, n_jobs=-1)\n",
        "\n",
        "view1 = X.columns\n",
        "view2 = X.columns\n",
        "\n",
        "confidence_score = 0.95\n",
        "\n",
        "ct_acc_20_bal, ct_f1_20_bal, ct_20_bal_roc = coTraining(clf1, clf2, view1, view2, X_train, y_train, \n",
        "                                                       X_unlabelled, X_test, y_test, confidence_score,\n",
        "                                                       auto_balancing=True)"
      ],
      "execution_count": null,
      "outputs": [
        {
          "output_type": "stream",
          "name": "stdout",
          "text": [
            "Iteration 0, Classifier: 0\n",
            "Clf: 0: Test Accuracy: 0.8571428571428571\n",
            "Clf: 0: Train f1: 1.0\n",
            "Clf: 0: Test f1: 0.8679245283018868\n",
            "Now predicting labels for unlabeled data...\n",
            "9 high-probability predictions added to training data.\n",
            "52 unlabeled instances remaining.\n",
            "\n",
            "Iteration 1, Classifier: 1\n",
            "Clf: 1: Test Accuracy: 0.8775510204081632\n",
            "Clf: 1: Train f1: 0.9511111111111111\n",
            "Clf: 1: Test f1: 0.8928571428571429\n",
            "Now predicting labels for unlabeled data...\n",
            "7 high-probability predictions added to training data.\n",
            "45 unlabeled instances remaining.\n",
            "\n",
            "Iteration 2, Classifier: 0\n",
            "Clf: 0: Test Accuracy: 0.8571428571428571\n",
            "Clf: 0: Train f1: 0.9957805907172996\n",
            "Clf: 0: Test f1: 0.8679245283018868\n",
            "Now predicting labels for unlabeled data...\n",
            "3 high-probability predictions added to training data.\n",
            "42 unlabeled instances remaining.\n",
            "\n",
            "Iteration 3, Classifier: 1\n",
            "Clf: 1: Test Accuracy: 0.9387755102040817\n",
            "Clf: 1: Train f1: 0.9535864978902953\n",
            "Clf: 1: Test f1: 0.9433962264150944\n",
            "Now predicting labels for unlabeled data...\n",
            "1 high-probability predictions added to training data.\n",
            "41 unlabeled instances remaining.\n",
            "\n",
            "Iteration 4, Classifier: 0\n",
            "Clf: 0: Test Accuracy: 0.8571428571428571\n",
            "Clf: 0: Train f1: 0.9958847736625513\n",
            "Clf: 0: Test f1: 0.8679245283018868\n",
            "Now predicting labels for unlabeled data...\n",
            "0 high-probability predictions added to training data.\n",
            "41 unlabeled instances remaining.\n",
            "\n",
            "CPU times: user 519 ms, sys: 375 ms, total: 894 ms\n",
            "Wall time: 1.36 s\n"
          ]
        }
      ]
    },
    {
      "cell_type": "markdown",
      "metadata": {
        "id": "ngL4IuIArDGX"
      },
      "source": [
        "### Semi-Supervised Ensemble - Imbalanced"
      ]
    },
    {
      "cell_type": "code",
      "metadata": {
        "colab": {
          "base_uri": "https://localhost:8080/"
        },
        "id": "ZWJFiDZZrDGY",
        "outputId": "60eb785b-ac3c-41ca-cabd-3a6c1aa3d689"
      },
      "source": [
        "%%time\n",
        "import xgboost as xgb \n",
        "X_train, y_train, X_test, y_test, X_unlabelled = reset_holdout_splits(X,y,unlabelled_size=0.2, holdout_test_size=0.2)\n",
        "\n",
        "clf = xgb.XGBClassifier(verbosity=0)\n",
        "\n",
        "confidence_score = 0.95\n",
        "sse_acc_20_imb, sse_f1_20_imb, sse_20_imb_roc = boosting_assemble(clf, X_train, y_train, X_unlabelled,\n",
        "                                                             X_test, y_test, confidence_score,auto_balancing=False)\n"
      ],
      "execution_count": null,
      "outputs": [
        {
          "output_type": "stream",
          "name": "stdout",
          "text": [
            "Iteration 0\n",
            "Test Accuracy: 0.8979591836734694\n",
            "Train f1: 1.0\n",
            "Test f1: 0.9090909090909091\n",
            "Now predicting labels for unlabeled data...\n",
            "33 high-probability predictions added to training data.\n",
            "28 unlabeled instances remaining.\n",
            "\n",
            "Iteration 1\n",
            "Test Accuracy: 0.8775510204081632\n",
            "Train f1: 1.0\n",
            "Test f1: 0.8928571428571429\n",
            "Now predicting labels for unlabeled data...\n",
            "3 high-probability predictions added to training data.\n",
            "25 unlabeled instances remaining.\n",
            "\n",
            "Iteration 2\n",
            "Test Accuracy: 0.8979591836734694\n",
            "Train f1: 1.0\n",
            "Test f1: 0.9090909090909091\n",
            "Now predicting labels for unlabeled data...\n",
            "0 high-probability predictions added to training data.\n",
            "25 unlabeled instances remaining.\n",
            "\n",
            "CPU times: user 150 ms, sys: 5.01 ms, total: 155 ms\n",
            "Wall time: 150 ms\n"
          ]
        }
      ]
    },
    {
      "cell_type": "markdown",
      "metadata": {
        "id": "ZHG8diQUrDGY"
      },
      "source": [
        "### Semi-Supervised Ensemble - Balanced"
      ]
    },
    {
      "cell_type": "code",
      "metadata": {
        "colab": {
          "base_uri": "https://localhost:8080/"
        },
        "id": "fMIZGyJ5rDGY",
        "outputId": "e0133bec-22df-41ec-ebba-fea9d2abfb1b"
      },
      "source": [
        "%%time\n",
        "import xgboost as xgb \n",
        "X_train, y_train, X_test, y_test, X_unlabelled = reset_holdout_splits(X,y,unlabelled_size=0.2, holdout_test_size=0.2)\n",
        "\n",
        "clf = xgb.XGBClassifier(verbosity=0)\n",
        "\n",
        "confidence_score = 0.95\n",
        "sse_acc_20_bal, sse_f1_20_bal, sse_20_bal_roc = boosting_assemble(clf, X_train, y_train, X_unlabelled,\n",
        "                                                             X_test, y_test, confidence_score,auto_balancing=True)\n"
      ],
      "execution_count": null,
      "outputs": [
        {
          "output_type": "stream",
          "name": "stdout",
          "text": [
            "Iteration 0\n",
            "Test Accuracy: 0.8979591836734694\n",
            "Train f1: 1.0\n",
            "Test f1: 0.9090909090909091\n",
            "Now predicting labels for unlabeled data...\n",
            "33 high-probability predictions added to training data.\n",
            "28 unlabeled instances remaining.\n",
            "\n",
            "Iteration 1\n",
            "Test Accuracy: 0.8571428571428571\n",
            "Train f1: 1.0\n",
            "Test f1: 0.8727272727272727\n",
            "Now predicting labels for unlabeled data...\n",
            "4 high-probability predictions added to training data.\n",
            "24 unlabeled instances remaining.\n",
            "\n",
            "Iteration 2\n",
            "Test Accuracy: 0.8775510204081632\n",
            "Train f1: 1.0\n",
            "Test f1: 0.8888888888888888\n",
            "Now predicting labels for unlabeled data...\n",
            "1 high-probability predictions added to training data.\n",
            "23 unlabeled instances remaining.\n",
            "\n",
            "Iteration 3\n",
            "Test Accuracy: 0.8367346938775511\n",
            "Train f1: 1.0\n",
            "Test f1: 0.8518518518518519\n",
            "Now predicting labels for unlabeled data...\n",
            "0 high-probability predictions added to training data.\n",
            "23 unlabeled instances remaining.\n",
            "\n",
            "CPU times: user 339 ms, sys: 233 ms, total: 572 ms\n",
            "Wall time: 322 ms\n"
          ]
        }
      ]
    },
    {
      "cell_type": "markdown",
      "source": [
        "### Unsupervised labelling - Imbalanced"
      ],
      "metadata": {
        "id": "EaEvBP4rwqJ6"
      }
    },
    {
      "cell_type": "code",
      "source": [
        "%%time\n",
        "X_train, y_train, X_test, y_test, X_unlabelled = reset_holdout_splits(X,y,\n",
        "                                                                      unlabelled_size=0.2, holdout_test_size=0.2)\n",
        "\n",
        "\n",
        "clf = RandomForestClassifier(n_estimators=22, max_depth=9, min_samples_leaf=3, min_samples_split=3, n_jobs=-1)\n",
        "confidence_score = 0.95\n",
        "usl_acc_20_imb, usl_f1_20_imb, usl_20_imb_roc = unsupervised_labelling(clf, X_train, y_train, \n",
        "                                                             X_unlabelled, X_test, y_test, confidence_score,auto_balancing=False)"
      ],
      "metadata": {
        "colab": {
          "base_uri": "https://localhost:8080/"
        },
        "id": "QPDSV0rrxZ85",
        "outputId": "9dee8ccc-611f-47bd-d3ca-936204c66cc3"
      },
      "execution_count": null,
      "outputs": [
        {
          "output_type": "stream",
          "name": "stdout",
          "text": [
            "(242, 23) (242,)\n",
            "Iteration 0\n",
            "Test Accuracy: 0.68\n",
            "Train f1: 0.9663865546218487\n",
            "Test f1: 0.6923076923076924\n",
            "Now predicting labels for unlabeled data...\n",
            "15 high-probability predictions added to training data.\n",
            "46 unlabeled instances remaining.\n",
            "\n",
            "Iteration 1\n",
            "Test Accuracy: 0.64\n",
            "Train f1: 0.9657794676806083\n",
            "Test f1: 0.64\n",
            "Now predicting labels for unlabeled data...\n",
            "4 high-probability predictions added to training data.\n",
            "42 unlabeled instances remaining.\n",
            "\n",
            "Iteration 2\n",
            "Test Accuracy: 0.72\n",
            "Train f1: 0.9575289575289576\n",
            "Test f1: 0.7200000000000001\n",
            "Now predicting labels for unlabeled data...\n",
            "0 high-probability predictions added to training data.\n",
            "42 unlabeled instances remaining.\n",
            "\n",
            "CPU times: user 395 ms, sys: 52.7 ms, total: 448 ms\n",
            "Wall time: 1.67 s\n"
          ]
        }
      ]
    },
    {
      "cell_type": "markdown",
      "source": [
        "### Unsupervised labelling - Balanced"
      ],
      "metadata": {
        "id": "0xgWgNOqw6Rv"
      }
    },
    {
      "cell_type": "code",
      "source": [
        "%%time\n",
        "X_train, y_train, X_test, y_test, X_unlabelled = reset_holdout_splits(X,y,\n",
        "                                                                      unlabelled_size=0.2, holdout_test_size=0.2)\n",
        "\n",
        "clf = RandomForestClassifier(n_estimators=22, max_depth=9, min_samples_leaf=3, min_samples_split=3, n_jobs=-1)\n",
        "confidence_score = 0.95\n",
        "usl_acc_20_bal, usl_f1_20_bal, usl_20_bal_roc = unsupervised_labelling(clf, X_train, y_train, \n",
        "                                                             X_unlabelled, X_test, y_test, confidence_score,auto_balancing=True)"
      ],
      "metadata": {
        "id": "-vu5ppSqyep7",
        "colab": {
          "base_uri": "https://localhost:8080/"
        },
        "outputId": "a86aa10c-dfbe-4ea1-fa35-2f929f21a8eb"
      },
      "execution_count": null,
      "outputs": [
        {
          "output_type": "stream",
          "name": "stdout",
          "text": [
            "(242, 23) (242,)\n",
            "Iteration 0\n",
            "Test Accuracy: 0.88\n",
            "Train f1: 0.9316239316239316\n",
            "Test f1: 0.9032258064516129\n",
            "Now predicting labels for unlabeled data...\n",
            "8 high-probability predictions added to training data.\n",
            "doing balancing\n",
            "applying smote\n",
            "53 unlabeled instances remaining.\n",
            "\n",
            "Iteration 1\n",
            "Test Accuracy: 0.96\n",
            "Train f1: 0.96\n",
            "Test f1: 0.9655172413793104\n",
            "Now predicting labels for unlabeled data...\n",
            "3 high-probability predictions added to training data.\n",
            "doing balancing\n",
            "applying smote\n",
            "50 unlabeled instances remaining.\n",
            "\n",
            "Iteration 2\n",
            "Test Accuracy: 0.92\n",
            "Train f1: 0.9523809523809523\n",
            "Test f1: 0.9333333333333333\n",
            "Now predicting labels for unlabeled data...\n",
            "4 high-probability predictions added to training data.\n",
            "doing balancing\n",
            "46 unlabeled instances remaining.\n",
            "\n",
            "Iteration 3\n",
            "Test Accuracy: 0.88\n",
            "Train f1: 0.9649805447470817\n",
            "Test f1: 0.9032258064516129\n",
            "Now predicting labels for unlabeled data...\n",
            "2 high-probability predictions added to training data.\n",
            "doing balancing\n",
            "44 unlabeled instances remaining.\n",
            "\n",
            "Iteration 4\n",
            "Test Accuracy: 0.92\n",
            "Train f1: 0.9689922480620154\n",
            "Test f1: 0.9333333333333333\n",
            "Now predicting labels for unlabeled data...\n",
            "0 high-probability predictions added to training data.\n",
            "doing balancing\n",
            "44 unlabeled instances remaining.\n",
            "\n",
            "CPU times: user 704 ms, sys: 261 ms, total: 964 ms\n",
            "Wall time: 2.82 s\n"
          ]
        }
      ]
    },
    {
      "cell_type": "markdown",
      "metadata": {
        "id": "JMk9NY1UrDGY"
      },
      "source": [
        "### Intrinsic - LabelSpreading - Imbalanced"
      ]
    },
    {
      "cell_type": "code",
      "metadata": {
        "colab": {
          "base_uri": "https://localhost:8080/"
        },
        "id": "Ckdp4YwnrDGY",
        "outputId": "143fa23d-8342-4334-a50b-d48d90eee2a9"
      },
      "source": [
        "%%time\n",
        "# split data into labeled and unlabeled\n",
        "X_lab, X_unlab, y_lab, y_unlab = train_test_split(X_scaled_int , y, test_size=0.20, random_state=1, stratify=y)\n",
        "\n",
        "# Split the labelled data into train and test\n",
        "X_train, X_test, y_train, y_test = train_test_split(X_lab, y_lab, test_size=0.20, random_state=1, stratify=y_lab)\n",
        "\n",
        "# create the training dataset input\n",
        "X_train_mixed = np.concatenate((X_train, X_unlab))\n",
        "\n",
        "# create \"no label\" for unlabeled data\n",
        "nolabel = [-1 for _ in range(len(y_unlab))]\n",
        "\n",
        "# recombine training dataset labels\n",
        "y_train_mixed = np.concatenate((y_train, nolabel))\n",
        "\n",
        "# summarize training set size\n",
        "print('Labeled Train Set:', X_train.shape, y_train.shape)\n",
        "print('Unlabeled Train Set:', X_unlab.shape, y_unlab.shape)\n",
        "\n",
        "# summarize test set size\n",
        "print('Test Set:', X_test.shape, y_test.shape)"
      ],
      "execution_count": null,
      "outputs": [
        {
          "output_type": "stream",
          "name": "stdout",
          "text": [
            "Labeled Train Set: (193, 12) (193,)\n",
            "Unlabeled Train Set: (61, 12) (61,)\n",
            "Test Set: (49, 12) (49,)\n",
            "CPU times: user 7.84 ms, sys: 0 ns, total: 7.84 ms\n",
            "Wall time: 7.3 ms\n"
          ]
        }
      ]
    },
    {
      "cell_type": "code",
      "metadata": {
        "colab": {
          "base_uri": "https://localhost:8080/",
          "height": 397
        },
        "id": "_9lzekL5rDGZ",
        "outputId": "73851455-b587-4771-de58-44c53dfee737"
      },
      "source": [
        "pd.DataFrame(y_train_mixed).hist()"
      ],
      "execution_count": null,
      "outputs": [
        {
          "output_type": "execute_result",
          "data": {
            "text/plain": [
              "array([[<matplotlib.axes._subplots.AxesSubplot object at 0x7fa81ffa0410>]],\n",
              "      dtype=object)"
            ]
          },
          "metadata": {},
          "execution_count": 102
        },
        {
          "output_type": "display_data",
          "data": {
            "image/png": "[encoded data removed]",
            "text/plain": [
              "<Figure size 576x396 with 1 Axes>"
            ]
          },
          "metadata": {}
        }
      ]
    },
    {
      "cell_type": "code",
      "metadata": {
        "colab": {
          "base_uri": "https://localhost:8080/"
        },
        "id": "l-sf8TkarDGZ",
        "outputId": "769af901-4cba-4b03-922a-9057c899728b"
      },
      "source": [
        "# define model\n",
        "%%time\n",
        "intrinsic_20_model_imb = LabelSpreading(alpha=1e-4, max_iter=1000,n_neighbors=19, tol=0.24, kernel='knn').fit(X_train_mixed, y_train_mixed)\n",
        "print(intrinsic_20_model_imb.classes_)\n",
        "print(intrinsic_20_model_imb.score(X_train_mixed, y_train_mixed))"
      ],
      "execution_count": null,
      "outputs": [
        {
          "output_type": "stream",
          "name": "stdout",
          "text": [
            "[0. 1.]\n",
            "0.6496062992125984\n",
            "CPU times: user 16.3 ms, sys: 2.07 ms, total: 18.4 ms\n",
            "Wall time: 18.7 ms\n"
          ]
        }
      ]
    },
    {
      "cell_type": "code",
      "metadata": {
        "colab": {
          "base_uri": "https://localhost:8080/"
        },
        "id": "eBT8eijzrDGZ",
        "outputId": "cf8148e1-025d-4613-f0b0-92b90d12f616"
      },
      "source": [
        "y_pred = intrinsic_20_model_imb.predict(X_test)\n",
        "print(f\"{accuracy_score(y_test, y_pred)}\")\n",
        "print(f\"{f1_score(y_test, y_pred)}\")"
      ],
      "execution_count": null,
      "outputs": [
        {
          "output_type": "stream",
          "name": "stdout",
          "text": [
            "0.8775510204081632\n",
            "0.8800000000000001\n"
          ]
        },
        {
          "output_type": "stream",
          "name": "stderr",
          "text": [
            "/usr/local/lib/python3.7/dist-packages/sklearn/base.py:439: UserWarning: X has feature names, but LabelSpreading was fitted without feature names\n",
            "  f\"X has feature names, but {self.__class__.__name__} was fitted without\"\n"
          ]
        }
      ]
    },
    {
      "cell_type": "code",
      "metadata": {
        "id": "zZfL_yeX1a02"
      },
      "source": [
        "fpr_int_20_imb, tpr_int_20_imb, thresholds_int_20_imb = roc_curve(y_test, y_pred)\n",
        "auc_int_20_imb = auc(fpr_int_20_imb, tpr_int_20_imb)"
      ],
      "execution_count": null,
      "outputs": []
    },
    {
      "cell_type": "markdown",
      "metadata": {
        "id": "8pzj15IFrDGZ"
      },
      "source": [
        "### Intrinsic - LabelSpreading - Balanced"
      ]
    },
    {
      "cell_type": "code",
      "metadata": {
        "colab": {
          "base_uri": "https://localhost:8080/"
        },
        "id": "Xhr6qnferDGZ",
        "outputId": "8e64e35a-db08-4279-8035-67926934c9a0"
      },
      "source": [
        "%%time\n",
        "# split data into labeled and unlabeled\n",
        "X_lab, X_unlab, y_lab, y_unlab = train_test_split(X_scaled_int , y, test_size=0.20, random_state=1, stratify=y)\n",
        "\n",
        "# Split the labelled data into train and test\n",
        "X_train, X_test, y_train, y_test = train_test_split(X_lab, y_lab, test_size=0.20, random_state=1, stratify=y_lab)\n",
        "\n",
        "over_sampler = SMOTE(sampling_strategy=1.0)\n",
        "X_train_sampled, y_train_sampled = over_sampler.fit_resample(X_train, y_train)\n",
        "\n",
        "# create the training dataset input\n",
        "X_train_mixed = np.concatenate((X_train_sampled, X_unlab))\n",
        "\n",
        "# create \"no label\" for unlabeled data\n",
        "nolabel = [-1 for _ in range(len(y_unlab))]\n",
        "\n",
        "# recombine training dataset labels\n",
        "y_train_mixed = np.concatenate((y_train_sampled, nolabel))\n",
        "\n",
        "# summarize training set size\n",
        "print('Labeled Train Set:', X_train_sampled.shape, y_train_sampled.shape)\n",
        "print('Unlabeled Train Set:', X_unlab.shape, y_unlab.shape)\n",
        "\n",
        "# summarize test set size\n",
        "print('Test Set:', X_test.shape, y_test.shape)"
      ],
      "execution_count": null,
      "outputs": [
        {
          "output_type": "stream",
          "name": "stdout",
          "text": [
            "Labeled Train Set: (208, 12) (208,)\n",
            "Unlabeled Train Set: (61, 12) (61,)\n",
            "Test Set: (49, 12) (49,)\n",
            "CPU times: user 15.3 ms, sys: 953 µs, total: 16.3 ms\n",
            "Wall time: 15.2 ms\n"
          ]
        }
      ]
    },
    {
      "cell_type": "code",
      "metadata": {
        "colab": {
          "base_uri": "https://localhost:8080/",
          "height": 397
        },
        "id": "ElD7rCgjrDGa",
        "outputId": "44fc65fd-3f71-4065-a6d3-2107d77fe1a0"
      },
      "source": [
        "pd.DataFrame(y_train_mixed).hist()"
      ],
      "execution_count": null,
      "outputs": [
        {
          "output_type": "execute_result",
          "data": {
            "text/plain": [
              "array([[<matplotlib.axes._subplots.AxesSubplot object at 0x7fa8042ee790>]],\n",
              "      dtype=object)"
            ]
          },
          "metadata": {},
          "execution_count": 109
        },
        {
          "output_type": "display_data",
          "data": {
            "image/png": "[encoded data removed]",
            "text/plain": [
              "<Figure size 576x396 with 1 Axes>"
            ]
          },
          "metadata": {}
        }
      ]
    },
    {
      "cell_type": "code",
      "metadata": {
        "colab": {
          "base_uri": "https://localhost:8080/"
        },
        "id": "cViO3laPrDGa",
        "outputId": "7de059b1-492e-45b8-8473-5c1b6cecb298"
      },
      "source": [
        "# define model\n",
        "%%time\n",
        "intrinsic_20_model_bal = LabelSpreading(alpha=1e-4, max_iter=1000,n_neighbors=19, tol=0.24, kernel='knn').fit(X_train_mixed, y_train_mixed)\n",
        "print(intrinsic_20_model_bal.classes_)\n",
        "print(intrinsic_20_model_bal.score(X_train_mixed, y_train_mixed))"
      ],
      "execution_count": null,
      "outputs": [
        {
          "output_type": "stream",
          "name": "stdout",
          "text": [
            "[0. 1.]\n",
            "0.6728624535315985\n",
            "CPU times: user 16.4 ms, sys: 1.91 ms, total: 18.3 ms\n",
            "Wall time: 21.3 ms\n"
          ]
        }
      ]
    },
    {
      "cell_type": "code",
      "metadata": {
        "colab": {
          "base_uri": "https://localhost:8080/"
        },
        "id": "6NkMnPTQrDGa",
        "outputId": "20e193cd-e7b1-43f0-a50a-4920b904871a"
      },
      "source": [
        "y_pred = intrinsic_20_model_bal.predict(X_test)\n",
        "\n",
        "print(f\"{accuracy_score(y_test, y_pred)}\")\n",
        "print(f\"{f1_score(y_test, y_pred)}\")"
      ],
      "execution_count": null,
      "outputs": [
        {
          "output_type": "stream",
          "name": "stdout",
          "text": [
            "0.8775510204081632\n",
            "0.8800000000000001\n"
          ]
        },
        {
          "output_type": "stream",
          "name": "stderr",
          "text": [
            "/usr/local/lib/python3.7/dist-packages/sklearn/base.py:439: UserWarning: X has feature names, but LabelSpreading was fitted without feature names\n",
            "  f\"X has feature names, but {self.__class__.__name__} was fitted without\"\n"
          ]
        }
      ]
    },
    {
      "cell_type": "code",
      "metadata": {
        "id": "POvITjSG13IM"
      },
      "source": [
        "fpr_int_20_bal, tpr_int_20_bal, thresholds_int_20_bal = roc_curve(y_test, y_pred)\n",
        "auc_int_20_bal = auc(fpr_int_20_bal, tpr_int_20_bal)"
      ],
      "execution_count": null,
      "outputs": []
    },
    {
      "cell_type": "markdown",
      "metadata": {
        "id": "ecFwUIioB1eu"
      },
      "source": [
        "# 4. 50% unlabelled, 50% labelled data "
      ]
    },
    {
      "cell_type": "markdown",
      "metadata": {
        "id": "g4qQSqodseoN"
      },
      "source": [
        "### Self Training - Imbalanced"
      ]
    },
    {
      "cell_type": "code",
      "metadata": {
        "colab": {
          "base_uri": "https://localhost:8080/"
        },
        "id": "6MifOP5XseoN",
        "outputId": "75320bf8-450c-47f1-a51f-867431d0c8c4"
      },
      "source": [
        "%%time\n",
        "X_train, y_train, X_test, y_test, X_unlabelled = reset_holdout_splits(X,y,unlabelled_size=0.5, holdout_test_size=0.2)\n",
        "\n",
        "clf = RandomForestClassifier(n_estimators=22, max_depth=9, min_samples_leaf=3, min_samples_split=3, n_jobs=-1)\n",
        "confidence_score = 0.95\n",
        "st_acc_50_imb, st_f1_50_imb, st_50_imb_roc = selfTraining(clf, X_train, y_train, \n",
        "                                                             X_unlabelled, X_test, y_test, confidence_score)"
      ],
      "execution_count": null,
      "outputs": [
        {
          "output_type": "stream",
          "name": "stdout",
          "text": [
            "Iteration 0\n",
            "Test Accuracy: 0.7741935483870968\n",
            "Train f1: 0.9465648854961831\n",
            "Test f1: 0.7999999999999999\n",
            "Now predicting labels for unlabeled data...\n",
            "15 high-probability predictions added to training data.\n",
            "137 unlabeled instances remaining.\n",
            "\n",
            "Iteration 1\n",
            "Test Accuracy: 0.8387096774193549\n",
            "Train f1: 0.9565217391304348\n",
            "Test f1: 0.8484848484848485\n",
            "Now predicting labels for unlabeled data...\n",
            "5 high-probability predictions added to training data.\n",
            "132 unlabeled instances remaining.\n",
            "\n",
            "Iteration 2\n",
            "Test Accuracy: 0.8387096774193549\n",
            "Train f1: 0.963855421686747\n",
            "Test f1: 0.8571428571428571\n",
            "Now predicting labels for unlabeled data...\n",
            "6 high-probability predictions added to training data.\n",
            "126 unlabeled instances remaining.\n",
            "\n",
            "Iteration 3\n",
            "Test Accuracy: 0.8064516129032258\n",
            "Train f1: 0.9456521739130435\n",
            "Test f1: 0.8333333333333333\n",
            "Now predicting labels for unlabeled data...\n",
            "2 high-probability predictions added to training data.\n",
            "124 unlabeled instances remaining.\n",
            "\n",
            "Iteration 4\n",
            "Test Accuracy: 0.8387096774193549\n",
            "Train f1: 0.967741935483871\n",
            "Test f1: 0.8571428571428571\n",
            "Now predicting labels for unlabeled data...\n",
            "3 high-probability predictions added to training data.\n",
            "121 unlabeled instances remaining.\n",
            "\n",
            "Iteration 5\n",
            "Test Accuracy: 0.8064516129032258\n",
            "Train f1: 0.956989247311828\n",
            "Test f1: 0.8333333333333333\n",
            "Now predicting labels for unlabeled data...\n",
            "2 high-probability predictions added to training data.\n",
            "119 unlabeled instances remaining.\n",
            "\n",
            "Iteration 6\n",
            "Test Accuracy: 0.8387096774193549\n",
            "Train f1: 0.9583333333333333\n",
            "Test f1: 0.8571428571428571\n",
            "Now predicting labels for unlabeled data...\n",
            "2 high-probability predictions added to training data.\n",
            "117 unlabeled instances remaining.\n",
            "\n",
            "Iteration 7\n",
            "Test Accuracy: 0.8387096774193549\n",
            "Train f1: 0.9494949494949495\n",
            "Test f1: 0.8571428571428571\n",
            "Now predicting labels for unlabeled data...\n",
            "5 high-probability predictions added to training data.\n",
            "112 unlabeled instances remaining.\n",
            "\n",
            "Iteration 8\n",
            "Test Accuracy: 0.8387096774193549\n",
            "Train f1: 0.9702970297029703\n",
            "Test f1: 0.8571428571428571\n",
            "Now predicting labels for unlabeled data...\n",
            "0 high-probability predictions added to training data.\n",
            "112 unlabeled instances remaining.\n",
            "\n",
            "CPU times: user 969 ms, sys: 162 ms, total: 1.13 s\n",
            "Wall time: 4.9 s\n"
          ]
        }
      ]
    },
    {
      "cell_type": "markdown",
      "metadata": {
        "id": "5LBCVuwTseoO"
      },
      "source": [
        "### Self Training - Balanced"
      ]
    },
    {
      "cell_type": "code",
      "metadata": {
        "colab": {
          "base_uri": "https://localhost:8080/"
        },
        "id": "CFcrMQEhseoO",
        "outputId": "5a227693-77ae-42d8-9031-1dc18c14dab1"
      },
      "source": [
        "%%time\n",
        "X_train, y_train, X_test, y_test, X_unlabelled = reset_holdout_splits(X,y,unlabelled_size=0.5, holdout_test_size=0.2)\n",
        "\n",
        "clf = RandomForestClassifier(n_estimators=22, max_depth=9, min_samples_leaf=3, min_samples_split=3, n_jobs=-1)\n",
        "confidence_score = 0.95\n",
        "st_acc_50_bal, st_f1_50_bal, st_50_bal_roc = selfTraining(clf, X_train, y_train, X_unlabelled,\n",
        "                                                             X_test, y_test, confidence_score, auto_balancing=True)"
      ],
      "execution_count": null,
      "outputs": [
        {
          "output_type": "stream",
          "name": "stdout",
          "text": [
            "Iteration 0\n",
            "Test Accuracy: 0.8387096774193549\n",
            "Train f1: 0.9545454545454547\n",
            "Test f1: 0.8484848484848485\n",
            "Now predicting labels for unlabeled data...\n",
            "7 high-probability predictions added to training data.\n",
            "145 unlabeled instances remaining.\n",
            "\n",
            "Iteration 1\n",
            "Test Accuracy: 0.8064516129032258\n",
            "Train f1: 0.9517241379310345\n",
            "Test f1: 0.8235294117647058\n",
            "Now predicting labels for unlabeled data...\n",
            "6 high-probability predictions added to training data.\n",
            "139 unlabeled instances remaining.\n",
            "\n",
            "Iteration 2\n",
            "Test Accuracy: 0.8064516129032258\n",
            "Train f1: 0.949367088607595\n",
            "Test f1: 0.8125\n",
            "Now predicting labels for unlabeled data...\n",
            "14 high-probability predictions added to training data.\n",
            "125 unlabeled instances remaining.\n",
            "\n",
            "Iteration 3\n",
            "Test Accuracy: 0.8387096774193549\n",
            "Train f1: 0.95906432748538\n",
            "Test f1: 0.8571428571428571\n",
            "Now predicting labels for unlabeled data...\n",
            "3 high-probability predictions added to training data.\n",
            "122 unlabeled instances remaining.\n",
            "\n",
            "Iteration 4\n",
            "Test Accuracy: 0.8387096774193549\n",
            "Train f1: 0.9364161849710982\n",
            "Test f1: 0.8484848484848485\n",
            "Now predicting labels for unlabeled data...\n",
            "4 high-probability predictions added to training data.\n",
            "118 unlabeled instances remaining.\n",
            "\n",
            "Iteration 5\n",
            "Test Accuracy: 0.8387096774193549\n",
            "Train f1: 0.956989247311828\n",
            "Test f1: 0.8484848484848485\n",
            "Now predicting labels for unlabeled data...\n",
            "2 high-probability predictions added to training data.\n",
            "116 unlabeled instances remaining.\n",
            "\n",
            "Iteration 6\n",
            "Test Accuracy: 0.8709677419354839\n",
            "Train f1: 0.9732620320855615\n",
            "Test f1: 0.8749999999999999\n",
            "Now predicting labels for unlabeled data...\n",
            "4 high-probability predictions added to training data.\n",
            "112 unlabeled instances remaining.\n",
            "\n",
            "Iteration 7\n",
            "Test Accuracy: 0.8709677419354839\n",
            "Train f1: 0.9633507853403142\n",
            "Test f1: 0.8749999999999999\n",
            "Now predicting labels for unlabeled data...\n",
            "3 high-probability predictions added to training data.\n",
            "109 unlabeled instances remaining.\n",
            "\n",
            "Iteration 8\n",
            "Test Accuracy: 0.8064516129032258\n",
            "Train f1: 0.9595959595959594\n",
            "Test f1: 0.8235294117647058\n",
            "Now predicting labels for unlabeled data...\n",
            "1 high-probability predictions added to training data.\n",
            "108 unlabeled instances remaining.\n",
            "\n",
            "Iteration 9\n",
            "Test Accuracy: 0.8064516129032258\n",
            "Train f1: 0.9696969696969697\n",
            "Test f1: 0.8235294117647058\n",
            "Now predicting labels for unlabeled data...\n",
            "1 high-probability predictions added to training data.\n",
            "107 unlabeled instances remaining.\n",
            "\n",
            "Iteration 10\n",
            "Test Accuracy: 0.8709677419354839\n",
            "Train f1: 0.9644670050761421\n",
            "Test f1: 0.8823529411764706\n",
            "Now predicting labels for unlabeled data...\n",
            "0 high-probability predictions added to training data.\n",
            "107 unlabeled instances remaining.\n",
            "\n",
            "CPU times: user 1.41 s, sys: 918 ms, total: 2.33 s\n",
            "Wall time: 6.16 s\n"
          ]
        }
      ]
    },
    {
      "cell_type": "markdown",
      "metadata": {
        "id": "eQcidnhnseoO"
      },
      "source": [
        "### Co-Training - Imbalanced"
      ]
    },
    {
      "cell_type": "code",
      "metadata": {
        "colab": {
          "base_uri": "https://localhost:8080/"
        },
        "id": "HAPoWw0nseoO",
        "outputId": "0ce8ddba-8cc4-429a-cb63-2d8c7a81a6fd"
      },
      "source": [
        "%%time\n",
        "X_train, y_train, X_test, y_test, X_unlabelled = reset_holdout_splits(X,y,unlabelled_size=0.5, holdout_test_size=0.2)\n",
        "\n",
        "clf1 = svm.SVC(probability=True, C=10, gamma=1, kernel='rbf')\n",
        "clf2 = RandomForestClassifier(n_estimators=22, max_depth=9, min_samples_leaf=3, min_samples_split=3, n_jobs=-1)\n",
        "\n",
        "view1 = X.columns\n",
        "view2 = X.columns\n",
        "\n",
        "confidence_score = 0.95\n",
        "\n",
        "ct_acc_50_imb, ct_f1_50_imb, ct_50_imb_roc = coTraining(clf1, clf2, view1, view2, X_train,\n",
        "                                                       y_train, X_unlabelled, X_test, y_test, confidence_score)"
      ],
      "execution_count": null,
      "outputs": [
        {
          "output_type": "stream",
          "name": "stdout",
          "text": [
            "Iteration 0, Classifier: 0\n",
            "Clf: 0: Test Accuracy: 0.8709677419354839\n",
            "Clf: 0: Train f1: 1.0\n",
            "Clf: 0: Test f1: 0.8888888888888888\n",
            "Now predicting labels for unlabeled data...\n",
            "0 high-probability predictions added to training data.\n",
            "152 unlabeled instances remaining.\n",
            "\n",
            "CPU times: user 41.7 ms, sys: 0 ns, total: 41.7 ms\n",
            "Wall time: 41.8 ms\n"
          ]
        }
      ]
    },
    {
      "cell_type": "markdown",
      "metadata": {
        "id": "Sjj5TDKGseoO"
      },
      "source": [
        "### Co-Training - Balanced"
      ]
    },
    {
      "cell_type": "code",
      "metadata": {
        "colab": {
          "base_uri": "https://localhost:8080/"
        },
        "id": "E6aYad8rseoO",
        "outputId": "a42dcde2-0e08-4de2-9c80-1a873c831669"
      },
      "source": [
        "%%time\n",
        "X_train, y_train, X_test, y_test, X_unlabelled = reset_holdout_splits(X,y,unlabelled_size=0.5, holdout_test_size=0.2)\n",
        "\n",
        "clf1 = svm.SVC(probability=True, C=10, gamma=1, kernel='rbf')\n",
        "clf2 = RandomForestClassifier(n_estimators=22, max_depth=9, min_samples_leaf=3, min_samples_split=3, n_jobs=-1)\n",
        "\n",
        "view1 = X.columns\n",
        "view2 = X.columns\n",
        "\n",
        "confidence_score = 0.95\n",
        "\n",
        "ct_acc_50_bal, ct_f1_50_bal, ct_50_bal_roc = coTraining(clf1, clf2, view1, view2, X_train, y_train, \n",
        "                                                       X_unlabelled, X_test, y_test, confidence_score,\n",
        "                                                       auto_balancing=True)"
      ],
      "execution_count": null,
      "outputs": [
        {
          "output_type": "stream",
          "name": "stdout",
          "text": [
            "Iteration 0, Classifier: 0\n",
            "Clf: 0: Test Accuracy: 0.8709677419354839\n",
            "Clf: 0: Train f1: 1.0\n",
            "Clf: 0: Test f1: 0.8888888888888888\n",
            "Now predicting labels for unlabeled data...\n",
            "0 high-probability predictions added to training data.\n",
            "152 unlabeled instances remaining.\n",
            "\n",
            "CPU times: user 47.4 ms, sys: 5 ms, total: 52.4 ms\n",
            "Wall time: 47.4 ms\n"
          ]
        }
      ]
    },
    {
      "cell_type": "markdown",
      "metadata": {
        "id": "kv4wyo0hseoO"
      },
      "source": [
        "### Semi-Supervised Ensemble - Imbalanced"
      ]
    },
    {
      "cell_type": "code",
      "metadata": {
        "colab": {
          "base_uri": "https://localhost:8080/"
        },
        "id": "p27HfVNWseoO",
        "outputId": "bf409289-bb6b-4b3e-a2e1-46cc2686d909"
      },
      "source": [
        "%%time\n",
        "import xgboost as xgb \n",
        "X_train, y_train, X_test, y_test, X_unlabelled = reset_holdout_splits(X,y,unlabelled_size=0.5, holdout_test_size=0.2)\n",
        "\n",
        "clf = xgb.XGBClassifier(verbosity=0)\n",
        "\n",
        "confidence_score = 0.95\n",
        "sse_acc_50_imb, sse_f1_50_imb, sse_50_imb_roc = boosting_assemble(clf, X_train, y_train, X_unlabelled,\n",
        "                                                             X_test, y_test, confidence_score,auto_balancing=False)\n"
      ],
      "execution_count": null,
      "outputs": [
        {
          "output_type": "stream",
          "name": "stdout",
          "text": [
            "Iteration 0\n",
            "Test Accuracy: 0.9032258064516129\n",
            "Train f1: 1.0\n",
            "Test f1: 0.9090909090909091\n",
            "Now predicting labels for unlabeled data...\n",
            "76 high-probability predictions added to training data.\n",
            "76 unlabeled instances remaining.\n",
            "\n",
            "Iteration 1\n",
            "Test Accuracy: 0.9032258064516129\n",
            "Train f1: 1.0\n",
            "Test f1: 0.9090909090909091\n",
            "Now predicting labels for unlabeled data...\n",
            "17 high-probability predictions added to training data.\n",
            "59 unlabeled instances remaining.\n",
            "\n",
            "Iteration 2\n",
            "Test Accuracy: 0.9032258064516129\n",
            "Train f1: 1.0\n",
            "Test f1: 0.9090909090909091\n",
            "Now predicting labels for unlabeled data...\n",
            "6 high-probability predictions added to training data.\n",
            "53 unlabeled instances remaining.\n",
            "\n",
            "Iteration 3\n",
            "Test Accuracy: 0.8709677419354839\n",
            "Train f1: 1.0\n",
            "Test f1: 0.8823529411764706\n",
            "Now predicting labels for unlabeled data...\n",
            "2 high-probability predictions added to training data.\n",
            "51 unlabeled instances remaining.\n",
            "\n",
            "Iteration 4\n",
            "Test Accuracy: 0.8709677419354839\n",
            "Train f1: 1.0\n",
            "Test f1: 0.8823529411764706\n",
            "Now predicting labels for unlabeled data...\n",
            "0 high-probability predictions added to training data.\n",
            "51 unlabeled instances remaining.\n",
            "\n",
            "CPU times: user 235 ms, sys: 6.79 ms, total: 242 ms\n",
            "Wall time: 246 ms\n"
          ]
        }
      ]
    },
    {
      "cell_type": "markdown",
      "metadata": {
        "id": "Z4Tk-Q9vseoO"
      },
      "source": [
        "### Semi-Supervised Ensemble - Balanced"
      ]
    },
    {
      "cell_type": "code",
      "metadata": {
        "colab": {
          "base_uri": "https://localhost:8080/"
        },
        "id": "ilxoafGEseoP",
        "outputId": "4b6dfe3a-c06b-415c-d875-9e72768440fd"
      },
      "source": [
        "%%time\n",
        "import xgboost as xgb \n",
        "X_train, y_train, X_test, y_test, X_unlabelled = reset_holdout_splits(X,y,unlabelled_size=0.5, holdout_test_size=0.2)\n",
        "\n",
        "clf = xgb.XGBClassifier(verbosity=0)\n",
        "\n",
        "confidence_score = 0.95\n",
        "sse_acc_50_bal, sse_f1_50_bal, sse_50_bal_roc = boosting_assemble(clf, X_train, y_train, X_unlabelled,\n",
        "                                                             X_test, y_test, confidence_score,auto_balancing=True)\n"
      ],
      "execution_count": null,
      "outputs": [
        {
          "output_type": "stream",
          "name": "stdout",
          "text": [
            "Iteration 0\n",
            "Test Accuracy: 0.9032258064516129\n",
            "Train f1: 1.0\n",
            "Test f1: 0.9090909090909091\n",
            "Now predicting labels for unlabeled data...\n",
            "76 high-probability predictions added to training data.\n",
            "76 unlabeled instances remaining.\n",
            "\n",
            "Iteration 1\n",
            "Test Accuracy: 0.9032258064516129\n",
            "Train f1: 1.0\n",
            "Test f1: 0.9090909090909091\n",
            "Now predicting labels for unlabeled data...\n",
            "18 high-probability predictions added to training data.\n",
            "58 unlabeled instances remaining.\n",
            "\n",
            "Iteration 2\n",
            "Test Accuracy: 0.9032258064516129\n",
            "Train f1: 1.0\n",
            "Test f1: 0.9090909090909091\n",
            "Now predicting labels for unlabeled data...\n",
            "5 high-probability predictions added to training data.\n",
            "53 unlabeled instances remaining.\n",
            "\n",
            "Iteration 3\n",
            "Test Accuracy: 0.9032258064516129\n",
            "Train f1: 1.0\n",
            "Test f1: 0.9090909090909091\n",
            "Now predicting labels for unlabeled data...\n",
            "2 high-probability predictions added to training data.\n",
            "51 unlabeled instances remaining.\n",
            "\n",
            "Iteration 4\n",
            "Test Accuracy: 0.9032258064516129\n",
            "Train f1: 1.0\n",
            "Test f1: 0.9090909090909091\n",
            "Now predicting labels for unlabeled data...\n",
            "1 high-probability predictions added to training data.\n",
            "50 unlabeled instances remaining.\n",
            "\n",
            "Iteration 5\n",
            "Test Accuracy: 0.9032258064516129\n",
            "Train f1: 1.0\n",
            "Test f1: 0.9090909090909091\n",
            "Now predicting labels for unlabeled data...\n",
            "1 high-probability predictions added to training data.\n",
            "49 unlabeled instances remaining.\n",
            "\n",
            "Iteration 6\n",
            "Test Accuracy: 0.9032258064516129\n",
            "Train f1: 1.0\n",
            "Test f1: 0.9090909090909091\n",
            "Now predicting labels for unlabeled data...\n",
            "1 high-probability predictions added to training data.\n",
            "48 unlabeled instances remaining.\n",
            "\n",
            "Iteration 7\n",
            "Test Accuracy: 0.9032258064516129\n",
            "Train f1: 1.0\n",
            "Test f1: 0.9090909090909091\n",
            "Now predicting labels for unlabeled data...\n",
            "0 high-probability predictions added to training data.\n",
            "48 unlabeled instances remaining.\n",
            "\n",
            "CPU times: user 657 ms, sys: 447 ms, total: 1.1 s\n",
            "Wall time: 647 ms\n"
          ]
        }
      ]
    },
    {
      "cell_type": "markdown",
      "source": [
        "### Unsupervised labelling - Imbalanced"
      ],
      "metadata": {
        "id": "2krPb1_5wsFw"
      }
    },
    {
      "cell_type": "code",
      "source": [
        "%%time\n",
        "X_train, y_train, X_test, y_test, X_unlabelled = reset_holdout_splits(X,y,\n",
        "                                                                      unlabelled_size=0.5, holdout_test_size=0.2)\n",
        "\n",
        "\n",
        "clf = RandomForestClassifier(n_estimators=22, max_depth=9, min_samples_leaf=3, min_samples_split=3, n_jobs=-1)\n",
        "confidence_score = 0.95\n",
        "usl_acc_50_imb, usl_f1_50_imb, usl_50_imb_roc = unsupervised_labelling(clf, X_train, y_train, \n",
        "                                                             X_unlabelled, X_test, y_test, confidence_score,auto_balancing=False)"
      ],
      "metadata": {
        "id": "UiLBKA93xil0",
        "colab": {
          "base_uri": "https://localhost:8080/"
        },
        "outputId": "258e4a37-aed1-4870-f2ca-aa53a76bed30"
      },
      "execution_count": null,
      "outputs": [
        {
          "output_type": "stream",
          "name": "stdout",
          "text": [
            "(151, 23) (151,)\n",
            "Iteration 0\n",
            "Test Accuracy: 0.8125\n",
            "Train f1: 0.9315068493150684\n",
            "Test f1: 0.8421052631578948\n",
            "Now predicting labels for unlabeled data...\n",
            "21 high-probability predictions added to training data.\n",
            "131 unlabeled instances remaining.\n",
            "\n",
            "Iteration 1\n",
            "Test Accuracy: 0.875\n",
            "Train f1: 0.9405405405405404\n",
            "Test f1: 0.9\n",
            "Now predicting labels for unlabeled data...\n",
            "6 high-probability predictions added to training data.\n",
            "125 unlabeled instances remaining.\n",
            "\n",
            "Iteration 2\n",
            "Test Accuracy: 0.75\n",
            "Train f1: 0.924731182795699\n",
            "Test f1: 0.7999999999999999\n",
            "Now predicting labels for unlabeled data...\n",
            "10 high-probability predictions added to training data.\n",
            "115 unlabeled instances remaining.\n",
            "\n",
            "Iteration 3\n",
            "Test Accuracy: 0.875\n",
            "Train f1: 0.941747572815534\n",
            "Test f1: 0.9\n",
            "Now predicting labels for unlabeled data...\n",
            "7 high-probability predictions added to training data.\n",
            "108 unlabeled instances remaining.\n",
            "\n",
            "Iteration 4\n",
            "Test Accuracy: 0.8125\n",
            "Train f1: 0.9596412556053813\n",
            "Test f1: 0.8421052631578948\n",
            "Now predicting labels for unlabeled data...\n",
            "2 high-probability predictions added to training data.\n",
            "106 unlabeled instances remaining.\n",
            "\n",
            "Iteration 5\n",
            "Test Accuracy: 0.875\n",
            "Train f1: 0.9502262443438915\n",
            "Test f1: 0.9\n",
            "Now predicting labels for unlabeled data...\n",
            "2 high-probability predictions added to training data.\n",
            "104 unlabeled instances remaining.\n",
            "\n",
            "Iteration 6\n",
            "Test Accuracy: 0.75\n",
            "Train f1: 0.9553571428571429\n",
            "Test f1: 0.7999999999999999\n",
            "Now predicting labels for unlabeled data...\n",
            "4 high-probability predictions added to training data.\n",
            "100 unlabeled instances remaining.\n",
            "\n",
            "Iteration 7\n",
            "Test Accuracy: 0.75\n",
            "Train f1: 0.9511111111111112\n",
            "Test f1: 0.7999999999999999\n",
            "Now predicting labels for unlabeled data...\n",
            "0 high-probability predictions added to training data.\n",
            "100 unlabeled instances remaining.\n",
            "\n",
            "CPU times: user 938 ms, sys: 157 ms, total: 1.09 s\n",
            "Wall time: 4.4 s\n"
          ]
        }
      ]
    },
    {
      "cell_type": "markdown",
      "source": [
        "### Unsupervised labelling - Balanced"
      ],
      "metadata": {
        "id": "_Whp7t62w8Ml"
      }
    },
    {
      "cell_type": "code",
      "source": [
        "%%time\n",
        "X_train, y_train, X_test, y_test, X_unlabelled = reset_holdout_splits(X,y,\n",
        "                                                                      unlabelled_size=0.5, holdout_test_size=0.2)\n",
        "\n",
        "clf = RandomForestClassifier(n_estimators=22, max_depth=9, min_samples_leaf=3, min_samples_split=3, n_jobs=-1)\n",
        "confidence_score = 0.95\n",
        "usl_acc_50_bal, usl_f1_50_bal, usl_50_bal_roc = unsupervised_labelling(clf, X_train, y_train, \n",
        "                                                             X_unlabelled, X_test, y_test, confidence_score,auto_balancing=True)"
      ],
      "metadata": {
        "id": "BFBJFOtPylMd",
        "colab": {
          "base_uri": "https://localhost:8080/"
        },
        "outputId": "5b0b7a20-159d-43de-d908-b9d1aebad340"
      },
      "execution_count": null,
      "outputs": [
        {
          "output_type": "stream",
          "name": "stdout",
          "text": [
            "(151, 23) (151,)\n",
            "Iteration 0\n",
            "Test Accuracy: 0.9375\n",
            "Train f1: 0.9370629370629371\n",
            "Test f1: 0.9411764705882353\n",
            "Now predicting labels for unlabeled data...\n",
            "13 high-probability predictions added to training data.\n",
            "doing balancing\n",
            "applying smote\n",
            "139 unlabeled instances remaining.\n",
            "\n",
            "Iteration 1\n",
            "Test Accuracy: 0.9375\n",
            "Train f1: 0.9411764705882353\n",
            "Test f1: 0.9473684210526316\n",
            "Now predicting labels for unlabeled data...\n",
            "13 high-probability predictions added to training data.\n",
            "doing balancing\n",
            "applying smote\n",
            "126 unlabeled instances remaining.\n",
            "\n",
            "Iteration 2\n",
            "Test Accuracy: 0.875\n",
            "Train f1: 0.9456521739130435\n",
            "Test f1: 0.8750000000000001\n",
            "Now predicting labels for unlabeled data...\n",
            "9 high-probability predictions added to training data.\n",
            "doing balancing\n",
            "applying smote\n",
            "117 unlabeled instances remaining.\n",
            "\n",
            "Iteration 3\n",
            "Test Accuracy: 0.875\n",
            "Train f1: 0.9587628865979382\n",
            "Test f1: 0.8750000000000001\n",
            "Now predicting labels for unlabeled data...\n",
            "6 high-probability predictions added to training data.\n",
            "doing balancing\n",
            "applying smote\n",
            "111 unlabeled instances remaining.\n",
            "\n",
            "Iteration 4\n",
            "Test Accuracy: 0.8125\n",
            "Train f1: 0.96\n",
            "Test f1: 0.823529411764706\n",
            "Now predicting labels for unlabeled data...\n",
            "2 high-probability predictions added to training data.\n",
            "doing balancing\n",
            "applying smote\n",
            "109 unlabeled instances remaining.\n",
            "\n",
            "Iteration 5\n",
            "Test Accuracy: 0.9375\n",
            "Train f1: 0.9560975609756097\n",
            "Test f1: 0.9411764705882353\n",
            "Now predicting labels for unlabeled data...\n",
            "2 high-probability predictions added to training data.\n",
            "doing balancing\n",
            "applying smote\n",
            "107 unlabeled instances remaining.\n",
            "\n",
            "Iteration 6\n",
            "Test Accuracy: 0.875\n",
            "Train f1: 0.957345971563981\n",
            "Test f1: 0.8750000000000001\n",
            "Now predicting labels for unlabeled data...\n",
            "1 high-probability predictions added to training data.\n",
            "doing balancing\n",
            "applying smote\n",
            "106 unlabeled instances remaining.\n",
            "\n",
            "Iteration 7\n",
            "Test Accuracy: 0.9375\n",
            "Train f1: 0.9671361502347416\n",
            "Test f1: 0.9411764705882353\n",
            "Now predicting labels for unlabeled data...\n",
            "2 high-probability predictions added to training data.\n",
            "doing balancing\n",
            "104 unlabeled instances remaining.\n",
            "\n",
            "Iteration 8\n",
            "Test Accuracy: 0.875\n",
            "Train f1: 0.9622641509433962\n",
            "Test f1: 0.8750000000000001\n",
            "Now predicting labels for unlabeled data...\n",
            "0 high-probability predictions added to training data.\n",
            "doing balancing\n",
            "104 unlabeled instances remaining.\n",
            "\n",
            "CPU times: user 1.25 s, sys: 815 ms, total: 2.07 s\n",
            "Wall time: 5.14 s\n"
          ]
        }
      ]
    },
    {
      "cell_type": "markdown",
      "metadata": {
        "id": "Zk-zC-IaseoP"
      },
      "source": [
        "### Intrinsic - LabelSpreading - Imbalanced"
      ]
    },
    {
      "cell_type": "code",
      "metadata": {
        "colab": {
          "base_uri": "https://localhost:8080/"
        },
        "id": "deA1Q7tYseoP",
        "outputId": "530690f4-5781-4cd8-c89e-23404f6d7df1"
      },
      "source": [
        "%%time\n",
        "# split data into labeled and unlabeled\n",
        "X_lab, X_unlab, y_lab, y_unlab = train_test_split(X_scaled_int , y, test_size=0.50, random_state=1, stratify=y)\n",
        "\n",
        "# Split the labelled data into train and test\n",
        "X_train, X_test, y_train, y_test = train_test_split(X_lab, y_lab, test_size=0.20, random_state=1, stratify=y_lab)\n",
        "\n",
        "# create the training dataset input\n",
        "X_train_mixed = np.concatenate((X_train, X_unlab))\n",
        "\n",
        "# create \"no label\" for unlabeled data\n",
        "nolabel = [-1 for _ in range(len(y_unlab))]\n",
        "\n",
        "# recombine training dataset labels\n",
        "y_train_mixed = np.concatenate((y_train, nolabel))\n",
        "\n",
        "# summarize training set size\n",
        "print('Labeled Train Set:', X_train.shape, y_train.shape)\n",
        "print('Unlabeled Train Set:', X_unlab.shape, y_unlab.shape)\n",
        "\n",
        "# summarize test set size\n",
        "print('Test Set:', X_test.shape, y_test.shape)"
      ],
      "execution_count": null,
      "outputs": [
        {
          "output_type": "stream",
          "name": "stdout",
          "text": [
            "Labeled Train Set: (120, 12) (120,)\n",
            "Unlabeled Train Set: (152, 12) (152,)\n",
            "Test Set: (31, 12) (31,)\n",
            "CPU times: user 5.7 ms, sys: 0 ns, total: 5.7 ms\n",
            "Wall time: 5.55 ms\n"
          ]
        }
      ]
    },
    {
      "cell_type": "code",
      "metadata": {
        "colab": {
          "base_uri": "https://localhost:8080/",
          "height": 397
        },
        "id": "OMjGfWYsseoP",
        "outputId": "f96e88d9-35b6-4cdb-aecc-29cfe6c8dcda"
      },
      "source": [
        "pd.DataFrame(y_train_mixed).hist()"
      ],
      "execution_count": null,
      "outputs": [
        {
          "output_type": "execute_result",
          "data": {
            "text/plain": [
              "array([[<matplotlib.axes._subplots.AxesSubplot object at 0x7fa8031c25d0>]],\n",
              "      dtype=object)"
            ]
          },
          "metadata": {},
          "execution_count": 122
        },
        {
          "output_type": "display_data",
          "data": {
            "image/png": "[encoded data removed]",
            "text/plain": [
              "<Figure size 576x396 with 1 Axes>"
            ]
          },
          "metadata": {}
        }
      ]
    },
    {
      "cell_type": "code",
      "metadata": {
        "colab": {
          "base_uri": "https://localhost:8080/"
        },
        "id": "vMNY9QzTseoP",
        "outputId": "0cb1aaa5-2267-4864-e87f-e4787a391cf3"
      },
      "source": [
        "# define model\n",
        "%%time\n",
        "intrinsic_50_model_imb = LabelSpreading(alpha=1e-4, max_iter=1000,n_neighbors=19, tol=0.24, kernel='knn').fit(X_train_mixed, y_train_mixed)\n",
        "print(intrinsic_50_model_imb.classes_)\n",
        "print(intrinsic_50_model_imb.score(X_train_mixed, y_train_mixed))"
      ],
      "execution_count": null,
      "outputs": [
        {
          "output_type": "stream",
          "name": "stdout",
          "text": [
            "[0. 1.]\n",
            "0.375\n",
            "CPU times: user 17.2 ms, sys: 1.07 ms, total: 18.3 ms\n",
            "Wall time: 21.4 ms\n"
          ]
        }
      ]
    },
    {
      "cell_type": "code",
      "metadata": {
        "colab": {
          "base_uri": "https://localhost:8080/"
        },
        "id": "vK2fEtm-seoP",
        "outputId": "2c567a75-bb32-46bf-f9aa-4b05981a7288"
      },
      "source": [
        "y_pred = intrinsic_50_model_imb.predict(X_test)\n",
        "print(f\"{accuracy_score(y_test, y_pred)}\")\n",
        "print(f\"{f1_score(y_test, y_pred)}\")"
      ],
      "execution_count": null,
      "outputs": [
        {
          "output_type": "stream",
          "name": "stdout",
          "text": [
            "0.8709677419354839\n",
            "0.8823529411764706\n"
          ]
        },
        {
          "output_type": "stream",
          "name": "stderr",
          "text": [
            "/usr/local/lib/python3.7/dist-packages/sklearn/base.py:439: UserWarning: X has feature names, but LabelSpreading was fitted without feature names\n",
            "  f\"X has feature names, but {self.__class__.__name__} was fitted without\"\n"
          ]
        }
      ]
    },
    {
      "cell_type": "code",
      "metadata": {
        "id": "TE0O14ks1hWX"
      },
      "source": [
        "fpr_int_50_imb, tpr_int_50_imb, thresholds_int_50_imb = roc_curve(y_test, y_pred)\n",
        "auc_int_50_imb = auc(fpr_int_50_imb, tpr_int_50_imb)"
      ],
      "execution_count": null,
      "outputs": []
    },
    {
      "cell_type": "markdown",
      "metadata": {
        "id": "qi9NBjIeseoP"
      },
      "source": [
        "### Intrinsic - LabelSpreading - Balanced"
      ]
    },
    {
      "cell_type": "code",
      "metadata": {
        "colab": {
          "base_uri": "https://localhost:8080/"
        },
        "id": "0rlAATUuseoP",
        "outputId": "78e747f0-1514-4428-c01d-7759eb25655a"
      },
      "source": [
        "%%time\n",
        "# split data into labeled and unlabeled\n",
        "X_lab, X_unlab, y_lab, y_unlab = train_test_split(X_scaled_int , y, test_size=0.50, random_state=1, stratify=y)\n",
        "\n",
        "# Split the labelled data into train and test\n",
        "X_train, X_test, y_train, y_test = train_test_split(X_lab, y_lab, test_size=0.20, random_state=1, stratify=y_lab)\n",
        "\n",
        "over_sampler = SMOTE(sampling_strategy=1.0)\n",
        "X_train_sampled, y_train_sampled = over_sampler.fit_resample(X_train, y_train)\n",
        "\n",
        "# create the training dataset input\n",
        "X_train_mixed = np.concatenate((X_train_sampled, X_unlab))\n",
        "\n",
        "# create \"no label\" for unlabeled data\n",
        "nolabel = [-1 for _ in range(len(y_unlab))]\n",
        "\n",
        "# recombine training dataset labels\n",
        "y_train_mixed = np.concatenate((y_train_sampled, nolabel))\n",
        "\n",
        "# summarize training set size\n",
        "print('Labeled Train Set:', X_train_sampled.shape, y_train_sampled.shape)\n",
        "print('Unlabeled Train Set:', X_unlab.shape, y_unlab.shape)\n",
        "\n",
        "# summarize test set size\n",
        "print('Test Set:', X_test.shape, y_test.shape)"
      ],
      "execution_count": null,
      "outputs": [
        {
          "output_type": "stream",
          "name": "stdout",
          "text": [
            "Labeled Train Set: (130, 12) (130,)\n",
            "Unlabeled Train Set: (152, 12) (152,)\n",
            "Test Set: (31, 12) (31,)\n",
            "CPU times: user 13.2 ms, sys: 4 µs, total: 13.2 ms\n",
            "Wall time: 12.6 ms\n"
          ]
        }
      ]
    },
    {
      "cell_type": "code",
      "metadata": {
        "colab": {
          "base_uri": "https://localhost:8080/",
          "height": 397
        },
        "id": "c1ZSxXkIseoQ",
        "outputId": "d4029159-e2fe-433f-dcd1-be48f82ea1a6"
      },
      "source": [
        "pd.DataFrame(y_train_mixed).hist()"
      ],
      "execution_count": null,
      "outputs": [
        {
          "output_type": "execute_result",
          "data": {
            "text/plain": [
              "array([[<matplotlib.axes._subplots.AxesSubplot object at 0x7fa8041bc410>]],\n",
              "      dtype=object)"
            ]
          },
          "metadata": {},
          "execution_count": 127
        },
        {
          "output_type": "display_data",
          "data": {
            "image/png": "[encoded data removed]",
            "text/plain": [
              "<Figure size 576x396 with 1 Axes>"
            ]
          },
          "metadata": {}
        }
      ]
    },
    {
      "cell_type": "code",
      "metadata": {
        "colab": {
          "base_uri": "https://localhost:8080/"
        },
        "id": "HwXQbEaAseoQ",
        "outputId": "5e795126-a65c-4a04-def7-330adcafc56e"
      },
      "source": [
        "# define model\n",
        "%%time\n",
        "intrinsic_50_model_bal = LabelSpreading(alpha=1e-4, max_iter=1000,n_neighbors=19, tol=0.24, kernel='knn').fit(X_train_mixed, y_train_mixed)\n",
        "print(intrinsic_50_model_bal.classes_)\n",
        "print(intrinsic_50_model_bal.score(X_train_mixed, y_train_mixed))"
      ],
      "execution_count": null,
      "outputs": [
        {
          "output_type": "stream",
          "name": "stdout",
          "text": [
            "[0. 1.]\n",
            "0.3971631205673759\n",
            "CPU times: user 18.9 ms, sys: 0 ns, total: 18.9 ms\n",
            "Wall time: 20.8 ms\n"
          ]
        }
      ]
    },
    {
      "cell_type": "code",
      "metadata": {
        "colab": {
          "base_uri": "https://localhost:8080/"
        },
        "id": "0i_lJF9mseoQ",
        "outputId": "a1d56260-a7a7-43df-9e49-5400fc56e472"
      },
      "source": [
        "y_pred = intrinsic_50_model_bal.predict(X_test)\n",
        "\n",
        "print(f\"{accuracy_score(y_test, y_pred)}\")\n",
        "print(f\"{f1_score(y_test, y_pred)}\")"
      ],
      "execution_count": null,
      "outputs": [
        {
          "output_type": "stream",
          "name": "stdout",
          "text": [
            "0.8709677419354839\n",
            "0.8749999999999999\n"
          ]
        },
        {
          "output_type": "stream",
          "name": "stderr",
          "text": [
            "/usr/local/lib/python3.7/dist-packages/sklearn/base.py:439: UserWarning: X has feature names, but LabelSpreading was fitted without feature names\n",
            "  f\"X has feature names, but {self.__class__.__name__} was fitted without\"\n"
          ]
        }
      ]
    },
    {
      "cell_type": "code",
      "metadata": {
        "id": "qlWAC73E19N2"
      },
      "source": [
        "fpr_int_50_bal, tpr_int_50_bal, thresholds_int_50_bal = roc_curve(y_test, y_pred)\n",
        "auc_int_50_bal = auc(fpr_int_50_bal, tpr_int_50_bal)"
      ],
      "execution_count": null,
      "outputs": []
    },
    {
      "cell_type": "markdown",
      "metadata": {
        "id": "c5acsBdZDaEE"
      },
      "source": [
        "# 5. 90% unlabelled, 10% labelled data "
      ]
    },
    {
      "cell_type": "markdown",
      "metadata": {
        "id": "bxupbLwqtXfc"
      },
      "source": [
        "### Self Training - Imbalanced"
      ]
    },
    {
      "cell_type": "code",
      "metadata": {
        "colab": {
          "base_uri": "https://localhost:8080/"
        },
        "id": "cOIYqyKstXfd",
        "outputId": "d809aec6-044e-4d8f-c105-1887685e2e9a"
      },
      "source": [
        "%%time\n",
        "X_train, y_train, X_test, y_test, X_unlabelled = reset_holdout_splits(X,y,unlabelled_size=0.9, holdout_test_size=0.2)\n",
        "\n",
        "clf = RandomForestClassifier(n_estimators=22, max_depth=9, min_samples_leaf=3, min_samples_split=3, n_jobs=-1)\n",
        "confidence_score = 0.95\n",
        "st_acc_90_imb, st_f1_90_imb, st_90_imb_roc = selfTraining(clf, X_train, y_train, \n",
        "                                                             X_unlabelled, X_test, y_test, confidence_score)"
      ],
      "execution_count": null,
      "outputs": [
        {
          "output_type": "stream",
          "name": "stdout",
          "text": [
            "Iteration 0\n",
            "Test Accuracy: 0.6666666666666666\n",
            "Train f1: 1.0\n",
            "Test f1: 0.6666666666666666\n",
            "Now predicting labels for unlabeled data...\n",
            "0 high-probability predictions added to training data.\n",
            "273 unlabeled instances remaining.\n",
            "\n",
            "CPU times: user 114 ms, sys: 19.5 ms, total: 133 ms\n",
            "Wall time: 548 ms\n"
          ]
        }
      ]
    },
    {
      "cell_type": "markdown",
      "metadata": {
        "id": "UHCcZwcitXfe"
      },
      "source": [
        "### Self Training - Balanced"
      ]
    },
    {
      "cell_type": "code",
      "metadata": {
        "colab": {
          "base_uri": "https://localhost:8080/"
        },
        "id": "aKtZ08QctXff",
        "outputId": "90f8dfda-1f2f-4e16-ea7a-3c90748cf1aa"
      },
      "source": [
        "%%time\n",
        "X_train, y_train, X_test, y_test, X_unlabelled = reset_holdout_splits(X,y,unlabelled_size=0.9, holdout_test_size=0.2)\n",
        "\n",
        "clf = RandomForestClassifier(n_estimators=22, max_depth=9, min_samples_leaf=3, min_samples_split=3, n_jobs=-1)\n",
        "confidence_score = 0.95\n",
        "st_acc_90_bal, st_f1_90_bal, st_90_bal_roc = selfTraining(clf, X_train, y_train, X_unlabelled,\n",
        "                                                             X_test, y_test, confidence_score, auto_balancing=True)"
      ],
      "execution_count": null,
      "outputs": [
        {
          "output_type": "stream",
          "name": "stdout",
          "text": [
            "Iteration 0\n",
            "Test Accuracy: 0.6666666666666666\n",
            "Train f1: 1.0\n",
            "Test f1: 0.6666666666666666\n",
            "Now predicting labels for unlabeled data...\n",
            "1 high-probability predictions added to training data.\n",
            "272 unlabeled instances remaining.\n",
            "\n",
            "Iteration 1\n",
            "Test Accuracy: 0.5\n",
            "Train f1: 1.0\n",
            "Test f1: 0.5714285714285715\n",
            "Now predicting labels for unlabeled data...\n",
            "0 high-probability predictions added to training data.\n",
            "272 unlabeled instances remaining.\n",
            "\n",
            "CPU times: user 240 ms, sys: 145 ms, total: 385 ms\n",
            "Wall time: 1.12 s\n"
          ]
        }
      ]
    },
    {
      "cell_type": "markdown",
      "metadata": {
        "id": "wCBVQLIqtXfg"
      },
      "source": [
        "### Co-Training - Imbalanced"
      ]
    },
    {
      "cell_type": "code",
      "metadata": {
        "colab": {
          "base_uri": "https://localhost:8080/"
        },
        "id": "dH1OplTatXfg",
        "outputId": "478b3461-85c3-49c5-8d41-e3699cafb620"
      },
      "source": [
        "%%time\n",
        "X_train, y_train, X_test, y_test, X_unlabelled = reset_holdout_splits(X,y,unlabelled_size=0.9, holdout_test_size=0.2)\n",
        "\n",
        "clf1 = svm.SVC(probability=True, C=10, gamma=1, kernel='rbf')\n",
        "clf2 = RandomForestClassifier(n_estimators=22, max_depth=9, min_samples_leaf=3, min_samples_split=3, n_jobs=-1)\n",
        "\n",
        "view1 = X.columns\n",
        "view2 = X.columns\n",
        "\n",
        "confidence_score = 0.95\n",
        "\n",
        "ct_acc_90_imb, ct_f1_90_imb, ct_90_imb_roc = coTraining(clf1, clf2, view1, view2, X_train,\n",
        "                                                       y_train, X_unlabelled, X_test, y_test, confidence_score)"
      ],
      "execution_count": null,
      "outputs": [
        {
          "output_type": "stream",
          "name": "stdout",
          "text": [
            "Iteration 0, Classifier: 0\n",
            "Clf: 0: Test Accuracy: 0.8333333333333334\n",
            "Clf: 0: Train f1: 1.0\n",
            "Clf: 0: Test f1: 0.8\n",
            "Now predicting labels for unlabeled data...\n",
            "41 high-probability predictions added to training data.\n",
            "232 unlabeled instances remaining.\n",
            "\n",
            "Iteration 1, Classifier: 1\n",
            "Clf: 1: Test Accuracy: 0.5\n",
            "Clf: 1: Train f1: 1.0\n",
            "Clf: 1: Test f1: 0.5714285714285715\n",
            "Now predicting labels for unlabeled data...\n",
            "9 high-probability predictions added to training data.\n",
            "223 unlabeled instances remaining.\n",
            "\n",
            "Iteration 2, Classifier: 0\n",
            "Clf: 0: Test Accuracy: 0.6666666666666666\n",
            "Clf: 0: Train f1: 1.0\n",
            "Clf: 0: Test f1: 0.6666666666666666\n",
            "Now predicting labels for unlabeled data...\n",
            "8 high-probability predictions added to training data.\n",
            "215 unlabeled instances remaining.\n",
            "\n",
            "Iteration 3, Classifier: 1\n",
            "Clf: 1: Test Accuracy: 0.6666666666666666\n",
            "Clf: 1: Train f1: 1.0\n",
            "Clf: 1: Test f1: 0.7499999999999999\n",
            "Now predicting labels for unlabeled data...\n",
            "2 high-probability predictions added to training data.\n",
            "213 unlabeled instances remaining.\n",
            "\n",
            "Iteration 4, Classifier: 0\n",
            "Clf: 0: Test Accuracy: 0.6666666666666666\n",
            "Clf: 0: Train f1: 1.0\n",
            "Clf: 0: Test f1: 0.6666666666666666\n",
            "Now predicting labels for unlabeled data...\n",
            "13 high-probability predictions added to training data.\n",
            "200 unlabeled instances remaining.\n",
            "\n",
            "Iteration 5, Classifier: 1\n",
            "Clf: 1: Test Accuracy: 0.6666666666666666\n",
            "Clf: 1: Train f1: 1.0\n",
            "Clf: 1: Test f1: 0.7499999999999999\n",
            "Now predicting labels for unlabeled data...\n",
            "6 high-probability predictions added to training data.\n",
            "194 unlabeled instances remaining.\n",
            "\n",
            "Iteration 6, Classifier: 0\n",
            "Clf: 0: Test Accuracy: 0.6666666666666666\n",
            "Clf: 0: Train f1: 1.0\n",
            "Clf: 0: Test f1: 0.6666666666666666\n",
            "Now predicting labels for unlabeled data...\n",
            "9 high-probability predictions added to training data.\n",
            "185 unlabeled instances remaining.\n",
            "\n",
            "Iteration 7, Classifier: 1\n",
            "Clf: 1: Test Accuracy: 0.6666666666666666\n",
            "Clf: 1: Train f1: 1.0\n",
            "Clf: 1: Test f1: 0.7499999999999999\n",
            "Now predicting labels for unlabeled data...\n",
            "2 high-probability predictions added to training data.\n",
            "183 unlabeled instances remaining.\n",
            "\n",
            "Iteration 8, Classifier: 0\n",
            "Clf: 0: Test Accuracy: 0.6666666666666666\n",
            "Clf: 0: Train f1: 1.0\n",
            "Clf: 0: Test f1: 0.6666666666666666\n",
            "Now predicting labels for unlabeled data...\n",
            "4 high-probability predictions added to training data.\n",
            "179 unlabeled instances remaining.\n",
            "\n",
            "Iteration 9, Classifier: 1\n",
            "Clf: 1: Test Accuracy: 0.6666666666666666\n",
            "Clf: 1: Train f1: 1.0\n",
            "Clf: 1: Test f1: 0.7499999999999999\n",
            "Now predicting labels for unlabeled data...\n",
            "1 high-probability predictions added to training data.\n",
            "178 unlabeled instances remaining.\n",
            "\n",
            "Iteration 10, Classifier: 0\n",
            "Clf: 0: Test Accuracy: 0.6666666666666666\n",
            "Clf: 0: Train f1: 1.0\n",
            "Clf: 0: Test f1: 0.6666666666666666\n",
            "Now predicting labels for unlabeled data...\n",
            "0 high-probability predictions added to training data.\n",
            "178 unlabeled instances remaining.\n",
            "\n",
            "CPU times: user 731 ms, sys: 70.1 ms, total: 801 ms\n",
            "Wall time: 2.9 s\n"
          ]
        }
      ]
    },
    {
      "cell_type": "markdown",
      "metadata": {
        "id": "CTPQajJ6tXfh"
      },
      "source": [
        "### Co-Training - Balanced"
      ]
    },
    {
      "cell_type": "code",
      "metadata": {
        "colab": {
          "base_uri": "https://localhost:8080/"
        },
        "id": "XbiW6tm6tXfi",
        "outputId": "0e86ee16-4a4d-4ced-9e18-f7f42aa7c79a"
      },
      "source": [
        "%%time\n",
        "X_train, y_train, X_test, y_test, X_unlabelled = reset_holdout_splits(X,y,unlabelled_size=0.9, holdout_test_size=0.2)\n",
        "\n",
        "clf1 = svm.SVC(probability=True, C=10, gamma=1, kernel='rbf')\n",
        "clf2 = RandomForestClassifier(n_estimators=22, max_depth=9, min_samples_leaf=3, min_samples_split=3, n_jobs=-1)\n",
        "\n",
        "view1 = X.columns\n",
        "view2 = X.columns\n",
        "\n",
        "confidence_score = 0.95\n",
        "\n",
        "ct_acc_90_bal, ct_f1_90_bal, ct_90_bal_roc = coTraining(clf1, clf2, view1, view2, X_train, y_train, \n",
        "                                                       X_unlabelled, X_test, y_test, confidence_score,\n",
        "                                                       auto_balancing=True)"
      ],
      "execution_count": null,
      "outputs": [
        {
          "output_type": "stream",
          "name": "stdout",
          "text": [
            "Iteration 0, Classifier: 0\n",
            "Clf: 0: Test Accuracy: 0.8333333333333334\n",
            "Clf: 0: Train f1: 1.0\n",
            "Clf: 0: Test f1: 0.8\n",
            "Now predicting labels for unlabeled data...\n",
            "26 high-probability predictions added to training data.\n",
            "247 unlabeled instances remaining.\n",
            "\n",
            "Iteration 1, Classifier: 1\n",
            "Clf: 1: Test Accuracy: 0.6666666666666666\n",
            "Clf: 1: Train f1: 1.0\n",
            "Clf: 1: Test f1: 0.7499999999999999\n",
            "Now predicting labels for unlabeled data...\n",
            "15 high-probability predictions added to training data.\n",
            "232 unlabeled instances remaining.\n",
            "\n",
            "Iteration 2, Classifier: 0\n",
            "Clf: 0: Test Accuracy: 0.8333333333333334\n",
            "Clf: 0: Train f1: 1.0\n",
            "Clf: 0: Test f1: 0.8\n",
            "Now predicting labels for unlabeled data...\n",
            "20 high-probability predictions added to training data.\n",
            "212 unlabeled instances remaining.\n",
            "\n",
            "Iteration 3, Classifier: 1\n",
            "Clf: 1: Test Accuracy: 0.6666666666666666\n",
            "Clf: 1: Train f1: 1.0\n",
            "Clf: 1: Test f1: 0.7499999999999999\n",
            "Now predicting labels for unlabeled data...\n",
            "3 high-probability predictions added to training data.\n",
            "209 unlabeled instances remaining.\n",
            "\n",
            "Iteration 4, Classifier: 0\n",
            "Clf: 0: Test Accuracy: 0.8333333333333334\n",
            "Clf: 0: Train f1: 1.0\n",
            "Clf: 0: Test f1: 0.8\n",
            "Now predicting labels for unlabeled data...\n",
            "5 high-probability predictions added to training data.\n",
            "204 unlabeled instances remaining.\n",
            "\n",
            "Iteration 5, Classifier: 1\n",
            "Clf: 1: Test Accuracy: 0.8333333333333334\n",
            "Clf: 1: Train f1: 1.0\n",
            "Clf: 1: Test f1: 0.8571428571428571\n",
            "Now predicting labels for unlabeled data...\n",
            "16 high-probability predictions added to training data.\n",
            "188 unlabeled instances remaining.\n",
            "\n",
            "Iteration 6, Classifier: 0\n",
            "Clf: 0: Test Accuracy: 0.6666666666666666\n",
            "Clf: 0: Train f1: 1.0\n",
            "Clf: 0: Test f1: 0.6666666666666666\n",
            "Now predicting labels for unlabeled data...\n",
            "10 high-probability predictions added to training data.\n",
            "178 unlabeled instances remaining.\n",
            "\n",
            "Iteration 7, Classifier: 1\n",
            "Clf: 1: Test Accuracy: 0.5\n",
            "Clf: 1: Train f1: 0.988095238095238\n",
            "Clf: 1: Test f1: 0.5714285714285715\n",
            "Now predicting labels for unlabeled data...\n",
            "4 high-probability predictions added to training data.\n",
            "174 unlabeled instances remaining.\n",
            "\n",
            "Iteration 8, Classifier: 0\n",
            "Clf: 0: Test Accuracy: 0.6666666666666666\n",
            "Clf: 0: Train f1: 1.0\n",
            "Clf: 0: Test f1: 0.6666666666666666\n",
            "Now predicting labels for unlabeled data...\n",
            "11 high-probability predictions added to training data.\n",
            "163 unlabeled instances remaining.\n",
            "\n",
            "Iteration 9, Classifier: 1\n",
            "Clf: 1: Test Accuracy: 0.6666666666666666\n",
            "Clf: 1: Train f1: 1.0\n",
            "Clf: 1: Test f1: 0.7499999999999999\n",
            "Now predicting labels for unlabeled data...\n",
            "0 high-probability predictions added to training data.\n",
            "163 unlabeled instances remaining.\n",
            "\n",
            "CPU times: user 951 ms, sys: 746 ms, total: 1.7 s\n",
            "Wall time: 3.1 s\n"
          ]
        }
      ]
    },
    {
      "cell_type": "markdown",
      "metadata": {
        "id": "D7u6Y9xbtXfj"
      },
      "source": [
        "### Semi-Supervised Ensemble - Imbalanced"
      ]
    },
    {
      "cell_type": "code",
      "metadata": {
        "colab": {
          "base_uri": "https://localhost:8080/"
        },
        "id": "yRGXARWAtXfj",
        "outputId": "769b0b49-5709-4d59-f596-0381d293e186"
      },
      "source": [
        "%%time\n",
        "import xgboost as xgb \n",
        "X_train, y_train, X_test, y_test, X_unlabelled = reset_holdout_splits(X,y,unlabelled_size=0.9, holdout_test_size=0.2)\n",
        "\n",
        "clf = xgb.XGBClassifier(verbosity=0)\n",
        "\n",
        "confidence_score = 0.95\n",
        "sse_acc_90_imb, sse_f1_90_imb, sse_90_imb_roc = boosting_assemble(clf, X_train, y_train, X_unlabelled,\n",
        "                                                             X_test, y_test, confidence_score,auto_balancing=False)\n"
      ],
      "execution_count": null,
      "outputs": [
        {
          "output_type": "stream",
          "name": "stdout",
          "text": [
            "Iteration 0\n",
            "Test Accuracy: 0.6666666666666666\n",
            "Train f1: 1.0\n",
            "Test f1: 0.6666666666666666\n",
            "Now predicting labels for unlabeled data...\n",
            "25 high-probability predictions added to training data.\n",
            "248 unlabeled instances remaining.\n",
            "\n",
            "Iteration 1\n",
            "Test Accuracy: 0.6666666666666666\n",
            "Train f1: 1.0\n",
            "Test f1: 0.6666666666666666\n",
            "Now predicting labels for unlabeled data...\n",
            "17 high-probability predictions added to training data.\n",
            "231 unlabeled instances remaining.\n",
            "\n",
            "Iteration 2\n",
            "Test Accuracy: 0.6666666666666666\n",
            "Train f1: 1.0\n",
            "Test f1: 0.6666666666666666\n",
            "Now predicting labels for unlabeled data...\n",
            "17 high-probability predictions added to training data.\n",
            "214 unlabeled instances remaining.\n",
            "\n",
            "Iteration 3\n",
            "Test Accuracy: 0.6666666666666666\n",
            "Train f1: 1.0\n",
            "Test f1: 0.6666666666666666\n",
            "Now predicting labels for unlabeled data...\n",
            "10 high-probability predictions added to training data.\n",
            "204 unlabeled instances remaining.\n",
            "\n",
            "Iteration 4\n",
            "Test Accuracy: 0.6666666666666666\n",
            "Train f1: 1.0\n",
            "Test f1: 0.6666666666666666\n",
            "Now predicting labels for unlabeled data...\n",
            "2 high-probability predictions added to training data.\n",
            "202 unlabeled instances remaining.\n",
            "\n",
            "Iteration 5\n",
            "Test Accuracy: 0.6666666666666666\n",
            "Train f1: 1.0\n",
            "Test f1: 0.6666666666666666\n",
            "Now predicting labels for unlabeled data...\n",
            "2 high-probability predictions added to training data.\n",
            "200 unlabeled instances remaining.\n",
            "\n",
            "Iteration 6\n",
            "Test Accuracy: 0.6666666666666666\n",
            "Train f1: 1.0\n",
            "Test f1: 0.6666666666666666\n",
            "Now predicting labels for unlabeled data...\n",
            "5 high-probability predictions added to training data.\n",
            "195 unlabeled instances remaining.\n",
            "\n",
            "Iteration 7\n",
            "Test Accuracy: 0.6666666666666666\n",
            "Train f1: 1.0\n",
            "Test f1: 0.6666666666666666\n",
            "Now predicting labels for unlabeled data...\n",
            "28 high-probability predictions added to training data.\n",
            "167 unlabeled instances remaining.\n",
            "\n",
            "Iteration 8\n",
            "Test Accuracy: 0.6666666666666666\n",
            "Train f1: 1.0\n",
            "Test f1: 0.6666666666666666\n",
            "Now predicting labels for unlabeled data...\n",
            "15 high-probability predictions added to training data.\n",
            "152 unlabeled instances remaining.\n",
            "\n",
            "Iteration 9\n",
            "Test Accuracy: 0.6666666666666666\n",
            "Train f1: 1.0\n",
            "Test f1: 0.6666666666666666\n",
            "Now predicting labels for unlabeled data...\n",
            "5 high-probability predictions added to training data.\n",
            "147 unlabeled instances remaining.\n",
            "\n",
            "Iteration 10\n",
            "Test Accuracy: 0.6666666666666666\n",
            "Train f1: 1.0\n",
            "Test f1: 0.6666666666666666\n",
            "Now predicting labels for unlabeled data...\n",
            "3 high-probability predictions added to training data.\n",
            "144 unlabeled instances remaining.\n",
            "\n",
            "Iteration 11\n",
            "Test Accuracy: 0.6666666666666666\n",
            "Train f1: 1.0\n",
            "Test f1: 0.6666666666666666\n",
            "Now predicting labels for unlabeled data...\n",
            "1 high-probability predictions added to training data.\n",
            "143 unlabeled instances remaining.\n",
            "\n",
            "Iteration 12\n",
            "Test Accuracy: 0.6666666666666666\n",
            "Train f1: 1.0\n",
            "Test f1: 0.6666666666666666\n",
            "Now predicting labels for unlabeled data...\n",
            "0 high-probability predictions added to training data.\n",
            "143 unlabeled instances remaining.\n",
            "\n",
            "CPU times: user 462 ms, sys: 9.82 ms, total: 471 ms\n",
            "Wall time: 465 ms\n"
          ]
        }
      ]
    },
    {
      "cell_type": "markdown",
      "metadata": {
        "id": "nNot7BAStXfk"
      },
      "source": [
        "### Semi-Supervised Ensemble - Balanced"
      ]
    },
    {
      "cell_type": "code",
      "metadata": {
        "colab": {
          "base_uri": "https://localhost:8080/"
        },
        "id": "PxKR-OfRtXfk",
        "outputId": "e95b60be-fdc4-4972-970a-5a66db295b0b"
      },
      "source": [
        "%%time\n",
        "import xgboost as xgb \n",
        "X_train, y_train, X_test, y_test, X_unlabelled = reset_holdout_splits(X,y,unlabelled_size=0.9, holdout_test_size=0.2)\n",
        "\n",
        "clf = xgb.XGBClassifier(verbosity=0)\n",
        "\n",
        "confidence_score = 0.95\n",
        "sse_acc_90_bal, sse_f1_90_bal, sse_90_bal_roc = boosting_assemble(clf, X_train, y_train, X_unlabelled,\n",
        "                                                             X_test, y_test, confidence_score,auto_balancing=True)\n"
      ],
      "execution_count": null,
      "outputs": [
        {
          "output_type": "stream",
          "name": "stdout",
          "text": [
            "Iteration 0\n",
            "Test Accuracy: 0.6666666666666666\n",
            "Train f1: 1.0\n",
            "Test f1: 0.6666666666666666\n",
            "Now predicting labels for unlabeled data...\n",
            "25 high-probability predictions added to training data.\n",
            "248 unlabeled instances remaining.\n",
            "\n",
            "Iteration 1\n",
            "Test Accuracy: 0.6666666666666666\n",
            "Train f1: 1.0\n",
            "Test f1: 0.6666666666666666\n",
            "Now predicting labels for unlabeled data...\n",
            "9 high-probability predictions added to training data.\n",
            "239 unlabeled instances remaining.\n",
            "\n",
            "Iteration 2\n",
            "Test Accuracy: 0.6666666666666666\n",
            "Train f1: 1.0\n",
            "Test f1: 0.6666666666666666\n",
            "Now predicting labels for unlabeled data...\n",
            "19 high-probability predictions added to training data.\n",
            "220 unlabeled instances remaining.\n",
            "\n",
            "Iteration 3\n",
            "Test Accuracy: 0.6666666666666666\n",
            "Train f1: 1.0\n",
            "Test f1: 0.6666666666666666\n",
            "Now predicting labels for unlabeled data...\n",
            "8 high-probability predictions added to training data.\n",
            "212 unlabeled instances remaining.\n",
            "\n",
            "Iteration 4\n",
            "Test Accuracy: 0.6666666666666666\n",
            "Train f1: 1.0\n",
            "Test f1: 0.6666666666666666\n",
            "Now predicting labels for unlabeled data...\n",
            "8 high-probability predictions added to training data.\n",
            "204 unlabeled instances remaining.\n",
            "\n",
            "Iteration 5\n",
            "Test Accuracy: 0.6666666666666666\n",
            "Train f1: 1.0\n",
            "Test f1: 0.6666666666666666\n",
            "Now predicting labels for unlabeled data...\n",
            "2 high-probability predictions added to training data.\n",
            "202 unlabeled instances remaining.\n",
            "\n",
            "Iteration 6\n",
            "Test Accuracy: 0.6666666666666666\n",
            "Train f1: 1.0\n",
            "Test f1: 0.6666666666666666\n",
            "Now predicting labels for unlabeled data...\n",
            "0 high-probability predictions added to training data.\n",
            "202 unlabeled instances remaining.\n",
            "\n",
            "CPU times: user 425 ms, sys: 354 ms, total: 779 ms\n",
            "Wall time: 436 ms\n"
          ]
        }
      ]
    },
    {
      "cell_type": "markdown",
      "source": [
        "### Unsupervised labelling - Imbalanced"
      ],
      "metadata": {
        "id": "zdFBltmwwuS9"
      }
    },
    {
      "cell_type": "code",
      "source": [
        "%%time\n",
        "X_train, y_train, X_test, y_test, X_unlabelled = reset_holdout_splits(X,y,\n",
        "                                                                      unlabelled_size=0.9, holdout_test_size=0.2)\n",
        "\n",
        "\n",
        "clf = RandomForestClassifier(n_estimators=22, max_depth=9, min_samples_leaf=3, min_samples_split=3, n_jobs=-1)\n",
        "confidence_score = 0.95\n",
        "usl_acc_90_imb, usl_f1_90_imb, usl_90_imb_roc = unsupervised_labelling(clf, X_train, y_train, \n",
        "                                                             X_unlabelled, X_test, y_test, confidence_score,auto_balancing=False)"
      ],
      "metadata": {
        "id": "qLu6fD7zx06p",
        "colab": {
          "base_uri": "https://localhost:8080/"
        },
        "outputId": "be472069-123c-469f-ba01-2733efc9b6c9"
      },
      "execution_count": null,
      "outputs": [
        {
          "output_type": "stream",
          "name": "stdout",
          "text": [
            "(30, 23) (30,)\n",
            "Iteration 0\n",
            "Test Accuracy: 1.0\n",
            "Train f1: 0.962962962962963\n",
            "Test f1: 1.0\n",
            "Now predicting labels for unlabeled data...\n",
            "2 high-probability predictions added to training data.\n",
            "271 unlabeled instances remaining.\n",
            "\n",
            "Iteration 1\n",
            "Test Accuracy: 1.0\n",
            "Train f1: 0.9655172413793104\n",
            "Test f1: 1.0\n",
            "Now predicting labels for unlabeled data...\n",
            "4 high-probability predictions added to training data.\n",
            "267 unlabeled instances remaining.\n",
            "\n",
            "Iteration 2\n",
            "Test Accuracy: 1.0\n",
            "Train f1: 0.9743589743589743\n",
            "Test f1: 1.0\n",
            "Now predicting labels for unlabeled data...\n",
            "2 high-probability predictions added to training data.\n",
            "265 unlabeled instances remaining.\n",
            "\n",
            "Iteration 3\n",
            "Test Accuracy: 1.0\n",
            "Train f1: 0.9743589743589743\n",
            "Test f1: 1.0\n",
            "Now predicting labels for unlabeled data...\n",
            "4 high-probability predictions added to training data.\n",
            "261 unlabeled instances remaining.\n",
            "\n",
            "Iteration 4\n",
            "Test Accuracy: 1.0\n",
            "Train f1: 1.0\n",
            "Test f1: 1.0\n",
            "Now predicting labels for unlabeled data...\n",
            "5 high-probability predictions added to training data.\n",
            "256 unlabeled instances remaining.\n",
            "\n",
            "Iteration 5\n",
            "Test Accuracy: 1.0\n",
            "Train f1: 0.9803921568627451\n",
            "Test f1: 1.0\n",
            "Now predicting labels for unlabeled data...\n",
            "9 high-probability predictions added to training data.\n",
            "247 unlabeled instances remaining.\n",
            "\n",
            "Iteration 6\n",
            "Test Accuracy: 0.6666666666666666\n",
            "Train f1: 0.9836065573770492\n",
            "Test f1: 0.6666666666666666\n",
            "Now predicting labels for unlabeled data...\n",
            "8 high-probability predictions added to training data.\n",
            "239 unlabeled instances remaining.\n",
            "\n",
            "Iteration 7\n",
            "Test Accuracy: 1.0\n",
            "Train f1: 0.9705882352941176\n",
            "Test f1: 1.0\n",
            "Now predicting labels for unlabeled data...\n",
            "5 high-probability predictions added to training data.\n",
            "234 unlabeled instances remaining.\n",
            "\n",
            "Iteration 8\n",
            "Test Accuracy: 1.0\n",
            "Train f1: 0.972972972972973\n",
            "Test f1: 1.0\n",
            "Now predicting labels for unlabeled data...\n",
            "8 high-probability predictions added to training data.\n",
            "226 unlabeled instances remaining.\n",
            "\n",
            "Iteration 9\n",
            "Test Accuracy: 1.0\n",
            "Train f1: 0.9870129870129869\n",
            "Test f1: 1.0\n",
            "Now predicting labels for unlabeled data...\n",
            "3 high-probability predictions added to training data.\n",
            "223 unlabeled instances remaining.\n",
            "\n",
            "Iteration 10\n",
            "Test Accuracy: 1.0\n",
            "Train f1: 0.9866666666666666\n",
            "Test f1: 1.0\n",
            "Now predicting labels for unlabeled data...\n",
            "1 high-probability predictions added to training data.\n",
            "222 unlabeled instances remaining.\n",
            "\n",
            "Iteration 11\n",
            "Test Accuracy: 1.0\n",
            "Train f1: 0.962962962962963\n",
            "Test f1: 1.0\n",
            "Now predicting labels for unlabeled data...\n",
            "7 high-probability predictions added to training data.\n",
            "215 unlabeled instances remaining.\n",
            "\n",
            "Iteration 12\n",
            "Test Accuracy: 1.0\n",
            "Train f1: 1.0\n",
            "Test f1: 1.0\n",
            "Now predicting labels for unlabeled data...\n",
            "4 high-probability predictions added to training data.\n",
            "211 unlabeled instances remaining.\n",
            "\n",
            "Iteration 13\n",
            "Test Accuracy: 1.0\n",
            "Train f1: 0.9795918367346939\n",
            "Test f1: 1.0\n",
            "Now predicting labels for unlabeled data...\n",
            "3 high-probability predictions added to training data.\n",
            "208 unlabeled instances remaining.\n",
            "\n",
            "Iteration 14\n",
            "Test Accuracy: 1.0\n",
            "Train f1: 0.99009900990099\n",
            "Test f1: 1.0\n",
            "Now predicting labels for unlabeled data...\n",
            "4 high-probability predictions added to training data.\n",
            "204 unlabeled instances remaining.\n",
            "\n",
            "Iteration 15\n",
            "Test Accuracy: 1.0\n",
            "Train f1: 0.9904761904761905\n",
            "Test f1: 1.0\n",
            "Now predicting labels for unlabeled data...\n",
            "0 high-probability predictions added to training data.\n",
            "204 unlabeled instances remaining.\n",
            "\n",
            "CPU times: user 1.76 s, sys: 283 ms, total: 2.04 s\n",
            "Wall time: 8.72 s\n"
          ]
        }
      ]
    },
    {
      "cell_type": "markdown",
      "source": [
        "### Unsupervised labelling - Balanced"
      ],
      "metadata": {
        "id": "1Qacn7u7w-R6"
      }
    },
    {
      "cell_type": "code",
      "source": [
        "%%time\n",
        "X_train, y_train, X_test, y_test, X_unlabelled = reset_holdout_splits(X,y,\n",
        "                                                                      unlabelled_size=0.9, holdout_test_size=0.2)\n",
        "\n",
        "clf = RandomForestClassifier(n_estimators=22, max_depth=9, min_samples_leaf=3, min_samples_split=3, n_jobs=-1)\n",
        "confidence_score = 0.95\n",
        "usl_acc_90_bal, usl_f1_90_bal, usl_90_bal_roc = unsupervised_labelling(clf, X_train, y_train, \n",
        "                                                             X_unlabelled, X_test, y_test, confidence_score,auto_balancing=True)"
      ],
      "metadata": {
        "id": "OzkmsKzGzkEC",
        "colab": {
          "base_uri": "https://localhost:8080/"
        },
        "outputId": "06548eda-b30e-480f-b76d-53684bb14a7b"
      },
      "execution_count": null,
      "outputs": [
        {
          "output_type": "stream",
          "name": "stdout",
          "text": [
            "(30, 23) (30,)\n",
            "Iteration 0\n",
            "Test Accuracy: 1.0\n",
            "Train f1: 1.0\n",
            "Test f1: 1.0\n",
            "Now predicting labels for unlabeled data...\n",
            "6 high-probability predictions added to training data.\n",
            "doing balancing\n",
            "applying smote\n",
            "267 unlabeled instances remaining.\n",
            "\n",
            "Iteration 1\n",
            "Test Accuracy: 1.0\n",
            "Train f1: 0.9743589743589743\n",
            "Test f1: 1.0\n",
            "Now predicting labels for unlabeled data...\n",
            "9 high-probability predictions added to training data.\n",
            "doing balancing\n",
            "applying smote\n",
            "258 unlabeled instances remaining.\n",
            "\n",
            "Iteration 2\n",
            "Test Accuracy: 1.0\n",
            "Train f1: 0.9795918367346939\n",
            "Test f1: 1.0\n",
            "Now predicting labels for unlabeled data...\n",
            "18 high-probability predictions added to training data.\n",
            "doing balancing\n",
            "applying smote\n",
            "240 unlabeled instances remaining.\n",
            "\n",
            "Iteration 3\n",
            "Test Accuracy: 1.0\n",
            "Train f1: 0.9859154929577464\n",
            "Test f1: 1.0\n",
            "Now predicting labels for unlabeled data...\n",
            "3 high-probability predictions added to training data.\n",
            "doing balancing\n",
            "applying smote\n",
            "237 unlabeled instances remaining.\n",
            "\n",
            "Iteration 4\n",
            "Test Accuracy: 1.0\n",
            "Train f1: 0.9870129870129869\n",
            "Test f1: 1.0\n",
            "Now predicting labels for unlabeled data...\n",
            "4 high-probability predictions added to training data.\n",
            "doing balancing\n",
            "applying smote\n",
            "233 unlabeled instances remaining.\n",
            "\n",
            "Iteration 5\n",
            "Test Accuracy: 1.0\n",
            "Train f1: 1.0\n",
            "Test f1: 1.0\n",
            "Now predicting labels for unlabeled data...\n",
            "7 high-probability predictions added to training data.\n",
            "doing balancing\n",
            "applying smote\n",
            "226 unlabeled instances remaining.\n",
            "\n",
            "Iteration 6\n",
            "Test Accuracy: 1.0\n",
            "Train f1: 0.9894736842105264\n",
            "Test f1: 1.0\n",
            "Now predicting labels for unlabeled data...\n",
            "1 high-probability predictions added to training data.\n",
            "doing balancing\n",
            "applying smote\n",
            "225 unlabeled instances remaining.\n",
            "\n",
            "Iteration 7\n",
            "Test Accuracy: 1.0\n",
            "Train f1: 0.9894736842105264\n",
            "Test f1: 1.0\n",
            "Now predicting labels for unlabeled data...\n",
            "8 high-probability predictions added to training data.\n",
            "doing balancing\n",
            "applying smote\n",
            "217 unlabeled instances remaining.\n",
            "\n",
            "Iteration 8\n",
            "Test Accuracy: 1.0\n",
            "Train f1: 1.0\n",
            "Test f1: 1.0\n",
            "Now predicting labels for unlabeled data...\n",
            "7 high-probability predictions added to training data.\n",
            "doing balancing\n",
            "applying smote\n",
            "210 unlabeled instances remaining.\n",
            "\n",
            "Iteration 9\n",
            "Test Accuracy: 1.0\n",
            "Train f1: 1.0\n",
            "Test f1: 1.0\n",
            "Now predicting labels for unlabeled data...\n",
            "0 high-probability predictions added to training data.\n",
            "doing balancing\n",
            "210 unlabeled instances remaining.\n",
            "\n",
            "CPU times: user 1.33 s, sys: 965 ms, total: 2.3 s\n",
            "Wall time: 5.66 s\n"
          ]
        }
      ]
    },
    {
      "cell_type": "markdown",
      "metadata": {
        "id": "X5oumKn3tXfl"
      },
      "source": [
        "### Intrinsic - LabelSpreading - Imbalanced"
      ]
    },
    {
      "cell_type": "code",
      "metadata": {
        "colab": {
          "base_uri": "https://localhost:8080/"
        },
        "id": "nQWGKLWMtXfl",
        "outputId": "226b968b-ccb5-4663-8a62-7960d31e7348"
      },
      "source": [
        "%%time\n",
        "# split data into labeled and unlabeled\n",
        "X_lab, X_unlab, y_lab, y_unlab = train_test_split(X_scaled_int , y, test_size=0.90, random_state=1, stratify=y)\n",
        "\n",
        "# Split the labelled data into train and test\n",
        "X_train, X_test, y_train, y_test = train_test_split(X_lab, y_lab, test_size=0.20, random_state=1, stratify=y_lab)\n",
        "\n",
        "# create the training dataset input\n",
        "X_train_mixed = np.concatenate((X_train, X_unlab))\n",
        "\n",
        "# create \"no label\" for unlabeled data\n",
        "nolabel = [-1 for _ in range(len(y_unlab))]\n",
        "\n",
        "# recombine training dataset labels\n",
        "y_train_mixed = np.concatenate((y_train, nolabel))\n",
        "\n",
        "# summarize training set size\n",
        "print('Labeled Train Set:', X_train.shape, y_train.shape)\n",
        "print('Unlabeled Train Set:', X_unlab.shape, y_unlab.shape)\n",
        "\n",
        "# summarize test set size\n",
        "print('Test Set:', X_test.shape, y_test.shape)"
      ],
      "execution_count": null,
      "outputs": [
        {
          "output_type": "stream",
          "name": "stdout",
          "text": [
            "Labeled Train Set: (24, 12) (24,)\n",
            "Unlabeled Train Set: (273, 12) (273,)\n",
            "Test Set: (6, 12) (6,)\n",
            "CPU times: user 5.11 ms, sys: 0 ns, total: 5.11 ms\n",
            "Wall time: 4.63 ms\n"
          ]
        }
      ]
    },
    {
      "cell_type": "code",
      "metadata": {
        "colab": {
          "base_uri": "https://localhost:8080/",
          "height": 397
        },
        "id": "Of0TsR7jtXfm",
        "outputId": "11c7a78e-41e4-4e65-a149-00496c6e48d8"
      },
      "source": [
        "pd.DataFrame(y_train_mixed).hist()"
      ],
      "execution_count": null,
      "outputs": [
        {
          "output_type": "execute_result",
          "data": {
            "text/plain": [
              "array([[<matplotlib.axes._subplots.AxesSubplot object at 0x7fa804156750>]],\n",
              "      dtype=object)"
            ]
          },
          "metadata": {},
          "execution_count": 140
        },
        {
          "output_type": "display_data",
          "data": {
            "image/png": "[encoded data removed]",
            "text/plain": [
              "<Figure size 576x396 with 1 Axes>"
            ]
          },
          "metadata": {}
        }
      ]
    },
    {
      "cell_type": "code",
      "metadata": {
        "colab": {
          "base_uri": "https://localhost:8080/"
        },
        "id": "2WmavyuZtXfn",
        "outputId": "8cf1b841-6d1b-45d9-e4ec-a2629a6c4996"
      },
      "source": [
        "# define model\n",
        "%%time\n",
        "intrinsic_90_model_imb = LabelSpreading(alpha=0.1,max_iter=100, tol=0.01).fit(X_train_mixed, y_train_mixed)\n",
        "print(intrinsic_90_model_imb.classes_)\n",
        "print(intrinsic_90_model_imb.score(X_train_mixed, y_train_mixed))"
      ],
      "execution_count": null,
      "outputs": [
        {
          "output_type": "stream",
          "name": "stdout",
          "text": [
            "[0. 1.]\n",
            "0.08080808080808081\n",
            "CPU times: user 17 ms, sys: 10.4 ms, total: 27.4 ms\n",
            "Wall time: 19.5 ms\n"
          ]
        }
      ]
    },
    {
      "cell_type": "code",
      "metadata": {
        "colab": {
          "base_uri": "https://localhost:8080/"
        },
        "id": "Qn1QG2EXtXfn",
        "outputId": "ca50a75d-65c2-4323-a2e9-c7fea3cf93af"
      },
      "source": [
        "y_pred = intrinsic_90_model_imb.predict(X_test)\n",
        "print(f\"{accuracy_score(y_test, y_pred)}\")\n",
        "print(f\"{f1_score(y_test, y_pred)}\")"
      ],
      "execution_count": null,
      "outputs": [
        {
          "output_type": "stream",
          "name": "stdout",
          "text": [
            "1.0\n",
            "1.0\n"
          ]
        },
        {
          "output_type": "stream",
          "name": "stderr",
          "text": [
            "/usr/local/lib/python3.7/dist-packages/sklearn/base.py:439: UserWarning: X has feature names, but LabelSpreading was fitted without feature names\n",
            "  f\"X has feature names, but {self.__class__.__name__} was fitted without\"\n"
          ]
        }
      ]
    },
    {
      "cell_type": "code",
      "metadata": {
        "id": "-Exa72qF1mkf"
      },
      "source": [
        "fpr_int_90_imb, tpr_int_90_imb, thresholds_int_90_imb = roc_curve(y_test, y_pred)\n",
        "auc_int_90_imb = auc(fpr_int_90_imb, tpr_int_90_imb)"
      ],
      "execution_count": null,
      "outputs": []
    },
    {
      "cell_type": "markdown",
      "metadata": {
        "id": "d_n8pYr3tXfo"
      },
      "source": [
        "### Intrinsic - LabelSpreading - Balanced"
      ]
    },
    {
      "cell_type": "code",
      "metadata": {
        "colab": {
          "base_uri": "https://localhost:8080/"
        },
        "id": "zRAZWK7KtXfo",
        "outputId": "b86a0911-29d1-46ce-bcd8-8beed4c7490b"
      },
      "source": [
        "%%time\n",
        "# split data into labeled and unlabeled\n",
        "X_lab, X_unlab, y_lab, y_unlab = train_test_split(X_scaled_int , y, test_size=0.90, random_state=1, stratify=y)\n",
        "\n",
        "# Split the labelled data into train and test\n",
        "X_train, X_test, y_train, y_test = train_test_split(X_lab, y_lab, test_size=0.20, random_state=1, stratify=y_lab)\n",
        "\n",
        "over_sampler = SMOTE(sampling_strategy=1.0)\n",
        "X_train_sampled, y_train_sampled = over_sampler.fit_resample(X_train, y_train)\n",
        "\n",
        "# create the training dataset input\n",
        "X_train_mixed = np.concatenate((X_train_sampled, X_unlab))\n",
        "\n",
        "# create \"no label\" for unlabeled data\n",
        "nolabel = [-1 for _ in range(len(y_unlab))]\n",
        "\n",
        "# recombine training dataset labels\n",
        "y_train_mixed = np.concatenate((y_train_sampled, nolabel))\n",
        "\n",
        "# summarize training set size\n",
        "print('Labeled Train Set:', X_train_sampled.shape, y_train_sampled.shape)\n",
        "print('Unlabeled Train Set:', X_unlab.shape, y_unlab.shape)\n",
        "\n",
        "# summarize test set size\n",
        "print('Test Set:', X_test.shape, y_test.shape)"
      ],
      "execution_count": null,
      "outputs": [
        {
          "output_type": "stream",
          "name": "stdout",
          "text": [
            "Labeled Train Set: (26, 12) (26,)\n",
            "Unlabeled Train Set: (273, 12) (273,)\n",
            "Test Set: (6, 12) (6,)\n",
            "CPU times: user 13.5 ms, sys: 10.2 ms, total: 23.7 ms\n",
            "Wall time: 19.4 ms\n"
          ]
        }
      ]
    },
    {
      "cell_type": "code",
      "metadata": {
        "colab": {
          "base_uri": "https://localhost:8080/",
          "height": 397
        },
        "id": "yTaFEfRutXfp",
        "outputId": "d8516c54-6928-4c2f-e461-822745551aee"
      },
      "source": [
        "pd.DataFrame(y_train_mixed).hist()"
      ],
      "execution_count": null,
      "outputs": [
        {
          "output_type": "execute_result",
          "data": {
            "text/plain": [
              "array([[<matplotlib.axes._subplots.AxesSubplot object at 0x7fa81c57fd50>]],\n",
              "      dtype=object)"
            ]
          },
          "metadata": {},
          "execution_count": 145
        },
        {
          "output_type": "display_data",
          "data": {
            "image/png": "[encoded data removed]",
            "text/plain": [
              "<Figure size 576x396 with 1 Axes>"
            ]
          },
          "metadata": {}
        }
      ]
    },
    {
      "cell_type": "code",
      "metadata": {
        "colab": {
          "base_uri": "https://localhost:8080/"
        },
        "id": "sFYLc9CMtXfp",
        "outputId": "53f32066-22fc-4dc2-82fc-8f4213913380"
      },
      "source": [
        "# define model\n",
        "%%time\n",
        "intrinsic_90_model_bal = LabelSpreading(alpha=0.1, max_iter=100, tol=0.01).fit(X_train_mixed, y_train_mixed)\n",
        "print(intrinsic_90_model_bal.classes_)\n",
        "print(intrinsic_90_model_bal.score(X_train_mixed, y_train_mixed))"
      ],
      "execution_count": null,
      "outputs": [
        {
          "output_type": "stream",
          "name": "stdout",
          "text": [
            "[0. 1.]\n",
            "0.08695652173913043\n",
            "CPU times: user 16.6 ms, sys: 17.6 ms, total: 34.2 ms\n",
            "Wall time: 25.7 ms\n"
          ]
        }
      ]
    },
    {
      "cell_type": "code",
      "metadata": {
        "colab": {
          "base_uri": "https://localhost:8080/"
        },
        "id": "rhXhXT-wtXfq",
        "outputId": "03403ff6-abe2-4756-eb6c-692cab2a61ee"
      },
      "source": [
        "y_pred = intrinsic_90_model_bal.predict(X_test)\n",
        "\n",
        "print(f\"{accuracy_score(y_test, y_pred)}\")\n",
        "print(f\"{f1_score(y_test, y_pred)}\")"
      ],
      "execution_count": null,
      "outputs": [
        {
          "output_type": "stream",
          "name": "stdout",
          "text": [
            "1.0\n",
            "1.0\n"
          ]
        },
        {
          "output_type": "stream",
          "name": "stderr",
          "text": [
            "/usr/local/lib/python3.7/dist-packages/sklearn/base.py:439: UserWarning: X has feature names, but LabelSpreading was fitted without feature names\n",
            "  f\"X has feature names, but {self.__class__.__name__} was fitted without\"\n"
          ]
        }
      ]
    },
    {
      "cell_type": "code",
      "metadata": {
        "id": "cxW4ACK22E1r"
      },
      "source": [
        "fpr_int_90_bal, tpr_int_90_bal, thresholds_int_90_bal = roc_curve(y_test, y_pred)\n",
        "auc_int_90_bal = auc(fpr_int_90_bal, tpr_int_90_bal)"
      ],
      "execution_count": null,
      "outputs": []
    },
    {
      "cell_type": "markdown",
      "metadata": {
        "id": "PIy4cBx8Fty4"
      },
      "source": [
        "# 6. 95% unlabelled, 5% labelled data "
      ]
    },
    {
      "cell_type": "markdown",
      "metadata": {
        "id": "YxM76oNsuKJJ"
      },
      "source": [
        "### Self Training - Imbalanced"
      ]
    },
    {
      "cell_type": "code",
      "metadata": {
        "colab": {
          "base_uri": "https://localhost:8080/"
        },
        "id": "1W87hpYUuKJK",
        "outputId": "f0d72695-2671-4008-8e08-6d731c4c0f88"
      },
      "source": [
        "%%time\n",
        "X_train, y_train, X_test, y_test, X_unlabelled = reset_holdout_splits(X,y,unlabelled_size=0.95, holdout_test_size=0.2)\n",
        "\n",
        "clf = RandomForestClassifier(n_estimators=22, max_depth=9, min_samples_leaf=3, min_samples_split=3, n_jobs=-1)\n",
        "confidence_score = 0.95\n",
        "st_acc_95_imb, st_f1_95_imb, st_95_imb_roc = selfTraining(clf, X_train, y_train, \n",
        "                                                             X_unlabelled, X_test, y_test, confidence_score)"
      ],
      "execution_count": null,
      "outputs": [
        {
          "output_type": "stream",
          "name": "stdout",
          "text": [
            "Iteration 0\n",
            "Test Accuracy: 1.0\n",
            "Train f1: 1.0\n",
            "Test f1: 1.0\n",
            "Now predicting labels for unlabeled data...\n",
            "0 high-probability predictions added to training data.\n",
            "288 unlabeled instances remaining.\n",
            "\n",
            "CPU times: user 114 ms, sys: 19.7 ms, total: 133 ms\n",
            "Wall time: 555 ms\n"
          ]
        }
      ]
    },
    {
      "cell_type": "markdown",
      "metadata": {
        "id": "-dmbwKG5uKJK"
      },
      "source": [
        "### Self Training - Balanced"
      ]
    },
    {
      "cell_type": "code",
      "metadata": {
        "colab": {
          "base_uri": "https://localhost:8080/"
        },
        "id": "lwGifYOhuKJK",
        "outputId": "967d06a7-2e71-411a-98e2-3ade74be1642"
      },
      "source": [
        "%%time\n",
        "X_train, y_train, X_test, y_test, X_unlabelled = reset_holdout_splits(X,y,unlabelled_size=0.95, holdout_test_size=0.2)\n",
        "\n",
        "clf = RandomForestClassifier(n_estimators=22, max_depth=9, min_samples_leaf=3, min_samples_split=3, n_jobs=-1)\n",
        "confidence_score = 0.95\n",
        "st_acc_95_bal, st_f1_95_bal, st_95_bal_roc = selfTraining(clf, X_train, y_train, X_unlabelled,\n",
        "                                                             X_test, y_test, confidence_score, auto_balancing=True)"
      ],
      "execution_count": null,
      "outputs": [
        {
          "output_type": "stream",
          "name": "stdout",
          "text": [
            "Iteration 0\n",
            "Test Accuracy: 1.0\n",
            "Train f1: 1.0\n",
            "Test f1: 1.0\n",
            "Now predicting labels for unlabeled data...\n",
            "0 high-probability predictions added to training data.\n",
            "288 unlabeled instances remaining.\n",
            "\n",
            "CPU times: user 121 ms, sys: 17.5 ms, total: 139 ms\n",
            "Wall time: 555 ms\n"
          ]
        }
      ]
    },
    {
      "cell_type": "markdown",
      "metadata": {
        "id": "SycmOX7FuKJK"
      },
      "source": [
        "### Co-Training - Imbalanced"
      ]
    },
    {
      "cell_type": "code",
      "metadata": {
        "colab": {
          "base_uri": "https://localhost:8080/"
        },
        "id": "gFZyByenuKJK",
        "outputId": "bea89fce-7ffa-49ba-f50a-c0ca7fa57a60"
      },
      "source": [
        "%%time\n",
        "X_train, y_train, X_test, y_test, X_unlabelled = reset_holdout_splits(X,y,unlabelled_size=0.95, holdout_test_size=0.2)\n",
        "\n",
        "clf1 = svm.SVC(probability=True, C=10, gamma=1, kernel='rbf')\n",
        "clf2 = RandomForestClassifier(n_estimators=22, max_depth=9, min_samples_leaf=3, min_samples_split=3, n_jobs=-1)\n",
        "\n",
        "view1 = X.columns\n",
        "view2 = X.columns\n",
        "\n",
        "confidence_score = 0.95\n",
        "\n",
        "ct_acc_95_imb, ct_f1_95_imb, ct_95_imb_roc = coTraining(clf1, clf2, view1, view2, X_train,\n",
        "                                                       y_train, X_unlabelled, X_test, y_test, confidence_score)"
      ],
      "execution_count": null,
      "outputs": [
        {
          "output_type": "stream",
          "name": "stdout",
          "text": [
            "Iteration 0, Classifier: 0\n",
            "Clf: 0: Test Accuracy: 0.3333333333333333\n",
            "Clf: 0: Train f1: 1.0\n",
            "Clf: 0: Test f1: 0.0\n",
            "Now predicting labels for unlabeled data...\n",
            "0 high-probability predictions added to training data.\n",
            "288 unlabeled instances remaining.\n",
            "\n",
            "CPU times: user 28.2 ms, sys: 920 µs, total: 29.1 ms\n",
            "Wall time: 31 ms\n"
          ]
        }
      ]
    },
    {
      "cell_type": "markdown",
      "metadata": {
        "id": "5HiUyvcHuKJL"
      },
      "source": [
        "### Co-Training - Balanced"
      ]
    },
    {
      "cell_type": "code",
      "metadata": {
        "colab": {
          "base_uri": "https://localhost:8080/"
        },
        "id": "4lfBq1A5uKJL",
        "outputId": "93ad5506-9544-4b6d-8d04-5c92495db954"
      },
      "source": [
        "%%time\n",
        "X_train, y_train, X_test, y_test, X_unlabelled = reset_holdout_splits(X,y,unlabelled_size=0.95, holdout_test_size=0.2)\n",
        "\n",
        "clf1 = svm.SVC(probability=True, C=10, gamma=1, kernel='rbf')\n",
        "clf2 = RandomForestClassifier(n_estimators=22, max_depth=9, min_samples_leaf=3, min_samples_split=3, n_jobs=-1)\n",
        "\n",
        "view1 = X.columns\n",
        "view2 = X.columns\n",
        "\n",
        "confidence_score = 0.95\n",
        "\n",
        "ct_acc_95_bal, ct_f1_95_bal, ct_95_bal_roc = coTraining(clf1, clf2, view1, view2, X_train, y_train, \n",
        "                                                       X_unlabelled, X_test, y_test, confidence_score,\n",
        "                                                       auto_balancing=True)"
      ],
      "execution_count": null,
      "outputs": [
        {
          "output_type": "stream",
          "name": "stdout",
          "text": [
            "Iteration 0, Classifier: 0\n",
            "Clf: 0: Test Accuracy: 0.3333333333333333\n",
            "Clf: 0: Train f1: 1.0\n",
            "Clf: 0: Test f1: 0.0\n",
            "Now predicting labels for unlabeled data...\n",
            "0 high-probability predictions added to training data.\n",
            "288 unlabeled instances remaining.\n",
            "\n",
            "CPU times: user 31.4 ms, sys: 1.97 ms, total: 33.3 ms\n",
            "Wall time: 33.2 ms\n"
          ]
        }
      ]
    },
    {
      "cell_type": "markdown",
      "metadata": {
        "id": "paeHEg34uKJL"
      },
      "source": [
        "### Semi-Supervised Ensemble - Imbalanced"
      ]
    },
    {
      "cell_type": "code",
      "metadata": {
        "colab": {
          "base_uri": "https://localhost:8080/"
        },
        "id": "MagB0lKeuKJL",
        "outputId": "41b8d16c-ddca-4d75-ab2e-03300e89536a"
      },
      "source": [
        "%%time\n",
        "import xgboost as xgb \n",
        "X_train, y_train, X_test, y_test, X_unlabelled = reset_holdout_splits(X,y,unlabelled_size=0.95, holdout_test_size=0.2)\n",
        "\n",
        "clf = xgb.XGBClassifier(verbosity=0)\n",
        "\n",
        "confidence_score = 0.95\n",
        "sse_acc_95_imb, sse_f1_95_imb, sse_95_imb_roc = boosting_assemble(clf, X_train, y_train, X_unlabelled,\n",
        "                                                             X_test, y_test, confidence_score,auto_balancing=False)\n"
      ],
      "execution_count": null,
      "outputs": [
        {
          "output_type": "stream",
          "name": "stdout",
          "text": [
            "Iteration 0\n",
            "Test Accuracy: 1.0\n",
            "Train f1: 1.0\n",
            "Test f1: 1.0\n",
            "Now predicting labels for unlabeled data...\n",
            "0 high-probability predictions added to training data.\n",
            "288 unlabeled instances remaining.\n",
            "\n",
            "CPU times: user 31.7 ms, sys: 0 ns, total: 31.7 ms\n",
            "Wall time: 32.4 ms\n"
          ]
        }
      ]
    },
    {
      "cell_type": "markdown",
      "metadata": {
        "id": "7Xi-V-J_uKJL"
      },
      "source": [
        "### Semi-Supervised Ensemble - Balanced"
      ]
    },
    {
      "cell_type": "code",
      "metadata": {
        "colab": {
          "base_uri": "https://localhost:8080/"
        },
        "id": "f7kEaw64uKJL",
        "outputId": "78a7503a-b6ac-4a03-a3c6-8c4117115b08"
      },
      "source": [
        "%%time\n",
        "import xgboost as xgb \n",
        "X_train, y_train, X_test, y_test, X_unlabelled = reset_holdout_splits(X,y,unlabelled_size=0.95, holdout_test_size=0.2)\n",
        "\n",
        "clf = xgb.XGBClassifier(verbosity=0)\n",
        "\n",
        "confidence_score = 0.95\n",
        "sse_acc_95_bal, sse_f1_95_bal, sse_95_bal_roc = boosting_assemble(clf, X_train, y_train, X_unlabelled,\n",
        "                                                             X_test, y_test, confidence_score,auto_balancing=True)\n"
      ],
      "execution_count": null,
      "outputs": [
        {
          "output_type": "stream",
          "name": "stdout",
          "text": [
            "Iteration 0\n",
            "Test Accuracy: 1.0\n",
            "Train f1: 1.0\n",
            "Test f1: 1.0\n",
            "Now predicting labels for unlabeled data...\n",
            "0 high-probability predictions added to training data.\n",
            "288 unlabeled instances remaining.\n",
            "\n",
            "CPU times: user 36.8 ms, sys: 3.07 ms, total: 39.9 ms\n",
            "Wall time: 43 ms\n"
          ]
        }
      ]
    },
    {
      "cell_type": "markdown",
      "source": [
        "### Unsupervised labelling - Imbalanced"
      ],
      "metadata": {
        "id": "yGAUQHhswwMr"
      }
    },
    {
      "cell_type": "code",
      "source": [
        "%%time\n",
        "X_train, y_train, X_test, y_test, X_unlabelled = reset_holdout_splits(X, y,\n",
        "                                                                      unlabelled_size=0.95, holdout_test_size=0.2)\n",
        "\n",
        "\n",
        "clf = RandomForestClassifier(n_estimators=22, max_depth=9, min_samples_leaf=3, min_samples_split=3, n_jobs=-1)\n",
        "confidence_score = 0.95\n",
        "usl_acc_95_imb, usl_f1_95_imb, usl_95_imb_roc = unsupervised_labelling(clf, X_train, y_train, \n",
        "                                                             X_unlabelled, X_test, y_test, confidence_score,auto_balancing=False)"
      ],
      "metadata": {
        "colab": {
          "base_uri": "https://localhost:8080/"
        },
        "id": "JV3H8HWVx9hC",
        "outputId": "fd63684c-84f5-499e-9c45-765fadd5473d"
      },
      "execution_count": null,
      "outputs": [
        {
          "output_type": "stream",
          "name": "stdout",
          "text": [
            "(15, 23) (15,)\n",
            "Iteration 0\n",
            "Test Accuracy: 0.5\n",
            "Train f1: 1.0\n",
            "Test f1: 0.6666666666666666\n",
            "Now predicting labels for unlabeled data...\n",
            "0 high-probability predictions added to training data.\n",
            "288 unlabeled instances remaining.\n",
            "\n",
            "CPU times: user 157 ms, sys: 21.6 ms, total: 178 ms\n",
            "Wall time: 574 ms\n"
          ]
        }
      ]
    },
    {
      "cell_type": "markdown",
      "source": [
        "### Unsupervised labelling - Balanced"
      ],
      "metadata": {
        "id": "jmteMEWJw_25"
      }
    },
    {
      "cell_type": "code",
      "source": [
        "%%time\n",
        "X_train, y_train, X_test, y_test, X_unlabelled = reset_holdout_splits(X,y,\n",
        "                                                                      unlabelled_size=0.95, holdout_test_size=0.2)\n",
        "\n",
        "clf = RandomForestClassifier(n_estimators=22, max_depth=9, min_samples_leaf=3, min_samples_split=3, n_jobs=-1)\n",
        "confidence_score = 0.95\n",
        "usl_acc_95_bal, usl_f1_95_bal, usl_95_bal_roc = unsupervised_labelling(clf, X_train, y_train, \n",
        "                                                             X_unlabelled, X_test, y_test, confidence_score,auto_balancing=True)"
      ],
      "metadata": {
        "id": "gCf9zL-zztBn",
        "colab": {
          "base_uri": "https://localhost:8080/"
        },
        "outputId": "d07bb7e2-6b17-4d2d-db8d-92719f1c033a"
      },
      "execution_count": null,
      "outputs": [
        {
          "output_type": "stream",
          "name": "stdout",
          "text": [
            "(15, 23) (15,)\n",
            "Iteration 0\n",
            "Test Accuracy: 1.0\n",
            "Train f1: 0.923076923076923\n",
            "Test f1: 1.0\n",
            "Now predicting labels for unlabeled data...\n",
            "0 high-probability predictions added to training data.\n",
            "doing balancing\n",
            "applying smote\n",
            "288 unlabeled instances remaining.\n",
            "\n",
            "CPU times: user 170 ms, sys: 16 ms, total: 186 ms\n",
            "Wall time: 582 ms\n"
          ]
        }
      ]
    },
    {
      "cell_type": "markdown",
      "metadata": {
        "id": "ZJCcnJuouKJM"
      },
      "source": [
        "### Intrinsic - LabelSpreading - Imbalanced"
      ]
    },
    {
      "cell_type": "code",
      "metadata": {
        "colab": {
          "base_uri": "https://localhost:8080/"
        },
        "id": "k_tTXzrYuKJM",
        "outputId": "a8bc44ed-97cb-4ad0-f3bf-fbe3e3102356"
      },
      "source": [
        "%%time\n",
        "# split data into labeled and unlabeled\n",
        "X_lab, X_unlab, y_lab, y_unlab = train_test_split(X_scaled_int , y, test_size=0.95, random_state=1, stratify=y)\n",
        "\n",
        "# Split the labelled data into train and test\n",
        "X_train, X_test, y_train, y_test = train_test_split(X_lab, y_lab, test_size=0.20, random_state=1, stratify=y_lab)\n",
        "\n",
        "# create the training dataset input\n",
        "X_train_mixed = np.concatenate((X_train, X_unlab))\n",
        "\n",
        "# create \"no label\" for unlabeled data\n",
        "nolabel = [-1 for _ in range(len(y_unlab))]\n",
        "\n",
        "# recombine training dataset labels\n",
        "y_train_mixed = np.concatenate((y_train, nolabel))\n",
        "\n",
        "# summarize training set size\n",
        "print('Labeled Train Set:', X_train.shape, y_train.shape)\n",
        "print('Unlabeled Train Set:', X_unlab.shape, y_unlab.shape)\n",
        "\n",
        "# summarize test set size\n",
        "print('Test Set:', X_test.shape, y_test.shape)"
      ],
      "execution_count": null,
      "outputs": [
        {
          "output_type": "stream",
          "name": "stdout",
          "text": [
            "Labeled Train Set: (12, 12) (12,)\n",
            "Unlabeled Train Set: (288, 12) (288,)\n",
            "Test Set: (3, 12) (3,)\n",
            "CPU times: user 7.61 ms, sys: 2.04 ms, total: 9.65 ms\n",
            "Wall time: 9.89 ms\n"
          ]
        }
      ]
    },
    {
      "cell_type": "code",
      "metadata": {
        "colab": {
          "base_uri": "https://localhost:8080/",
          "height": 397
        },
        "id": "U4bDG6keuKJM",
        "outputId": "753f3abf-4d60-49c2-888f-9bfdf233f350"
      },
      "source": [
        "pd.DataFrame(y_train_mixed).hist()"
      ],
      "execution_count": null,
      "outputs": [
        {
          "output_type": "execute_result",
          "data": {
            "text/plain": [
              "array([[<matplotlib.axes._subplots.AxesSubplot object at 0x7fa81c4ae090>]],\n",
              "      dtype=object)"
            ]
          },
          "metadata": {},
          "execution_count": 158
        },
        {
          "output_type": "display_data",
          "data": {
            "image/png": "[encoded data removed]",
            "text/plain": [
              "<Figure size 576x396 with 1 Axes>"
            ]
          },
          "metadata": {}
        }
      ]
    },
    {
      "cell_type": "code",
      "metadata": {
        "colab": {
          "base_uri": "https://localhost:8080/"
        },
        "id": "KQknZmW5uKJM",
        "outputId": "0fc8e860-954d-46e9-9f89-3e44b72c659f"
      },
      "source": [
        "# define model\n",
        "%%time\n",
        "intrinsic_95_model_imb = LabelSpreading(alpha=1e-4, max_iter=1000,n_neighbors=19, tol=0.24, kernel='knn').fit(X_train_mixed, y_train_mixed)\n",
        "print(intrinsic_95_model_imb.classes_)\n",
        "print(intrinsic_95_model_imb.score(X_train_mixed, y_train_mixed))"
      ],
      "execution_count": null,
      "outputs": [
        {
          "output_type": "stream",
          "name": "stdout",
          "text": [
            "[0. 1.]\n",
            "0.03666666666666667\n",
            "CPU times: user 19.3 ms, sys: 1.08 ms, total: 20.3 ms\n",
            "Wall time: 19.4 ms\n"
          ]
        },
        {
          "output_type": "stream",
          "name": "stderr",
          "text": [
            "/usr/local/lib/python3.7/dist-packages/sklearn/semi_supervised/_label_propagation.py:222: RuntimeWarning: invalid value encountered in true_divide\n",
            "  probabilities /= normalizer\n"
          ]
        }
      ]
    },
    {
      "cell_type": "code",
      "metadata": {
        "colab": {
          "base_uri": "https://localhost:8080/"
        },
        "id": "Hy-_gJ0JuKJM",
        "outputId": "ad700d1c-d5f7-40b9-cc86-c8e27f0ed637"
      },
      "source": [
        "y_pred = intrinsic_95_model_imb.predict(X_test)\n",
        "print(f\"{accuracy_score(y_test, y_pred)}\")\n",
        "print(f\"{f1_score(y_test, y_pred)}\")"
      ],
      "execution_count": null,
      "outputs": [
        {
          "output_type": "stream",
          "name": "stdout",
          "text": [
            "0.6666666666666666\n",
            "0.6666666666666666\n"
          ]
        },
        {
          "output_type": "stream",
          "name": "stderr",
          "text": [
            "/usr/local/lib/python3.7/dist-packages/sklearn/base.py:439: UserWarning: X has feature names, but LabelSpreading was fitted without feature names\n",
            "  f\"X has feature names, but {self.__class__.__name__} was fitted without\"\n",
            "/usr/local/lib/python3.7/dist-packages/sklearn/semi_supervised/_label_propagation.py:222: RuntimeWarning: invalid value encountered in true_divide\n",
            "  probabilities /= normalizer\n"
          ]
        }
      ]
    },
    {
      "cell_type": "code",
      "source": [
        "confusion_matrix(y_test, y_pred)"
      ],
      "metadata": {
        "colab": {
          "base_uri": "https://localhost:8080/"
        },
        "id": "CfLUKG9FW5ZA",
        "outputId": "79f2bcd1-3baf-4410-b079-6cb31358cce9"
      },
      "execution_count": null,
      "outputs": [
        {
          "output_type": "execute_result",
          "data": {
            "text/plain": [
              "array([[1, 0],\n",
              "       [1, 1]])"
            ]
          },
          "metadata": {},
          "execution_count": 161
        }
      ]
    },
    {
      "cell_type": "code",
      "metadata": {
        "id": "Or6y0ffOzDko"
      },
      "source": [
        "fpr_int_95_imb, tpr_int_95_imb, thresholds_int_95_imb = roc_curve(y_test, y_pred)\n",
        "auc_int_95_imb = auc(fpr_int_95_imb, tpr_int_95_imb)"
      ],
      "execution_count": null,
      "outputs": []
    },
    {
      "cell_type": "markdown",
      "metadata": {
        "id": "9Cp3nBIquKJM"
      },
      "source": [
        "### Intrinsic - LabelSpreading - Balanced"
      ]
    },
    {
      "cell_type": "code",
      "metadata": {
        "colab": {
          "base_uri": "https://localhost:8080/"
        },
        "id": "B8k4ZjT2uKJM",
        "outputId": "d2d5f73d-2d56-4c36-bb05-6f7a62015723"
      },
      "source": [
        "%%time\n",
        "# split data into labeled and unlabeled\n",
        "X_lab, X_unlab, y_lab, y_unlab = train_test_split(X_scaled_int , y, test_size=0.95, random_state=1, stratify=y)\n",
        "\n",
        "# Split the labelled data into train and test\n",
        "X_train, X_test, y_train, y_test = train_test_split(X_lab, y_lab, test_size=0.20, random_state=1, stratify=y_lab)\n",
        "\n",
        "over_sampler = SMOTE(sampling_strategy='minority')\n",
        "X_train_sampled, y_train_sampled = over_sampler.fit_resample(X_train, y_train)\n",
        "\n",
        "# create the training dataset input\n",
        "X_train_mixed = np.concatenate((X_train_sampled, X_unlab))\n",
        "\n",
        "# create \"no label\" for unlabeled data\n",
        "nolabel = [-1 for _ in range(len(y_unlab))]\n",
        "\n",
        "# recombine training dataset labels\n",
        "y_train_mixed = np.concatenate((y_train_sampled, nolabel))\n",
        "\n",
        "# summarize training set size\n",
        "print('Labeled Train Set:', X_train_sampled.shape, y_train_sampled.shape)\n",
        "print('Unlabeled Train Set:', X_unlab.shape, y_unlab.shape)\n",
        "\n",
        "# summarize test set size\n",
        "print('Test Set:', X_test.shape, y_test.shape)"
      ],
      "execution_count": null,
      "outputs": [
        {
          "output_type": "stream",
          "name": "stdout",
          "text": [
            "Labeled Train Set: (12, 12) (12,)\n",
            "Unlabeled Train Set: (288, 12) (288,)\n",
            "Test Set: (3, 12) (3,)\n",
            "CPU times: user 9.58 ms, sys: 984 µs, total: 10.6 ms\n",
            "Wall time: 10.6 ms\n"
          ]
        }
      ]
    },
    {
      "cell_type": "code",
      "metadata": {
        "colab": {
          "base_uri": "https://localhost:8080/",
          "height": 397
        },
        "id": "Txj8R1-WuKJN",
        "outputId": "564bd105-fd44-4d43-c05d-aaa89334fe31"
      },
      "source": [
        "pd.DataFrame(y_train_mixed).hist()"
      ],
      "execution_count": null,
      "outputs": [
        {
          "output_type": "execute_result",
          "data": {
            "text/plain": [
              "array([[<matplotlib.axes._subplots.AxesSubplot object at 0x7fa81c44fd90>]],\n",
              "      dtype=object)"
            ]
          },
          "metadata": {},
          "execution_count": 164
        },
        {
          "output_type": "display_data",
          "data": {
            "image/png": "[encoded data removed]",
            "text/plain": [
              "<Figure size 576x396 with 1 Axes>"
            ]
          },
          "metadata": {}
        }
      ]
    },
    {
      "cell_type": "code",
      "metadata": {
        "colab": {
          "base_uri": "https://localhost:8080/"
        },
        "id": "Xyd5BWl0uKJN",
        "outputId": "3c08bfcd-86ab-4fb8-969b-551ccf2f8077"
      },
      "source": [
        "# define model\n",
        "%%time\n",
        "intrinsic_95_model_bal = LabelSpreading(alpha=1e-4, max_iter=1000,n_neighbors=19, tol=0.24, kernel='knn').fit(X_train_mixed, y_train_mixed)\n",
        "print(intrinsic_95_model_bal.classes_)\n",
        "print(intrinsic_95_model_bal.score(X_train_mixed, y_train_mixed))"
      ],
      "execution_count": null,
      "outputs": [
        {
          "output_type": "stream",
          "name": "stdout",
          "text": [
            "[0. 1.]\n",
            "0.03666666666666667\n",
            "CPU times: user 18.5 ms, sys: 897 µs, total: 19.4 ms\n",
            "Wall time: 21.5 ms\n"
          ]
        },
        {
          "output_type": "stream",
          "name": "stderr",
          "text": [
            "/usr/local/lib/python3.7/dist-packages/sklearn/semi_supervised/_label_propagation.py:222: RuntimeWarning: invalid value encountered in true_divide\n",
            "  probabilities /= normalizer\n"
          ]
        }
      ]
    },
    {
      "cell_type": "code",
      "metadata": {
        "colab": {
          "base_uri": "https://localhost:8080/"
        },
        "id": "qydYdTi-uKJN",
        "outputId": "2351f71f-1d9d-470e-fe91-66b754c31863"
      },
      "source": [
        "y_pred = intrinsic_95_model_bal.predict(X_test)\n",
        "\n",
        "print(f\"{accuracy_score(y_test, y_pred)}\")\n",
        "print(f\"{f1_score(y_test, y_pred)}\")"
      ],
      "execution_count": null,
      "outputs": [
        {
          "output_type": "stream",
          "name": "stdout",
          "text": [
            "0.6666666666666666\n",
            "0.6666666666666666\n"
          ]
        },
        {
          "output_type": "stream",
          "name": "stderr",
          "text": [
            "/usr/local/lib/python3.7/dist-packages/sklearn/base.py:439: UserWarning: X has feature names, but LabelSpreading was fitted without feature names\n",
            "  f\"X has feature names, but {self.__class__.__name__} was fitted without\"\n",
            "/usr/local/lib/python3.7/dist-packages/sklearn/semi_supervised/_label_propagation.py:222: RuntimeWarning: invalid value encountered in true_divide\n",
            "  probabilities /= normalizer\n"
          ]
        }
      ]
    },
    {
      "cell_type": "code",
      "source": [
        "confusion_matrix(y_test, y_pred)"
      ],
      "metadata": {
        "id": "4LWgjhNqnFKg",
        "outputId": "9e2c33af-adcc-412e-c7e3-39c03982432c",
        "colab": {
          "base_uri": "https://localhost:8080/"
        }
      },
      "execution_count": null,
      "outputs": [
        {
          "output_type": "execute_result",
          "data": {
            "text/plain": [
              "array([[1, 0],\n",
              "       [1, 1]])"
            ]
          },
          "metadata": {},
          "execution_count": 167
        }
      ]
    },
    {
      "cell_type": "code",
      "metadata": {
        "id": "cND3OiPa2M_k"
      },
      "source": [
        "fpr_int_95_bal, tpr_int_95_bal, thresholds_int_95_bal = roc_curve(y_test, y_pred)\n",
        "auc_int_95_bal = auc(fpr_int_95_bal, tpr_int_95_bal)"
      ],
      "execution_count": null,
      "outputs": []
    },
    {
      "cell_type": "markdown",
      "metadata": {
        "id": "M6u6LoH4wYob"
      },
      "source": [
        "# ROC Curves"
      ]
    },
    {
      "cell_type": "markdown",
      "source": [
        "### 1. Fully Supervised"
      ],
      "metadata": {
        "id": "qBOaHud_Ak4w"
      }
    },
    {
      "cell_type": "code",
      "source": [
        "plt.figure()\n",
        "lw = 2\n",
        "plt.figure(figsize=(8,6))\n",
        "\n",
        "plt.plot(fpr_imb, tpr_imb, color='brown',\n",
        "         lw=lw, label='Random Forest Classifier - Supervised (Imbalanced) (area = %0.2f)' % roc_auc_imb)\n",
        "plt.plot(fpr_bal, tpr_bal, color='red',\n",
        "         lw=lw, label='Random Forest Classifier - Supervised (Balanced) (area = %0.2f)' % roc_auc_bal)\n",
        "\n",
        "plt.plot([0, 1], [0, 1], color='navy', lw=lw, linestyle='--')\n",
        "plt.xlim([0.0, 1.0])\n",
        "plt.ylim([0.0, 1.05])\n",
        "plt.xlabel('False Positive Rate')\n",
        "plt.ylabel('True Positive Rate')\n",
        "plt.title('Receiver Operating Characteristic')\n",
        "plt.legend(loc=\"lower right\")\n",
        "plt.show()"
      ],
      "metadata": {
        "colab": {
          "base_uri": "https://localhost:8080/",
          "height": 421
        },
        "id": "tCOLUIjwAkj7",
        "outputId": "45fdae9f-40ff-427f-f407-1dd29be5cd87"
      },
      "execution_count": null,
      "outputs": [
        {
          "output_type": "display_data",
          "data": {
            "text/plain": [
              "<Figure size 576x396 with 0 Axes>"
            ]
          },
          "metadata": {}
        },
        {
          "output_type": "display_data",
          "data": {
            "image/png": "[encoded data removed]",
            "text/plain": [
              "<Figure size 576x432 with 1 Axes>"
            ]
          },
          "metadata": {}
        }
      ]
    },
    {
      "cell_type": "markdown",
      "metadata": {
        "id": "p_AZcRuewd3i"
      },
      "source": [
        "### 2. 10% Unlabeled Data"
      ]
    },
    {
      "cell_type": "code",
      "metadata": {
        "colab": {
          "base_uri": "https://localhost:8080/",
          "height": 421
        },
        "id": "ucyJo3Uwwot_",
        "outputId": "0a1c22d7-99fb-4d18-a81e-14d143b7d8d5"
      },
      "source": [
        "fpr_st_10_imb, tpr_st_10_imb, auc_st_10_imb = st_10_imb_roc\n",
        "fpr_st_10_bal, tpr_st_10_bal, auc_st_10_bal = st_10_bal_roc\n",
        "fpr_ct_10_imb, tpr_ct_10_imb, auc_ct_10_imb = ct_10_imb_roc\n",
        "fpr_ct_10_bal, tpr_ct_10_bal, auc_ct_10_bal = ct_10_bal_roc\n",
        "fpr_sse_10_imb, tpr_sse_10_imb, auc_sse_10_imb = sse_10_imb_roc\n",
        "fpr_sse_10_bal, tpr_sse_10_bal, auc_sse_10_bal = sse_10_bal_roc\n",
        "fpr_usl_10_imb, tpr_usl_10_imb, auc_usl_10_imb = usl_10_imb_roc\n",
        "fpr_usl_10_bal, tpr_usl_10_bal, auc_usl_10_bal = usl_10_bal_roc\n",
        "\n",
        "\n",
        "plt.figure()\n",
        "lw = 2\n",
        "plt.figure(figsize=(8,6))\n",
        "\n",
        "plt.plot(fpr_st_10_imb, tpr_st_10_imb, color='brown',\n",
        "         lw=lw, label='Self-Training Classifier (Imbalanced) (area = %0.2f)' % auc_st_10_imb)\n",
        "plt.plot(fpr_st_10_bal, tpr_st_10_bal, color='red',\n",
        "         lw=lw, label='Self-Training Classifier (Balanced) (area = %0.2f)' % auc_st_10_bal)\n",
        "plt.plot(fpr_ct_10_imb, tpr_ct_10_imb, color='yellow',\n",
        "         lw=lw, label='Co-Training Classifier (Imbalanced) (area = %0.2f)' % auc_ct_10_imb)\n",
        "plt.plot(fpr_ct_10_bal, tpr_ct_10_bal, color='blue',\n",
        "         lw=lw, label='Co-Training Classifier (Balanced) (area = %0.2f)' % auc_ct_10_bal)\n",
        "plt.plot(fpr_sse_10_imb, tpr_sse_10_imb, color='aqua',\n",
        "         lw=lw, label='Semi-Supervised Ensemble (Imbalanced) (area = %0.2f)' % auc_sse_10_imb)\n",
        "plt.plot(fpr_sse_10_bal, tpr_sse_10_bal, color='coral',\n",
        "         lw=lw, label='Semi-Supervised Ensemble (Balanced) (area = %0.2f)' % auc_sse_10_bal)\n",
        "plt.plot(fpr_usl_10_imb, tpr_usl_10_imb, color='green',\n",
        "         lw=lw, label='Unsupervised Labelling (Imbalanced) (area = %0.2f)' % auc_usl_10_imb)\n",
        "plt.plot(fpr_usl_10_bal, tpr_usl_10_bal, color='purple',\n",
        "         lw=lw, label='Unsupervised Labelling (Balanced) (area = %0.2f)' % auc_usl_10_bal)\n",
        "plt.plot(fpr_int_10_imb, tpr_int_10_imb, color='pink',\n",
        "         lw=lw, label='Intrinsic LabelSpreading (Imbalanced) (area = %0.2f)' % auc_int_10_imb)\n",
        "plt.plot(fpr_int_10_bal, tpr_int_10_bal, color='orange',\n",
        "         lw=lw, label='Intrinsic LabelSpreading (Balanced) (area = %0.2f)' % auc_int_10_bal)\n",
        "\n",
        "plt.plot([0, 1], [0, 1], color='navy', lw=lw, linestyle='--')\n",
        "plt.xlim([0.0, 1.0])\n",
        "plt.ylim([0.0, 1.05])\n",
        "plt.xlabel('False Positive Rate')\n",
        "plt.ylabel('True Positive Rate')\n",
        "plt.title('Receiver Operating Characteristic')\n",
        "plt.legend(loc=\"lower right\")\n",
        "plt.show()"
      ],
      "execution_count": null,
      "outputs": [
        {
          "output_type": "display_data",
          "data": {
            "text/plain": [
              "<Figure size 576x396 with 0 Axes>"
            ]
          },
          "metadata": {}
        },
        {
          "output_type": "display_data",
          "data": {
            "image/png": "[encoded data removed]",
            "text/plain": [
              "<Figure size 576x432 with 1 Axes>"
            ]
          },
          "metadata": {}
        }
      ]
    },
    {
      "cell_type": "markdown",
      "metadata": {
        "id": "mVRCQlTG2iaJ"
      },
      "source": [
        "### 3. 20% Unlabeled Data"
      ]
    },
    {
      "cell_type": "code",
      "metadata": {
        "id": "4dINCFVDxAt9",
        "colab": {
          "base_uri": "https://localhost:8080/",
          "height": 421
        },
        "outputId": "ce001324-79a5-4b48-b496-55ee8b7b24da"
      },
      "source": [
        "fpr_st_20_imb, tpr_st_20_imb, auc_st_20_imb = st_20_imb_roc\n",
        "fpr_st_20_bal, tpr_st_20_bal, auc_st_20_bal = st_20_bal_roc\n",
        "fpr_ct_20_imb, tpr_ct_20_imb, auc_ct_20_imb = ct_20_imb_roc\n",
        "fpr_ct_20_bal, tpr_ct_20_bal, auc_ct_20_bal = ct_20_bal_roc\n",
        "fpr_sse_20_imb, tpr_sse_20_imb, auc_sse_20_imb = sse_20_imb_roc\n",
        "fpr_sse_20_bal, tpr_sse_20_bal, auc_sse_20_bal = sse_20_bal_roc\n",
        "fpr_usl_20_imb, tpr_usl_20_imb, auc_usl_20_imb = usl_20_imb_roc\n",
        "fpr_usl_20_bal, tpr_usl_20_bal, auc_usl_20_bal = usl_20_bal_roc\n",
        "\n",
        "\n",
        "plt.figure()\n",
        "lw = 2\n",
        "plt.figure(figsize=(8,6))\n",
        "\n",
        "plt.plot(fpr_st_20_imb, tpr_st_20_imb, color='brown',\n",
        "         lw=lw, label='Self-Training Classifier (Imbalanced) (area = %0.2f)' % auc_st_20_imb)\n",
        "plt.plot(fpr_st_20_bal, tpr_st_20_bal, color='red',\n",
        "         lw=lw, label='Self-Training Classifier (Balanced) (area = %0.2f)' % auc_st_20_bal)\n",
        "plt.plot(fpr_ct_20_imb, tpr_ct_20_imb, color='yellow',\n",
        "         lw=lw, label='Co-Training Classifier (Imbalanced) (area = %0.2f)' % auc_ct_20_imb)\n",
        "plt.plot(fpr_ct_20_bal, tpr_ct_20_bal, color='blue',\n",
        "         lw=lw, label='Co-Training Classifier (Balanced) (area = %0.2f)' % auc_ct_20_bal)\n",
        "plt.plot(fpr_sse_20_imb, tpr_sse_20_imb, color='aqua',\n",
        "         lw=lw, label='Semi-Supervised Ensemble (Imbalanced) (area = %0.2f)' % auc_sse_20_imb)\n",
        "plt.plot(fpr_sse_20_bal, tpr_sse_20_bal, color='coral',\n",
        "         lw=lw, label='Semi-Supervised Ensemble (Balanced) (area = %0.2f)' % auc_sse_20_bal)\n",
        "plt.plot(fpr_usl_20_imb, tpr_usl_20_imb, color='green',\n",
        "         lw=lw, label='Unsupervised Labelling (Imbalanced) (area = %0.2f)' % auc_usl_20_imb)\n",
        "plt.plot(fpr_usl_20_bal, tpr_usl_20_bal, color='purple',\n",
        "         lw=lw, label='Unsupervised Labelling (Balanced) (area = %0.2f)' % auc_usl_20_bal)\n",
        "plt.plot(fpr_int_20_imb, tpr_int_20_imb, color='pink',\n",
        "         lw=lw, label='Intrinsic LabelSpreading (Imbalanced) (area = %0.2f)' % auc_int_20_imb)\n",
        "plt.plot(fpr_int_20_bal, tpr_int_20_bal, color='orange',\n",
        "         lw=lw, label='Intrinsic LabelSpreading (Balanced) (area = %0.2f)' % auc_int_20_bal)\n",
        "\n",
        "\n",
        "plt.plot([0, 1], [0, 1], color='navy', lw=lw, linestyle='--')\n",
        "plt.xlim([0.0, 1.0])\n",
        "plt.ylim([0.0, 1.05])\n",
        "plt.xlabel('False Positive Rate')\n",
        "plt.ylabel('True Positive Rate')\n",
        "plt.title('Receiver Operating Characteristic')\n",
        "plt.legend(loc=\"lower right\")\n",
        "plt.show()"
      ],
      "execution_count": null,
      "outputs": [
        {
          "output_type": "display_data",
          "data": {
            "text/plain": [
              "<Figure size 576x396 with 0 Axes>"
            ]
          },
          "metadata": {}
        },
        {
          "output_type": "display_data",
          "data": {
            "image/png": "[encoded data removed]",
            "text/plain": [
              "<Figure size 576x432 with 1 Axes>"
            ]
          },
          "metadata": {}
        }
      ]
    },
    {
      "cell_type": "markdown",
      "metadata": {
        "id": "4hiZEHcl4Nr8"
      },
      "source": [
        "### 4. 50% Unlabeled Data"
      ]
    },
    {
      "cell_type": "code",
      "metadata": {
        "id": "MSm0FkF54RWG",
        "colab": {
          "base_uri": "https://localhost:8080/",
          "height": 421
        },
        "outputId": "511d579c-6062-4287-9adc-3fab75de103f"
      },
      "source": [
        "fpr_st_50_imb, tpr_st_50_imb, auc_st_50_imb = st_50_imb_roc\n",
        "fpr_st_50_bal, tpr_st_50_bal, auc_st_50_bal = st_50_bal_roc\n",
        "fpr_ct_50_imb, tpr_ct_50_imb, auc_ct_50_imb = ct_50_imb_roc\n",
        "fpr_ct_50_bal, tpr_ct_50_bal, auc_ct_50_bal = ct_50_bal_roc\n",
        "fpr_sse_50_imb, tpr_sse_50_imb, auc_sse_50_imb = sse_50_imb_roc\n",
        "fpr_sse_50_bal, tpr_sse_50_bal, auc_sse_50_bal = sse_50_bal_roc\n",
        "fpr_usl_50_imb, tpr_usl_50_imb, auc_usl_50_imb = usl_50_imb_roc\n",
        "fpr_usl_50_bal, tpr_usl_50_bal, auc_usl_50_bal = usl_50_bal_roc\n",
        "\n",
        "\n",
        "plt.figure()\n",
        "lw = 2\n",
        "plt.figure(figsize=(8,6))\n",
        "\n",
        "plt.plot(fpr_st_50_imb, tpr_st_50_imb, color='brown',\n",
        "         lw=lw, label='Self-Training Classifier (Imbalanced) (area = %0.2f)' % auc_st_50_imb)\n",
        "plt.plot(fpr_st_50_bal, tpr_st_50_bal, color='red',\n",
        "         lw=lw, label='Self-Training Classifier (Balanced) (area = %0.2f)' % auc_st_50_bal)\n",
        "plt.plot(fpr_ct_50_imb, tpr_ct_50_imb, color='yellow',\n",
        "         lw=lw, label='Co-Training Classifier (Imbalanced) (area = %0.2f)' % auc_ct_50_imb)\n",
        "plt.plot(fpr_ct_50_bal, tpr_ct_50_bal, color='blue',\n",
        "         lw=lw, label='Co-Training Classifier (Balanced) (area = %0.2f)' % auc_ct_50_bal)\n",
        "plt.plot(fpr_sse_50_imb, tpr_sse_50_imb, color='aqua',\n",
        "         lw=lw, label='Semi-Supervised Ensemble (Imbalanced) (area = %0.2f)' % auc_sse_50_imb)\n",
        "plt.plot(fpr_sse_50_bal, tpr_sse_50_bal, color='coral',\n",
        "         lw=lw, label='Semi-Supervised Ensemble (Balanced) (area = %0.2f)' % auc_sse_50_bal)\n",
        "plt.plot(fpr_usl_50_imb, tpr_usl_50_imb, color='green',\n",
        "         lw=lw, label='Unsupervised Labelling (Imbalanced) (area = %0.2f)' % auc_usl_50_imb)\n",
        "plt.plot(fpr_usl_50_bal, tpr_usl_50_bal, color='purple',\n",
        "         lw=lw, label='Unsupervised Labelling (Balanced) (area = %0.2f)' % auc_usl_50_bal)\n",
        "plt.plot(fpr_int_50_imb, tpr_int_50_imb, color='pink',\n",
        "         lw=lw, label='Intrinsic LabelSpreading (Imbalanced) (area = %0.2f)' % auc_int_50_imb)\n",
        "plt.plot(fpr_int_50_bal, tpr_int_50_bal, color='orange',\n",
        "         lw=lw, label='Intrinsic LabelSpreading (Balanced) (area = %0.2f)' % auc_int_50_bal)\n",
        "\n",
        "\n",
        "plt.plot([0, 1], [0, 1], color='navy', lw=lw, linestyle='--')\n",
        "plt.xlim([0.0, 1.0])\n",
        "plt.ylim([0.0, 1.05])\n",
        "plt.xlabel('False Positive Rate')\n",
        "plt.ylabel('True Positive Rate')\n",
        "plt.title('Receiver Operating Characteristic')\n",
        "plt.legend(loc=\"lower right\")\n",
        "plt.show()"
      ],
      "execution_count": null,
      "outputs": [
        {
          "output_type": "display_data",
          "data": {
            "text/plain": [
              "<Figure size 576x396 with 0 Axes>"
            ]
          },
          "metadata": {}
        },
        {
          "output_type": "display_data",
          "data": {
            "image/png": "[encoded data removed]",
            "text/plain": [
              "<Figure size 576x432 with 1 Axes>"
            ]
          },
          "metadata": {}
        }
      ]
    },
    {
      "cell_type": "markdown",
      "metadata": {
        "id": "-VZsrv394nKR"
      },
      "source": [
        "### 5. 90% Unlabeled Data"
      ]
    },
    {
      "cell_type": "code",
      "metadata": {
        "id": "Rg0I6LWp4pC1",
        "colab": {
          "base_uri": "https://localhost:8080/",
          "height": 421
        },
        "outputId": "5b76cc67-4f30-4587-f47f-90c5cef750a8"
      },
      "source": [
        "fpr_st_90_imb, tpr_st_90_imb, auc_st_90_imb = st_90_imb_roc\n",
        "fpr_st_90_bal, tpr_st_90_bal, auc_st_90_bal = st_90_bal_roc\n",
        "fpr_ct_90_imb, tpr_ct_90_imb, auc_ct_90_imb = ct_90_imb_roc\n",
        "fpr_ct_90_bal, tpr_ct_90_bal, auc_ct_90_bal = ct_90_bal_roc\n",
        "fpr_sse_90_imb, tpr_sse_90_imb, auc_sse_90_imb = sse_90_imb_roc\n",
        "fpr_sse_90_bal, tpr_sse_90_bal, auc_sse_90_bal = sse_90_bal_roc\n",
        "fpr_usl_90_imb, tpr_usl_90_imb, auc_usl_90_imb = usl_90_imb_roc\n",
        "fpr_usl_90_bal, tpr_usl_90_bal, auc_usl_90_bal = usl_90_bal_roc\n",
        "\n",
        "\n",
        "plt.figure()\n",
        "lw = 2\n",
        "plt.figure(figsize=(8,6))\n",
        "\n",
        "plt.plot(fpr_st_90_imb, tpr_st_90_imb, color='brown',\n",
        "         lw=lw, label='Self-Training Classifier (Imbalanced) (area = %0.2f)' % auc_st_90_imb)\n",
        "plt.plot(fpr_st_90_bal, tpr_st_90_bal, color='red',\n",
        "         lw=lw, label='Self-Training Classifier (Balanced) (area = %0.2f)' % auc_st_90_bal)\n",
        "plt.plot(fpr_ct_90_imb, tpr_ct_90_imb, color='yellow',\n",
        "         lw=lw, label='Co-Training Classifier (Imbalanced) (area = %0.2f)' % auc_ct_90_imb)\n",
        "plt.plot(fpr_ct_90_bal, tpr_ct_90_bal, color='blue',\n",
        "         lw=lw, label='Co-Training Classifier (Balanced) (area = %0.2f)' % auc_ct_90_bal)\n",
        "plt.plot(fpr_sse_90_imb, tpr_sse_90_imb, color='aqua',\n",
        "         lw=lw, label='Semi-Supervised Ensemble (Imbalanced) (area = %0.2f)' % auc_sse_90_imb)\n",
        "plt.plot(fpr_sse_90_bal, tpr_sse_90_bal, color='coral',\n",
        "         lw=lw, label='Semi-Supervised Ensemble (Balanced) (area = %0.2f)' % auc_sse_90_bal)\n",
        "plt.plot(fpr_usl_90_imb, tpr_usl_90_imb, color='green',\n",
        "         lw=lw, label='Unsupervised Labelling (Imbalanced) (area = %0.2f)' % auc_usl_90_imb)\n",
        "plt.plot(fpr_usl_90_bal, tpr_usl_90_bal, color='purple',\n",
        "         lw=lw, label='Unsupervised Labelling (Balanced) (area = %0.2f)' % auc_usl_90_bal)\n",
        "plt.plot(fpr_int_90_imb, tpr_int_90_imb, color='pink',\n",
        "         lw=lw, label='Intrinsic LabelSpreading (Imbalanced) (area = %0.2f)' % auc_int_90_imb)\n",
        "plt.plot(fpr_int_90_bal, tpr_int_90_bal, color='orange',\n",
        "         lw=lw, label='Intrinsic LabelSpreading (Balanced) (area = %0.2f)' % auc_int_90_bal)\n",
        "\n",
        "\n",
        "plt.plot([0, 1], [0, 1], color='navy', lw=lw, linestyle='--')\n",
        "plt.xlim([0.0, 1.0])\n",
        "plt.ylim([0.0, 1.05])\n",
        "plt.xlabel('False Positive Rate')\n",
        "plt.ylabel('True Positive Rate')\n",
        "plt.title('Receiver Operating Characteristic')\n",
        "plt.legend(loc=\"lower right\")\n",
        "plt.show()"
      ],
      "execution_count": null,
      "outputs": [
        {
          "output_type": "display_data",
          "data": {
            "text/plain": [
              "<Figure size 576x396 with 0 Axes>"
            ]
          },
          "metadata": {}
        },
        {
          "output_type": "display_data",
          "data": {
            "image/png": "[encoded data removed]",
            "text/plain": [
              "<Figure size 576x432 with 1 Axes>"
            ]
          },
          "metadata": {}
        }
      ]
    },
    {
      "cell_type": "markdown",
      "metadata": {
        "id": "5ECqlCHH5BDB"
      },
      "source": [
        "### 6. 95% Unlabeled Data"
      ]
    },
    {
      "cell_type": "code",
      "metadata": {
        "id": "6YhnkgWR5DTX",
        "colab": {
          "base_uri": "https://localhost:8080/",
          "height": 421
        },
        "outputId": "8b019c4d-f479-49d3-cb2a-b2769e8e8194"
      },
      "source": [
        "fpr_st_95_imb, tpr_st_95_imb, auc_st_95_imb = st_95_imb_roc\n",
        "fpr_st_95_bal, tpr_st_95_bal, auc_st_95_bal = st_95_bal_roc\n",
        "fpr_ct_95_imb, tpr_ct_95_imb, auc_ct_95_imb = ct_95_imb_roc\n",
        "fpr_ct_95_bal, tpr_ct_95_bal, auc_ct_95_bal = ct_95_bal_roc\n",
        "fpr_sse_95_imb, tpr_sse_95_imb, auc_sse_95_imb = sse_95_imb_roc\n",
        "fpr_sse_95_bal, tpr_sse_95_bal, auc_sse_95_bal = sse_95_bal_roc\n",
        "fpr_usl_95_imb, tpr_usl_95_imb, auc_usl_95_imb = usl_95_imb_roc\n",
        "fpr_usl_95_bal, tpr_usl_95_bal, auc_usl_95_bal = usl_95_bal_roc\n",
        "\n",
        "plt.figure()\n",
        "lw = 2\n",
        "plt.figure(figsize=(8,6))\n",
        "\n",
        "plt.plot(fpr_st_95_imb, tpr_st_95_imb, color='brown',\n",
        "         lw=lw, label='Self-Training Classifier (Imbalanced) (area = %0.2f)' % auc_st_95_imb)\n",
        "plt.plot(fpr_st_95_bal, tpr_st_95_bal, color='red',\n",
        "         lw=lw, label='Self-Training Classifier (Balanced) (area = %0.2f)' % auc_st_95_bal)\n",
        "plt.plot(fpr_ct_95_imb, tpr_ct_95_imb, color='yellow',\n",
        "         lw=lw, label='Co-Training Classifier (Imbalanced) (area = %0.2f)' % auc_ct_95_imb)\n",
        "plt.plot(fpr_ct_95_bal, tpr_ct_95_bal, color='blue',\n",
        "         lw=lw, label='Co-Training Classifier (Balanced) (area = %0.2f)' % auc_ct_95_bal)\n",
        "plt.plot(fpr_sse_95_imb, tpr_sse_95_imb, color='aqua',\n",
        "         lw=lw, label='Semi-Supervised Ensemble (Imbalanced) (area = %0.2f)' % auc_sse_95_imb)\n",
        "plt.plot(fpr_sse_95_bal, tpr_sse_95_bal, color='coral',\n",
        "         lw=lw, label='Semi-Supervised Ensemble (Balanced) (area = %0.2f)' % auc_sse_95_bal)\n",
        "plt.plot(fpr_usl_95_imb, tpr_usl_95_imb, color='green',\n",
        "         lw=lw, label='Unsupervised Labelling (Imbalanced) (area = %0.2f)' % auc_usl_95_imb)\n",
        "plt.plot(fpr_usl_95_bal, tpr_usl_95_bal, color='purple',\n",
        "         lw=lw, label='Unsupervised Labelling (Balanced) (area = %0.2f)' % auc_usl_95_bal)\n",
        "plt.plot(fpr_int_95_imb, tpr_int_95_imb, color='pink',\n",
        "         lw=lw, label='Intrinsic LabelSpreading (Imbalanced) (area = %0.2f)' % auc_int_95_imb)\n",
        "plt.plot(fpr_int_95_bal, tpr_int_95_bal, color='orange',\n",
        "         lw=lw, label='Intrinsic LabelSpreading (Balanced) (area = %0.2f)' % auc_int_95_bal)\n",
        "\n",
        "\n",
        "plt.plot([0, 1], [0, 1], color='navy', lw=lw, linestyle='--')\n",
        "plt.xlim([0.0, 1.0])\n",
        "plt.ylim([0.0, 1.05])\n",
        "plt.xlabel('False Positive Rate')\n",
        "plt.ylabel('True Positive Rate')\n",
        "plt.title('Receiver Operating Characteristic')\n",
        "plt.legend(loc=\"lower right\")\n",
        "plt.show()"
      ],
      "execution_count": null,
      "outputs": [
        {
          "output_type": "display_data",
          "data": {
            "text/plain": [
              "<Figure size 576x396 with 0 Axes>"
            ]
          },
          "metadata": {}
        },
        {
          "output_type": "display_data",
          "data": {
            "image/png": "[encoded data removed]",
            "text/plain": [
              "<Figure size 576x432 with 1 Axes>"
            ]
          },
          "metadata": {}
        }
      ]
    },
    {
      "cell_type": "code",
      "source": [
        ""
      ],
      "metadata": {
        "id": "izO6C8x9VHhL"
      },
      "execution_count": null,
      "outputs": []
    }
  ]
}